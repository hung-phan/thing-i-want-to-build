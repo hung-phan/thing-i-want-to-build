{
 "cells": [
  {
   "cell_type": "code",
   "execution_count": 1,
   "metadata": {},
   "outputs": [],
   "source": [
    "import math\n",
    "\n",
    "import tensorflow as tf\n",
    "import pandas as pd\n",
    "import numpy as np\n",
    "import matplotlib.pyplot as plt\n",
    "\n",
    "from tensorflow import keras"
   ]
  },
  {
   "cell_type": "markdown",
   "metadata": {},
   "source": [
    "## Import data"
   ]
  },
  {
   "cell_type": "code",
   "execution_count": 2,
   "metadata": {},
   "outputs": [],
   "source": [
    "training_df = pd.read_csv(\"./Google_Stock_Price_Train.csv\")"
   ]
  },
  {
   "cell_type": "code",
   "execution_count": 3,
   "metadata": {},
   "outputs": [
    {
     "data": {
      "text/html": [
       "<div>\n",
       "<style scoped>\n",
       "    .dataframe tbody tr th:only-of-type {\n",
       "        vertical-align: middle;\n",
       "    }\n",
       "\n",
       "    .dataframe tbody tr th {\n",
       "        vertical-align: top;\n",
       "    }\n",
       "\n",
       "    .dataframe thead th {\n",
       "        text-align: right;\n",
       "    }\n",
       "</style>\n",
       "<table border=\"1\" class=\"dataframe\">\n",
       "  <thead>\n",
       "    <tr style=\"text-align: right;\">\n",
       "      <th></th>\n",
       "      <th>Date</th>\n",
       "      <th>Open</th>\n",
       "      <th>High</th>\n",
       "      <th>Low</th>\n",
       "      <th>Close</th>\n",
       "      <th>Volume</th>\n",
       "    </tr>\n",
       "  </thead>\n",
       "  <tbody>\n",
       "    <tr>\n",
       "      <th>0</th>\n",
       "      <td>1/3/2012</td>\n",
       "      <td>325.25</td>\n",
       "      <td>332.83</td>\n",
       "      <td>324.97</td>\n",
       "      <td>663.59</td>\n",
       "      <td>7,380,500</td>\n",
       "    </tr>\n",
       "    <tr>\n",
       "      <th>1</th>\n",
       "      <td>1/4/2012</td>\n",
       "      <td>331.27</td>\n",
       "      <td>333.87</td>\n",
       "      <td>329.08</td>\n",
       "      <td>666.45</td>\n",
       "      <td>5,749,400</td>\n",
       "    </tr>\n",
       "    <tr>\n",
       "      <th>2</th>\n",
       "      <td>1/5/2012</td>\n",
       "      <td>329.83</td>\n",
       "      <td>330.75</td>\n",
       "      <td>326.89</td>\n",
       "      <td>657.21</td>\n",
       "      <td>6,590,300</td>\n",
       "    </tr>\n",
       "    <tr>\n",
       "      <th>3</th>\n",
       "      <td>1/6/2012</td>\n",
       "      <td>328.34</td>\n",
       "      <td>328.77</td>\n",
       "      <td>323.68</td>\n",
       "      <td>648.24</td>\n",
       "      <td>5,405,900</td>\n",
       "    </tr>\n",
       "    <tr>\n",
       "      <th>4</th>\n",
       "      <td>1/9/2012</td>\n",
       "      <td>322.04</td>\n",
       "      <td>322.29</td>\n",
       "      <td>309.46</td>\n",
       "      <td>620.76</td>\n",
       "      <td>11,688,800</td>\n",
       "    </tr>\n",
       "  </tbody>\n",
       "</table>\n",
       "</div>"
      ],
      "text/plain": [
       "       Date    Open    High     Low   Close      Volume\n",
       "0  1/3/2012  325.25  332.83  324.97  663.59   7,380,500\n",
       "1  1/4/2012  331.27  333.87  329.08  666.45   5,749,400\n",
       "2  1/5/2012  329.83  330.75  326.89  657.21   6,590,300\n",
       "3  1/6/2012  328.34  328.77  323.68  648.24   5,405,900\n",
       "4  1/9/2012  322.04  322.29  309.46  620.76  11,688,800"
      ]
     },
     "execution_count": 3,
     "metadata": {},
     "output_type": "execute_result"
    }
   ],
   "source": [
    "training_df.head()"
   ]
  },
  {
   "cell_type": "code",
   "execution_count": 4,
   "metadata": {},
   "outputs": [
    {
     "data": {
      "text/html": [
       "<div>\n",
       "<style scoped>\n",
       "    .dataframe tbody tr th:only-of-type {\n",
       "        vertical-align: middle;\n",
       "    }\n",
       "\n",
       "    .dataframe tbody tr th {\n",
       "        vertical-align: top;\n",
       "    }\n",
       "\n",
       "    .dataframe thead th {\n",
       "        text-align: right;\n",
       "    }\n",
       "</style>\n",
       "<table border=\"1\" class=\"dataframe\">\n",
       "  <thead>\n",
       "    <tr style=\"text-align: right;\">\n",
       "      <th></th>\n",
       "      <th>Date</th>\n",
       "      <th>Open</th>\n",
       "      <th>High</th>\n",
       "      <th>Low</th>\n",
       "      <th>Close</th>\n",
       "      <th>Volume</th>\n",
       "    </tr>\n",
       "  </thead>\n",
       "  <tbody>\n",
       "    <tr>\n",
       "      <th>1253</th>\n",
       "      <td>12/23/2016</td>\n",
       "      <td>790.90</td>\n",
       "      <td>792.74</td>\n",
       "      <td>787.28</td>\n",
       "      <td>789.91</td>\n",
       "      <td>623,400</td>\n",
       "    </tr>\n",
       "    <tr>\n",
       "      <th>1254</th>\n",
       "      <td>12/27/2016</td>\n",
       "      <td>790.68</td>\n",
       "      <td>797.86</td>\n",
       "      <td>787.66</td>\n",
       "      <td>791.55</td>\n",
       "      <td>789,100</td>\n",
       "    </tr>\n",
       "    <tr>\n",
       "      <th>1255</th>\n",
       "      <td>12/28/2016</td>\n",
       "      <td>793.70</td>\n",
       "      <td>794.23</td>\n",
       "      <td>783.20</td>\n",
       "      <td>785.05</td>\n",
       "      <td>1,153,800</td>\n",
       "    </tr>\n",
       "    <tr>\n",
       "      <th>1256</th>\n",
       "      <td>12/29/2016</td>\n",
       "      <td>783.33</td>\n",
       "      <td>785.93</td>\n",
       "      <td>778.92</td>\n",
       "      <td>782.79</td>\n",
       "      <td>744,300</td>\n",
       "    </tr>\n",
       "    <tr>\n",
       "      <th>1257</th>\n",
       "      <td>12/30/2016</td>\n",
       "      <td>782.75</td>\n",
       "      <td>782.78</td>\n",
       "      <td>770.41</td>\n",
       "      <td>771.82</td>\n",
       "      <td>1,770,000</td>\n",
       "    </tr>\n",
       "  </tbody>\n",
       "</table>\n",
       "</div>"
      ],
      "text/plain": [
       "            Date    Open    High     Low   Close     Volume\n",
       "1253  12/23/2016  790.90  792.74  787.28  789.91    623,400\n",
       "1254  12/27/2016  790.68  797.86  787.66  791.55    789,100\n",
       "1255  12/28/2016  793.70  794.23  783.20  785.05  1,153,800\n",
       "1256  12/29/2016  783.33  785.93  778.92  782.79    744,300\n",
       "1257  12/30/2016  782.75  782.78  770.41  771.82  1,770,000"
      ]
     },
     "execution_count": 4,
     "metadata": {},
     "output_type": "execute_result"
    }
   ],
   "source": [
    "training_df.tail()"
   ]
  },
  {
   "cell_type": "code",
   "execution_count": 5,
   "metadata": {},
   "outputs": [],
   "source": [
    "training_data = training_df['Open'].values.reshape(-1, 1)"
   ]
  },
  {
   "cell_type": "markdown",
   "metadata": {},
   "source": [
    "## Constants"
   ]
  },
  {
   "cell_type": "code",
   "execution_count": 6,
   "metadata": {},
   "outputs": [],
   "source": [
    "EPOCHS = 100\n",
    "SEQ_SIZE = 60\n",
    "UNITS = 60\n",
    "BATCH_SIZE = 32"
   ]
  },
  {
   "cell_type": "markdown",
   "metadata": {},
   "source": [
    "## Preprocessing"
   ]
  },
  {
   "cell_type": "code",
   "execution_count": 7,
   "metadata": {},
   "outputs": [],
   "source": [
    "from sklearn.preprocessing import MinMaxScaler"
   ]
  },
  {
   "cell_type": "code",
   "execution_count": 8,
   "metadata": {},
   "outputs": [],
   "source": [
    "scaler = MinMaxScaler()"
   ]
  },
  {
   "cell_type": "code",
   "execution_count": 9,
   "metadata": {},
   "outputs": [],
   "source": [
    "scaled_training_data = scaler.fit_transform(training_data)"
   ]
  },
  {
   "cell_type": "code",
   "execution_count": 10,
   "metadata": {},
   "outputs": [],
   "source": [
    "def generate_seqs(data, sequence_size):\n",
    "    seqs = data.shape[0] - sequence_size\n",
    "    \n",
    "    for start in range(seqs):\n",
    "        end = start + sequence_size\n",
    "\n",
    "        yield data[start:end], data[end:end + 1, 0]"
   ]
  },
  {
   "cell_type": "code",
   "execution_count": 11,
   "metadata": {},
   "outputs": [],
   "source": [
    "x_data = []\n",
    "y_data = []\n",
    "\n",
    "for x, y in generate_seqs(scaled_training_data, SEQ_SIZE):\n",
    "    x_data.append(x)\n",
    "    y_data.append(y)\n",
    "\n",
    "X_train, y_train = np.array(x_data), np.array(y_data)"
   ]
  },
  {
   "cell_type": "code",
   "execution_count": 12,
   "metadata": {},
   "outputs": [
    {
     "data": {
      "text/plain": [
       "(1198, 60, 1)"
      ]
     },
     "execution_count": 12,
     "metadata": {},
     "output_type": "execute_result"
    }
   ],
   "source": [
    "X_train.shape"
   ]
  },
  {
   "cell_type": "code",
   "execution_count": 13,
   "metadata": {},
   "outputs": [
    {
     "data": {
      "text/plain": [
       "(1198, 1)"
      ]
     },
     "execution_count": 13,
     "metadata": {},
     "output_type": "execute_result"
    }
   ],
   "source": [
    "y_train.shape"
   ]
  },
  {
   "cell_type": "code",
   "execution_count": 14,
   "metadata": {},
   "outputs": [],
   "source": [
    "def build_model(units=UNITS, optimizer='rmsprop'):\n",
    "    model = keras.Sequential()\n",
    "    model.add(keras.layers.LSTM(units=units, return_sequences=True, input_shape=(SEQ_SIZE, 1), dropout=0.2))\n",
    "    model.add(keras.layers.LSTM(units=units, return_sequences=True, dropout=0.2))\n",
    "    model.add(keras.layers.LSTM(units=units, return_sequences=True, dropout=0.2))\n",
    "    model.add(keras.layers.LSTM(units=units, dropout=0.2))\n",
    "    model.add(keras.layers.Dense(1))\n",
    "    model.compile(\n",
    "        optimizer=optimizer,\n",
    "        loss='mean_squared_error'\n",
    "    )\n",
    "    return model"
   ]
  },
  {
   "cell_type": "code",
   "execution_count": 15,
   "metadata": {},
   "outputs": [
    {
     "name": "stdout",
     "output_type": "stream",
     "text": [
      "Epoch 1/100\n",
      "1198/1198 [==============================]1198/1198 [==============================] - 9s 7ms/step - loss: 0.0647\n",
      "\n",
      "Epoch 2/100\n",
      "1198/1198 [==============================]1198/1198 [==============================] - 7s 6ms/step - loss: 0.0489\n",
      "\n",
      "Epoch 3/100\n",
      "1198/1198 [==============================]1198/1198 [==============================] - 7s 6ms/step - loss: 0.0429\n",
      "\n",
      "Epoch 4/100\n",
      "1198/1198 [==============================]1198/1198 [==============================] - 7s 6ms/step - loss: 0.0330\n",
      "\n",
      "Epoch 5/100\n",
      "1198/1198 [==============================]1198/1198 [==============================] - 7s 6ms/step - loss: 0.0212\n",
      "\n",
      "Epoch 6/100\n",
      "1198/1198 [==============================]1198/1198 [==============================] - 7s 6ms/step - loss: 0.0199\n",
      "\n",
      "Epoch 7/100\n",
      "1198/1198 [==============================]1198/1198 [==============================] - 7s 6ms/step - loss: 0.0172\n",
      "\n",
      "Epoch 8/100\n",
      "1198/1198 [==============================]1198/1198 [==============================] - 7s 6ms/step - loss: 0.0167\n",
      "\n",
      "Epoch 9/100\n",
      "1198/1198 [==============================]1198/1198 [==============================] - 7s 6ms/step - loss: 0.0142\n",
      "\n",
      "Epoch 10/100\n",
      "1198/1198 [==============================]1198/1198 [==============================] - 7s 6ms/step - loss: 0.0129\n",
      "\n",
      "Epoch 11/100\n",
      "1198/1198 [==============================]1198/1198 [==============================] - 7s 6ms/step - loss: 0.0107\n",
      "\n",
      "Epoch 12/100\n",
      "1198/1198 [==============================]1198/1198 [==============================] - 7s 6ms/step - loss: 0.0130\n",
      "\n",
      "Epoch 13/100\n",
      "1198/1198 [==============================]1198/1198 [==============================] - 7s 6ms/step - loss: 0.0104\n",
      "\n",
      "Epoch 14/100\n",
      "1198/1198 [==============================]1198/1198 [==============================] - 7s 6ms/step - loss: 0.0097\n",
      "\n",
      "Epoch 15/100\n",
      "1198/1198 [==============================]1198/1198 [==============================] - 7s 6ms/step - loss: 0.0109\n",
      "\n",
      "Epoch 16/100\n",
      "1198/1198 [==============================]1198/1198 [==============================] - 7s 6ms/step - loss: 0.0094\n",
      "\n",
      "Epoch 17/100\n",
      "1198/1198 [==============================]1198/1198 [==============================] - 7s 6ms/step - loss: 0.0087\n",
      "\n",
      "Epoch 18/100\n",
      "1198/1198 [==============================]1198/1198 [==============================] - 7s 6ms/step - loss: 0.0101\n",
      "\n",
      "Epoch 19/100\n",
      "1198/1198 [==============================]1198/1198 [==============================] - 7s 6ms/step - loss: 0.0090\n",
      "\n",
      "Epoch 20/100\n",
      "1198/1198 [==============================]1198/1198 [==============================] - 7s 6ms/step - loss: 0.0083\n",
      "\n",
      "Epoch 21/100\n",
      "1198/1198 [==============================]1198/1198 [==============================] - 7s 6ms/step - loss: 0.0077\n",
      "\n",
      "Epoch 22/100\n",
      "1198/1198 [==============================]1198/1198 [==============================] - 7s 6ms/step - loss: 0.0080\n",
      "\n",
      "Epoch 23/100\n",
      "1198/1198 [==============================]1198/1198 [==============================] - 7s 6ms/step - loss: 0.0078\n",
      "\n",
      "Epoch 24/100\n",
      "1198/1198 [==============================]1198/1198 [==============================] - 7s 6ms/step - loss: 0.0079\n",
      "\n",
      "Epoch 25/100\n",
      "1198/1198 [==============================]1198/1198 [==============================] - 7s 6ms/step - loss: 0.0081\n",
      "\n",
      "Epoch 26/100\n",
      "1198/1198 [==============================]1198/1198 [==============================] - 7s 6ms/step - loss: 0.0079\n",
      "\n",
      "Epoch 27/100\n",
      "1198/1198 [==============================]1198/1198 [==============================] - 7s 6ms/step - loss: 0.0071\n",
      "\n",
      "Epoch 28/100\n",
      "1198/1198 [==============================]1198/1198 [==============================] - 7s 6ms/step - loss: 0.0074\n",
      "\n",
      "Epoch 29/100\n",
      "1198/1198 [==============================]1198/1198 [==============================] - 7s 6ms/step - loss: 0.0080\n",
      "\n",
      "Epoch 30/100\n",
      "1198/1198 [==============================]1198/1198 [==============================] - 7s 6ms/step - loss: 0.0080\n",
      "\n",
      "Epoch 31/100\n",
      "1198/1198 [==============================]1198/1198 [==============================] - 7s 6ms/step - loss: 0.0087\n",
      "\n",
      "Epoch 32/100\n",
      "1198/1198 [==============================]1198/1198 [==============================] - 7s 6ms/step - loss: 0.0085\n",
      "\n",
      "Epoch 33/100\n",
      "1198/1198 [==============================]1198/1198 [==============================] - 7s 6ms/step - loss: 0.0069\n",
      "\n",
      "Epoch 34/100\n",
      "1198/1198 [==============================]1198/1198 [==============================] - 7s 6ms/step - loss: 0.0080\n",
      "\n",
      "Epoch 35/100\n",
      "1198/1198 [==============================]1198/1198 [==============================] - 7s 6ms/step - loss: 0.0070\n",
      "\n",
      "Epoch 36/100\n",
      "1198/1198 [==============================]1198/1198 [==============================] - 7s 6ms/step - loss: 0.0072\n",
      "\n",
      "Epoch 37/100\n",
      "1198/1198 [==============================]1198/1198 [==============================] - 7s 6ms/step - loss: 0.0060\n",
      "\n",
      "Epoch 38/100\n",
      "1198/1198 [==============================]1198/1198 [==============================] - 7s 6ms/step - loss: 0.0066\n",
      "\n",
      "Epoch 39/100\n",
      "1198/1198 [==============================]1198/1198 [==============================] - 7s 6ms/step - loss: 0.0069\n",
      "\n",
      "Epoch 40/100\n",
      "1198/1198 [==============================]1198/1198 [==============================] - 7s 6ms/step - loss: 0.0069\n",
      "\n",
      "Epoch 41/100\n",
      "1198/1198 [==============================]1198/1198 [==============================] - 7s 6ms/step - loss: 0.0066\n",
      "\n",
      "Epoch 42/100\n",
      "1198/1198 [==============================]1198/1198 [==============================] - 7s 6ms/step - loss: 0.0067\n",
      "\n",
      "Epoch 43/100\n",
      "1198/1198 [==============================]1198/1198 [==============================] - 7s 6ms/step - loss: 0.0058\n",
      "\n",
      "Epoch 44/100\n",
      "1198/1198 [==============================]1198/1198 [==============================] - 7s 6ms/step - loss: 0.0066\n",
      "\n",
      "Epoch 45/100\n",
      "1198/1198 [==============================]1198/1198 [==============================] - 7s 6ms/step - loss: 0.0061\n",
      "\n",
      "Epoch 46/100\n",
      "1198/1198 [==============================]1198/1198 [==============================] - 7s 6ms/step - loss: 0.0062\n",
      "\n",
      "Epoch 47/100\n",
      "1198/1198 [==============================]1198/1198 [==============================] - 7s 6ms/step - loss: 0.0054\n",
      "\n",
      "Epoch 48/100\n",
      "1198/1198 [==============================]1198/1198 [==============================] - 7s 6ms/step - loss: 0.0080\n",
      "\n",
      "Epoch 49/100\n",
      "1198/1198 [==============================]1198/1198 [==============================] - 7s 6ms/step - loss: 0.0066\n",
      "\n",
      "Epoch 50/100\n",
      "1198/1198 [==============================]1198/1198 [==============================] - 7s 6ms/step - loss: 0.0065\n",
      "\n",
      "Epoch 51/100\n",
      "1198/1198 [==============================]1198/1198 [==============================] - 7s 6ms/step - loss: 0.0059\n",
      "\n",
      "Epoch 52/100\n",
      "1198/1198 [==============================]1198/1198 [==============================] - 7s 6ms/step - loss: 0.0071\n",
      "\n",
      "Epoch 53/100\n",
      "1198/1198 [==============================]1198/1198 [==============================] - 7s 6ms/step - loss: 0.0058\n",
      "\n",
      "Epoch 54/100\n",
      "1198/1198 [==============================]1198/1198 [==============================] - 7s 6ms/step - loss: 0.0065\n",
      "\n",
      "Epoch 55/100\n",
      "1198/1198 [==============================]1198/1198 [==============================] - 7s 6ms/step - loss: 0.0053\n",
      "\n",
      "Epoch 56/100\n",
      "1198/1198 [==============================]1198/1198 [==============================] - 7s 6ms/step - loss: 0.0081\n",
      "\n",
      "Epoch 57/100\n",
      "1198/1198 [==============================]1198/1198 [==============================] - 7s 6ms/step - loss: 0.0059\n",
      "\n",
      "Epoch 58/100\n",
      "1198/1198 [==============================]1198/1198 [==============================] - 7s 6ms/step - loss: 0.0055\n",
      "\n",
      "Epoch 59/100\n",
      "1198/1198 [==============================]1198/1198 [==============================] - 7s 6ms/step - loss: 0.0053\n",
      "\n",
      "Epoch 60/100\n",
      "1198/1198 [==============================]1198/1198 [==============================] - 7s 6ms/step - loss: 0.0066\n",
      "\n",
      "Epoch 61/100\n",
      "1198/1198 [==============================]1198/1198 [==============================] - 7s 6ms/step - loss: 0.0049\n",
      "\n",
      "Epoch 62/100\n",
      "1198/1198 [==============================]1198/1198 [==============================] - 7s 6ms/step - loss: 0.0065\n",
      "\n",
      "Epoch 63/100\n",
      "1198/1198 [==============================]1198/1198 [==============================] - 7s 6ms/step - loss: 0.0056\n",
      "\n",
      "Epoch 64/100\n",
      "1198/1198 [==============================]1198/1198 [==============================] - 7s 6ms/step - loss: 0.0053\n",
      "\n",
      "Epoch 65/100\n",
      "1198/1198 [==============================]1198/1198 [==============================] - 7s 6ms/step - loss: 0.0067\n",
      "\n",
      "Epoch 66/100\n",
      "1198/1198 [==============================]1198/1198 [==============================] - 7s 6ms/step - loss: 0.0067\n",
      "\n",
      "Epoch 67/100\n",
      "1198/1198 [==============================]1198/1198 [==============================] - 7s 6ms/step - loss: 0.0063\n",
      "\n",
      "Epoch 68/100\n",
      "1198/1198 [==============================]1198/1198 [==============================] - 7s 6ms/step - loss: 0.0058\n",
      "\n",
      "Epoch 69/100\n",
      "1198/1198 [==============================]1198/1198 [==============================] - 7s 6ms/step - loss: 0.0052\n",
      "\n",
      "Epoch 70/100\n",
      "1198/1198 [==============================]1198/1198 [==============================] - 7s 6ms/step - loss: 0.0055\n",
      "\n",
      "Epoch 71/100\n",
      "1198/1198 [==============================]1198/1198 [==============================] - 7s 6ms/step - loss: 0.0063\n",
      "\n",
      "Epoch 72/100\n",
      "1198/1198 [==============================]1198/1198 [==============================] - 7s 6ms/step - loss: 0.0063\n",
      "\n",
      "Epoch 73/100\n",
      "1198/1198 [==============================]1198/1198 [==============================] - 7s 6ms/step - loss: 0.0057\n",
      "\n",
      "Epoch 74/100\n",
      "1198/1198 [==============================]1198/1198 [==============================] - 7s 6ms/step - loss: 0.0058\n",
      "\n",
      "Epoch 75/100\n",
      "1198/1198 [==============================]1198/1198 [==============================] - 7s 6ms/step - loss: 0.0061\n",
      "\n",
      "Epoch 76/100\n",
      "1198/1198 [==============================]1198/1198 [==============================] - 7s 6ms/step - loss: 0.0062\n",
      "\n",
      "Epoch 77/100\n",
      "1198/1198 [==============================]1198/1198 [==============================] - 7s 6ms/step - loss: 0.0055\n",
      "\n",
      "Epoch 78/100\n",
      "1198/1198 [==============================]1198/1198 [==============================] - 7s 6ms/step - loss: 0.0058\n",
      "\n",
      "Epoch 79/100\n",
      "1198/1198 [==============================]1198/1198 [==============================] - 7s 6ms/step - loss: 0.0055\n",
      "\n",
      "Epoch 80/100\n",
      "1198/1198 [==============================]1198/1198 [==============================] - 7s 6ms/step - loss: 0.0059\n",
      "\n",
      "Epoch 81/100\n",
      "1198/1198 [==============================]1198/1198 [==============================] - 7s 6ms/step - loss: 0.0048\n",
      "\n",
      "Epoch 82/100\n",
      "1198/1198 [==============================]1198/1198 [==============================] - 7s 6ms/step - loss: 0.0051\n",
      "\n",
      "Epoch 83/100\n",
      "1198/1198 [==============================]1198/1198 [==============================] - 7s 6ms/step - loss: 0.0055\n",
      "\n",
      "Epoch 84/100\n",
      "1198/1198 [==============================]1198/1198 [==============================] - 7s 6ms/step - loss: 0.0058\n",
      "\n",
      "Epoch 85/100\n",
      "1198/1198 [==============================]1198/1198 [==============================] - 7s 6ms/step - loss: 0.0048\n",
      "\n",
      "Epoch 86/100\n",
      "1198/1198 [==============================]1198/1198 [==============================] - 7s 6ms/step - loss: 0.0051\n",
      "\n",
      "Epoch 87/100\n",
      "1198/1198 [==============================]1198/1198 [==============================] - 7s 6ms/step - loss: 0.0058\n",
      "\n",
      "Epoch 88/100\n",
      "1198/1198 [==============================]1198/1198 [==============================] - 7s 6ms/step - loss: 0.0050\n",
      "\n",
      "Epoch 89/100\n",
      "1198/1198 [==============================]1198/1198 [==============================] - 7s 6ms/step - loss: 0.0052\n",
      "\n",
      "Epoch 90/100\n",
      "1198/1198 [==============================]1198/1198 [==============================] - 7s 6ms/step - loss: 0.0058\n",
      "\n",
      "Epoch 91/100\n",
      "1198/1198 [==============================]1198/1198 [==============================] - 7s 6ms/step - loss: 0.0052\n",
      "\n",
      "Epoch 92/100\n",
      "1198/1198 [==============================]1198/1198 [==============================] - 7s 6ms/step - loss: 0.0056\n",
      "\n",
      "Epoch 93/100\n",
      "1198/1198 [==============================]1198/1198 [==============================] - 7s 6ms/step - loss: 0.0052\n",
      "\n",
      "Epoch 94/100\n",
      "1198/1198 [==============================]1198/1198 [==============================] - 7s 6ms/step - loss: 0.0038\n",
      "\n",
      "Epoch 95/100\n",
      "1198/1198 [==============================]1198/1198 [==============================] - 7s 6ms/step - loss: 0.0059\n",
      "\n",
      "Epoch 96/100\n",
      "1198/1198 [==============================]1198/1198 [==============================] - 7s 6ms/step - loss: 0.0056\n",
      "\n",
      "Epoch 97/100\n",
      "1198/1198 [==============================]1198/1198 [==============================] - 7s 6ms/step - loss: 0.0046\n",
      "\n",
      "Epoch 98/100\n",
      "1198/1198 [==============================]1198/1198 [==============================] - 7s 6ms/step - loss: 0.0055\n",
      "\n",
      "Epoch 99/100\n",
      "1198/1198 [==============================]1198/1198 [==============================] - 7s 6ms/step - loss: 0.0057\n",
      "\n",
      "Epoch 100/100\n",
      "1198/1198 [==============================]1198/1198 [==============================] - 7s 6ms/step - loss: 0.0072\n",
      "\n"
     ]
    },
    {
     "data": {
      "text/plain": [
       "<tensorflow.python.keras._impl.keras.callbacks.History at 0x115e8dd30>"
      ]
     },
     "execution_count": 15,
     "metadata": {},
     "output_type": "execute_result"
    }
   ],
   "source": [
    "model = build_model()\n",
    "\n",
    "model.fit(X_train, y_train, epochs=EPOCHS, batch_size=BATCH_SIZE)"
   ]
  },
  {
   "cell_type": "code",
   "execution_count": 16,
   "metadata": {},
   "outputs": [],
   "source": [
    "testing_df = pd.read_csv(\"./Google_Stock_Price_Test.csv\")"
   ]
  },
  {
   "cell_type": "code",
   "execution_count": 17,
   "metadata": {},
   "outputs": [
    {
     "data": {
      "text/html": [
       "<div>\n",
       "<style scoped>\n",
       "    .dataframe tbody tr th:only-of-type {\n",
       "        vertical-align: middle;\n",
       "    }\n",
       "\n",
       "    .dataframe tbody tr th {\n",
       "        vertical-align: top;\n",
       "    }\n",
       "\n",
       "    .dataframe thead th {\n",
       "        text-align: right;\n",
       "    }\n",
       "</style>\n",
       "<table border=\"1\" class=\"dataframe\">\n",
       "  <thead>\n",
       "    <tr style=\"text-align: right;\">\n",
       "      <th></th>\n",
       "      <th>Date</th>\n",
       "      <th>Open</th>\n",
       "      <th>High</th>\n",
       "      <th>Low</th>\n",
       "      <th>Close</th>\n",
       "      <th>Volume</th>\n",
       "    </tr>\n",
       "  </thead>\n",
       "  <tbody>\n",
       "    <tr>\n",
       "      <th>0</th>\n",
       "      <td>1/3/2017</td>\n",
       "      <td>778.81</td>\n",
       "      <td>789.63</td>\n",
       "      <td>775.80</td>\n",
       "      <td>786.14</td>\n",
       "      <td>1,657,300</td>\n",
       "    </tr>\n",
       "    <tr>\n",
       "      <th>1</th>\n",
       "      <td>1/4/2017</td>\n",
       "      <td>788.36</td>\n",
       "      <td>791.34</td>\n",
       "      <td>783.16</td>\n",
       "      <td>786.90</td>\n",
       "      <td>1,073,000</td>\n",
       "    </tr>\n",
       "    <tr>\n",
       "      <th>2</th>\n",
       "      <td>1/5/2017</td>\n",
       "      <td>786.08</td>\n",
       "      <td>794.48</td>\n",
       "      <td>785.02</td>\n",
       "      <td>794.02</td>\n",
       "      <td>1,335,200</td>\n",
       "    </tr>\n",
       "    <tr>\n",
       "      <th>3</th>\n",
       "      <td>1/6/2017</td>\n",
       "      <td>795.26</td>\n",
       "      <td>807.90</td>\n",
       "      <td>792.20</td>\n",
       "      <td>806.15</td>\n",
       "      <td>1,640,200</td>\n",
       "    </tr>\n",
       "    <tr>\n",
       "      <th>4</th>\n",
       "      <td>1/9/2017</td>\n",
       "      <td>806.40</td>\n",
       "      <td>809.97</td>\n",
       "      <td>802.83</td>\n",
       "      <td>806.65</td>\n",
       "      <td>1,272,400</td>\n",
       "    </tr>\n",
       "    <tr>\n",
       "      <th>5</th>\n",
       "      <td>1/10/2017</td>\n",
       "      <td>807.86</td>\n",
       "      <td>809.13</td>\n",
       "      <td>803.51</td>\n",
       "      <td>804.79</td>\n",
       "      <td>1,176,800</td>\n",
       "    </tr>\n",
       "    <tr>\n",
       "      <th>6</th>\n",
       "      <td>1/11/2017</td>\n",
       "      <td>805.00</td>\n",
       "      <td>808.15</td>\n",
       "      <td>801.37</td>\n",
       "      <td>807.91</td>\n",
       "      <td>1,065,900</td>\n",
       "    </tr>\n",
       "    <tr>\n",
       "      <th>7</th>\n",
       "      <td>1/12/2017</td>\n",
       "      <td>807.14</td>\n",
       "      <td>807.39</td>\n",
       "      <td>799.17</td>\n",
       "      <td>806.36</td>\n",
       "      <td>1,353,100</td>\n",
       "    </tr>\n",
       "    <tr>\n",
       "      <th>8</th>\n",
       "      <td>1/13/2017</td>\n",
       "      <td>807.48</td>\n",
       "      <td>811.22</td>\n",
       "      <td>806.69</td>\n",
       "      <td>807.88</td>\n",
       "      <td>1,099,200</td>\n",
       "    </tr>\n",
       "    <tr>\n",
       "      <th>9</th>\n",
       "      <td>1/17/2017</td>\n",
       "      <td>807.08</td>\n",
       "      <td>807.14</td>\n",
       "      <td>800.37</td>\n",
       "      <td>804.61</td>\n",
       "      <td>1,362,100</td>\n",
       "    </tr>\n",
       "    <tr>\n",
       "      <th>10</th>\n",
       "      <td>1/18/2017</td>\n",
       "      <td>805.81</td>\n",
       "      <td>806.21</td>\n",
       "      <td>800.99</td>\n",
       "      <td>806.07</td>\n",
       "      <td>1,294,400</td>\n",
       "    </tr>\n",
       "    <tr>\n",
       "      <th>11</th>\n",
       "      <td>1/19/2017</td>\n",
       "      <td>805.12</td>\n",
       "      <td>809.48</td>\n",
       "      <td>801.80</td>\n",
       "      <td>802.17</td>\n",
       "      <td>919,300</td>\n",
       "    </tr>\n",
       "    <tr>\n",
       "      <th>12</th>\n",
       "      <td>1/20/2017</td>\n",
       "      <td>806.91</td>\n",
       "      <td>806.91</td>\n",
       "      <td>801.69</td>\n",
       "      <td>805.02</td>\n",
       "      <td>1,670,000</td>\n",
       "    </tr>\n",
       "    <tr>\n",
       "      <th>13</th>\n",
       "      <td>1/23/2017</td>\n",
       "      <td>807.25</td>\n",
       "      <td>820.87</td>\n",
       "      <td>803.74</td>\n",
       "      <td>819.31</td>\n",
       "      <td>1,963,600</td>\n",
       "    </tr>\n",
       "    <tr>\n",
       "      <th>14</th>\n",
       "      <td>1/24/2017</td>\n",
       "      <td>822.30</td>\n",
       "      <td>825.90</td>\n",
       "      <td>817.82</td>\n",
       "      <td>823.87</td>\n",
       "      <td>1,474,000</td>\n",
       "    </tr>\n",
       "    <tr>\n",
       "      <th>15</th>\n",
       "      <td>1/25/2017</td>\n",
       "      <td>829.62</td>\n",
       "      <td>835.77</td>\n",
       "      <td>825.06</td>\n",
       "      <td>835.67</td>\n",
       "      <td>1,494,500</td>\n",
       "    </tr>\n",
       "    <tr>\n",
       "      <th>16</th>\n",
       "      <td>1/26/2017</td>\n",
       "      <td>837.81</td>\n",
       "      <td>838.00</td>\n",
       "      <td>827.01</td>\n",
       "      <td>832.15</td>\n",
       "      <td>2,973,900</td>\n",
       "    </tr>\n",
       "    <tr>\n",
       "      <th>17</th>\n",
       "      <td>1/27/2017</td>\n",
       "      <td>834.71</td>\n",
       "      <td>841.95</td>\n",
       "      <td>820.44</td>\n",
       "      <td>823.31</td>\n",
       "      <td>2,965,800</td>\n",
       "    </tr>\n",
       "    <tr>\n",
       "      <th>18</th>\n",
       "      <td>1/30/2017</td>\n",
       "      <td>814.66</td>\n",
       "      <td>815.84</td>\n",
       "      <td>799.80</td>\n",
       "      <td>802.32</td>\n",
       "      <td>3,246,600</td>\n",
       "    </tr>\n",
       "    <tr>\n",
       "      <th>19</th>\n",
       "      <td>1/31/2017</td>\n",
       "      <td>796.86</td>\n",
       "      <td>801.25</td>\n",
       "      <td>790.52</td>\n",
       "      <td>796.79</td>\n",
       "      <td>2,160,600</td>\n",
       "    </tr>\n",
       "  </tbody>\n",
       "</table>\n",
       "</div>"
      ],
      "text/plain": [
       "         Date    Open    High     Low   Close     Volume\n",
       "0    1/3/2017  778.81  789.63  775.80  786.14  1,657,300\n",
       "1    1/4/2017  788.36  791.34  783.16  786.90  1,073,000\n",
       "2    1/5/2017  786.08  794.48  785.02  794.02  1,335,200\n",
       "3    1/6/2017  795.26  807.90  792.20  806.15  1,640,200\n",
       "4    1/9/2017  806.40  809.97  802.83  806.65  1,272,400\n",
       "5   1/10/2017  807.86  809.13  803.51  804.79  1,176,800\n",
       "6   1/11/2017  805.00  808.15  801.37  807.91  1,065,900\n",
       "7   1/12/2017  807.14  807.39  799.17  806.36  1,353,100\n",
       "8   1/13/2017  807.48  811.22  806.69  807.88  1,099,200\n",
       "9   1/17/2017  807.08  807.14  800.37  804.61  1,362,100\n",
       "10  1/18/2017  805.81  806.21  800.99  806.07  1,294,400\n",
       "11  1/19/2017  805.12  809.48  801.80  802.17    919,300\n",
       "12  1/20/2017  806.91  806.91  801.69  805.02  1,670,000\n",
       "13  1/23/2017  807.25  820.87  803.74  819.31  1,963,600\n",
       "14  1/24/2017  822.30  825.90  817.82  823.87  1,474,000\n",
       "15  1/25/2017  829.62  835.77  825.06  835.67  1,494,500\n",
       "16  1/26/2017  837.81  838.00  827.01  832.15  2,973,900\n",
       "17  1/27/2017  834.71  841.95  820.44  823.31  2,965,800\n",
       "18  1/30/2017  814.66  815.84  799.80  802.32  3,246,600\n",
       "19  1/31/2017  796.86  801.25  790.52  796.79  2,160,600"
      ]
     },
     "execution_count": 17,
     "metadata": {},
     "output_type": "execute_result"
    }
   ],
   "source": [
    "testing_df"
   ]
  },
  {
   "cell_type": "code",
   "execution_count": 18,
   "metadata": {},
   "outputs": [
    {
     "data": {
      "text/plain": [
       "20"
      ]
     },
     "execution_count": 18,
     "metadata": {},
     "output_type": "execute_result"
    }
   ],
   "source": [
    "len(testing_df)"
   ]
  },
  {
   "cell_type": "markdown",
   "metadata": {},
   "source": [
    "## Rely on last 60 values to predict next sequence"
   ]
  },
  {
   "cell_type": "code",
   "execution_count": 19,
   "metadata": {},
   "outputs": [],
   "source": [
    "next_batch = None\n",
    "predicted_value = None\n",
    "predicted_values = []\n",
    "\n",
    "for i in range(len(testing_df)):\n",
    "    if next_batch is None:\n",
    "        next_batch = scaled_training_data[-SEQ_SIZE:]\n",
    "    else:\n",
    "        next_batch = np.append(next_batch[1:], predicted_value)\n",
    "\n",
    "    predicted_value = model.predict(next_batch.reshape(-1, 60, 1))\n",
    "    predicted_values.append(predicted_value)\n",
    "\n",
    "predicted_values = np.array(predicted_values).reshape(-1, 1)"
   ]
  },
  {
   "cell_type": "code",
   "execution_count": 20,
   "metadata": {},
   "outputs": [],
   "source": [
    "predicted_values = scaler.inverse_transform(predicted_values)"
   ]
  },
  {
   "cell_type": "code",
   "execution_count": 21,
   "metadata": {},
   "outputs": [
    {
     "data": {
      "text/plain": [
       "array([[713.49   ],\n",
       "       [660.1982 ],\n",
       "       [648.8437 ],\n",
       "       [645.54517],\n",
       "       [643.9549 ],\n",
       "       [642.6904 ],\n",
       "       [640.2477 ],\n",
       "       [638.37427],\n",
       "       [636.65247],\n",
       "       [634.40686],\n",
       "       [630.69696],\n",
       "       [624.43225],\n",
       "       [614.4176 ],\n",
       "       [599.1078 ],\n",
       "       [577.5736 ],\n",
       "       [551.23364],\n",
       "       [522.6292 ],\n",
       "       [493.92337],\n",
       "       [465.9089 ],\n",
       "       [438.29193]], dtype=float32)"
      ]
     },
     "execution_count": 21,
     "metadata": {},
     "output_type": "execute_result"
    }
   ],
   "source": [
    "predicted_values"
   ]
  },
  {
   "cell_type": "code",
   "execution_count": 22,
   "metadata": {},
   "outputs": [
    {
     "data": {
      "text/plain": [
       "[<matplotlib.lines.Line2D at 0x119c048d0>]"
      ]
     },
     "execution_count": 22,
     "metadata": {},
     "output_type": "execute_result"
    },
    {
     "data": {
      "image/png": "[encoded data removed]",
      "text/plain": [
       "<Figure size 432x288 with 1 Axes>"
      ]
     },
     "metadata": {},
     "output_type": "display_data"
    }
   ],
   "source": [
    "plt.plot(predicted_values, 'r')\n",
    "plt.plot(testing_df['Open'].values, 'b')"
   ]
  },
  {
   "cell_type": "markdown",
   "metadata": {},
   "source": [
    "## Feed original value every time"
   ]
  },
  {
   "cell_type": "code",
   "execution_count": 23,
   "metadata": {},
   "outputs": [],
   "source": [
    "df = pd.concat((training_df['Open'], testing_df['Open']), axis=0)"
   ]
  },
  {
   "cell_type": "code",
   "execution_count": 24,
   "metadata": {},
   "outputs": [],
   "source": [
    "inputs = df[len(df) - len(testing_df) - SEQ_SIZE:].values"
   ]
  },
  {
   "cell_type": "code",
   "execution_count": 25,
   "metadata": {},
   "outputs": [],
   "source": [
    "inputs = inputs.reshape(-1, 1)"
   ]
  },
  {
   "cell_type": "code",
   "execution_count": 26,
   "metadata": {},
   "outputs": [
    {
     "data": {
      "text/plain": [
       "(80, 1)"
      ]
     },
     "execution_count": 26,
     "metadata": {},
     "output_type": "execute_result"
    }
   ],
   "source": [
    "inputs.shape"
   ]
  },
  {
   "cell_type": "code",
   "execution_count": 27,
   "metadata": {},
   "outputs": [],
   "source": [
    "scaled_tesing_data = scaler.transform(inputs)"
   ]
  },
  {
   "cell_type": "code",
   "execution_count": 28,
   "metadata": {},
   "outputs": [],
   "source": [
    "x_data = []\n",
    "\n",
    "for x, _ in generate_seqs(scaled_tesing_data, SEQ_SIZE):\n",
    "    x_data.append(x)\n",
    "\n",
    "X_test = np.array(x_data)"
   ]
  },
  {
   "cell_type": "code",
   "execution_count": 29,
   "metadata": {},
   "outputs": [
    {
     "data": {
      "text/plain": [
       "array([[[0.9299055 ],\n",
       "        [0.93113327],\n",
       "        [0.92750577],\n",
       "        ...,\n",
       "        [0.95725128],\n",
       "        [0.93796041],\n",
       "        [0.93688146]],\n",
       "\n",
       "       [[0.93113327],\n",
       "        [0.92750577],\n",
       "        [0.94415507],\n",
       "        ...,\n",
       "        [0.93796041],\n",
       "        [0.93688146],\n",
       "        [0.92955205]],\n",
       "\n",
       "       [[0.92750577],\n",
       "        [0.94415507],\n",
       "        [0.93876032],\n",
       "        ...,\n",
       "        [0.93688146],\n",
       "        [0.92955205],\n",
       "        [0.94731751]],\n",
       "\n",
       "       ...,\n",
       "\n",
       "       [[0.96054394],\n",
       "        [0.9371419 ],\n",
       "        [0.92841729],\n",
       "        ...,\n",
       "        [1.01045465],\n",
       "        [1.02407173],\n",
       "        [1.03930724]],\n",
       "\n",
       "       [[0.9371419 ],\n",
       "        [0.92841729],\n",
       "        [0.90804747],\n",
       "        ...,\n",
       "        [1.02407173],\n",
       "        [1.03930724],\n",
       "        [1.03354044]],\n",
       "\n",
       "       [[0.92841729],\n",
       "        [0.90804747],\n",
       "        [0.8771858 ],\n",
       "        ...,\n",
       "        [1.03930724],\n",
       "        [1.03354044],\n",
       "        [0.99624228]]])"
      ]
     },
     "execution_count": 29,
     "metadata": {},
     "output_type": "execute_result"
    }
   ],
   "source": [
    "X_test"
   ]
  },
  {
   "cell_type": "code",
   "execution_count": 30,
   "metadata": {},
   "outputs": [
    {
     "data": {
      "text/plain": [
       "(20, 60, 1)"
      ]
     },
     "execution_count": 30,
     "metadata": {},
     "output_type": "execute_result"
    }
   ],
   "source": [
    "X_test.shape"
   ]
  },
  {
   "cell_type": "code",
   "execution_count": 31,
   "metadata": {},
   "outputs": [],
   "source": [
    "predicted_values = model.predict(X_test)\n",
    "predicted_values = scaler.inverse_transform(predicted_values)"
   ]
  },
  {
   "cell_type": "code",
   "execution_count": 32,
   "metadata": {},
   "outputs": [
    {
     "data": {
      "text/plain": [
       "array([[713.49005],\n",
       "       [708.75006],\n",
       "       [717.9437 ],\n",
       "       [714.01776],\n",
       "       [722.97363],\n",
       "       [729.4856 ],\n",
       "       [729.2834 ],\n",
       "       [726.02136],\n",
       "       [727.5605 ],\n",
       "       [726.69354],\n",
       "       [726.711  ],\n",
       "       [725.4068 ],\n",
       "       [724.9132 ],\n",
       "       [726.1116 ],\n",
       "       [725.60925],\n",
       "       [738.2827 ],\n",
       "       [740.46967],\n",
       "       [747.04816],\n",
       "       [741.5001 ],\n",
       "       [725.2431 ]], dtype=float32)"
      ]
     },
     "execution_count": 32,
     "metadata": {},
     "output_type": "execute_result"
    }
   ],
   "source": [
    "predicted_values"
   ]
  },
  {
   "cell_type": "code",
   "execution_count": 33,
   "metadata": {},
   "outputs": [
    {
     "data": {
      "text/plain": [
       "[<matplotlib.lines.Line2D at 0x119b1f550>]"
      ]
     },
     "execution_count": 33,
     "metadata": {},
     "output_type": "execute_result"
    },
    {
     "data": {
      "image/png": "[encoded data removed]",
      "text/plain": [
       "<Figure size 432x288 with 1 Axes>"
      ]
     },
     "metadata": {},
     "output_type": "display_data"
    }
   ],
   "source": [
    "plt.plot(predicted_values, 'r')\n",
    "plt.plot(testing_df['Open'].values, 'b')"
   ]
  },
  {
   "cell_type": "code",
   "execution_count": null,
   "metadata": {},
   "outputs": [],
   "source": []
  }
 ],
 "metadata": {
  "kernelspec": {
   "display_name": "Python 3",
   "language": "python",
   "name": "python3"
  },
  "language_info": {
   "codemirror_mode": {
    "name": "ipython",
    "version": 3
   },
   "file_extension": ".py",
   "mimetype": "text/x-python",
   "name": "python",
   "nbconvert_exporter": "python",
   "pygments_lexer": "ipython3",
   "version": "3.7.2"
  }
 },
 "nbformat": 4,
 "nbformat_minor": 2
}
