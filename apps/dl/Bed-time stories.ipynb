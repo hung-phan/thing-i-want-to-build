{
 "cells": [
  {
   "cell_type": "code",
   "execution_count": 1,
   "metadata": {},
   "outputs": [],
   "source": [
    "import json\n",
    "import pandas as pd\n",
    "import numpy as np\n",
    "import collections as col\n",
    "from pathlib import Path\n",
    "from requests_html import HTMLSession\n",
    "from typing import List, Dict"
   ]
  },
  {
   "cell_type": "markdown",
   "metadata": {},
   "source": [
    "## Data preparation"
   ]
  },
  {
   "cell_type": "code",
   "execution_count": 2,
   "metadata": {},
   "outputs": [],
   "source": [
    "session = HTMLSession()"
   ]
  },
  {
   "cell_type": "code",
   "execution_count": 3,
   "metadata": {},
   "outputs": [],
   "source": [
    "def crawl_data(_from: int, _to: int) -> Dict[str, List[str]]:\n",
    "    results = {\n",
    "        'title': [],\n",
    "        'content': []\n",
    "    }\n",
    "\n",
    "    for page in range(_from, _to + 1):\n",
    "        r = session.get(f\"http://truyencotich.vn/truyen-co-tich/co-tich-viet-nam/page/{page}\")\n",
    "\n",
    "        for link in set([element.attrs[\"href\"] for element in r.html.find(\"article a\")]):\n",
    "            page = session.get(link)\n",
    "            \n",
    "            title = page.html.find(\"#content .entry-title\", first=True).text\n",
    "            content = page.html.find(\"#content .entry-content\", first=True).text\n",
    "\n",
    "            results['title'].append(title)\n",
    "            results['content'].append(content)\n",
    "    \n",
    "    return results"
   ]
  },
  {
   "cell_type": "code",
   "execution_count": 4,
   "metadata": {},
   "outputs": [],
   "source": [
    "data_path = \"./bed-time-stories.json\"\n",
    "file = Path(data_path)\n",
    "data = None"
   ]
  },
  {
   "cell_type": "code",
   "execution_count": 5,
   "metadata": {},
   "outputs": [],
   "source": [
    "if file.exists():\n",
    "    data = json.load(open(data_path))\n",
    "else:\n",
    "    data = crawl_data(1, 30)\n",
    "\n",
    "    with open(data_path, \"w\") as outfile:\n",
    "        json.dump(data, outfile)"
   ]
  },
  {
   "cell_type": "markdown",
   "metadata": {},
   "source": [
    "## Create pandas df"
   ]
  },
  {
   "cell_type": "code",
   "execution_count": 6,
   "metadata": {},
   "outputs": [],
   "source": [
    "df = pd.DataFrame(data=data)"
   ]
  },
  {
   "cell_type": "code",
   "execution_count": 7,
   "metadata": {},
   "outputs": [
    {
     "data": {
      "text/html": [
       "<div>\n",
       "<style scoped>\n",
       "    .dataframe tbody tr th:only-of-type {\n",
       "        vertical-align: middle;\n",
       "    }\n",
       "\n",
       "    .dataframe tbody tr th {\n",
       "        vertical-align: top;\n",
       "    }\n",
       "\n",
       "    .dataframe thead th {\n",
       "        text-align: right;\n",
       "    }\n",
       "</style>\n",
       "<table border=\"1\" class=\"dataframe\">\n",
       "  <thead>\n",
       "    <tr style=\"text-align: right;\">\n",
       "      <th></th>\n",
       "      <th>content</th>\n",
       "      <th>title</th>\n",
       "    </tr>\n",
       "  </thead>\n",
       "  <tbody>\n",
       "    <tr>\n",
       "      <th>0</th>\n",
       "      <td>Ngày xưa, có một người con gái con một nhà già...</td>\n",
       "      <td>Sự tích ông bình vôi</td>\n",
       "    </tr>\n",
       "    <tr>\n",
       "      <th>1</th>\n",
       "      <td>Ngày xửa ngày xưa, ở một vùng nọ có đôi vợ chồ...</td>\n",
       "      <td>Anh học trò và ba con quỷ</td>\n",
       "    </tr>\n",
       "    <tr>\n",
       "      <th>2</th>\n",
       "      <td>Ngày xưa, có nội tán Nguyễn Khoa Đăng là người...</td>\n",
       "      <td>Nguyễn Khoa Đăng</td>\n",
       "    </tr>\n",
       "    <tr>\n",
       "      <th>3</th>\n",
       "      <td>Ngày xưa, ở dưới chân núi Hồng-lĩnh về phía Đô...</td>\n",
       "      <td>Cố Ghép</td>\n",
       "    </tr>\n",
       "    <tr>\n",
       "      <th>4</th>\n",
       "      <td>Ở làng kia có một người nung đất làm chén đĩa ...</td>\n",
       "      <td>Thày lang bất đắc dĩ</td>\n",
       "    </tr>\n",
       "  </tbody>\n",
       "</table>\n",
       "</div>"
      ],
      "text/plain": [
       "                                             content  \\\n",
       "0  Ngày xưa, có một người con gái con một nhà già...   \n",
       "1  Ngày xửa ngày xưa, ở một vùng nọ có đôi vợ chồ...   \n",
       "2  Ngày xưa, có nội tán Nguyễn Khoa Đăng là người...   \n",
       "3  Ngày xưa, ở dưới chân núi Hồng-lĩnh về phía Đô...   \n",
       "4  Ở làng kia có một người nung đất làm chén đĩa ...   \n",
       "\n",
       "                       title  \n",
       "0       Sự tích ông bình vôi  \n",
       "1  Anh học trò và ba con quỷ  \n",
       "2           Nguyễn Khoa Đăng  \n",
       "3                    Cố Ghép  \n",
       "4       Thày lang bất đắc dĩ  "
      ]
     },
     "execution_count": 7,
     "metadata": {},
     "output_type": "execute_result"
    }
   ],
   "source": [
    "df.head()"
   ]
  },
  {
   "cell_type": "code",
   "execution_count": 8,
   "metadata": {},
   "outputs": [
    {
     "name": "stdout",
     "output_type": "stream",
     "text": [
      "Ngày xưa, có một người con gái con một nhà giàu có. Cô rất đẹp nhưng cũng rất kiêu. Cô đã từng làm cho các bạn gái xa lánh mình. Cô làm cho các chàng trai ghét cô vô hạn. Cũng vì thế đến tuổi lấy chồng, cô gái vẫn chưa có đám nào vừa ý. Chàng trai nào cũng bị cô sổ toẹt, vì cao chê ngỏng, thấp chê lùn, lớn chê béo trục béo tròn, gầy chê xương sống xương sườn bày ra.\n",
      "Nhưng rồi cô cũng lấy được chồng. Chồng cô yêu vợ nhưng lại bực mình vì thói ghen của vợ. Cô ghen chồng làm cho xóm giềng luôn cau mặt vì những lời qua tiếng lại của họ. Cuối cùng hai người không vừa ý nhau và ly dị. Buồn bực vì duyên phận, cô bỏ đi tu.\n",
      "Cô xuất gia ở một ngôi chùa cổ trên núi suốt hai mươi năm. Những con chim, con thú rừng hầu như quen thuộc bóng dáng của người sư nữ. Hai mươi năm qua, cô vẫn chưa đắc đạo. Cô thắc mắc, vì tự cho mình thông kinh kệ hơn người và chịu đủ mọi sự khổ hạnh của nhà chiền. Một ngày kia cô quyết định sang Tây trúc một phen để tìm cho ra lẽ. Đường sang Tây-trúc thiên nguy vạn hiểm nhưng cô quyết định đi cho bằng được.\n",
      "Một hôm, sau khi vượt qua một trái núi, sư nữ tìm vào một ngôi nhà hẻo lánh dọc đường để nghỉ chân. Hai mẹ con chủ nhân tuy người rừng núi quê mùa nhưng vốn là kẻ ăn chay niệm Phật, nên thấy khách là nhà tu hành thì tiếp đãi rất hậu. Khi được nghe kể công trình tu luyện của sư nữ họ càng cung kính, coi như bậc thầy. Và khi biết rõ ý định của sư nữ thì họ cũng xin phép bỏ nhà bỏ cửa đi theo thầy để mong được đắc dạo. Nghe họ câu khẩn, sư nữ cười: – Hai mẹ con nhà này cũng muốn thành Phật ư? Được, cứ đi theo ta!. Nhưng bụng nàng bảo dạ: – “Chuông khánh còn chẳng ăn ai, nữa là mảnh chĩnh vứt ngoài bờ tre”.\n",
      "Từ hôm đó nhà sư có thêm hai người bạn đồng hành. Chân bớt mỏi, đường bớt dài, họ đi chả mấy chốc đã tới đất Thánh. Từ trước đến sau, hai mẹ con nhà nọ vẫn cung kính, coi sư nữ như thầy. Còn sư nữ đối với họ không được như trước: – Không biết chừng họ được thành Phật trước ta. Họ sẽ hơn ta… Bọn này mà đắc đạo, thật là một điều nhục cho Thiền môn.\n",
      "Nói chuyện đức Phật khi vừa nghe tin có người tìm đường đến Tây-trúc cầu đạo, vội hóa thân đi theo dõi. Từ đầu đến cuối, đức Phật vẫn không bỏ sót một lời nói, một cử chỉ nào của sư nữ. Khi họ sắp qua một con sông rộng, đức Phật hóa phép hiện ra ở bên kia bờ một tòa cổ tự, trước cửa có một cây bồ đề rất lớn, để chờ họ.\n",
      "Muốn cho hai mẹ con khỏi lẽo đẽo theo mình đến đất Thánh, nên khi qua sông sư nữ giả cách ngạc nhiên, chỉ ngôi chùa và ngôi đền mà bảo rằng:\n",
      "– Kìa, chúng ta đã tới Tây trúc. Chóng thật! Chính là cây bồ đề của đức Thế Tôn tu luyện ngày xưa. Thôi! Hai mẹ con cứ việc trèo lên một cành cao niệm kinh rồi buông tay rơi xuống là tức khắc thành Phật!.\n",
      "Tin tưởng ở lời nói của bậc thầy, hai mẹ con mừng rỡ làm theo không chút ngần ngại. Nhưng khi họ buông tay cho người rơi xuống thì đức Phật đã đón họ đưa lên trời. Có bốn vị La hán mang tòa sen đến rước đi. Tay hai mẹ con vẫy vẫy như có ý gọi người bạn đồng hành.\n",
      "– “Đúng là họ thành Phật rồi!. Sư nữ vừa kinh ngạc vừa mừng, vội trèo lên cây để làm như họ và để mong được như họ. Nhưng đức Phật đã có ý trừng phạt người đàn bà kiêu ngạo và độc ác ấy một cách đích đáng, nên đã để cho cái xác rơi phịch xuống đất, tan xương vỡ sọ. Và sau đó đức Phật lại bắt con người khốn nạn ấy hóa thành bình vôi. Tại sao lại cho hóa thành bình vôi? Có người bảo chính là đức Phật muốn bắt những kẻ trong lòng bất nhân, nhưng lại đeo bộ dạng từ bi, phải để cho người đời luôn luôn móc ruột.\n",
      "Một truyện khác nhiều tính chất phật thoại cũng nói về sự tích ông bình vôi:\n",
      "Có một anh ăn trộm từng sống bao nhiêu năm với nghề. Hắn ta không vợ con gia sản, chỉ độc có một túp lều bên cạnh đường cái. Một hôm, có cặp vợ chồng người ăn mày qua đó xin trú chân. Hắn cho họ ở lại và sau đó hắn thấy chồng bảo vợ: – “Hôm nay không xin được tí gì cả. Gần đây có một nương khoai, chờ đến tối tôi sẽ đào trộm về ăn”. Vợ can chồng: – “Thôi đi ông! Chỉ vì kiếp trước chúng ta ăn ở thất đức nên mới như thế này. Có lẽ nào phạm thêm vào cho nặng tội kiếp sau. Tôi thà chết không ăn trộm!”.\n",
      "Người ăn trộm nghe chuyện bỗng dưng hối hận. Cuối cùng hắn giao tất cả nhà cửa cho hai vợ chồng người ăn mày rồi bỏ di. Hắn tìm đến một ngôi chùa trên núi cao xin hòa thượng cho cạo đầu tu hành. Người ta giao cho hắn công việc nấu ăn: một bữa phải nấu từ tinh sương và một bữa từ chiều. Phận sự của hắn là giữ lửa không được để tắt, vì một lần tắt lửa thì lại phải xuống núi xin về, cách xa hàng bao nhiêu dặm.\n",
      "Từ lúc nhận việc nhà chùa, hắn tỏ ra chu đáo lạ thường, chưa có bữa nào để lửa tắt. Một sư bác trên chùa ghét chú tiểu mới, bèn chờ một hôm tiểu ta ngủ say, tưới tắt lửa nhấm ở bếp.\n",
      "Gần sáng, chú tiểu dậy thấy không còn lửa, nghĩ đến phận sự, vội vã ba chân bốn cẳng vượt mấy khu rừng tìm xuống làng xin lửa. Giữa đường hắn gặp một con cọp già đòi ăn thịt. – “Tôi vui lòng để ngài xơi thịt – hắn nói – nhưng hãy cho tôi chạy xuống làng xin lửa cho nhà chùa, rồi tôi sẽ tới nộp mạng”.\n",
      "Cọp bằng lòng để cho đi. Khi đưa được lửa về, hắn kể sự tình và xin phép hòa thượng cho đi nộp mình cho cọp. Đến nơi, cọp bảo: – “Tao già rồi, răng đã rụng hết mà xương của mày cứng khó nhai. Vậy mày hãy trèo lên cây kia buông mình rơi xuống cho gẫy xương, tao mới ăn được”. Hắn vâng lời cọp, nhưng khi buông tay thì đức Phật đã đón sẵn rước lên trời, độ cho thành Phật, tức là Phật Nhiên Đăng.\n",
      "Vị sư bác kia thấy chú tiểu chỉ bằng vài hành động đơn giản mà được  thành chính quả thì cũng muốn được như thế. Hắn bèn xin phép hòa thượng cho mình ra đương việc nấu ăn và giữ lửa. Thế rồi một hôm hắn cũng giả tảng để cho lửa tắt, rồi cũng chạy xuống núi xin lửa. Và hắn cũng gặp cọp, cũng khất cọp xin đưa lửa về cho nhà chùa dùng rồi sau đó sẽ xin nộp mình. Nhưng đức Phật vốn hiểu rõ những việc làm của hắn xuất phát từ tấm lòng không thực, nên khi hắn trèo lên cây và buông tay, thì Phật lập tức bắt hắn hoá thành bình vôi.\n",
      "Một dị bản của truyện trên cũng là một phật thoại, là Sự tích cái ống nhổ.\n",
      "Ở đây cũng có hai nhân vật chính là chú tiểu và sư bác. Chú tiểu mới đi tu nhưng rất chăm chỉ, biết lo lắng làm tròn chức trách. Thấy lửa ở đống nhấm tắt (kỳ thực là do sư bác ghen tỵ phun nước cho tắt), tiểu không nề hiểm nguy chạy xuống núi vào lúc mờ sáng để có lửa về kịp nấu ăn cho nhà chùa. Phật hiện ra với trạng mạo một ông già khuyên can chú tiểu đừng đi, nhưng thấy chú cương quyết đi, bèn bảo chú trèo lên cây buông tay xuống, sẽ có kẻ đưa đi an toàn. Quả nhiên chú tiểu buông tay rơi đúng trên lưng một con muông; nó đưa chú xuống làng, rồi sau khi xin được lửa lại đưa về vô sự.\n",
      "Sư bác vốn không phải là chân tu, nhưng thấy chú tiểu gặp Phật, cũng muốn được như vậy, bèn cũng xin ra làm công việc nấu ăn và giữ lửa, sau đó hắn đã để tắt lửa và cũng được gặp Phật. Nhưng khi buông tay thì Phật đã bắt hắn hoá thành cái ống nhổ, miệng luôn luôn há ra cho người ta khạc nhổ vào, để tỏ lòng khinh bỉ.\n",
      "Nguồn: Truyện cổ tích Tổng hợp.\n"
     ]
    }
   ],
   "source": [
    "content = df.iloc[0].content\n",
    "\n",
    "print(content)"
   ]
  },
  {
   "cell_type": "markdown",
   "metadata": {},
   "source": [
    "## Words processing"
   ]
  },
  {
   "cell_type": "code",
   "execution_count": 9,
   "metadata": {},
   "outputs": [],
   "source": [
    "from collections import Counter"
   ]
  },
  {
   "cell_type": "code",
   "execution_count": 10,
   "metadata": {},
   "outputs": [],
   "source": [
    "content_data = df.content.str.findall(\"\\w+|[.,!?;]\")\n",
    "title_data = df.title.str.findall(\"\\w+|[.,!?;]\")"
   ]
  },
  {
   "cell_type": "markdown",
   "metadata": {},
   "source": [
    "## Test with gensim"
   ]
  },
  {
   "cell_type": "code",
   "execution_count": 15,
   "metadata": {},
   "outputs": [],
   "source": [
    "from gensim import corpora"
   ]
  },
  {
   "cell_type": "code",
   "execution_count": 16,
   "metadata": {},
   "outputs": [],
   "source": [
    "dictionary = corpora.Dictionary(documents=content_data)"
   ]
  },
  {
   "cell_type": "code",
   "execution_count": 19,
   "metadata": {},
   "outputs": [
    {
     "name": "stdout",
     "output_type": "stream",
     "text": [
      "[(66, 1), (67, 1), (68, 1), (69, 2), (71, 3), (72, 8), (73, 1), (74, 1), (75, 4), (76, 4), (77, 2), (78, 2), (79, 4), (80, 1), (81, 3), (82, 1), (83, 5), (84, 1), (85, 2), (86, 4), (87, 3), (90, 1), (91, 5), (92, 2), (93, 2), (94, 1), (95, 1), (96, 2), (97, 2), (98, 1), (99, 3), (100, 2), (101, 2), (102, 3), (103, 1), (104, 1), (108, 30), (109, 1), (110, 2), (111, 2), (112, 3), (113, 4), (114, 4), (115, 5), (116, 11), (117, 2), (118, 1), (119, 1), (120, 1), (121, 3), (122, 3), (123, 1), (124, 1), (125, 1), (126, 1), (127, 5), (128, 1), (129, 1), (130, 5), (131, 3), (132, 1), (133, 1), (134, 1), (135, 2), (136, 16), (137, 2), (138, 2), (139, 1), (140, 1), (141, 2), (142, 3), (143, 3), (144, 1), (145, 6), (146, 3), (147, 18), (148, 15), (149, 3), (150, 2), (151, 17), (152, 1), (154, 1), (155, 1), (156, 1), (157, 1), (158, 1), (159, 1), (160, 4), (161, 3), (162, 13), (163, 2), (164, 1), (165, 1), (166, 3), (168, 1), (169, 1), (171, 1), (173, 1), (174, 1), (176, 1), (178, 1), (180, 1), (181, 1), (182, 3), (183, 2), (184, 2), (185, 2), (186, 3), (187, 1), (188, 2), (189, 1), (190, 1), (191, 3), (192, 3), (193, 1), (194, 1), (195, 1), (196, 4), (197, 1), (198, 13), (199, 2), (200, 1), (201, 2), (202, 2), (203, 1), (204, 2), (205, 1), (206, 1), (207, 2), (208, 3), (209, 4), (210, 3), (211, 2), (213, 1), (214, 1), (217, 20), (218, 1), (219, 1), (220, 13), (221, 1), (223, 12), (224, 1), (226, 1), (227, 1), (228, 1), (229, 1), (230, 1), (231, 1), (232, 13), (233, 1), (234, 1), (236, 1), (237, 1), (238, 1), (239, 1), (240, 4), (241, 3), (242, 1), (243, 2), (245, 3), (246, 2), (247, 1), (248, 1), (250, 1), (251, 2), (252, 5), (253, 1), (254, 15), (255, 8), (256, 2), (257, 2), (258, 7), (259, 5), (261, 2), (262, 1), (263, 1), (264, 8), (265, 2), (266, 1), (267, 1), (268, 1), (269, 1), (270, 1), (271, 1), (272, 1), (273, 4), (274, 12), (275, 1), (276, 1), (277, 2), (279, 5), (280, 4), (281, 4), (282, 6), (283, 1), (285, 1), (286, 2), (288, 1), (289, 1), (290, 2), (292, 1), (293, 7), (294, 1), (296, 33), (297, 3), (298, 1), (299, 1), (300, 1), (301, 4), (302, 1), (304, 1), (305, 1), (306, 2), (307, 1), (308, 3), (309, 5), (310, 18), (311, 2), (313, 1), (314, 1), (316, 1), (318, 1), (319, 2), (320, 2), (321, 1), (322, 13), (323, 2), (324, 10), (325, 16), (326, 2), (327, 1), (328, 1), (329, 1), (330, 4), (331, 2), (332, 1), (333, 5), (334, 2), (335, 5), (336, 1), (337, 4), (338, 6), (339, 2), (341, 1), (342, 1), (343, 1), (344, 5), (345, 1), (346, 1), (347, 1), (348, 3), (349, 8), (350, 1), (351, 1), (352, 1), (353, 1), (354, 4), (355, 1), (356, 1), (357, 4), (358, 2), (359, 18), (360, 1), (361, 5), (362, 1), (363, 3), (364, 1), (365, 2), (366, 7), (368, 2), (369, 1), (370, 5), (371, 2), (372, 5), (374, 8), (376, 1), (377, 1), (378, 3), (379, 2), (380, 1), (381, 6), (383, 1), (384, 1), (385, 1), (386, 1), (387, 2), (388, 16), (389, 1), (390, 1), (392, 1), (393, 1), (394, 5), (396, 2), (397, 1), (398, 5), (399, 6), (400, 1), (401, 1), (402, 7), (403, 5), (404, 1), (405, 1), (406, 1), (407, 1), (408, 10), (409, 1), (410, 2), (411, 8), (412, 1), (413, 1), (414, 1), (416, 3), (417, 1), (418, 1), (419, 7), (420, 1), (421, 1), (422, 1), (423, 4), (424, 1), (425, 1), (426, 2), (427, 1), (428, 1), (429, 1), (430, 10), (433, 2), (435, 1), (436, 3), (438, 1), (439, 5), (440, 5), (441, 1), (442, 1), (443, 1), (444, 1), (445, 4), (446, 1), (447, 3), (449, 1), (450, 1), (451, 5), (452, 1), (453, 1), (454, 5), (455, 1), (456, 1), (457, 3), (458, 1), (459, 2), (460, 4), (461, 1), (462, 1), (463, 1), (464, 1), (465, 1), (466, 1), (467, 4), (468, 2), (469, 1), (470, 1), (471, 3), (472, 3), (473, 8), (474, 2), (475, 1), (476, 1), (477, 6), (478, 1), (479, 16), (480, 1), (481, 3), (482, 1), (483, 1), (484, 8), (485, 2), (487, 2), (488, 1), (489, 4), (490, 2), (491, 1), (492, 1), (493, 5), (494, 2), (495, 3), (496, 3), (497, 3), (498, 1), (499, 5), (500, 1), (501, 5), (502, 2), (503, 14), (504, 2), (505, 10), (506, 1), (507, 1), (508, 1), (510, 4), (511, 1), (512, 1), (513, 2), (514, 4), (515, 13), (521, 1), (522, 10), (523, 1), (524, 1), (525, 1), (526, 1), (528, 1), (529, 2), (530, 10), (531, 1), (532, 1), (533, 1), (534, 6), (535, 2), (536, 1), (537, 1), (538, 6), (539, 1), (540, 6), (541, 14), (543, 2), (544, 2), (545, 3), (546, 1), (547, 1), (548, 10), (549, 2), (550, 1), (551, 16), (552, 3), (553, 1), (554, 1), (555, 2), (556, 1), (557, 2), (558, 1), (559, 1), (560, 1), (561, 11), (562, 1), (564, 2), (565, 2), (567, 8), (716, 1), (718, 2), (771, 1), (980, 1), (1115, 1), (1375, 1), (1640, 1), (2029, 1), (2798, 1), (3872, 2), (5172, 1)]\n"
     ]
    }
   ],
   "source": [
    "new_vec = dictionary.doc2bow(content.lower().split())\n",
    "print(new_vec)"
   ]
  },
  {
   "cell_type": "code",
   "execution_count": null,
   "metadata": {},
   "outputs": [],
   "source": []
  }
 ],
 "metadata": {
  "kernelspec": {
   "display_name": "Python 3",
   "language": "python",
   "name": "python3"
  },
  "language_info": {
   "codemirror_mode": {
    "name": "ipython",
    "version": 3
   },
   "file_extension": ".py",
   "mimetype": "text/x-python",
   "name": "python",
   "nbconvert_exporter": "python",
   "pygments_lexer": "ipython3",
   "version": "3.6.4"
  }
 },
 "nbformat": 4,
 "nbformat_minor": 2
}
