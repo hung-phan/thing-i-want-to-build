{
 "cells": [
  {
   "cell_type": "code",
   "execution_count": 1,
   "metadata": {},
   "outputs": [],
   "source": [
    "import numpy as np\n",
    "import pandas as pd\n",
    "import tensorflow as tf\n",
    "\n",
    "from tensorflow import estimator\n",
    "from sklearn.model_selection import train_test_split\n",
    "from sklearn.preprocessing import MinMaxScaler\n",
    "from sklearn.datasets import load_wine\n",
    "from sklearn.metrics import confusion_matrix, classification_report"
   ]
  },
  {
   "cell_type": "code",
   "execution_count": 2,
   "metadata": {},
   "outputs": [],
   "source": [
    "wine_data = load_wine()"
   ]
  },
  {
   "cell_type": "code",
   "execution_count": 3,
   "metadata": {},
   "outputs": [
    {
     "data": {
      "text/plain": [
       "dict_keys(['data', 'target', 'target_names', 'DESCR', 'feature_names'])"
      ]
     },
     "execution_count": 3,
     "metadata": {},
     "output_type": "execute_result"
    }
   ],
   "source": [
    "wine_data.keys()"
   ]
  },
  {
   "cell_type": "code",
   "execution_count": 4,
   "metadata": {},
   "outputs": [
    {
     "name": "stdout",
     "output_type": "stream",
     "text": [
      "Wine Data Database\n",
      "====================\n",
      "\n",
      "Notes\n",
      "-----\n",
      "Data Set Characteristics:\n",
      "    :Number of Instances: 178 (50 in each of three classes)\n",
      "    :Number of Attributes: 13 numeric, predictive attributes and the class\n",
      "    :Attribute Information:\n",
      " \t\t- 1) Alcohol\n",
      " \t\t- 2) Malic acid\n",
      " \t\t- 3) Ash\n",
      "\t\t- 4) Alcalinity of ash  \n",
      " \t\t- 5) Magnesium\n",
      "\t\t- 6) Total phenols\n",
      " \t\t- 7) Flavanoids\n",
      " \t\t- 8) Nonflavanoid phenols\n",
      " \t\t- 9) Proanthocyanins\n",
      "\t\t- 10)Color intensity\n",
      " \t\t- 11)Hue\n",
      " \t\t- 12)OD280/OD315 of diluted wines\n",
      " \t\t- 13)Proline\n",
      "        \t- class:\n",
      "                - class_0\n",
      "                - class_1\n",
      "                - class_2\n",
      "\t\t\n",
      "    :Summary Statistics:\n",
      "    \n",
      "    ============================= ==== ===== ======= =====\n",
      "                                   Min   Max   Mean     SD\n",
      "    ============================= ==== ===== ======= =====\n",
      "    Alcohol:                      11.0  14.8    13.0   0.8\n",
      "    Malic Acid:                   0.74  5.80    2.34  1.12\n",
      "    Ash:                          1.36  3.23    2.36  0.27\n",
      "    Alcalinity of Ash:            10.6  30.0    19.5   3.3\n",
      "    Magnesium:                    70.0 162.0    99.7  14.3\n",
      "    Total Phenols:                0.98  3.88    2.29  0.63\n",
      "    Flavanoids:                   0.34  5.08    2.03  1.00\n",
      "    Nonflavanoid Phenols:         0.13  0.66    0.36  0.12\n",
      "    Proanthocyanins:              0.41  3.58    1.59  0.57\n",
      "    Colour Intensity:              1.3  13.0     5.1   2.3\n",
      "    Hue:                          0.48  1.71    0.96  0.23\n",
      "    OD280/OD315 of diluted wines: 1.27  4.00    2.61  0.71\n",
      "    Proline:                       278  1680     746   315\n",
      "    ============================= ==== ===== ======= =====\n",
      "\n",
      "    :Missing Attribute Values: None\n",
      "    :Class Distribution: class_0 (59), class_1 (71), class_2 (48)\n",
      "    :Creator: R.A. Fisher\n",
      "    :Donor: Michael Marshall (MARSHALL%PLU@io.arc.nasa.gov)\n",
      "    :Date: July, 1988\n",
      "\n",
      "This is a copy of UCI ML Wine recognition datasets.\n",
      "https://archive.ics.uci.edu/ml/machine-learning-databases/wine/wine.data\n",
      "\n",
      "The data is the results of a chemical analysis of wines grown in the same\n",
      "region in Italy by three different cultivators. There are thirteen different\n",
      "measurements taken for different constituents found in the three types of\n",
      "wine.\n",
      "\n",
      "Original Owners: \n",
      "\n",
      "Forina, M. et al, PARVUS - \n",
      "An Extendible Package for Data Exploration, Classification and Correlation. \n",
      "Institute of Pharmaceutical and Food Analysis and Technologies,\n",
      "Via Brigata Salerno, 16147 Genoa, Italy.\n",
      "\n",
      "Citation:\n",
      "\n",
      "Lichman, M. (2013). UCI Machine Learning Repository\n",
      "[http://archive.ics.uci.edu/ml]. Irvine, CA: University of California,\n",
      "School of Information and Computer Science. \n",
      "\n",
      "References\n",
      "----------\n",
      "(1) \n",
      "S. Aeberhard, D. Coomans and O. de Vel, \n",
      "Comparison of Classifiers in High Dimensional Settings, \n",
      "Tech. Rep. no. 92-02, (1992), Dept. of Computer Science and Dept. of \n",
      "Mathematics and Statistics, James Cook University of North Queensland. \n",
      "(Also submitted to Technometrics). \n",
      "\n",
      "The data was used with many others for comparing various \n",
      "classifiers. The classes are separable, though only RDA \n",
      "has achieved 100% correct classification. \n",
      "(RDA : 100%, QDA 99.4%, LDA 98.9%, 1NN 96.1% (z-transformed data)) \n",
      "(All results using the leave-one-out technique) \n",
      "\n",
      "(2) \n",
      "S. Aeberhard, D. Coomans and O. de Vel, \n",
      "\"THE CLASSIFICATION PERFORMANCE OF RDA\" \n",
      "Tech. Rep. no. 92-01, (1992), Dept. of Computer Science and Dept. of \n",
      "Mathematics and Statistics, James Cook University of North Queensland. \n",
      "(Also submitted to Journal of Chemometrics). \n",
      "\n"
     ]
    }
   ],
   "source": [
    "print(wine_data['DESCR'])"
   ]
  },
  {
   "cell_type": "code",
   "execution_count": 5,
   "metadata": {},
   "outputs": [],
   "source": [
    "feat_data = wine_data['data']\n",
    "labels = wine_data['target']"
   ]
  },
  {
   "cell_type": "code",
   "execution_count": 6,
   "metadata": {},
   "outputs": [],
   "source": [
    "X_train, X_test, y_train, y_test = train_test_split(feat_data, labels, test_size=0.3, random_state=101)"
   ]
  },
  {
   "cell_type": "code",
   "execution_count": 7,
   "metadata": {},
   "outputs": [],
   "source": [
    "scaler = MinMaxScaler()"
   ]
  },
  {
   "cell_type": "code",
   "execution_count": 8,
   "metadata": {},
   "outputs": [],
   "source": [
    "scaler_x_train = scaler.fit_transform(X_train)\n",
    "scaler_x_test = scaler.transform(X_test)"
   ]
  },
  {
   "cell_type": "markdown",
   "metadata": {},
   "source": [
    "## Estimator api"
   ]
  },
  {
   "cell_type": "code",
   "execution_count": 9,
   "metadata": {},
   "outputs": [],
   "source": [
    "feat_cols = [\n",
    "    tf.feature_column.numeric_column('x', shape=[13])\n",
    "]"
   ]
  },
  {
   "cell_type": "code",
   "execution_count": 10,
   "metadata": {},
   "outputs": [
    {
     "name": "stdout",
     "output_type": "stream",
     "text": [
      "INFO:tensorflow:Using default config.\n",
      "WARNING:tensorflow:Using temporary folder as model directory: /var/folders/0q/36d1fl0d3n1537ld143pvb0r0000gn/T/tmpg67g31zd\n",
      "INFO:tensorflow:Using config: {'_model_dir': '/var/folders/0q/36d1fl0d3n1537ld143pvb0r0000gn/T/tmpg67g31zd', '_tf_random_seed': None, '_save_summary_steps': 100, '_save_checkpoints_steps': None, '_save_checkpoints_secs': 600, '_session_config': None, '_keep_checkpoint_max': 5, '_keep_checkpoint_every_n_hours': 10000, '_log_step_count_steps': 100, '_service': None, '_cluster_spec': <tensorflow.python.training.server_lib.ClusterSpec object at 0x10d824080>, '_task_type': 'worker', '_task_id': 0, '_master': '', '_is_chief': True, '_num_ps_replicas': 0, '_num_worker_replicas': 1}\n"
     ]
    }
   ],
   "source": [
    "deep_model = estimator.DNNClassifier(\n",
    "    hidden_units=[13, 13, 13],\n",
    "    feature_columns=feat_cols,\n",
    "    n_classes=3,\n",
    "    optimizer=tf.train.AdamOptimizer(learning_rate=0.01)\n",
    ")"
   ]
  },
  {
   "cell_type": "code",
   "execution_count": 11,
   "metadata": {},
   "outputs": [],
   "source": [
    "input_func = estimator.inputs.numpy_input_fn(\n",
    "    x={'x': scaler_x_train},\n",
    "    y=y_train,\n",
    "    shuffle=True,\n",
    "    batch_size=10,\n",
    "    num_epochs=10\n",
    ")"
   ]
  },
  {
   "cell_type": "code",
   "execution_count": 12,
   "metadata": {},
   "outputs": [
    {
     "name": "stdout",
     "output_type": "stream",
     "text": [
      "INFO:tensorflow:Create CheckpointSaverHook.\n",
      "INFO:tensorflow:Saving checkpoints for 1 into /var/folders/0q/36d1fl0d3n1537ld143pvb0r0000gn/T/tmpg67g31zd/model.ckpt.\n",
      "INFO:tensorflow:loss = 11.992086, step = 1\n",
      "INFO:tensorflow:global_step/sec: 695.257\n",
      "INFO:tensorflow:loss = 0.15139583, step = 101 (0.144 sec)\n",
      "INFO:tensorflow:Saving checkpoints for 124 into /var/folders/0q/36d1fl0d3n1537ld143pvb0r0000gn/T/tmpg67g31zd/model.ckpt.\n",
      "INFO:tensorflow:Loss for final step: 0.20069243.\n"
     ]
    },
    {
     "data": {
      "text/plain": [
       "<tensorflow.python.estimator.canned.dnn.DNNClassifier at 0x11cfef470>"
      ]
     },
     "execution_count": 12,
     "metadata": {},
     "output_type": "execute_result"
    }
   ],
   "source": [
    "deep_model.train(input_fn=input_func, steps=10_000)"
   ]
  },
  {
   "cell_type": "code",
   "execution_count": 13,
   "metadata": {},
   "outputs": [],
   "source": [
    "input_func_eval = estimator.inputs.numpy_input_fn(\n",
    "    x={'x': scaler_x_test},\n",
    "    y=y_test,\n",
    "    shuffle=False\n",
    ")"
   ]
  },
  {
   "cell_type": "code",
   "execution_count": 14,
   "metadata": {},
   "outputs": [
    {
     "name": "stdout",
     "output_type": "stream",
     "text": [
      "INFO:tensorflow:Starting evaluation at 2018-02-27-14:46:28\n",
      "INFO:tensorflow:Restoring parameters from /var/folders/0q/36d1fl0d3n1537ld143pvb0r0000gn/T/tmpg67g31zd/model.ckpt-124\n",
      "INFO:tensorflow:Finished evaluation at 2018-02-27-14:46:28\n",
      "INFO:tensorflow:Saving dict for global step 124: accuracy = 1.0, average_loss = 0.041080568, global_step = 124, loss = 2.2183506\n"
     ]
    },
    {
     "data": {
      "text/plain": [
       "{'accuracy': 1.0,\n",
       " 'average_loss': 0.041080568,\n",
       " 'global_step': 124,\n",
       " 'loss': 2.2183506}"
      ]
     },
     "execution_count": 14,
     "metadata": {},
     "output_type": "execute_result"
    }
   ],
   "source": [
    "deep_model.evaluate(input_fn=input_func_eval)"
   ]
  },
  {
   "cell_type": "code",
   "execution_count": 15,
   "metadata": {},
   "outputs": [],
   "source": [
    "pred_func_eval = estimator.inputs.numpy_input_fn(\n",
    "    x={'x': scaler_x_test},\n",
    "    shuffle=False\n",
    ")"
   ]
  },
  {
   "cell_type": "code",
   "execution_count": 16,
   "metadata": {},
   "outputs": [
    {
     "name": "stdout",
     "output_type": "stream",
     "text": [
      "INFO:tensorflow:Restoring parameters from /var/folders/0q/36d1fl0d3n1537ld143pvb0r0000gn/T/tmpg67g31zd/model.ckpt-124\n"
     ]
    }
   ],
   "source": [
    "result = list(deep_model.predict(input_fn=pred_func_eval))"
   ]
  },
  {
   "cell_type": "code",
   "execution_count": 17,
   "metadata": {},
   "outputs": [],
   "source": [
    "predictions = np.array([pred['class_ids'][0] for pred in result])"
   ]
  },
  {
   "cell_type": "code",
   "execution_count": 18,
   "metadata": {},
   "outputs": [
    {
     "data": {
      "text/plain": [
       "array([0, 0, 0, 0, 0, 0, 0, 0, 0, 0, 0, 0, 0, 0, 0, 0, 0, 0, 0, 0, 0, 0,\n",
       "       0, 0, 0, 0, 0, 0, 0, 0, 0, 0, 0, 0, 0, 0, 0, 0, 0, 0, 0, 0, 0, 0,\n",
       "       0, 0, 0, 0, 0, 0, 0, 0, 0, 0])"
      ]
     },
     "execution_count": 18,
     "metadata": {},
     "output_type": "execute_result"
    }
   ],
   "source": [
    "np.abs(predictions - y_test)"
   ]
  },
  {
   "cell_type": "code",
   "execution_count": 19,
   "metadata": {},
   "outputs": [
    {
     "name": "stdout",
     "output_type": "stream",
     "text": [
      "             precision    recall  f1-score   support\n",
      "\n",
      "          0       1.00      1.00      1.00        19\n",
      "          1       1.00      1.00      1.00        22\n",
      "          2       1.00      1.00      1.00        13\n",
      "\n",
      "avg / total       1.00      1.00      1.00        54\n",
      "\n"
     ]
    }
   ],
   "source": [
    "print(classification_report(y_test, predictions))"
   ]
  },
  {
   "cell_type": "markdown",
   "metadata": {},
   "source": [
    "## Keras"
   ]
  },
  {
   "cell_type": "code",
   "execution_count": 20,
   "metadata": {},
   "outputs": [],
   "source": [
    "from tensorflow.contrib.keras import models, layers, losses, optimizers, metrics, activations"
   ]
  },
  {
   "cell_type": "code",
   "execution_count": 21,
   "metadata": {},
   "outputs": [],
   "source": [
    "dnn_keras_model = models.Sequential()"
   ]
  },
  {
   "cell_type": "code",
   "execution_count": 22,
   "metadata": {},
   "outputs": [],
   "source": [
    "dnn_keras_model.add(layers.Dense(units=13, input_dim=13, activation='relu'))"
   ]
  },
  {
   "cell_type": "code",
   "execution_count": 23,
   "metadata": {},
   "outputs": [],
   "source": [
    "dnn_keras_model.add(layers.Dense(units=13, activation='relu'))\n",
    "dnn_keras_model.add(layers.Dense(units=13, activation='relu'))"
   ]
  },
  {
   "cell_type": "code",
   "execution_count": 24,
   "metadata": {},
   "outputs": [],
   "source": [
    "dnn_keras_model.add(layers.Dense(units=3, activation='softmax'))"
   ]
  },
  {
   "cell_type": "code",
   "execution_count": 25,
   "metadata": {},
   "outputs": [
    {
     "name": "stdout",
     "output_type": "stream",
     "text": [
      "WARNING:tensorflow:From /Users/hungphan/.pyenv/versions/3.6.2/envs/zendesk_3/lib/python3.6/site-packages/tensorflow/python/keras/_impl/keras/backend.py:1557: calling reduce_mean (from tensorflow.python.ops.math_ops) with keep_dims is deprecated and will be removed in a future version.\n",
      "Instructions for updating:\n",
      "keep_dims is deprecated, use keepdims instead\n",
      "WARNING:tensorflow:From /Users/hungphan/.pyenv/versions/3.6.2/envs/zendesk_3/lib/python3.6/site-packages/tensorflow/python/keras/_impl/keras/backend.py:1422: calling reduce_max (from tensorflow.python.ops.math_ops) with keep_dims is deprecated and will be removed in a future version.\n",
      "Instructions for updating:\n",
      "keep_dims is deprecated, use keepdims instead\n"
     ]
    }
   ],
   "source": [
    "dnn_keras_model.compile(\n",
    "    optimizer='adam',\n",
    "    loss='sparse_categorical_crossentropy',\n",
    "    metrics=['accuracy']\n",
    ")"
   ]
  },
  {
   "cell_type": "code",
   "execution_count": 26,
   "metadata": {},
   "outputs": [
    {
     "name": "stdout",
     "output_type": "stream",
     "text": [
      "Epoch 1/50\n",
      "124/124 [==============================]124/124 [==============================] - 0s 3ms/step - loss: 1.1227 - acc: 0.2097\n",
      "\n",
      "Epoch 2/50\n",
      "124/124 [==============================]124/124 [==============================] - 0s 58us/step - loss: 1.1134 - acc: 0.2742\n",
      "\n",
      "Epoch 3/50\n",
      "124/124 [==============================]124/124 [==============================] - 0s 58us/step - loss: 1.1055 - acc: 0.3710\n",
      "\n",
      "Epoch 4/50\n",
      "124/124 [==============================]124/124 [==============================] - 0s 60us/step - loss: 1.0984 - acc: 0.4435\n",
      "\n",
      "Epoch 5/50\n",
      "124/124 [==============================]124/124 [==============================] - 0s 66us/step - loss: 1.0910 - acc: 0.5000\n",
      "\n",
      "Epoch 6/50\n",
      "124/124 [==============================]124/124 [==============================] - 0s 84us/step - loss: 1.0841 - acc: 0.5242\n",
      "\n",
      "Epoch 7/50\n",
      "124/124 [==============================]124/124 [==============================] - 0s 62us/step - loss: 1.0767 - acc: 0.5161\n",
      "\n",
      "Epoch 8/50\n",
      "124/124 [==============================]124/124 [==============================] - 0s 65us/step - loss: 1.0691 - acc: 0.5403\n",
      "\n",
      "Epoch 9/50\n",
      "124/124 [==============================]124/124 [==============================] - 0s 65us/step - loss: 1.0610 - acc: 0.5403\n",
      "\n",
      "Epoch 10/50\n",
      "124/124 [==============================]124/124 [==============================] - 0s 54us/step - loss: 1.0527 - acc: 0.5323\n",
      "\n",
      "Epoch 11/50\n",
      "124/124 [==============================]124/124 [==============================] - 0s 58us/step - loss: 1.0433 - acc: 0.5242\n",
      "\n",
      "Epoch 12/50\n",
      "124/124 [==============================]124/124 [==============================] - 0s 57us/step - loss: 1.0336 - acc: 0.5242\n",
      "\n",
      "Epoch 13/50\n",
      "124/124 [==============================]124/124 [==============================] - 0s 78us/step - loss: 1.0232 - acc: 0.5242\n",
      "\n",
      "Epoch 14/50\n",
      "124/124 [==============================]124/124 [==============================] - 0s 89us/step - loss: 1.0118 - acc: 0.5242\n",
      "\n",
      "Epoch 15/50\n",
      "124/124 [==============================]124/124 [==============================] - 0s 61us/step - loss: 0.9998 - acc: 0.5403\n",
      "\n",
      "Epoch 16/50\n",
      "124/124 [==============================]124/124 [==============================] - 0s 67us/step - loss: 0.9864 - acc: 0.5645\n",
      "\n",
      "Epoch 17/50\n",
      "124/124 [==============================]124/124 [==============================] - 0s 62us/step - loss: 0.9714 - acc: 0.6210\n",
      "\n",
      "Epoch 18/50\n",
      "124/124 [==============================]124/124 [==============================] - 0s 63us/step - loss: 0.9565 - acc: 0.6935\n",
      "\n",
      "Epoch 19/50\n",
      "124/124 [==============================]124/124 [==============================] - 0s 66us/step - loss: 0.9401 - acc: 0.7339\n",
      "\n",
      "Epoch 20/50\n",
      "124/124 [==============================]124/124 [==============================] - 0s 66us/step - loss: 0.9234 - acc: 0.7742\n",
      "\n",
      "Epoch 21/50\n",
      "124/124 [==============================]124/124 [==============================] - 0s 85us/step - loss: 0.9047 - acc: 0.7984\n",
      "\n",
      "Epoch 22/50\n",
      "124/124 [==============================]124/124 [==============================] - 0s 66us/step - loss: 0.8864 - acc: 0.8065\n",
      "\n",
      "Epoch 23/50\n",
      "124/124 [==============================]124/124 [==============================] - 0s 56us/step - loss: 0.8668 - acc: 0.8306\n",
      "\n",
      "Epoch 24/50\n",
      "124/124 [==============================]124/124 [==============================] - 0s 59us/step - loss: 0.8473 - acc: 0.8226\n",
      "\n",
      "Epoch 25/50\n",
      "124/124 [==============================]124/124 [==============================] - 0s 69us/step - loss: 0.8264 - acc: 0.8387\n",
      "\n",
      "Epoch 26/50\n",
      "124/124 [==============================]124/124 [==============================] - 0s 59us/step - loss: 0.8036 - acc: 0.8468\n",
      "\n",
      "Epoch 27/50\n",
      "124/124 [==============================]124/124 [==============================] - 0s 60us/step - loss: 0.7812 - acc: 0.8710\n",
      "\n",
      "Epoch 28/50\n",
      "124/124 [==============================]124/124 [==============================] - 0s 93us/step - loss: 0.7573 - acc: 0.8871\n",
      "\n",
      "Epoch 29/50\n",
      "124/124 [==============================]124/124 [==============================] - 0s 64us/step - loss: 0.7330 - acc: 0.8952\n",
      "\n",
      "Epoch 30/50\n",
      "124/124 [==============================]124/124 [==============================] - 0s 57us/step - loss: 0.7076 - acc: 0.9113\n",
      "\n",
      "Epoch 31/50\n",
      "124/124 [==============================]124/124 [==============================] - 0s 59us/step - loss: 0.6814 - acc: 0.9113\n",
      "\n",
      "Epoch 32/50\n",
      "124/124 [==============================]124/124 [==============================] - 0s 62us/step - loss: 0.6554 - acc: 0.9194\n",
      "\n",
      "Epoch 33/50\n",
      "124/124 [==============================]124/124 [==============================] - 0s 72us/step - loss: 0.6288 - acc: 0.9274\n",
      "\n",
      "Epoch 34/50\n",
      "124/124 [==============================]124/124 [==============================] - 0s 60us/step - loss: 0.6028 - acc: 0.9274\n",
      "\n",
      "Epoch 35/50\n",
      "124/124 [==============================]124/124 [==============================] - 0s 77us/step - loss: 0.5774 - acc: 0.9194\n",
      "\n",
      "Epoch 36/50\n",
      "124/124 [==============================]124/124 [==============================] - 0s 69us/step - loss: 0.5517 - acc: 0.9194\n",
      "\n",
      "Epoch 37/50\n",
      "124/124 [==============================]124/124 [==============================] - 0s 57us/step - loss: 0.5268 - acc: 0.9194\n",
      "\n",
      "Epoch 38/50\n",
      "124/124 [==============================]124/124 [==============================] - 0s 66us/step - loss: 0.5025 - acc: 0.9274\n",
      "\n",
      "Epoch 39/50\n",
      "124/124 [==============================]124/124 [==============================] - 0s 59us/step - loss: 0.4782 - acc: 0.9274\n",
      "\n",
      "Epoch 40/50\n",
      "124/124 [==============================]124/124 [==============================] - 0s 57us/step - loss: 0.4550 - acc: 0.9355\n",
      "\n",
      "Epoch 41/50\n",
      "124/124 [==============================]124/124 [==============================] - 0s 61us/step - loss: 0.4334 - acc: 0.9435\n",
      "\n",
      "Epoch 42/50\n",
      "124/124 [==============================]124/124 [==============================] - 0s 61us/step - loss: 0.4117 - acc: 0.9516\n",
      "\n",
      "Epoch 43/50\n",
      "124/124 [==============================]124/124 [==============================] - 0s 84us/step - loss: 0.3905 - acc: 0.9516\n",
      "\n",
      "Epoch 44/50\n",
      "124/124 [==============================]124/124 [==============================] - 0s 66us/step - loss: 0.3708 - acc: 0.9597\n",
      "\n",
      "Epoch 45/50\n",
      "124/124 [==============================]124/124 [==============================] - 0s 59us/step - loss: 0.3526 - acc: 0.9597\n",
      "\n",
      "Epoch 46/50\n",
      "124/124 [==============================]124/124 [==============================] - 0s 60us/step - loss: 0.3350 - acc: 0.9597\n",
      "\n",
      "Epoch 47/50\n",
      "124/124 [==============================]124/124 [==============================] - 0s 63us/step - loss: 0.3183 - acc: 0.9597\n",
      "\n",
      "Epoch 48/50\n",
      "124/124 [==============================]124/124 [==============================] - 0s 60us/step - loss: 0.3030 - acc: 0.9597\n",
      "\n",
      "Epoch 49/50\n",
      "124/124 [==============================]124/124 [==============================] - 0s 56us/step - loss: 0.2886 - acc: 0.9597\n",
      "\n",
      "Epoch 50/50\n",
      "124/124 [==============================]124/124 [==============================] - 0s 76us/step - loss: 0.2761 - acc: 0.9597\n",
      "\n"
     ]
    },
    {
     "data": {
      "text/plain": [
       "<tensorflow.python.keras._impl.keras.callbacks.History at 0x12029a710>"
      ]
     },
     "execution_count": 26,
     "metadata": {},
     "output_type": "execute_result"
    }
   ],
   "source": [
    "dnn_keras_model.fit(scaler_x_train, y_train, epochs=50)"
   ]
  },
  {
   "cell_type": "code",
   "execution_count": 27,
   "metadata": {},
   "outputs": [],
   "source": [
    "predictions = dnn_keras_model.predict_classes(scaler_x_test)"
   ]
  },
  {
   "cell_type": "code",
   "execution_count": 28,
   "metadata": {},
   "outputs": [
    {
     "name": "stdout",
     "output_type": "stream",
     "text": [
      "             precision    recall  f1-score   support\n",
      "\n",
      "          0       1.00      0.89      0.94        19\n",
      "          1       0.92      1.00      0.96        22\n",
      "          2       1.00      1.00      1.00        13\n",
      "\n",
      "avg / total       0.97      0.96      0.96        54\n",
      "\n"
     ]
    }
   ],
   "source": [
    "print(classification_report(y_test, predictions))"
   ]
  },
  {
   "cell_type": "markdown",
   "metadata": {},
   "source": [
    "## Layers API"
   ]
  },
  {
   "cell_type": "code",
   "execution_count": 29,
   "metadata": {},
   "outputs": [],
   "source": [
    "onehot_y_train = pd.get_dummies(y_train).as_matrix()\n",
    "onehot_y_test = pd.get_dummies(y_test).as_matrix()"
   ]
  },
  {
   "cell_type": "code",
   "execution_count": 30,
   "metadata": {},
   "outputs": [],
   "source": [
    "num_feat = 13\n",
    "num_hidden1 = 13\n",
    "num_hidden2 = 13\n",
    "num_outputs = 3\n",
    "learning_rate = 0.01"
   ]
  },
  {
   "cell_type": "code",
   "execution_count": 31,
   "metadata": {},
   "outputs": [],
   "source": [
    "from tensorflow.contrib.layers import fully_connected"
   ]
  },
  {
   "cell_type": "code",
   "execution_count": 32,
   "metadata": {},
   "outputs": [],
   "source": [
    "X = tf.placeholder(tf.float32, shape=[None, num_feat])\n",
    "y_true = tf.placeholder(tf.int32, shape=[None, 3])"
   ]
  },
  {
   "cell_type": "code",
   "execution_count": 33,
   "metadata": {},
   "outputs": [],
   "source": [
    "hidden1 = fully_connected(X, num_hidden1, activation_fn=tf.nn.relu)"
   ]
  },
  {
   "cell_type": "code",
   "execution_count": 34,
   "metadata": {},
   "outputs": [],
   "source": [
    "hidden2 = fully_connected(hidden1, num_hidden2, activation_fn=tf.nn.relu)"
   ]
  },
  {
   "cell_type": "code",
   "execution_count": 35,
   "metadata": {},
   "outputs": [],
   "source": [
    "output = fully_connected(hidden2, num_outputs)"
   ]
  },
  {
   "cell_type": "code",
   "execution_count": 36,
   "metadata": {},
   "outputs": [
    {
     "name": "stdout",
     "output_type": "stream",
     "text": [
      "WARNING:tensorflow:From /Users/hungphan/.pyenv/versions/3.6.2/envs/zendesk_3/lib/python3.6/site-packages/tensorflow/python/ops/losses/losses_impl.py:691: softmax_cross_entropy_with_logits (from tensorflow.python.ops.nn_ops) is deprecated and will be removed in a future version.\n",
      "Instructions for updating:\n",
      "\n",
      "Future major versions of TensorFlow will allow gradients to flow\n",
      "into the labels input on backprop by default.\n",
      "\n",
      "See tf.nn.softmax_cross_entropy_with_logits_v2.\n",
      "\n"
     ]
    }
   ],
   "source": [
    "loss = tf.losses.softmax_cross_entropy(onehot_labels=y_true, logits=output)"
   ]
  },
  {
   "cell_type": "code",
   "execution_count": 37,
   "metadata": {},
   "outputs": [],
   "source": [
    "optimizer = tf.train.AdamOptimizer(learning_rate)\n",
    "train = optimizer.minimize(loss)"
   ]
  },
  {
   "cell_type": "code",
   "execution_count": 38,
   "metadata": {},
   "outputs": [],
   "source": [
    "init = tf.global_variables_initializer()"
   ]
  },
  {
   "cell_type": "code",
   "execution_count": 39,
   "metadata": {},
   "outputs": [],
   "source": [
    "training_steps = 1000"
   ]
  },
  {
   "cell_type": "code",
   "execution_count": 40,
   "metadata": {},
   "outputs": [],
   "source": [
    "with tf.Session() as sess:\n",
    "    sess.run(init)\n",
    "    \n",
    "    for i in range(training_steps):\n",
    "        sess.run(train, feed_dict={\n",
    "            X: scaler_x_train,\n",
    "            y_true: onehot_y_train\n",
    "        })\n",
    "    \n",
    "    logits = output.eval(feed_dict={X: scaler_x_test})\n",
    "    preds = tf.argmax(logits, axis=1)\n",
    "    results = preds.eval()"
   ]
  },
  {
   "cell_type": "code",
   "execution_count": 41,
   "metadata": {},
   "outputs": [
    {
     "name": "stdout",
     "output_type": "stream",
     "text": [
      "             precision    recall  f1-score   support\n",
      "\n",
      "          0       1.00      1.00      1.00        19\n",
      "          1       1.00      1.00      1.00        22\n",
      "          2       1.00      1.00      1.00        13\n",
      "\n",
      "avg / total       1.00      1.00      1.00        54\n",
      "\n"
     ]
    }
   ],
   "source": [
    "print(classification_report(y_test, results))"
   ]
  },
  {
   "cell_type": "code",
   "execution_count": null,
   "metadata": {},
   "outputs": [],
   "source": []
  }
 ],
 "metadata": {
  "kernelspec": {
   "display_name": "Python 3",
   "language": "python",
   "name": "python3"
  },
  "language_info": {
   "codemirror_mode": {
    "name": "ipython",
    "version": 3
   },
   "file_extension": ".py",
   "mimetype": "text/x-python",
   "name": "python",
   "nbconvert_exporter": "python",
   "pygments_lexer": "ipython3",
   "version": "3.9.0"
  }
 },
 "nbformat": 4,
 "nbformat_minor": 4
}
