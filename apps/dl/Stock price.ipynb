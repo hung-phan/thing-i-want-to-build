{
 "cells": [
  {
   "cell_type": "code",
   "execution_count": 1,
   "metadata": {},
   "outputs": [
    {
     "name": "stdout",
     "output_type": "stream",
     "text": [
      "Cost 147762.0\n",
      "Num of share 430\n",
      "Break even 343.63255813953486\n"
     ]
    }
   ],
   "source": [
    "data = [\n",
    "    (437, 200),\n",
    "    (284, 130),\n",
    "    (234.42, 100)\n",
    "]\n",
    "\n",
    "total_share = 0\n",
    "cost = 0.0\n",
    "\n",
    "for (price, num_of_share) in data:\n",
    "    total_share += num_of_share\n",
    "    cost += price * num_of_share\n",
    "\n",
    "print(\"Cost\", cost)\n",
    "print(\"Num of share\", total_share)\n",
    "print(\"Break even\", cost / total_share)"
   ]
  },
  {
   "cell_type": "code",
   "execution_count": null,
   "metadata": {},
   "outputs": [],
   "source": []
  }
 ],
 "metadata": {
  "kernelspec": {
   "display_name": "Python 3",
   "language": "python",
   "name": "python3"
  },
  "language_info": {
   "codemirror_mode": {
    "name": "ipython",
    "version": 3
   },
   "file_extension": ".py",
   "mimetype": "text/x-python",
   "name": "python",
   "nbconvert_exporter": "python",
   "pygments_lexer": "ipython3",
   "version": "3.9.0"
  }
 },
 "nbformat": 4,
 "nbformat_minor": 4
}
