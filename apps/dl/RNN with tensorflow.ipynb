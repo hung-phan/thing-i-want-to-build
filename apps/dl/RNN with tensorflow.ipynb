{
 "cells": [
  {
   "cell_type": "code",
   "execution_count": 1,
   "metadata": {},
   "outputs": [],
   "source": [
    "import numpy as np\n",
    "import pandas as pd\n",
    "import tensorflow as tf\n",
    "import matplotlib.pyplot as plt\n",
    "\n",
    "from sklearn.model_selection import train_test_split\n",
    "\n",
    "%matplotlib inline"
   ]
  },
  {
   "cell_type": "code",
   "execution_count": 2,
   "metadata": {},
   "outputs": [],
   "source": [
    "# Constants\n",
    "\n",
    "num_inputs = 2\n",
    "num_neurons = 3"
   ]
  },
  {
   "cell_type": "code",
   "execution_count": 3,
   "metadata": {},
   "outputs": [],
   "source": [
    "# Placeholders\n",
    "\n",
    "x0 = tf.placeholder(tf.float32, shape=[None, num_inputs])\n",
    "x1 = tf.placeholder(tf.float32, shape=[None, num_inputs])"
   ]
  },
  {
   "cell_type": "code",
   "execution_count": 4,
   "metadata": {},
   "outputs": [],
   "source": [
    "# Variables\n",
    "\n",
    "Wx = tf.Variable(tf.random_normal([num_inputs, num_neurons]))\n",
    "Wy = tf.Variable(tf.random_normal([num_neurons, num_neurons]))\n",
    "\n",
    "b = tf.Variable(tf.zeros([1, num_neurons]))"
   ]
  },
  {
   "cell_type": "code",
   "execution_count": 5,
   "metadata": {},
   "outputs": [],
   "source": [
    "# Graph"
   ]
  },
  {
   "cell_type": "code",
   "execution_count": 6,
   "metadata": {},
   "outputs": [],
   "source": [
    "y0 = tf.tanh(tf.matmul(x0, Wx) + b)"
   ]
  },
  {
   "cell_type": "code",
   "execution_count": 7,
   "metadata": {},
   "outputs": [],
   "source": [
    "y1 = tf.tanh(tf.matmul(y0, Wy) + tf.matmul(x1, Wx) + b)"
   ]
  },
  {
   "cell_type": "code",
   "execution_count": 8,
   "metadata": {},
   "outputs": [],
   "source": [
    "init = tf.global_variables_initializer()"
   ]
  },
  {
   "cell_type": "code",
   "execution_count": 9,
   "metadata": {},
   "outputs": [],
   "source": [
    "# Create data"
   ]
  },
  {
   "cell_type": "code",
   "execution_count": 10,
   "metadata": {},
   "outputs": [],
   "source": [
    "# Timestamp 0\n",
    "x0_batch = np.array([\n",
    "    [0, 1], [2, 3], [4, 5]\n",
    "])\n",
    "\n",
    "# Timestamp 1\n",
    "x1_batch = np.array([\n",
    "    [100, 101], [102, 103], [104, 105]\n",
    "])"
   ]
  },
  {
   "cell_type": "code",
   "execution_count": 11,
   "metadata": {},
   "outputs": [
    {
     "name": "stdout",
     "output_type": "stream",
     "text": [
      "[[-0.95716614 -0.9021078   0.7236241 ]\n",
      " [-0.5448793  -0.9982063   0.99714273]\n",
      " [ 0.5972258  -0.9999687   0.99997467]]\n",
      "[[ 1. -1.  1.]\n",
      " [ 1. -1.  1.]\n",
      " [ 1. -1.  1.]]\n"
     ]
    }
   ],
   "source": [
    "with tf.Session() as sess:\n",
    "    sess.run(init)\n",
    "    \n",
    "    y0_output_vals, y1_output_vals = sess.run(\n",
    "        [y0, y1],\n",
    "        feed_dict={x0: x0_batch, x1: x1_batch}\n",
    "    )\n",
    "\n",
    "    print(y0_output_vals)\n",
    "    print(y1_output_vals)"
   ]
  },
  {
   "cell_type": "markdown",
   "metadata": {},
   "source": [
    "## RNN for real"
   ]
  },
  {
   "cell_type": "code",
   "execution_count": 12,
   "metadata": {},
   "outputs": [],
   "source": [
    "class TimeSeriesData:\n",
    "    def __init__(self, num_points, xmin, xmax):\n",
    "        self.xmin = xmin\n",
    "        self.xmax = xmax\n",
    "        self.num_points = num_points\n",
    "        self.resolution = (xmax - xmin) / num_points\n",
    "        self.x_data = np.linspace(xmin, xmax, num_points)\n",
    "        self.y_true = np.sin(self.x_data)\n",
    "\n",
    "    def ret_true(self, x_series):\n",
    "        return np.sin(x_series)\n",
    "\n",
    "    def next_batch(self, batch_size, steps, return_batch_ts=False):\n",
    "        # grab a random starting point for each batch\n",
    "        rand_start = np.random.rand(batch_size, 1)\n",
    "        \n",
    "        # convert to be on time series\n",
    "        ts_start = rand_start * (self.xmax - self.xmin - (steps * self.resolution))\n",
    "        \n",
    "        # create batch time series on the x axis\n",
    "        batch_ts = ts_start + np.arange(0, steps + 1) * self.resolution\n",
    "        \n",
    "        # create the Y data for the time series x axis from previous step\n",
    "        y_batch = np.sin(batch_ts)\n",
    "\n",
    "        # formatting for rnn\n",
    "        result = (\n",
    "            y_batch[:, :-1].reshape(-1, steps, 1),\n",
    "            y_batch[:, 1:].reshape(-1, steps, 1)\n",
    "        )\n",
    "\n",
    "        return (*result, batch_ts) if return_batch_ts else result"
   ]
  },
  {
   "cell_type": "code",
   "execution_count": 13,
   "metadata": {},
   "outputs": [],
   "source": [
    "ts_data = TimeSeriesData(250, 0, 10)"
   ]
  },
  {
   "cell_type": "code",
   "execution_count": 14,
   "metadata": {},
   "outputs": [
    {
     "data": {
      "text/plain": [
       "[<matplotlib.lines.Line2D at 0x122549c18>]"
      ]
     },
     "execution_count": 14,
     "metadata": {},
     "output_type": "execute_result"
    },
    {
     "data": {
      "image/png": "[encoded data removed]",
      "text/plain": [
       "<matplotlib.figure.Figure at 0x1224ee358>"
      ]
     },
     "metadata": {},
     "output_type": "display_data"
    }
   ],
   "source": [
    "plt.plot(ts_data.x_data, ts_data.y_true)"
   ]
  },
  {
   "cell_type": "code",
   "execution_count": 15,
   "metadata": {},
   "outputs": [],
   "source": [
    "num_time_steps = 30"
   ]
  },
  {
   "cell_type": "code",
   "execution_count": 16,
   "metadata": {},
   "outputs": [],
   "source": [
    "y1, y2, ts = ts_data.next_batch(1, num_time_steps, return_batch_ts=True)"
   ]
  },
  {
   "cell_type": "code",
   "execution_count": 17,
   "metadata": {},
   "outputs": [
    {
     "data": {
      "text/plain": [
       "[<matplotlib.lines.Line2D at 0x1225f2588>]"
      ]
     },
     "execution_count": 17,
     "metadata": {},
     "output_type": "execute_result"
    },
    {
     "data": {
      "image/png": "[encoded data removed]",
      "text/plain": [
       "<matplotlib.figure.Figure at 0x1224eed30>"
      ]
     },
     "metadata": {},
     "output_type": "display_data"
    }
   ],
   "source": [
    "plt.plot(ts.flatten()[1:], y2.flatten())"
   ]
  },
  {
   "cell_type": "code",
   "execution_count": 18,
   "metadata": {},
   "outputs": [
    {
     "data": {
      "text/plain": [
       "<matplotlib.legend.Legend at 0x122660c50>"
      ]
     },
     "execution_count": 18,
     "metadata": {},
     "output_type": "execute_result"
    },
    {
     "data": {
      "image/png": "[encoded data removed]",
      "text/plain": [
       "<matplotlib.figure.Figure at 0x1225a0cf8>"
      ]
     },
     "metadata": {},
     "output_type": "display_data"
    }
   ],
   "source": [
    "plt.plot(ts_data.x_data, ts_data.y_true, label='Sin(t)')\n",
    "plt.plot(ts.flatten()[1:], y1.flatten(), ':', label='Single training instance')\n",
    "plt.plot(ts.flatten()[1:], y2.flatten(), '-', label='Next training instance')\n",
    "\n",
    "plt.legend()"
   ]
  },
  {
   "cell_type": "code",
   "execution_count": 19,
   "metadata": {},
   "outputs": [],
   "source": [
    "# training data"
   ]
  },
  {
   "cell_type": "code",
   "execution_count": 20,
   "metadata": {},
   "outputs": [
    {
     "data": {
      "text/plain": [
       "array([5.        , 5.07333333, 5.14666667, 5.22      , 5.29333333,\n",
       "       5.36666667, 5.44      , 5.51333333, 5.58666667, 5.66      ,\n",
       "       5.73333333, 5.80666667, 5.88      , 5.95333333, 6.02666667,\n",
       "       6.1       , 6.17333333, 6.24666667, 6.32      , 6.39333333,\n",
       "       6.46666667, 6.54      , 6.61333333, 6.68666667, 6.76      ,\n",
       "       6.83333333, 6.90666667, 6.98      , 7.05333333, 7.12666667,\n",
       "       7.2       ])"
      ]
     },
     "execution_count": 20,
     "metadata": {},
     "output_type": "execute_result"
    }
   ],
   "source": [
    "train_inst = np.linspace(5, 5 + ts_data.resolution * num_time_steps + 1, num_time_steps + 1)\n",
    "train_inst"
   ]
  },
  {
   "cell_type": "code",
   "execution_count": 21,
   "metadata": {},
   "outputs": [
    {
     "data": {
      "text/plain": [
       "<matplotlib.legend.Legend at 0x122733cf8>"
      ]
     },
     "execution_count": 21,
     "metadata": {},
     "output_type": "execute_result"
    },
    {
     "data": {
      "image/png": "[encoded data removed]",
      "text/plain": [
       "<matplotlib.figure.Figure at 0x1226366d8>"
      ]
     },
     "metadata": {},
     "output_type": "display_data"
    }
   ],
   "source": [
    "plt.plot(train_inst[:-1], ts_data.ret_true(train_inst[:-1]),'bo', markersize=15, alpha=0.5, label='Instance')\n",
    "\n",
    "plt.plot(train_inst[1:], ts_data.ret_true(train_inst[1:]), 'ko', markersize=7, alpha=0.5, label='Target')\n",
    "\n",
    "plt.legend()"
   ]
  },
  {
   "cell_type": "markdown",
   "metadata": {},
   "source": [
    "## Create the model"
   ]
  },
  {
   "cell_type": "code",
   "execution_count": 22,
   "metadata": {},
   "outputs": [],
   "source": [
    "num_inputs = 1\n",
    "num_neurons = 100\n",
    "num_outputs = 1\n",
    "learning_rate = 0.0001\n",
    "num_train_iterations = 10000\n",
    "num_time_steps = 30\n",
    "batch_size = 1"
   ]
  },
  {
   "cell_type": "code",
   "execution_count": 23,
   "metadata": {},
   "outputs": [],
   "source": [
    "# placeholders\n",
    "\n",
    "x = tf.placeholder(tf.float32, shape=[None, num_time_steps, num_inputs])\n",
    "y = tf.placeholder(tf.float32, shape=[None, num_time_steps, num_outputs])"
   ]
  },
  {
   "cell_type": "code",
   "execution_count": 24,
   "metadata": {},
   "outputs": [],
   "source": [
    "# rnn cell layer"
   ]
  },
  {
   "cell_type": "code",
   "execution_count": 25,
   "metadata": {},
   "outputs": [],
   "source": [
    "# BasicRNNCell, BasicLSTMCell\n",
    "cell = tf.contrib.rnn.OutputProjectionWrapper(\n",
    "    tf.contrib.rnn.BasicRNNCell(num_units=num_neurons, activation=tf.nn.relu),\n",
    "    output_size=num_outputs\n",
    ")"
   ]
  },
  {
   "cell_type": "code",
   "execution_count": 26,
   "metadata": {},
   "outputs": [],
   "source": [
    "outputs, states = tf.nn.dynamic_rnn(cell, x, dtype=tf.float32)"
   ]
  },
  {
   "cell_type": "code",
   "execution_count": 27,
   "metadata": {},
   "outputs": [],
   "source": [
    "loss = tf.reduce_mean(\n",
    "    tf.square(outputs - y)\n",
    ")"
   ]
  },
  {
   "cell_type": "code",
   "execution_count": 28,
   "metadata": {},
   "outputs": [],
   "source": [
    "optimizer = tf.train.AdamOptimizer(learning_rate=learning_rate)"
   ]
  },
  {
   "cell_type": "code",
   "execution_count": 29,
   "metadata": {},
   "outputs": [],
   "source": [
    "train = optimizer.minimize(loss)"
   ]
  },
  {
   "cell_type": "code",
   "execution_count": 30,
   "metadata": {},
   "outputs": [],
   "source": [
    "init = tf.global_variables_initializer()"
   ]
  },
  {
   "cell_type": "code",
   "execution_count": 31,
   "metadata": {},
   "outputs": [],
   "source": [
    "# session"
   ]
  },
  {
   "cell_type": "code",
   "execution_count": 32,
   "metadata": {},
   "outputs": [],
   "source": [
    "gpu_options = tf.GPUOptions(per_process_gpu_memory_fraction=0.85)"
   ]
  },
  {
   "cell_type": "code",
   "execution_count": 33,
   "metadata": {},
   "outputs": [],
   "source": [
    "saver = tf.train.Saver()"
   ]
  },
  {
   "cell_type": "code",
   "execution_count": 34,
   "metadata": {},
   "outputs": [
    {
     "name": "stdout",
     "output_type": "stream",
     "text": [
      "0 \tMSE 0.29067114\n",
      "100 \tMSE 0.06826522\n",
      "200 \tMSE 0.10084869\n",
      "300 \tMSE 0.018884385\n",
      "400 \tMSE 0.009068141\n",
      "500 \tMSE 0.042689126\n",
      "600 \tMSE 0.00071488944\n",
      "700 \tMSE 0.0054085\n",
      "800 \tMSE 0.01262238\n",
      "900 \tMSE 0.002091909\n",
      "1000 \tMSE 0.004447886\n",
      "1100 \tMSE 0.003965581\n",
      "1200 \tMSE 0.008963775\n",
      "1300 \tMSE 0.008241182\n",
      "1400 \tMSE 0.0061584637\n",
      "1500 \tMSE 0.00242196\n",
      "1600 \tMSE 0.004983763\n",
      "1700 \tMSE 0.013885802\n",
      "1800 \tMSE 0.0046233186\n",
      "1900 \tMSE 0.0012934783\n",
      "2000 \tMSE 0.0029696925\n",
      "2100 \tMSE 0.0107032675\n",
      "2200 \tMSE 0.0014369343\n",
      "2300 \tMSE 0.00071180065\n",
      "2400 \tMSE 0.0009028897\n",
      "2500 \tMSE 0.00093355094\n",
      "2600 \tMSE 0.00015734341\n",
      "2700 \tMSE 0.0027889677\n",
      "2800 \tMSE 0.00021611218\n",
      "2900 \tMSE 0.00015617232\n",
      "3000 \tMSE 8.369736e-05\n",
      "3100 \tMSE 0.0002657104\n",
      "3200 \tMSE 0.00031592147\n",
      "3300 \tMSE 0.00033930427\n",
      "3400 \tMSE 0.00014026323\n",
      "3500 \tMSE 4.742226e-05\n",
      "3600 \tMSE 0.00040543813\n",
      "3700 \tMSE 0.0032555494\n",
      "3800 \tMSE 0.00075680466\n",
      "3900 \tMSE 0.003521066\n",
      "4000 \tMSE 9.994309e-05\n",
      "4100 \tMSE 0.0028974412\n",
      "4200 \tMSE 0.00073592755\n",
      "4300 \tMSE 0.00012612411\n",
      "4400 \tMSE 0.000576619\n",
      "4500 \tMSE 0.00015293868\n",
      "4600 \tMSE 0.0010498593\n",
      "4700 \tMSE 7.300267e-05\n",
      "4800 \tMSE 1.4174934e-05\n",
      "4900 \tMSE 0.00027657967\n",
      "5000 \tMSE 0.00022625906\n",
      "5100 \tMSE 0.00010702\n",
      "5200 \tMSE 5.2371124e-05\n",
      "5300 \tMSE 0.000100002086\n",
      "5400 \tMSE 0.0009665346\n",
      "5500 \tMSE 3.9846855e-05\n",
      "5600 \tMSE 0.00041933972\n",
      "5700 \tMSE 0.00012812424\n",
      "5800 \tMSE 0.0001940205\n",
      "5900 \tMSE 6.393769e-05\n",
      "6000 \tMSE 4.4834884e-05\n",
      "6100 \tMSE 0.00016807887\n",
      "6200 \tMSE 3.8718903e-05\n",
      "6300 \tMSE 0.00019097407\n",
      "6400 \tMSE 0.0002665698\n",
      "6500 \tMSE 0.00019250924\n",
      "6600 \tMSE 6.23374e-05\n",
      "6700 \tMSE 0.00016854172\n",
      "6800 \tMSE 0.0001748221\n",
      "6900 \tMSE 0.00011477755\n",
      "7000 \tMSE 2.8102379e-05\n",
      "7100 \tMSE 4.061109e-05\n",
      "7200 \tMSE 2.2854696e-05\n",
      "7300 \tMSE 4.9779184e-05\n",
      "7400 \tMSE 4.245832e-05\n",
      "7500 \tMSE 0.0005173727\n",
      "7600 \tMSE 0.00010136536\n",
      "7700 \tMSE 0.00019484786\n",
      "7800 \tMSE 0.0003463247\n",
      "7900 \tMSE 4.9036167e-05\n",
      "8000 \tMSE 0.00022615878\n",
      "8100 \tMSE 1.0588775e-05\n",
      "8200 \tMSE 0.00011368427\n",
      "8300 \tMSE 2.6531443e-05\n",
      "8400 \tMSE 0.00019585434\n",
      "8500 \tMSE 0.00037585106\n",
      "8600 \tMSE 1.1206679e-05\n",
      "8700 \tMSE 0.0004213747\n",
      "8800 \tMSE 0.0001261094\n",
      "8900 \tMSE 0.00011733632\n",
      "9000 \tMSE 0.000132304\n",
      "9100 \tMSE 5.1183444e-05\n",
      "9200 \tMSE 0.00037776315\n",
      "9300 \tMSE 0.000119756354\n",
      "9400 \tMSE 2.3108914e-05\n",
      "9500 \tMSE 8.795275e-05\n",
      "9600 \tMSE 1.7448741e-05\n",
      "9700 \tMSE 0.000108525455\n",
      "9800 \tMSE 8.4226485e-05\n",
      "9900 \tMSE 2.4363433e-05\n"
     ]
    }
   ],
   "source": [
    "with tf.Session(config = tf.ConfigProto(gpu_options=gpu_options)) as sess:\n",
    "    sess.run(init)\n",
    "    \n",
    "    for iteration in range(num_train_iterations):\n",
    "        x_batch, y_batch = ts_data.next_batch(batch_size, num_time_steps)\n",
    "        \n",
    "        sess.run(train, feed_dict={x: x_batch, y: y_batch})\n",
    "        \n",
    "        if iteration % 100 == 0:\n",
    "            mse = loss.eval(feed_dict={x: x_batch, y: y_batch})\n",
    "\n",
    "            print(iteration, \"\\tMSE\", mse)\n",
    "    \n",
    "    saver.save(sess, \"./models/runn_time_series_model\")"
   ]
  },
  {
   "cell_type": "code",
   "execution_count": 35,
   "metadata": {},
   "outputs": [
    {
     "name": "stdout",
     "output_type": "stream",
     "text": [
      "INFO:tensorflow:Restoring parameters from ./models/runn_time_series_model\n"
     ]
    }
   ],
   "source": [
    "with tf.Session(config = tf.ConfigProto(gpu_options=gpu_options)) as sess:\n",
    "    saver.restore(sess, \"./models/runn_time_series_model\")\n",
    "    \n",
    "    x_new = np.sin(\n",
    "        np.array(train_inst[:-1].reshape(-1, num_time_steps, num_inputs))\n",
    "    )\n",
    "    y_pred = sess.run(outputs, feed_dict={x: x_new})"
   ]
  },
  {
   "cell_type": "code",
   "execution_count": 36,
   "metadata": {},
   "outputs": [
    {
     "data": {
      "text/plain": [
       "<matplotlib.legend.Legend at 0x1255c9470>"
      ]
     },
     "execution_count": 36,
     "metadata": {},
     "output_type": "execute_result"
    },
    {
     "data": {
      "image/png": "[encoded data removed]",
      "text/plain": [
       "<matplotlib.figure.Figure at 0x122601630>"
      ]
     },
     "metadata": {},
     "output_type": "display_data"
    }
   ],
   "source": [
    "plt.title(\"Testing\")\n",
    "\n",
    "plt.plot(train_inst[:-1], np.sin(train_inst[:-1]), \"bo\", markersize=15, alpha=0.5, label=\"Training\")\n",
    "plt.plot(train_inst[1:], np.sin(train_inst[1:]), \"ko\", markersize=10, label=\"Target\")\n",
    "plt.plot(train_inst[1:], y_pred[0,:,0], \"r.\", markersize=10, label=\"Prediction\")\n",
    "\n",
    "plt.xlabel(\"Time\")\n",
    "plt.legend()"
   ]
  },
  {
   "cell_type": "markdown",
   "metadata": {},
   "source": [
    "## Generating new sequence"
   ]
  },
  {
   "cell_type": "code",
   "execution_count": 37,
   "metadata": {},
   "outputs": [
    {
     "name": "stdout",
     "output_type": "stream",
     "text": [
      "INFO:tensorflow:Restoring parameters from ./models/runn_time_series_model\n"
     ]
    }
   ],
   "source": [
    "with tf.Session(config = tf.ConfigProto(gpu_options=gpu_options)) as sess:\n",
    "    saver.restore(sess, \"./models/runn_time_series_model\")\n",
    "    \n",
    "    zeros_seq_seed = [0.0 for i in range(num_time_steps)]\n",
    "    \n",
    "    for iteration in range(len(ts_data.x_data) - num_time_steps):\n",
    "        x_batch = np.array(zeros_seq_seed[-num_time_steps:]).reshape(1, num_time_steps, 1)\n",
    "        y_pred = sess.run(outputs, feed_dict={x: x_batch})\n",
    "        \n",
    "        zeros_seq_seed.append(y_pred[0, -1, 0])"
   ]
  },
  {
   "cell_type": "code",
   "execution_count": 38,
   "metadata": {},
   "outputs": [
    {
     "data": {
      "text/plain": [
       "Text(0,0.5,'y')"
      ]
     },
     "execution_count": 38,
     "metadata": {},
     "output_type": "execute_result"
    },
    {
     "data": {
      "image/png": "[encoded data removed]",
      "text/plain": [
       "<matplotlib.figure.Figure at 0x12273fcf8>"
      ]
     },
     "metadata": {},
     "output_type": "display_data"
    }
   ],
   "source": [
    "plt.plot(ts_data.x_data, zeros_seq_seed, 'b-')\n",
    "plt.plot(ts_data.x_data[:num_time_steps], zeros_seq_seed[:num_time_steps], 'r', linewidth=3)\n",
    "\n",
    "plt.xlabel('Time')\n",
    "plt.ylabel('y')"
   ]
  },
  {
   "cell_type": "code",
   "execution_count": 39,
   "metadata": {},
   "outputs": [
    {
     "name": "stdout",
     "output_type": "stream",
     "text": [
      "INFO:tensorflow:Restoring parameters from ./models/runn_time_series_model\n"
     ]
    }
   ],
   "source": [
    "with tf.Session(config = tf.ConfigProto(gpu_options=gpu_options)) as sess:\n",
    "    saver.restore(sess, \"./models/runn_time_series_model\")\n",
    "    \n",
    "    training_instance = list(ts_data.y_true[:num_time_steps])\n",
    "    \n",
    "    for iteration in range(len(ts_data.x_data) - num_time_steps):\n",
    "        x_batch = np.array(training_instance[-num_time_steps:]).reshape(1, num_time_steps, 1)\n",
    "        y_pred = sess.run(outputs, feed_dict={x: x_batch})\n",
    "        \n",
    "        training_instance.append(y_pred[0, -1, 0])"
   ]
  },
  {
   "cell_type": "code",
   "execution_count": 40,
   "metadata": {},
   "outputs": [
    {
     "data": {
      "text/plain": [
       "Text(0,0.5,'y')"
      ]
     },
     "execution_count": 40,
     "metadata": {},
     "output_type": "execute_result"
    },
    {
     "data": {
      "image/png": "[encoded data removed]",
      "text/plain": [
       "<matplotlib.figure.Figure at 0x124b94908>"
      ]
     },
     "metadata": {},
     "output_type": "display_data"
    }
   ],
   "source": [
    "plt.plot(ts_data.x_data, training_instance, 'b-')\n",
    "plt.plot(ts_data.x_data[:num_time_steps], training_instance[:num_time_steps], 'r', linewidth=3)\n",
    "\n",
    "plt.xlabel('Time')\n",
    "plt.ylabel('y')"
   ]
  },
  {
   "cell_type": "code",
   "execution_count": null,
   "metadata": {},
   "outputs": [],
   "source": []
  }
 ],
 "metadata": {
  "kernelspec": {
   "display_name": "Python 3",
   "language": "python",
   "name": "python3"
  },
  "language_info": {
   "codemirror_mode": {
    "name": "ipython",
    "version": 3
   },
   "file_extension": ".py",
   "mimetype": "text/x-python",
   "name": "python",
   "nbconvert_exporter": "python",
   "pygments_lexer": "ipython3",
   "version": "3.6.2"
  }
 },
 "nbformat": 4,
 "nbformat_minor": 2
}
