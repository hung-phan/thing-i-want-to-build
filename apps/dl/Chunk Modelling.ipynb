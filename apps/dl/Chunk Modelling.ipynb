{
 "cells": [
  {
   "cell_type": "code",
   "execution_count": 1,
   "metadata": {},
   "outputs": [],
   "source": [
    "import tensorflow as tf\n",
    "import pandas as pd\n",
    "import numpy as np\n",
    "from sklearn.model_selection import train_test_split, cross_val_score\n",
    "from sklearn.preprocessing import MinMaxScaler, LabelEncoder, OneHotEncoder"
   ]
  },
  {
   "cell_type": "markdown",
   "metadata": {},
   "source": [
    "## Input data"
   ]
  },
  {
   "cell_type": "code",
   "execution_count": 2,
   "metadata": {},
   "outputs": [],
   "source": [
    "df = pd.read_csv('./Churn_Modelling.csv')"
   ]
  },
  {
   "cell_type": "code",
   "execution_count": 3,
   "metadata": {},
   "outputs": [
    {
     "data": {
      "text/html": [
       "<div>\n",
       "<style scoped>\n",
       "    .dataframe tbody tr th:only-of-type {\n",
       "        vertical-align: middle;\n",
       "    }\n",
       "\n",
       "    .dataframe tbody tr th {\n",
       "        vertical-align: top;\n",
       "    }\n",
       "\n",
       "    .dataframe thead th {\n",
       "        text-align: right;\n",
       "    }\n",
       "</style>\n",
       "<table border=\"1\" class=\"dataframe\">\n",
       "  <thead>\n",
       "    <tr style=\"text-align: right;\">\n",
       "      <th></th>\n",
       "      <th>RowNumber</th>\n",
       "      <th>CustomerId</th>\n",
       "      <th>Surname</th>\n",
       "      <th>CreditScore</th>\n",
       "      <th>Geography</th>\n",
       "      <th>Gender</th>\n",
       "      <th>Age</th>\n",
       "      <th>Tenure</th>\n",
       "      <th>Balance</th>\n",
       "      <th>NumOfProducts</th>\n",
       "      <th>HasCrCard</th>\n",
       "      <th>IsActiveMember</th>\n",
       "      <th>EstimatedSalary</th>\n",
       "      <th>Exited</th>\n",
       "    </tr>\n",
       "  </thead>\n",
       "  <tbody>\n",
       "    <tr>\n",
       "      <th>0</th>\n",
       "      <td>1</td>\n",
       "      <td>15634602</td>\n",
       "      <td>Hargrave</td>\n",
       "      <td>619</td>\n",
       "      <td>France</td>\n",
       "      <td>Female</td>\n",
       "      <td>42</td>\n",
       "      <td>2</td>\n",
       "      <td>0.00</td>\n",
       "      <td>1</td>\n",
       "      <td>1</td>\n",
       "      <td>1</td>\n",
       "      <td>101348.88</td>\n",
       "      <td>1</td>\n",
       "    </tr>\n",
       "    <tr>\n",
       "      <th>1</th>\n",
       "      <td>2</td>\n",
       "      <td>15647311</td>\n",
       "      <td>Hill</td>\n",
       "      <td>608</td>\n",
       "      <td>Spain</td>\n",
       "      <td>Female</td>\n",
       "      <td>41</td>\n",
       "      <td>1</td>\n",
       "      <td>83807.86</td>\n",
       "      <td>1</td>\n",
       "      <td>0</td>\n",
       "      <td>1</td>\n",
       "      <td>112542.58</td>\n",
       "      <td>0</td>\n",
       "    </tr>\n",
       "    <tr>\n",
       "      <th>2</th>\n",
       "      <td>3</td>\n",
       "      <td>15619304</td>\n",
       "      <td>Onio</td>\n",
       "      <td>502</td>\n",
       "      <td>France</td>\n",
       "      <td>Female</td>\n",
       "      <td>42</td>\n",
       "      <td>8</td>\n",
       "      <td>159660.80</td>\n",
       "      <td>3</td>\n",
       "      <td>1</td>\n",
       "      <td>0</td>\n",
       "      <td>113931.57</td>\n",
       "      <td>1</td>\n",
       "    </tr>\n",
       "    <tr>\n",
       "      <th>3</th>\n",
       "      <td>4</td>\n",
       "      <td>15701354</td>\n",
       "      <td>Boni</td>\n",
       "      <td>699</td>\n",
       "      <td>France</td>\n",
       "      <td>Female</td>\n",
       "      <td>39</td>\n",
       "      <td>1</td>\n",
       "      <td>0.00</td>\n",
       "      <td>2</td>\n",
       "      <td>0</td>\n",
       "      <td>0</td>\n",
       "      <td>93826.63</td>\n",
       "      <td>0</td>\n",
       "    </tr>\n",
       "    <tr>\n",
       "      <th>4</th>\n",
       "      <td>5</td>\n",
       "      <td>15737888</td>\n",
       "      <td>Mitchell</td>\n",
       "      <td>850</td>\n",
       "      <td>Spain</td>\n",
       "      <td>Female</td>\n",
       "      <td>43</td>\n",
       "      <td>2</td>\n",
       "      <td>125510.82</td>\n",
       "      <td>1</td>\n",
       "      <td>1</td>\n",
       "      <td>1</td>\n",
       "      <td>79084.10</td>\n",
       "      <td>0</td>\n",
       "    </tr>\n",
       "  </tbody>\n",
       "</table>\n",
       "</div>"
      ],
      "text/plain": [
       "   RowNumber  CustomerId   Surname  CreditScore Geography  Gender  Age  \\\n",
       "0          1    15634602  Hargrave          619    France  Female   42   \n",
       "1          2    15647311      Hill          608     Spain  Female   41   \n",
       "2          3    15619304      Onio          502    France  Female   42   \n",
       "3          4    15701354      Boni          699    France  Female   39   \n",
       "4          5    15737888  Mitchell          850     Spain  Female   43   \n",
       "\n",
       "   Tenure    Balance  NumOfProducts  HasCrCard  IsActiveMember  \\\n",
       "0       2       0.00              1          1               1   \n",
       "1       1   83807.86              1          0               1   \n",
       "2       8  159660.80              3          1               0   \n",
       "3       1       0.00              2          0               0   \n",
       "4       2  125510.82              1          1               1   \n",
       "\n",
       "   EstimatedSalary  Exited  \n",
       "0        101348.88       1  \n",
       "1        112542.58       0  \n",
       "2        113931.57       1  \n",
       "3         93826.63       0  \n",
       "4         79084.10       0  "
      ]
     },
     "execution_count": 3,
     "metadata": {},
     "output_type": "execute_result"
    }
   ],
   "source": [
    "df.head()"
   ]
  },
  {
   "cell_type": "code",
   "execution_count": 4,
   "metadata": {},
   "outputs": [],
   "source": [
    "df = df.drop(['RowNumber', 'CustomerId', 'Surname'], axis=1)"
   ]
  },
  {
   "cell_type": "code",
   "execution_count": 5,
   "metadata": {},
   "outputs": [
    {
     "data": {
      "text/html": [
       "<div>\n",
       "<style scoped>\n",
       "    .dataframe tbody tr th:only-of-type {\n",
       "        vertical-align: middle;\n",
       "    }\n",
       "\n",
       "    .dataframe tbody tr th {\n",
       "        vertical-align: top;\n",
       "    }\n",
       "\n",
       "    .dataframe thead th {\n",
       "        text-align: right;\n",
       "    }\n",
       "</style>\n",
       "<table border=\"1\" class=\"dataframe\">\n",
       "  <thead>\n",
       "    <tr style=\"text-align: right;\">\n",
       "      <th></th>\n",
       "      <th>CreditScore</th>\n",
       "      <th>Geography</th>\n",
       "      <th>Gender</th>\n",
       "      <th>Age</th>\n",
       "      <th>Tenure</th>\n",
       "      <th>Balance</th>\n",
       "      <th>NumOfProducts</th>\n",
       "      <th>HasCrCard</th>\n",
       "      <th>IsActiveMember</th>\n",
       "      <th>EstimatedSalary</th>\n",
       "      <th>Exited</th>\n",
       "    </tr>\n",
       "  </thead>\n",
       "  <tbody>\n",
       "    <tr>\n",
       "      <th>0</th>\n",
       "      <td>619</td>\n",
       "      <td>France</td>\n",
       "      <td>Female</td>\n",
       "      <td>42</td>\n",
       "      <td>2</td>\n",
       "      <td>0.00</td>\n",
       "      <td>1</td>\n",
       "      <td>1</td>\n",
       "      <td>1</td>\n",
       "      <td>101348.88</td>\n",
       "      <td>1</td>\n",
       "    </tr>\n",
       "    <tr>\n",
       "      <th>1</th>\n",
       "      <td>608</td>\n",
       "      <td>Spain</td>\n",
       "      <td>Female</td>\n",
       "      <td>41</td>\n",
       "      <td>1</td>\n",
       "      <td>83807.86</td>\n",
       "      <td>1</td>\n",
       "      <td>0</td>\n",
       "      <td>1</td>\n",
       "      <td>112542.58</td>\n",
       "      <td>0</td>\n",
       "    </tr>\n",
       "    <tr>\n",
       "      <th>2</th>\n",
       "      <td>502</td>\n",
       "      <td>France</td>\n",
       "      <td>Female</td>\n",
       "      <td>42</td>\n",
       "      <td>8</td>\n",
       "      <td>159660.80</td>\n",
       "      <td>3</td>\n",
       "      <td>1</td>\n",
       "      <td>0</td>\n",
       "      <td>113931.57</td>\n",
       "      <td>1</td>\n",
       "    </tr>\n",
       "    <tr>\n",
       "      <th>3</th>\n",
       "      <td>699</td>\n",
       "      <td>France</td>\n",
       "      <td>Female</td>\n",
       "      <td>39</td>\n",
       "      <td>1</td>\n",
       "      <td>0.00</td>\n",
       "      <td>2</td>\n",
       "      <td>0</td>\n",
       "      <td>0</td>\n",
       "      <td>93826.63</td>\n",
       "      <td>0</td>\n",
       "    </tr>\n",
       "    <tr>\n",
       "      <th>4</th>\n",
       "      <td>850</td>\n",
       "      <td>Spain</td>\n",
       "      <td>Female</td>\n",
       "      <td>43</td>\n",
       "      <td>2</td>\n",
       "      <td>125510.82</td>\n",
       "      <td>1</td>\n",
       "      <td>1</td>\n",
       "      <td>1</td>\n",
       "      <td>79084.10</td>\n",
       "      <td>0</td>\n",
       "    </tr>\n",
       "  </tbody>\n",
       "</table>\n",
       "</div>"
      ],
      "text/plain": [
       "   CreditScore Geography  Gender  Age  Tenure    Balance  NumOfProducts  \\\n",
       "0          619    France  Female   42       2       0.00              1   \n",
       "1          608     Spain  Female   41       1   83807.86              1   \n",
       "2          502    France  Female   42       8  159660.80              3   \n",
       "3          699    France  Female   39       1       0.00              2   \n",
       "4          850     Spain  Female   43       2  125510.82              1   \n",
       "\n",
       "   HasCrCard  IsActiveMember  EstimatedSalary  Exited  \n",
       "0          1               1        101348.88       1  \n",
       "1          0               1        112542.58       0  \n",
       "2          1               0        113931.57       1  \n",
       "3          0               0         93826.63       0  \n",
       "4          1               1         79084.10       0  "
      ]
     },
     "execution_count": 5,
     "metadata": {},
     "output_type": "execute_result"
    }
   ],
   "source": [
    "df.head()"
   ]
  },
  {
   "cell_type": "code",
   "execution_count": 6,
   "metadata": {},
   "outputs": [],
   "source": [
    "X, y = df.drop(['Exited'], axis=1), df['Exited']"
   ]
  },
  {
   "cell_type": "markdown",
   "metadata": {},
   "source": [
    "## Preprocessing data"
   ]
  },
  {
   "cell_type": "code",
   "execution_count": 7,
   "metadata": {},
   "outputs": [],
   "source": [
    "geography_encoder = LabelEncoder()\n",
    "gender_encoder = LabelEncoder()"
   ]
  },
  {
   "cell_type": "code",
   "execution_count": 8,
   "metadata": {},
   "outputs": [],
   "source": [
    "X['Geography'] = geography_encoder.fit_transform(X['Geography'])"
   ]
  },
  {
   "cell_type": "code",
   "execution_count": 9,
   "metadata": {},
   "outputs": [],
   "source": [
    "X['Gender'] = gender_encoder.fit_transform(X['Gender'])"
   ]
  },
  {
   "cell_type": "code",
   "execution_count": 10,
   "metadata": {},
   "outputs": [
    {
     "data": {
      "text/html": [
       "<div>\n",
       "<style scoped>\n",
       "    .dataframe tbody tr th:only-of-type {\n",
       "        vertical-align: middle;\n",
       "    }\n",
       "\n",
       "    .dataframe tbody tr th {\n",
       "        vertical-align: top;\n",
       "    }\n",
       "\n",
       "    .dataframe thead th {\n",
       "        text-align: right;\n",
       "    }\n",
       "</style>\n",
       "<table border=\"1\" class=\"dataframe\">\n",
       "  <thead>\n",
       "    <tr style=\"text-align: right;\">\n",
       "      <th></th>\n",
       "      <th>CreditScore</th>\n",
       "      <th>Geography</th>\n",
       "      <th>Gender</th>\n",
       "      <th>Age</th>\n",
       "      <th>Tenure</th>\n",
       "      <th>Balance</th>\n",
       "      <th>NumOfProducts</th>\n",
       "      <th>HasCrCard</th>\n",
       "      <th>IsActiveMember</th>\n",
       "      <th>EstimatedSalary</th>\n",
       "    </tr>\n",
       "  </thead>\n",
       "  <tbody>\n",
       "    <tr>\n",
       "      <th>0</th>\n",
       "      <td>619</td>\n",
       "      <td>0</td>\n",
       "      <td>0</td>\n",
       "      <td>42</td>\n",
       "      <td>2</td>\n",
       "      <td>0.00</td>\n",
       "      <td>1</td>\n",
       "      <td>1</td>\n",
       "      <td>1</td>\n",
       "      <td>101348.88</td>\n",
       "    </tr>\n",
       "    <tr>\n",
       "      <th>1</th>\n",
       "      <td>608</td>\n",
       "      <td>2</td>\n",
       "      <td>0</td>\n",
       "      <td>41</td>\n",
       "      <td>1</td>\n",
       "      <td>83807.86</td>\n",
       "      <td>1</td>\n",
       "      <td>0</td>\n",
       "      <td>1</td>\n",
       "      <td>112542.58</td>\n",
       "    </tr>\n",
       "    <tr>\n",
       "      <th>2</th>\n",
       "      <td>502</td>\n",
       "      <td>0</td>\n",
       "      <td>0</td>\n",
       "      <td>42</td>\n",
       "      <td>8</td>\n",
       "      <td>159660.80</td>\n",
       "      <td>3</td>\n",
       "      <td>1</td>\n",
       "      <td>0</td>\n",
       "      <td>113931.57</td>\n",
       "    </tr>\n",
       "    <tr>\n",
       "      <th>3</th>\n",
       "      <td>699</td>\n",
       "      <td>0</td>\n",
       "      <td>0</td>\n",
       "      <td>39</td>\n",
       "      <td>1</td>\n",
       "      <td>0.00</td>\n",
       "      <td>2</td>\n",
       "      <td>0</td>\n",
       "      <td>0</td>\n",
       "      <td>93826.63</td>\n",
       "    </tr>\n",
       "    <tr>\n",
       "      <th>4</th>\n",
       "      <td>850</td>\n",
       "      <td>2</td>\n",
       "      <td>0</td>\n",
       "      <td>43</td>\n",
       "      <td>2</td>\n",
       "      <td>125510.82</td>\n",
       "      <td>1</td>\n",
       "      <td>1</td>\n",
       "      <td>1</td>\n",
       "      <td>79084.10</td>\n",
       "    </tr>\n",
       "  </tbody>\n",
       "</table>\n",
       "</div>"
      ],
      "text/plain": [
       "   CreditScore  Geography  Gender  Age  Tenure    Balance  NumOfProducts  \\\n",
       "0          619          0       0   42       2       0.00              1   \n",
       "1          608          2       0   41       1   83807.86              1   \n",
       "2          502          0       0   42       8  159660.80              3   \n",
       "3          699          0       0   39       1       0.00              2   \n",
       "4          850          2       0   43       2  125510.82              1   \n",
       "\n",
       "   HasCrCard  IsActiveMember  EstimatedSalary  \n",
       "0          1               1        101348.88  \n",
       "1          0               1        112542.58  \n",
       "2          1               0        113931.57  \n",
       "3          0               0         93826.63  \n",
       "4          1               1         79084.10  "
      ]
     },
     "execution_count": 10,
     "metadata": {},
     "output_type": "execute_result"
    }
   ],
   "source": [
    "X.head()"
   ]
  },
  {
   "cell_type": "code",
   "execution_count": 11,
   "metadata": {},
   "outputs": [
    {
     "data": {
      "text/plain": [
       "array([0, 2, 1])"
      ]
     },
     "execution_count": 11,
     "metadata": {},
     "output_type": "execute_result"
    }
   ],
   "source": [
    "X['Geography'].unique()"
   ]
  },
  {
   "cell_type": "code",
   "execution_count": 12,
   "metadata": {},
   "outputs": [],
   "source": [
    "one_hot_encoder = OneHotEncoder(categorical_features=[1])"
   ]
  },
  {
   "cell_type": "code",
   "execution_count": 13,
   "metadata": {},
   "outputs": [],
   "source": [
    "X_encoded = one_hot_encoder.fit_transform(X).toarray()"
   ]
  },
  {
   "cell_type": "code",
   "execution_count": 14,
   "metadata": {},
   "outputs": [
    {
     "data": {
      "text/plain": [
       "array([1.0000000e+00, 0.0000000e+00, 0.0000000e+00, 6.1900000e+02,\n",
       "       0.0000000e+00, 4.2000000e+01, 2.0000000e+00, 0.0000000e+00,\n",
       "       1.0000000e+00, 1.0000000e+00, 1.0000000e+00, 1.0134888e+05])"
      ]
     },
     "execution_count": 14,
     "metadata": {},
     "output_type": "execute_result"
    }
   ],
   "source": [
    "X_encoded[0]"
   ]
  },
  {
   "cell_type": "code",
   "execution_count": 15,
   "metadata": {},
   "outputs": [],
   "source": [
    "X_train, X_test, y_train, y_test = train_test_split(X_encoded, y, test_size=0.3, random_state=101)"
   ]
  },
  {
   "cell_type": "code",
   "execution_count": 16,
   "metadata": {},
   "outputs": [],
   "source": [
    "scaler = MinMaxScaler()"
   ]
  },
  {
   "cell_type": "code",
   "execution_count": 17,
   "metadata": {},
   "outputs": [],
   "source": [
    "scaled_X_train = scaler.fit_transform(X_train)"
   ]
  },
  {
   "cell_type": "code",
   "execution_count": 18,
   "metadata": {},
   "outputs": [
    {
     "name": "stdout",
     "output_type": "stream",
     "text": [
      "[0.0000000e+00 0.0000000e+00 1.0000000e+00 5.1100000e+02 0.0000000e+00\n",
      " 2.9000000e+01 9.0000000e+00 0.0000000e+00 2.0000000e+00 0.0000000e+00\n",
      " 1.0000000e+00 1.4067698e+05]\n",
      "[0.         0.         1.         0.322      0.         0.14864865\n",
      " 0.9        0.         0.33333333 0.         1.         0.70347065]\n"
     ]
    }
   ],
   "source": [
    "print(X_train[0])\n",
    "print(scaled_X_train[0])"
   ]
  },
  {
   "cell_type": "code",
   "execution_count": 19,
   "metadata": {},
   "outputs": [],
   "source": [
    "scaled_X_test = scaler.transform(X_test)"
   ]
  },
  {
   "cell_type": "code",
   "execution_count": 20,
   "metadata": {},
   "outputs": [
    {
     "data": {
      "text/plain": [
       "array([0.        , 0.        , 1.        , 0.538     , 1.        ,\n",
       "       0.45945946, 0.8       , 0.        , 0.33333333, 1.        ,\n",
       "       1.        , 0.61627849])"
      ]
     },
     "execution_count": 20,
     "metadata": {},
     "output_type": "execute_result"
    }
   ],
   "source": [
    "scaled_X_test[0]"
   ]
  },
  {
   "cell_type": "markdown",
   "metadata": {},
   "source": [
    "## Model"
   ]
  },
  {
   "cell_type": "code",
   "execution_count": 21,
   "metadata": {},
   "outputs": [],
   "source": [
    "def get_classifier():\n",
    "    model = tf.keras.models.Sequential()\n",
    "    model.add(tf.keras.layers.Dense(24, activation='relu', input_dim=12))\n",
    "    model.add(tf.keras.layers.Dropout(0.1))\n",
    "    model.add(tf.keras.layers.Dense(32, activation='relu'))\n",
    "    model.add(tf.keras.layers.Dropout(0.1))\n",
    "    model.add(tf.keras.layers.Dense(12, activation='relu'))\n",
    "    model.add(tf.keras.layers.Dense(2, activation='softmax'))\n",
    "    model.compile(\n",
    "        optimizer='adam',\n",
    "        loss='sparse_categorical_crossentropy',\n",
    "        metrics=['accuracy']\n",
    "    )\n",
    "    return model"
   ]
  },
  {
   "cell_type": "code",
   "execution_count": 22,
   "metadata": {},
   "outputs": [],
   "source": [
    "model = get_classifier()"
   ]
  },
  {
   "cell_type": "code",
   "execution_count": 23,
   "metadata": {},
   "outputs": [
    {
     "name": "stdout",
     "output_type": "stream",
     "text": [
      "Epoch 1/50\n",
      "7000/7000 [==============================]7000/7000 [==============================] - 1s 83us/step - loss: 0.5073 - acc: 0.7950\n",
      "\n",
      "Epoch 2/50\n",
      "7000/7000 [==============================]7000/7000 [==============================] - 0s 70us/step - loss: 0.4656 - acc: 0.7979\n",
      "\n",
      "Epoch 3/50\n",
      "7000/7000 [==============================]7000/7000 [==============================] - 0s 62us/step - loss: 0.4538 - acc: 0.8039\n",
      "\n",
      "Epoch 4/50\n",
      "7000/7000 [==============================]7000/7000 [==============================] - 0s 62us/step - loss: 0.4407 - acc: 0.8073\n",
      "\n",
      "Epoch 5/50\n",
      "7000/7000 [==============================]7000/7000 [==============================] - 0s 52us/step - loss: 0.4305 - acc: 0.8149\n",
      "\n",
      "Epoch 6/50\n",
      "7000/7000 [==============================]7000/7000 [==============================] - 0s 54us/step - loss: 0.4183 - acc: 0.8203\n",
      "\n",
      "Epoch 7/50\n",
      "7000/7000 [==============================]7000/7000 [==============================] - 0s 62us/step - loss: 0.4086 - acc: 0.8266\n",
      "\n",
      "Epoch 8/50\n",
      "7000/7000 [==============================]7000/7000 [==============================] - 0s 58us/step - loss: 0.3920 - acc: 0.8377\n",
      "\n",
      "Epoch 9/50\n",
      "7000/7000 [==============================]7000/7000 [==============================] - 0s 57us/step - loss: 0.3839 - acc: 0.8396\n",
      "\n",
      "Epoch 10/50\n",
      "7000/7000 [==============================]7000/7000 [==============================] - 0s 57us/step - loss: 0.3779 - acc: 0.8397\n",
      "\n",
      "Epoch 11/50\n",
      "7000/7000 [==============================]7000/7000 [==============================] - 0s 56us/step - loss: 0.3739 - acc: 0.8437\n",
      "\n",
      "Epoch 12/50\n",
      "7000/7000 [==============================]7000/7000 [==============================] - 0s 55us/step - loss: 0.3685 - acc: 0.8446\n",
      "\n",
      "Epoch 13/50\n",
      "7000/7000 [==============================]7000/7000 [==============================] - 0s 56us/step - loss: 0.3643 - acc: 0.8474\n",
      "\n",
      "Epoch 14/50\n",
      "7000/7000 [==============================]7000/7000 [==============================] - 0s 57us/step - loss: 0.3665 - acc: 0.8466\n",
      "\n",
      "Epoch 15/50\n",
      "7000/7000 [==============================]7000/7000 [==============================] - 0s 56us/step - loss: 0.3607 - acc: 0.8536\n",
      "\n",
      "Epoch 16/50\n",
      "7000/7000 [==============================]7000/7000 [==============================] - 0s 65us/step - loss: 0.3648 - acc: 0.8509\n",
      "\n",
      "Epoch 17/50\n",
      "7000/7000 [==============================]7000/7000 [==============================] - 0s 58us/step - loss: 0.3642 - acc: 0.8469\n",
      "\n",
      "Epoch 18/50\n",
      "7000/7000 [==============================]7000/7000 [==============================] - 0s 57us/step - loss: 0.3635 - acc: 0.8503\n",
      "\n",
      "Epoch 19/50\n",
      "7000/7000 [==============================]7000/7000 [==============================] - 0s 54us/step - loss: 0.3595 - acc: 0.8519\n",
      "\n",
      "Epoch 20/50\n",
      "7000/7000 [==============================]7000/7000 [==============================] - 0s 56us/step - loss: 0.3622 - acc: 0.8524\n",
      "\n",
      "Epoch 21/50\n",
      "7000/7000 [==============================]7000/7000 [==============================] - 0s 58us/step - loss: 0.3576 - acc: 0.8480\n",
      "\n",
      "Epoch 22/50\n",
      "7000/7000 [==============================]7000/7000 [==============================] - 0s 57us/step - loss: 0.3560 - acc: 0.8507\n",
      "\n",
      "Epoch 23/50\n",
      "7000/7000 [==============================]7000/7000 [==============================] - 0s 57us/step - loss: 0.3592 - acc: 0.8524\n",
      "\n",
      "Epoch 24/50\n",
      "7000/7000 [==============================]7000/7000 [==============================] - 0s 58us/step - loss: 0.3528 - acc: 0.8529\n",
      "\n",
      "Epoch 25/50\n",
      "7000/7000 [==============================]7000/7000 [==============================] - 0s 57us/step - loss: 0.3536 - acc: 0.8554\n",
      "\n",
      "Epoch 26/50\n",
      "7000/7000 [==============================]7000/7000 [==============================] - 0s 54us/step - loss: 0.3557 - acc: 0.8517\n",
      "\n",
      "Epoch 27/50\n",
      "7000/7000 [==============================]7000/7000 [==============================] - 0s 55us/step - loss: 0.3551 - acc: 0.8533\n",
      "\n",
      "Epoch 28/50\n",
      "7000/7000 [==============================]7000/7000 [==============================] - 0s 56us/step - loss: 0.3527 - acc: 0.8544\n",
      "\n",
      "Epoch 29/50\n",
      "7000/7000 [==============================]7000/7000 [==============================] - 0s 58us/step - loss: 0.3540 - acc: 0.8510\n",
      "\n",
      "Epoch 30/50\n",
      "7000/7000 [==============================]7000/7000 [==============================] - 0s 57us/step - loss: 0.3533 - acc: 0.8524\n",
      "\n",
      "Epoch 31/50\n",
      "7000/7000 [==============================]7000/7000 [==============================] - 0s 56us/step - loss: 0.3502 - acc: 0.8527\n",
      "\n",
      "Epoch 32/50\n",
      "7000/7000 [==============================]7000/7000 [==============================] - 0s 57us/step - loss: 0.3544 - acc: 0.8543\n",
      "\n",
      "Epoch 33/50\n",
      "7000/7000 [==============================]7000/7000 [==============================] - 0s 63us/step - loss: 0.3543 - acc: 0.8547\n",
      "\n",
      "Epoch 34/50\n",
      "7000/7000 [==============================]7000/7000 [==============================] - 0s 61us/step - loss: 0.3519 - acc: 0.8539\n",
      "\n",
      "Epoch 35/50\n",
      "7000/7000 [==============================]7000/7000 [==============================] - 0s 58us/step - loss: 0.3504 - acc: 0.8559\n",
      "\n",
      "Epoch 36/50\n",
      "7000/7000 [==============================]7000/7000 [==============================] - 0s 54us/step - loss: 0.3493 - acc: 0.8537\n",
      "\n",
      "Epoch 37/50\n",
      "7000/7000 [==============================]7000/7000 [==============================] - 0s 55us/step - loss: 0.3480 - acc: 0.8560\n",
      "\n",
      "Epoch 38/50\n",
      "7000/7000 [==============================]7000/7000 [==============================] - 0s 54us/step - loss: 0.3461 - acc: 0.8546\n",
      "\n",
      "Epoch 39/50\n",
      "7000/7000 [==============================]7000/7000 [==============================] - 0s 55us/step - loss: 0.3483 - acc: 0.8593\n",
      "\n",
      "Epoch 40/50\n",
      "7000/7000 [==============================]7000/7000 [==============================] - 0s 55us/step - loss: 0.3495 - acc: 0.8577\n",
      "\n",
      "Epoch 41/50\n",
      "7000/7000 [==============================]7000/7000 [==============================] - 0s 56us/step - loss: 0.3460 - acc: 0.8566\n",
      "\n",
      "Epoch 42/50\n",
      "7000/7000 [==============================]7000/7000 [==============================] - 0s 55us/step - loss: 0.3463 - acc: 0.8581\n",
      "\n",
      "Epoch 43/50\n",
      "7000/7000 [==============================]7000/7000 [==============================] - 0s 53us/step - loss: 0.3466 - acc: 0.8563\n",
      "\n",
      "Epoch 44/50\n",
      "7000/7000 [==============================]7000/7000 [==============================] - 0s 56us/step - loss: 0.3475 - acc: 0.8570\n",
      "\n",
      "Epoch 45/50\n",
      "7000/7000 [==============================]7000/7000 [==============================] - 0s 62us/step - loss: 0.3468 - acc: 0.8554\n",
      "\n",
      "Epoch 46/50\n",
      "7000/7000 [==============================]7000/7000 [==============================] - 0s 60us/step - loss: 0.3401 - acc: 0.8596\n",
      "\n",
      "Epoch 47/50\n",
      "7000/7000 [==============================]7000/7000 [==============================] - 0s 50us/step - loss: 0.3442 - acc: 0.8580\n",
      "\n",
      "Epoch 48/50\n",
      "7000/7000 [==============================]7000/7000 [==============================] - 0s 51us/step - loss: 0.3451 - acc: 0.8571\n",
      "\n",
      "Epoch 49/50\n",
      "7000/7000 [==============================]7000/7000 [==============================] - 0s 56us/step - loss: 0.3457 - acc: 0.8547\n",
      "\n",
      "Epoch 50/50\n",
      "7000/7000 [==============================]7000/7000 [==============================] - 0s 54us/step - loss: 0.3418 - acc: 0.8606\n",
      "\n"
     ]
    },
    {
     "data": {
      "text/plain": [
       "<tensorflow.python.keras._impl.keras.callbacks.History at 0x114b6b390>"
      ]
     },
     "execution_count": 23,
     "metadata": {},
     "output_type": "execute_result"
    }
   ],
   "source": [
    "model.fit(scaled_X_train, y_train, epochs=50)"
   ]
  },
  {
   "cell_type": "markdown",
   "metadata": {},
   "source": [
    "## Prediction"
   ]
  },
  {
   "cell_type": "code",
   "execution_count": 24,
   "metadata": {},
   "outputs": [],
   "source": [
    "y_pred = model.predict(scaled_X_test)"
   ]
  },
  {
   "cell_type": "code",
   "execution_count": 25,
   "metadata": {},
   "outputs": [
    {
     "data": {
      "text/plain": [
       "array([[0.9809176 , 0.01908247],\n",
       "       [0.96836925, 0.03163073],\n",
       "       [0.623644  , 0.37635595],\n",
       "       ...,\n",
       "       [0.98996454, 0.01003543],\n",
       "       [0.49396327, 0.5060367 ],\n",
       "       [0.57035345, 0.42964652]], dtype=float32)"
      ]
     },
     "execution_count": 25,
     "metadata": {},
     "output_type": "execute_result"
    }
   ],
   "source": [
    "y_pred"
   ]
  },
  {
   "cell_type": "code",
   "execution_count": 26,
   "metadata": {},
   "outputs": [],
   "source": [
    "from sklearn.metrics import classification_report"
   ]
  },
  {
   "cell_type": "code",
   "execution_count": 27,
   "metadata": {},
   "outputs": [],
   "source": [
    "y_pred = [np.argmax(x) for x in y_pred]"
   ]
  },
  {
   "cell_type": "code",
   "execution_count": 28,
   "metadata": {},
   "outputs": [
    {
     "name": "stdout",
     "output_type": "stream",
     "text": [
      "             precision    recall  f1-score   support\n",
      "\n",
      "          0       0.87      0.96      0.92      2378\n",
      "          1       0.76      0.47      0.58       622\n",
      "\n",
      "avg / total       0.85      0.86      0.85      3000\n",
      "\n"
     ]
    }
   ],
   "source": [
    "print(classification_report(y_test, y_pred))"
   ]
  },
  {
   "cell_type": "markdown",
   "metadata": {},
   "source": [
    "So should we say goodbye to that customer ?\n",
    "\n",
    "```\n",
    "Geography: France\n",
    "Credit Score: 600\n",
    "Gender: Male\n",
    "Age: 40 years old\n",
    "Tenure: 3 years\n",
    "Balance: $60000\n",
    "Number of Products: 2\n",
    "Does this customer have a credit card ? Yes\n",
    "Is this customer an Active Member: Yes\n",
    "Estimated Salary: $50000\n",
    "```"
   ]
  },
  {
   "cell_type": "code",
   "execution_count": 29,
   "metadata": {},
   "outputs": [
    {
     "data": {
      "text/plain": [
       "array([0])"
      ]
     },
     "execution_count": 29,
     "metadata": {},
     "output_type": "execute_result"
    }
   ],
   "source": [
    "geography_encoder.transform(['France'])"
   ]
  },
  {
   "cell_type": "code",
   "execution_count": 30,
   "metadata": {},
   "outputs": [
    {
     "data": {
      "text/plain": [
       "array([1])"
      ]
     },
     "execution_count": 30,
     "metadata": {},
     "output_type": "execute_result"
    }
   ],
   "source": [
    "gender_encoder.transform(['Male'])"
   ]
  },
  {
   "cell_type": "code",
   "execution_count": 31,
   "metadata": {},
   "outputs": [
    {
     "name": "stdout",
     "output_type": "stream",
     "text": [
      "CreditScore           619.00\n",
      "Geography               0.00\n",
      "Gender                  0.00\n",
      "Age                    42.00\n",
      "Tenure                  2.00\n",
      "Balance                 0.00\n",
      "NumOfProducts           1.00\n",
      "HasCrCard               1.00\n",
      "IsActiveMember          1.00\n",
      "EstimatedSalary    101348.88\n",
      "Name: 0, dtype: float64\n",
      "[6.1900000e+02 0.0000000e+00 0.0000000e+00 4.2000000e+01 2.0000000e+00\n",
      " 0.0000000e+00 1.0000000e+00 1.0000000e+00 1.0000000e+00 1.0134888e+05]\n"
     ]
    }
   ],
   "source": [
    "print(X.iloc[0])\n",
    "print(X.iloc[0].values)"
   ]
  },
  {
   "cell_type": "code",
   "execution_count": 32,
   "metadata": {},
   "outputs": [],
   "source": [
    "new_data = np.array([\n",
    "    600,\n",
    "    geography_encoder.transform(['France']),\n",
    "    gender_encoder.transform(['Male']),\n",
    "    40,\n",
    "    3,\n",
    "    60000,\n",
    "    2,\n",
    "    1,\n",
    "    1,\n",
    "    50000\n",
    "])"
   ]
  },
  {
   "cell_type": "code",
   "execution_count": 33,
   "metadata": {},
   "outputs": [],
   "source": [
    "new_data = one_hot_encoder.transform([new_data]).toarray()"
   ]
  },
  {
   "cell_type": "code",
   "execution_count": 34,
   "metadata": {},
   "outputs": [
    {
     "name": "stdout",
     "output_type": "stream",
     "text": [
      "[[1.e+00 0.e+00 0.e+00 6.e+02 1.e+00 4.e+01 3.e+00 6.e+04 2.e+00 1.e+00\n",
      "  1.e+00 5.e+04]]\n"
     ]
    }
   ],
   "source": [
    "print(new_data)"
   ]
  },
  {
   "cell_type": "code",
   "execution_count": 35,
   "metadata": {},
   "outputs": [
    {
     "data": {
      "text/plain": [
       "array([[0., 1.]], dtype=float32)"
      ]
     },
     "execution_count": 35,
     "metadata": {},
     "output_type": "execute_result"
    }
   ],
   "source": [
    "model.predict(new_data)"
   ]
  },
  {
   "cell_type": "code",
   "execution_count": 36,
   "metadata": {},
   "outputs": [],
   "source": [
    "y_pred = [np.argmax(x) for x in model.predict(new_data)]"
   ]
  },
  {
   "cell_type": "code",
   "execution_count": 37,
   "metadata": {},
   "outputs": [
    {
     "data": {
      "text/plain": [
       "[1]"
      ]
     },
     "execution_count": 37,
     "metadata": {},
     "output_type": "execute_result"
    }
   ],
   "source": [
    "y_pred"
   ]
  },
  {
   "cell_type": "code",
   "execution_count": 38,
   "metadata": {},
   "outputs": [],
   "source": [
    "classifier = tf.keras.wrappers.scikit_learn.KerasClassifier(build_fn=get_classifier, batch_size=12, epochs=50)"
   ]
  },
  {
   "cell_type": "code",
   "execution_count": 39,
   "metadata": {},
   "outputs": [
    {
     "name": "stdout",
     "output_type": "stream",
     "text": [
      "Epoch 1/50\n",
      "3500/3500 [==============================]3500/3500 [==============================] - 1s 206us/step - loss: 0.4996 - acc: 0.7794\n",
      "\n",
      "Epoch 2/50\n",
      "3500/3500 [==============================]3500/3500 [==============================] - 0s 133us/step - loss: 0.4737 - acc: 0.8003\n",
      "\n",
      "Epoch 3/50\n",
      "3500/3500 [==============================]3500/3500 [==============================] - 0s 137us/step - loss: 0.4617 - acc: 0.8003\n",
      "\n",
      "Epoch 4/50\n",
      "3500/3500 [==============================]3500/3500 [==============================] - 0s 135us/step - loss: 0.4590 - acc: 0.8009\n",
      "\n",
      "Epoch 5/50\n",
      "3500/3500 [==============================]3500/3500 [==============================] - 0s 122us/step - loss: 0.4478 - acc: 0.8066\n",
      "\n",
      "Epoch 6/50\n",
      "3500/3500 [==============================]3500/3500 [==============================] - 1s 167us/step - loss: 0.4453 - acc: 0.8091\n",
      "\n",
      "Epoch 7/50\n",
      "3500/3500 [==============================]3500/3500 [==============================] - 0s 137us/step - loss: 0.4377 - acc: 0.8109\n",
      "\n",
      "Epoch 8/50\n",
      "3500/3500 [==============================]3500/3500 [==============================] - 1s 156us/step - loss: 0.4261 - acc: 0.8203\n",
      "\n",
      "Epoch 9/50\n",
      "3500/3500 [==============================]3500/3500 [==============================] - 0s 127us/step - loss: 0.4218 - acc: 0.8243\n",
      "\n",
      "Epoch 10/50\n",
      "3500/3500 [==============================]3500/3500 [==============================] - 1s 160us/step - loss: 0.4117 - acc: 0.8246\n",
      "\n",
      "Epoch 11/50\n",
      "3500/3500 [==============================]3500/3500 [==============================] - 1s 145us/step - loss: 0.3971 - acc: 0.8403\n",
      "\n",
      "Epoch 12/50\n",
      "3500/3500 [==============================]3500/3500 [==============================] - 0s 132us/step - loss: 0.3939 - acc: 0.8366\n",
      "\n",
      "Epoch 13/50\n",
      "3500/3500 [==============================]3500/3500 [==============================] - 1s 158us/step - loss: 0.3857 - acc: 0.8397\n",
      "\n",
      "Epoch 14/50\n",
      "3500/3500 [==============================]3500/3500 [==============================] - 1s 158us/step - loss: 0.3808 - acc: 0.8414\n",
      "\n",
      "Epoch 15/50\n",
      "3500/3500 [==============================]3500/3500 [==============================] - 1s 158us/step - loss: 0.3719 - acc: 0.8486\n",
      "\n",
      "Epoch 16/50\n",
      "3500/3500 [==============================]3500/3500 [==============================] - 1s 159us/step - loss: 0.3753 - acc: 0.8480\n",
      "\n",
      "Epoch 17/50\n",
      "3500/3500 [==============================]3500/3500 [==============================] - 1s 159us/step - loss: 0.3755 - acc: 0.8423\n",
      "\n",
      "Epoch 18/50\n",
      "3500/3500 [==============================]3500/3500 [==============================] - 0s 141us/step - loss: 0.3683 - acc: 0.8480\n",
      "\n",
      "Epoch 19/50\n",
      "3500/3500 [==============================]3500/3500 [==============================] - 1s 155us/step - loss: 0.3641 - acc: 0.8497\n",
      "\n",
      "Epoch 20/50\n",
      "3500/3500 [==============================]3500/3500 [==============================] - 1s 156us/step - loss: 0.3634 - acc: 0.8520\n",
      "\n",
      "Epoch 21/50\n",
      "3500/3500 [==============================]3500/3500 [==============================] - 1s 158us/step - loss: 0.3596 - acc: 0.8460\n",
      "\n",
      "Epoch 22/50\n",
      "3500/3500 [==============================]3500/3500 [==============================] - 1s 165us/step - loss: 0.3652 - acc: 0.8460\n",
      "\n",
      "Epoch 23/50\n",
      "3500/3500 [==============================]3500/3500 [==============================] - 1s 158us/step - loss: 0.3588 - acc: 0.8483\n",
      "\n",
      "Epoch 24/50\n",
      "3500/3500 [==============================]3500/3500 [==============================] - 1s 158us/step - loss: 0.3618 - acc: 0.8463\n",
      "\n",
      "Epoch 25/50\n",
      "3500/3500 [==============================]3500/3500 [==============================] - 1s 160us/step - loss: 0.3556 - acc: 0.8523\n",
      "\n",
      "Epoch 26/50\n",
      "3500/3500 [==============================]3500/3500 [==============================] - 1s 155us/step - loss: 0.3574 - acc: 0.8471\n",
      "\n",
      "Epoch 27/50\n",
      "3500/3500 [==============================]3500/3500 [==============================] - 1s 150us/step - loss: 0.3545 - acc: 0.8491\n",
      "\n",
      "Epoch 28/50\n",
      "3500/3500 [==============================]3500/3500 [==============================] - 0s 142us/step - loss: 0.3561 - acc: 0.8534\n",
      "\n",
      "Epoch 29/50\n",
      "3500/3500 [==============================]3500/3500 [==============================] - 1s 149us/step - loss: 0.3554 - acc: 0.8546\n",
      "\n",
      "Epoch 30/50\n",
      "3500/3500 [==============================]3500/3500 [==============================] - 1s 149us/step - loss: 0.3539 - acc: 0.8529\n",
      "\n",
      "Epoch 31/50\n",
      "3500/3500 [==============================]3500/3500 [==============================] - 1s 165us/step - loss: 0.3506 - acc: 0.8526\n",
      "\n",
      "Epoch 32/50\n",
      "3500/3500 [==============================]3500/3500 [==============================] - 1s 150us/step - loss: 0.3565 - acc: 0.8529\n",
      "\n",
      "Epoch 33/50\n",
      "3500/3500 [==============================]3500/3500 [==============================] - 1s 148us/step - loss: 0.3489 - acc: 0.8543\n",
      "\n",
      "Epoch 34/50\n",
      "3500/3500 [==============================]3500/3500 [==============================] - 1s 158us/step - loss: 0.3520 - acc: 0.8483\n",
      "\n",
      "Epoch 35/50\n",
      "3500/3500 [==============================]3500/3500 [==============================] - 1s 159us/step - loss: 0.3502 - acc: 0.8520\n",
      "\n",
      "Epoch 36/50\n",
      "3500/3500 [==============================]3500/3500 [==============================] - 1s 159us/step - loss: 0.3472 - acc: 0.8554\n",
      "\n",
      "Epoch 37/50\n",
      "3500/3500 [==============================]3500/3500 [==============================] - 1s 144us/step - loss: 0.3445 - acc: 0.8537\n",
      "\n",
      "Epoch 38/50\n",
      "3500/3500 [==============================]3500/3500 [==============================] - 0s 136us/step - loss: 0.3488 - acc: 0.8563\n",
      "\n",
      "Epoch 39/50\n",
      "3500/3500 [==============================]3500/3500 [==============================] - 1s 163us/step - loss: 0.3479 - acc: 0.8543\n",
      "\n",
      "Epoch 40/50\n",
      "3500/3500 [==============================]3500/3500 [==============================] - 1s 150us/step - loss: 0.3486 - acc: 0.8543\n",
      "\n",
      "Epoch 41/50\n",
      "3500/3500 [==============================]3500/3500 [==============================] - 0s 114us/step - loss: 0.3406 - acc: 0.8583\n",
      "\n",
      "Epoch 42/50\n",
      "3500/3500 [==============================]3500/3500 [==============================] - 0s 110us/step - loss: 0.3403 - acc: 0.8540\n",
      "\n",
      "Epoch 43/50\n",
      "3500/3500 [==============================]3500/3500 [==============================] - 0s 123us/step - loss: 0.3417 - acc: 0.8597\n",
      "\n",
      "Epoch 44/50\n",
      "3500/3500 [==============================]3500/3500 [==============================] - 0s 116us/step - loss: 0.3440 - acc: 0.8560\n",
      "\n",
      "Epoch 45/50\n",
      "3500/3500 [==============================]3500/3500 [==============================] - 0s 113us/step - loss: 0.3397 - acc: 0.8554\n",
      "\n",
      "Epoch 46/50\n",
      "3500/3500 [==============================]3500/3500 [==============================] - 0s 110us/step - loss: 0.3388 - acc: 0.8566\n",
      "\n",
      "Epoch 47/50\n",
      "3500/3500 [==============================]3500/3500 [==============================] - 0s 109us/step - loss: 0.3393 - acc: 0.8560\n",
      "\n",
      "Epoch 48/50\n",
      "3500/3500 [==============================]3500/3500 [==============================] - 0s 110us/step - loss: 0.3424 - acc: 0.8543\n",
      "\n",
      "Epoch 49/50\n",
      "3500/3500 [==============================]3500/3500 [==============================] - 0s 108us/step - loss: 0.3429 - acc: 0.8537\n",
      "\n",
      "Epoch 50/50\n",
      "3500/3500 [==============================]3500/3500 [==============================] - 0s 116us/step - loss: 0.3383 - acc: 0.8589\n",
      "\n",
      "3500/3500 [==============================]3500/3500 [==============================] - 0s 62us/step\n",
      "\n",
      "Epoch 1/50\n",
      "3500/3500 [==============================]3500/3500 [==============================] - 1s 198us/step - loss: 0.4903 - acc: 0.8014\n",
      "\n",
      "Epoch 2/50\n",
      "3500/3500 [==============================]3500/3500 [==============================] - 0s 110us/step - loss: 0.4667 - acc: 0.8014\n",
      "\n",
      "Epoch 3/50\n",
      "3500/3500 [==============================]3500/3500 [==============================] - 0s 110us/step - loss: 0.4550 - acc: 0.8049\n",
      "\n",
      "Epoch 4/50\n",
      "3500/3500 [==============================]3500/3500 [==============================] - 0s 113us/step - loss: 0.4500 - acc: 0.8083\n",
      "\n",
      "Epoch 5/50\n",
      "3500/3500 [==============================]3500/3500 [==============================] - 0s 111us/step - loss: 0.4405 - acc: 0.8126\n",
      "\n",
      "Epoch 6/50\n",
      "3500/3500 [==============================]3500/3500 [==============================] - 0s 115us/step - loss: 0.4391 - acc: 0.8166\n",
      "\n",
      "Epoch 7/50\n",
      "3500/3500 [==============================]3500/3500 [==============================] - 0s 113us/step - loss: 0.4287 - acc: 0.8183\n",
      "\n",
      "Epoch 8/50\n",
      "3500/3500 [==============================]3500/3500 [==============================] - 0s 110us/step - loss: 0.4295 - acc: 0.8260\n",
      "\n",
      "Epoch 9/50\n",
      "3500/3500 [==============================]3500/3500 [==============================] - 0s 109us/step - loss: 0.4253 - acc: 0.8206\n",
      "\n",
      "Epoch 10/50\n",
      "3500/3500 [==============================]3500/3500 [==============================] - 0s 109us/step - loss: 0.4217 - acc: 0.8297\n",
      "\n",
      "Epoch 11/50\n",
      "3500/3500 [==============================]3500/3500 [==============================] - 0s 111us/step - loss: 0.4117 - acc: 0.8286\n",
      "\n",
      "Epoch 12/50\n",
      "3500/3500 [==============================]3500/3500 [==============================] - 0s 124us/step - loss: 0.4141 - acc: 0.8331\n",
      "\n",
      "Epoch 13/50\n",
      "3500/3500 [==============================]3500/3500 [==============================] - 0s 116us/step - loss: 0.4056 - acc: 0.8320\n",
      "\n",
      "Epoch 14/50\n",
      "3500/3500 [==============================]3500/3500 [==============================] - 0s 119us/step - loss: 0.4015 - acc: 0.8323\n",
      "\n",
      "Epoch 15/50\n",
      "3500/3500 [==============================]3500/3500 [==============================] - 0s 116us/step - loss: 0.4010 - acc: 0.8354\n",
      "\n",
      "Epoch 16/50\n",
      "3500/3500 [==============================]3500/3500 [==============================] - 0s 120us/step - loss: 0.3963 - acc: 0.8380\n",
      "\n",
      "Epoch 17/50\n",
      "3500/3500 [==============================]3500/3500 [==============================] - 0s 122us/step - loss: 0.3975 - acc: 0.8369\n",
      "\n",
      "Epoch 18/50\n",
      "3500/3500 [==============================]3500/3500 [==============================] - 0s 116us/step - loss: 0.3930 - acc: 0.8383\n",
      "\n",
      "Epoch 19/50\n",
      "3500/3500 [==============================]3500/3500 [==============================] - 0s 116us/step - loss: 0.3864 - acc: 0.8377\n",
      "\n",
      "Epoch 20/50\n",
      "3500/3500 [==============================]3500/3500 [==============================] - 0s 115us/step - loss: 0.3818 - acc: 0.8417\n",
      "\n",
      "Epoch 21/50\n",
      "3500/3500 [==============================]3500/3500 [==============================] - 0s 116us/step - loss: 0.3808 - acc: 0.8406\n",
      "\n",
      "Epoch 22/50\n",
      "3500/3500 [==============================]3500/3500 [==============================] - 0s 130us/step - loss: 0.3741 - acc: 0.8449\n",
      "\n",
      "Epoch 23/50\n",
      "3500/3500 [==============================]3500/3500 [==============================] - 0s 123us/step - loss: 0.3780 - acc: 0.8406\n",
      "\n",
      "Epoch 24/50\n",
      "3500/3500 [==============================]3500/3500 [==============================] - 0s 122us/step - loss: 0.3686 - acc: 0.8471\n",
      "\n",
      "Epoch 25/50\n",
      "3500/3500 [==============================]3500/3500 [==============================] - 0s 127us/step - loss: 0.3732 - acc: 0.8440\n",
      "\n",
      "Epoch 26/50\n",
      "3500/3500 [==============================]3500/3500 [==============================] - 0s 127us/step - loss: 0.3690 - acc: 0.8463\n",
      "\n",
      "Epoch 27/50\n",
      "3500/3500 [==============================]3500/3500 [==============================] - 0s 118us/step - loss: 0.3630 - acc: 0.8511\n",
      "\n",
      "Epoch 28/50\n",
      "3500/3500 [==============================]3500/3500 [==============================] - 0s 114us/step - loss: 0.3648 - acc: 0.8483\n",
      "\n",
      "Epoch 29/50\n",
      "3500/3500 [==============================]3500/3500 [==============================] - 0s 111us/step - loss: 0.3628 - acc: 0.8494\n",
      "\n",
      "Epoch 30/50\n",
      "3500/3500 [==============================]3500/3500 [==============================] - 0s 111us/step - loss: 0.3603 - acc: 0.8520\n",
      "\n",
      "Epoch 31/50\n",
      "3500/3500 [==============================]3500/3500 [==============================] - 0s 122us/step - loss: 0.3597 - acc: 0.8543\n",
      "\n",
      "Epoch 32/50\n",
      "3500/3500 [==============================]3500/3500 [==============================] - 0s 129us/step - loss: 0.3555 - acc: 0.8554\n",
      "\n",
      "Epoch 33/50\n",
      "3500/3500 [==============================]3500/3500 [==============================] - 0s 124us/step - loss: 0.3523 - acc: 0.8597\n",
      "\n",
      "Epoch 34/50\n",
      "3500/3500 [==============================]3500/3500 [==============================] - 0s 128us/step - loss: 0.3503 - acc: 0.8589\n",
      "\n",
      "Epoch 35/50\n",
      "3500/3500 [==============================]3500/3500 [==============================] - 0s 136us/step - loss: 0.3475 - acc: 0.8574\n",
      "\n",
      "Epoch 36/50\n",
      "3500/3500 [==============================]3500/3500 [==============================] - 0s 136us/step - loss: 0.3511 - acc: 0.8540\n",
      "\n",
      "Epoch 37/50\n",
      "3500/3500 [==============================]3500/3500 [==============================] - 0s 124us/step - loss: 0.3512 - acc: 0.8583\n",
      "\n",
      "Epoch 38/50\n",
      "3500/3500 [==============================]3500/3500 [==============================] - 0s 116us/step - loss: 0.3440 - acc: 0.8594\n",
      "\n",
      "Epoch 39/50\n",
      "3500/3500 [==============================]3500/3500 [==============================] - 0s 119us/step - loss: 0.3532 - acc: 0.8543\n",
      "\n",
      "Epoch 40/50\n",
      "3500/3500 [==============================]3500/3500 [==============================] - 0s 121us/step - loss: 0.3468 - acc: 0.8589\n",
      "\n",
      "Epoch 41/50\n",
      "3500/3500 [==============================]3500/3500 [==============================] - 0s 129us/step - loss: 0.3440 - acc: 0.8583\n",
      "\n",
      "Epoch 42/50\n",
      "3500/3500 [==============================]3500/3500 [==============================] - 0s 125us/step - loss: 0.3513 - acc: 0.8569\n",
      "\n",
      "Epoch 43/50\n",
      "3500/3500 [==============================]3500/3500 [==============================] - 0s 127us/step - loss: 0.3438 - acc: 0.8600\n",
      "\n",
      "Epoch 44/50\n",
      "3500/3500 [==============================]3500/3500 [==============================] - 0s 124us/step - loss: 0.3403 - acc: 0.8600\n",
      "\n",
      "Epoch 45/50\n",
      "3500/3500 [==============================]3500/3500 [==============================] - 0s 119us/step - loss: 0.3407 - acc: 0.8609\n",
      "\n",
      "Epoch 46/50\n",
      "3500/3500 [==============================]3500/3500 [==============================] - 0s 130us/step - loss: 0.3416 - acc: 0.8597\n",
      "\n",
      "Epoch 47/50\n",
      "3500/3500 [==============================]3500/3500 [==============================] - 0s 137us/step - loss: 0.3424 - acc: 0.8594\n",
      "\n",
      "Epoch 48/50\n",
      "3500/3500 [==============================]3500/3500 [==============================] - 1s 176us/step - loss: 0.3510 - acc: 0.8577\n",
      "\n",
      "Epoch 49/50\n",
      "3500/3500 [==============================]3500/3500 [==============================] - 1s 199us/step - loss: 0.3412 - acc: 0.8600\n",
      "\n",
      "Epoch 50/50\n",
      "3500/3500 [==============================]3500/3500 [==============================] - 1s 194us/step - loss: 0.3386 - acc: 0.8586\n",
      "\n",
      "3500/3500 [==============================]3500/3500 [==============================] - 0s 93us/step\n",
      "\n"
     ]
    }
   ],
   "source": [
    "accuracies = cross_val_score(estimator=classifier, X=scaled_X_train, y=y_train, cv=2)"
   ]
  },
  {
   "cell_type": "code",
   "execution_count": 40,
   "metadata": {},
   "outputs": [
    {
     "data": {
      "text/plain": [
       "0.849857144185475"
      ]
     },
     "execution_count": 40,
     "metadata": {},
     "output_type": "execute_result"
    }
   ],
   "source": [
    "accuracies.mean()"
   ]
  },
  {
   "cell_type": "code",
   "execution_count": 41,
   "metadata": {},
   "outputs": [
    {
     "data": {
      "text/plain": [
       "0.0027142855439867275"
      ]
     },
     "execution_count": 41,
     "metadata": {},
     "output_type": "execute_result"
    }
   ],
   "source": [
    "accuracies.std()"
   ]
  }
 ],
 "metadata": {
  "kernelspec": {
   "display_name": "Python 3",
   "language": "python",
   "name": "python3"
  },
  "language_info": {
   "codemirror_mode": {
    "name": "ipython",
    "version": 3
   },
   "file_extension": ".py",
   "mimetype": "text/x-python",
   "name": "python",
   "nbconvert_exporter": "python",
   "pygments_lexer": "ipython3",
   "version": "3.6.4"
  }
 },
 "nbformat": 4,
 "nbformat_minor": 2
}
