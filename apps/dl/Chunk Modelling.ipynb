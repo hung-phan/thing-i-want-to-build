{
 "cells": [
  {
   "cell_type": "code",
   "execution_count": 1,
   "metadata": {},
   "outputs": [],
   "source": [
    "import tensorflow as tf\n",
    "import pandas as pd\n",
    "import numpy as np\n",
    "from sklearn.model_selection import train_test_split\n",
    "from sklearn.preprocessing import MinMaxScaler, LabelEncoder, OneHotEncoder"
   ]
  },
  {
   "cell_type": "markdown",
   "metadata": {},
   "source": [
    "## Input data"
   ]
  },
  {
   "cell_type": "code",
   "execution_count": 2,
   "metadata": {},
   "outputs": [],
   "source": [
    "df = pd.read_csv('./Churn_Modelling.csv')"
   ]
  },
  {
   "cell_type": "code",
   "execution_count": 3,
   "metadata": {},
   "outputs": [
    {
     "data": {
      "text/html": [
       "<div>\n",
       "<style scoped>\n",
       "    .dataframe tbody tr th:only-of-type {\n",
       "        vertical-align: middle;\n",
       "    }\n",
       "\n",
       "    .dataframe tbody tr th {\n",
       "        vertical-align: top;\n",
       "    }\n",
       "\n",
       "    .dataframe thead th {\n",
       "        text-align: right;\n",
       "    }\n",
       "</style>\n",
       "<table border=\"1\" class=\"dataframe\">\n",
       "  <thead>\n",
       "    <tr style=\"text-align: right;\">\n",
       "      <th></th>\n",
       "      <th>RowNumber</th>\n",
       "      <th>CustomerId</th>\n",
       "      <th>Surname</th>\n",
       "      <th>CreditScore</th>\n",
       "      <th>Geography</th>\n",
       "      <th>Gender</th>\n",
       "      <th>Age</th>\n",
       "      <th>Tenure</th>\n",
       "      <th>Balance</th>\n",
       "      <th>NumOfProducts</th>\n",
       "      <th>HasCrCard</th>\n",
       "      <th>IsActiveMember</th>\n",
       "      <th>EstimatedSalary</th>\n",
       "      <th>Exited</th>\n",
       "    </tr>\n",
       "  </thead>\n",
       "  <tbody>\n",
       "    <tr>\n",
       "      <th>0</th>\n",
       "      <td>1</td>\n",
       "      <td>15634602</td>\n",
       "      <td>Hargrave</td>\n",
       "      <td>619</td>\n",
       "      <td>France</td>\n",
       "      <td>Female</td>\n",
       "      <td>42</td>\n",
       "      <td>2</td>\n",
       "      <td>0.00</td>\n",
       "      <td>1</td>\n",
       "      <td>1</td>\n",
       "      <td>1</td>\n",
       "      <td>101348.88</td>\n",
       "      <td>1</td>\n",
       "    </tr>\n",
       "    <tr>\n",
       "      <th>1</th>\n",
       "      <td>2</td>\n",
       "      <td>15647311</td>\n",
       "      <td>Hill</td>\n",
       "      <td>608</td>\n",
       "      <td>Spain</td>\n",
       "      <td>Female</td>\n",
       "      <td>41</td>\n",
       "      <td>1</td>\n",
       "      <td>83807.86</td>\n",
       "      <td>1</td>\n",
       "      <td>0</td>\n",
       "      <td>1</td>\n",
       "      <td>112542.58</td>\n",
       "      <td>0</td>\n",
       "    </tr>\n",
       "    <tr>\n",
       "      <th>2</th>\n",
       "      <td>3</td>\n",
       "      <td>15619304</td>\n",
       "      <td>Onio</td>\n",
       "      <td>502</td>\n",
       "      <td>France</td>\n",
       "      <td>Female</td>\n",
       "      <td>42</td>\n",
       "      <td>8</td>\n",
       "      <td>159660.80</td>\n",
       "      <td>3</td>\n",
       "      <td>1</td>\n",
       "      <td>0</td>\n",
       "      <td>113931.57</td>\n",
       "      <td>1</td>\n",
       "    </tr>\n",
       "    <tr>\n",
       "      <th>3</th>\n",
       "      <td>4</td>\n",
       "      <td>15701354</td>\n",
       "      <td>Boni</td>\n",
       "      <td>699</td>\n",
       "      <td>France</td>\n",
       "      <td>Female</td>\n",
       "      <td>39</td>\n",
       "      <td>1</td>\n",
       "      <td>0.00</td>\n",
       "      <td>2</td>\n",
       "      <td>0</td>\n",
       "      <td>0</td>\n",
       "      <td>93826.63</td>\n",
       "      <td>0</td>\n",
       "    </tr>\n",
       "    <tr>\n",
       "      <th>4</th>\n",
       "      <td>5</td>\n",
       "      <td>15737888</td>\n",
       "      <td>Mitchell</td>\n",
       "      <td>850</td>\n",
       "      <td>Spain</td>\n",
       "      <td>Female</td>\n",
       "      <td>43</td>\n",
       "      <td>2</td>\n",
       "      <td>125510.82</td>\n",
       "      <td>1</td>\n",
       "      <td>1</td>\n",
       "      <td>1</td>\n",
       "      <td>79084.10</td>\n",
       "      <td>0</td>\n",
       "    </tr>\n",
       "  </tbody>\n",
       "</table>\n",
       "</div>"
      ],
      "text/plain": [
       "   RowNumber  CustomerId   Surname  CreditScore Geography  Gender  Age  \\\n",
       "0          1    15634602  Hargrave          619    France  Female   42   \n",
       "1          2    15647311      Hill          608     Spain  Female   41   \n",
       "2          3    15619304      Onio          502    France  Female   42   \n",
       "3          4    15701354      Boni          699    France  Female   39   \n",
       "4          5    15737888  Mitchell          850     Spain  Female   43   \n",
       "\n",
       "   Tenure    Balance  NumOfProducts  HasCrCard  IsActiveMember  \\\n",
       "0       2       0.00              1          1               1   \n",
       "1       1   83807.86              1          0               1   \n",
       "2       8  159660.80              3          1               0   \n",
       "3       1       0.00              2          0               0   \n",
       "4       2  125510.82              1          1               1   \n",
       "\n",
       "   EstimatedSalary  Exited  \n",
       "0        101348.88       1  \n",
       "1        112542.58       0  \n",
       "2        113931.57       1  \n",
       "3         93826.63       0  \n",
       "4         79084.10       0  "
      ]
     },
     "execution_count": 3,
     "metadata": {},
     "output_type": "execute_result"
    }
   ],
   "source": [
    "df.head()"
   ]
  },
  {
   "cell_type": "code",
   "execution_count": 4,
   "metadata": {},
   "outputs": [],
   "source": [
    "df = df.drop(['RowNumber', 'CustomerId', 'Surname'], axis=1)"
   ]
  },
  {
   "cell_type": "code",
   "execution_count": 5,
   "metadata": {},
   "outputs": [
    {
     "data": {
      "text/html": [
       "<div>\n",
       "<style scoped>\n",
       "    .dataframe tbody tr th:only-of-type {\n",
       "        vertical-align: middle;\n",
       "    }\n",
       "\n",
       "    .dataframe tbody tr th {\n",
       "        vertical-align: top;\n",
       "    }\n",
       "\n",
       "    .dataframe thead th {\n",
       "        text-align: right;\n",
       "    }\n",
       "</style>\n",
       "<table border=\"1\" class=\"dataframe\">\n",
       "  <thead>\n",
       "    <tr style=\"text-align: right;\">\n",
       "      <th></th>\n",
       "      <th>CreditScore</th>\n",
       "      <th>Geography</th>\n",
       "      <th>Gender</th>\n",
       "      <th>Age</th>\n",
       "      <th>Tenure</th>\n",
       "      <th>Balance</th>\n",
       "      <th>NumOfProducts</th>\n",
       "      <th>HasCrCard</th>\n",
       "      <th>IsActiveMember</th>\n",
       "      <th>EstimatedSalary</th>\n",
       "      <th>Exited</th>\n",
       "    </tr>\n",
       "  </thead>\n",
       "  <tbody>\n",
       "    <tr>\n",
       "      <th>0</th>\n",
       "      <td>619</td>\n",
       "      <td>France</td>\n",
       "      <td>Female</td>\n",
       "      <td>42</td>\n",
       "      <td>2</td>\n",
       "      <td>0.00</td>\n",
       "      <td>1</td>\n",
       "      <td>1</td>\n",
       "      <td>1</td>\n",
       "      <td>101348.88</td>\n",
       "      <td>1</td>\n",
       "    </tr>\n",
       "    <tr>\n",
       "      <th>1</th>\n",
       "      <td>608</td>\n",
       "      <td>Spain</td>\n",
       "      <td>Female</td>\n",
       "      <td>41</td>\n",
       "      <td>1</td>\n",
       "      <td>83807.86</td>\n",
       "      <td>1</td>\n",
       "      <td>0</td>\n",
       "      <td>1</td>\n",
       "      <td>112542.58</td>\n",
       "      <td>0</td>\n",
       "    </tr>\n",
       "    <tr>\n",
       "      <th>2</th>\n",
       "      <td>502</td>\n",
       "      <td>France</td>\n",
       "      <td>Female</td>\n",
       "      <td>42</td>\n",
       "      <td>8</td>\n",
       "      <td>159660.80</td>\n",
       "      <td>3</td>\n",
       "      <td>1</td>\n",
       "      <td>0</td>\n",
       "      <td>113931.57</td>\n",
       "      <td>1</td>\n",
       "    </tr>\n",
       "    <tr>\n",
       "      <th>3</th>\n",
       "      <td>699</td>\n",
       "      <td>France</td>\n",
       "      <td>Female</td>\n",
       "      <td>39</td>\n",
       "      <td>1</td>\n",
       "      <td>0.00</td>\n",
       "      <td>2</td>\n",
       "      <td>0</td>\n",
       "      <td>0</td>\n",
       "      <td>93826.63</td>\n",
       "      <td>0</td>\n",
       "    </tr>\n",
       "    <tr>\n",
       "      <th>4</th>\n",
       "      <td>850</td>\n",
       "      <td>Spain</td>\n",
       "      <td>Female</td>\n",
       "      <td>43</td>\n",
       "      <td>2</td>\n",
       "      <td>125510.82</td>\n",
       "      <td>1</td>\n",
       "      <td>1</td>\n",
       "      <td>1</td>\n",
       "      <td>79084.10</td>\n",
       "      <td>0</td>\n",
       "    </tr>\n",
       "  </tbody>\n",
       "</table>\n",
       "</div>"
      ],
      "text/plain": [
       "   CreditScore Geography  Gender  Age  Tenure    Balance  NumOfProducts  \\\n",
       "0          619    France  Female   42       2       0.00              1   \n",
       "1          608     Spain  Female   41       1   83807.86              1   \n",
       "2          502    France  Female   42       8  159660.80              3   \n",
       "3          699    France  Female   39       1       0.00              2   \n",
       "4          850     Spain  Female   43       2  125510.82              1   \n",
       "\n",
       "   HasCrCard  IsActiveMember  EstimatedSalary  Exited  \n",
       "0          1               1        101348.88       1  \n",
       "1          0               1        112542.58       0  \n",
       "2          1               0        113931.57       1  \n",
       "3          0               0         93826.63       0  \n",
       "4          1               1         79084.10       0  "
      ]
     },
     "execution_count": 5,
     "metadata": {},
     "output_type": "execute_result"
    }
   ],
   "source": [
    "df.head()"
   ]
  },
  {
   "cell_type": "code",
   "execution_count": 6,
   "metadata": {},
   "outputs": [],
   "source": [
    "X, y = df.drop(['Exited'], axis=1), df['Exited']"
   ]
  },
  {
   "cell_type": "markdown",
   "metadata": {},
   "source": [
    "## Preprocessing data"
   ]
  },
  {
   "cell_type": "code",
   "execution_count": 7,
   "metadata": {},
   "outputs": [],
   "source": [
    "geography_encoder = LabelEncoder()\n",
    "gender_encoder = LabelEncoder()"
   ]
  },
  {
   "cell_type": "code",
   "execution_count": 8,
   "metadata": {},
   "outputs": [],
   "source": [
    "X['Geography'] = geography_encoder.fit_transform(X['Geography'])"
   ]
  },
  {
   "cell_type": "code",
   "execution_count": 9,
   "metadata": {},
   "outputs": [],
   "source": [
    "X['Gender'] = gender_encoder.fit_transform(X['Gender'])"
   ]
  },
  {
   "cell_type": "code",
   "execution_count": 10,
   "metadata": {},
   "outputs": [
    {
     "data": {
      "text/html": [
       "<div>\n",
       "<style scoped>\n",
       "    .dataframe tbody tr th:only-of-type {\n",
       "        vertical-align: middle;\n",
       "    }\n",
       "\n",
       "    .dataframe tbody tr th {\n",
       "        vertical-align: top;\n",
       "    }\n",
       "\n",
       "    .dataframe thead th {\n",
       "        text-align: right;\n",
       "    }\n",
       "</style>\n",
       "<table border=\"1\" class=\"dataframe\">\n",
       "  <thead>\n",
       "    <tr style=\"text-align: right;\">\n",
       "      <th></th>\n",
       "      <th>CreditScore</th>\n",
       "      <th>Geography</th>\n",
       "      <th>Gender</th>\n",
       "      <th>Age</th>\n",
       "      <th>Tenure</th>\n",
       "      <th>Balance</th>\n",
       "      <th>NumOfProducts</th>\n",
       "      <th>HasCrCard</th>\n",
       "      <th>IsActiveMember</th>\n",
       "      <th>EstimatedSalary</th>\n",
       "    </tr>\n",
       "  </thead>\n",
       "  <tbody>\n",
       "    <tr>\n",
       "      <th>0</th>\n",
       "      <td>619</td>\n",
       "      <td>0</td>\n",
       "      <td>0</td>\n",
       "      <td>42</td>\n",
       "      <td>2</td>\n",
       "      <td>0.00</td>\n",
       "      <td>1</td>\n",
       "      <td>1</td>\n",
       "      <td>1</td>\n",
       "      <td>101348.88</td>\n",
       "    </tr>\n",
       "    <tr>\n",
       "      <th>1</th>\n",
       "      <td>608</td>\n",
       "      <td>2</td>\n",
       "      <td>0</td>\n",
       "      <td>41</td>\n",
       "      <td>1</td>\n",
       "      <td>83807.86</td>\n",
       "      <td>1</td>\n",
       "      <td>0</td>\n",
       "      <td>1</td>\n",
       "      <td>112542.58</td>\n",
       "    </tr>\n",
       "    <tr>\n",
       "      <th>2</th>\n",
       "      <td>502</td>\n",
       "      <td>0</td>\n",
       "      <td>0</td>\n",
       "      <td>42</td>\n",
       "      <td>8</td>\n",
       "      <td>159660.80</td>\n",
       "      <td>3</td>\n",
       "      <td>1</td>\n",
       "      <td>0</td>\n",
       "      <td>113931.57</td>\n",
       "    </tr>\n",
       "    <tr>\n",
       "      <th>3</th>\n",
       "      <td>699</td>\n",
       "      <td>0</td>\n",
       "      <td>0</td>\n",
       "      <td>39</td>\n",
       "      <td>1</td>\n",
       "      <td>0.00</td>\n",
       "      <td>2</td>\n",
       "      <td>0</td>\n",
       "      <td>0</td>\n",
       "      <td>93826.63</td>\n",
       "    </tr>\n",
       "    <tr>\n",
       "      <th>4</th>\n",
       "      <td>850</td>\n",
       "      <td>2</td>\n",
       "      <td>0</td>\n",
       "      <td>43</td>\n",
       "      <td>2</td>\n",
       "      <td>125510.82</td>\n",
       "      <td>1</td>\n",
       "      <td>1</td>\n",
       "      <td>1</td>\n",
       "      <td>79084.10</td>\n",
       "    </tr>\n",
       "  </tbody>\n",
       "</table>\n",
       "</div>"
      ],
      "text/plain": [
       "   CreditScore  Geography  Gender  Age  Tenure    Balance  NumOfProducts  \\\n",
       "0          619          0       0   42       2       0.00              1   \n",
       "1          608          2       0   41       1   83807.86              1   \n",
       "2          502          0       0   42       8  159660.80              3   \n",
       "3          699          0       0   39       1       0.00              2   \n",
       "4          850          2       0   43       2  125510.82              1   \n",
       "\n",
       "   HasCrCard  IsActiveMember  EstimatedSalary  \n",
       "0          1               1        101348.88  \n",
       "1          0               1        112542.58  \n",
       "2          1               0        113931.57  \n",
       "3          0               0         93826.63  \n",
       "4          1               1         79084.10  "
      ]
     },
     "execution_count": 10,
     "metadata": {},
     "output_type": "execute_result"
    }
   ],
   "source": [
    "X.head()"
   ]
  },
  {
   "cell_type": "code",
   "execution_count": 11,
   "metadata": {},
   "outputs": [
    {
     "data": {
      "text/plain": [
       "array([0, 2, 1])"
      ]
     },
     "execution_count": 11,
     "metadata": {},
     "output_type": "execute_result"
    }
   ],
   "source": [
    "X['Geography'].unique()"
   ]
  },
  {
   "cell_type": "code",
   "execution_count": 12,
   "metadata": {},
   "outputs": [],
   "source": [
    "one_hot_encoder = OneHotEncoder(categorical_features=[1])"
   ]
  },
  {
   "cell_type": "code",
   "execution_count": 13,
   "metadata": {},
   "outputs": [],
   "source": [
    "X_encoded = one_hot_encoder.fit_transform(X).toarray()"
   ]
  },
  {
   "cell_type": "code",
   "execution_count": 14,
   "metadata": {},
   "outputs": [
    {
     "data": {
      "text/plain": [
       "array([1.0000000e+00, 0.0000000e+00, 0.0000000e+00, 6.1900000e+02,\n",
       "       0.0000000e+00, 4.2000000e+01, 2.0000000e+00, 0.0000000e+00,\n",
       "       1.0000000e+00, 1.0000000e+00, 1.0000000e+00, 1.0134888e+05])"
      ]
     },
     "execution_count": 14,
     "metadata": {},
     "output_type": "execute_result"
    }
   ],
   "source": [
    "X_encoded[0]"
   ]
  },
  {
   "cell_type": "code",
   "execution_count": 15,
   "metadata": {},
   "outputs": [],
   "source": [
    "X_train, X_test, y_train, y_test = train_test_split(X_encoded, y, test_size=0.3, random_state=101)"
   ]
  },
  {
   "cell_type": "code",
   "execution_count": 16,
   "metadata": {},
   "outputs": [],
   "source": [
    "scaler = MinMaxScaler()"
   ]
  },
  {
   "cell_type": "code",
   "execution_count": 17,
   "metadata": {},
   "outputs": [],
   "source": [
    "scaled_X_train = scaler.fit_transform(X_train)"
   ]
  },
  {
   "cell_type": "code",
   "execution_count": 18,
   "metadata": {},
   "outputs": [
    {
     "name": "stdout",
     "output_type": "stream",
     "text": [
      "[0.0000000e+00 0.0000000e+00 1.0000000e+00 5.1100000e+02 0.0000000e+00\n",
      " 2.9000000e+01 9.0000000e+00 0.0000000e+00 2.0000000e+00 0.0000000e+00\n",
      " 1.0000000e+00 1.4067698e+05]\n",
      "[0.         0.         1.         0.322      0.         0.14864865\n",
      " 0.9        0.         0.33333333 0.         1.         0.70347065]\n"
     ]
    }
   ],
   "source": [
    "print(X_train[0])\n",
    "print(scaled_X_train[0])"
   ]
  },
  {
   "cell_type": "code",
   "execution_count": 19,
   "metadata": {},
   "outputs": [],
   "source": [
    "scaled_X_test = scaler.transform(X_test)"
   ]
  },
  {
   "cell_type": "code",
   "execution_count": 20,
   "metadata": {},
   "outputs": [
    {
     "data": {
      "text/plain": [
       "array([0.        , 0.        , 1.        , 0.538     , 1.        ,\n",
       "       0.45945946, 0.8       , 0.        , 0.33333333, 1.        ,\n",
       "       1.        , 0.61627849])"
      ]
     },
     "execution_count": 20,
     "metadata": {},
     "output_type": "execute_result"
    }
   ],
   "source": [
    "scaled_X_test[0]"
   ]
  },
  {
   "cell_type": "code",
   "execution_count": 21,
   "metadata": {},
   "outputs": [],
   "source": [
    "model = tf.keras.models.Sequential()"
   ]
  },
  {
   "cell_type": "code",
   "execution_count": 22,
   "metadata": {},
   "outputs": [],
   "source": [
    "model.add(tf.keras.layers.Dense(24, activation='relu', input_dim=12))"
   ]
  },
  {
   "cell_type": "code",
   "execution_count": 23,
   "metadata": {},
   "outputs": [],
   "source": [
    "model.add(tf.keras.layers.Dense(32, activation='relu'))"
   ]
  },
  {
   "cell_type": "code",
   "execution_count": 24,
   "metadata": {},
   "outputs": [],
   "source": [
    "model.add(tf.keras.layers.Dense(12, activation='relu'))"
   ]
  },
  {
   "cell_type": "code",
   "execution_count": 25,
   "metadata": {},
   "outputs": [],
   "source": [
    "model.add(tf.keras.layers.Dense(2, activation='softmax'))"
   ]
  },
  {
   "cell_type": "code",
   "execution_count": 26,
   "metadata": {},
   "outputs": [],
   "source": [
    "model.compile(\n",
    "    optimizer='adam',\n",
    "    loss='sparse_categorical_crossentropy',\n",
    "    metrics=['accuracy']\n",
    ")"
   ]
  },
  {
   "cell_type": "code",
   "execution_count": 27,
   "metadata": {},
   "outputs": [
    {
     "name": "stdout",
     "output_type": "stream",
     "text": [
      "Epoch 1/50\n",
      "7000/7000 [==============================]7000/7000 [==============================] - 1s 79us/step - loss: 0.5095 - acc: 0.7691\n",
      "\n",
      "Epoch 2/50\n",
      "7000/7000 [==============================]7000/7000 [==============================] - 0s 47us/step - loss: 0.4593 - acc: 0.8020\n",
      "\n",
      "Epoch 3/50\n",
      "7000/7000 [==============================]7000/7000 [==============================] - 0s 52us/step - loss: 0.4403 - acc: 0.8133\n",
      "\n",
      "Epoch 4/50\n",
      "7000/7000 [==============================]7000/7000 [==============================] - 0s 50us/step - loss: 0.4283 - acc: 0.8193\n",
      "\n",
      "Epoch 5/50\n",
      "7000/7000 [==============================]7000/7000 [==============================] - 0s 52us/step - loss: 0.4173 - acc: 0.8251\n",
      "\n",
      "Epoch 6/50\n",
      "7000/7000 [==============================]7000/7000 [==============================] - 0s 49us/step - loss: 0.3999 - acc: 0.8371\n",
      "\n",
      "Epoch 7/50\n",
      "7000/7000 [==============================]7000/7000 [==============================] - 0s 45us/step - loss: 0.3829 - acc: 0.8436\n",
      "\n",
      "Epoch 8/50\n",
      "7000/7000 [==============================]7000/7000 [==============================] - 0s 49us/step - loss: 0.3686 - acc: 0.8506\n",
      "\n",
      "Epoch 9/50\n",
      "7000/7000 [==============================]7000/7000 [==============================] - 0s 49us/step - loss: 0.3608 - acc: 0.8549\n",
      "\n",
      "Epoch 10/50\n",
      "7000/7000 [==============================]7000/7000 [==============================] - 0s 51us/step - loss: 0.3594 - acc: 0.8551\n",
      "\n",
      "Epoch 11/50\n",
      "7000/7000 [==============================]7000/7000 [==============================] - 0s 48us/step - loss: 0.3553 - acc: 0.8567\n",
      "\n",
      "Epoch 12/50\n",
      "7000/7000 [==============================]7000/7000 [==============================] - 0s 50us/step - loss: 0.3536 - acc: 0.8546\n",
      "\n",
      "Epoch 13/50\n",
      "7000/7000 [==============================]7000/7000 [==============================] - 0s 52us/step - loss: 0.3497 - acc: 0.8586\n",
      "\n",
      "Epoch 14/50\n",
      "7000/7000 [==============================]7000/7000 [==============================] - 0s 51us/step - loss: 0.3496 - acc: 0.8567\n",
      "\n",
      "Epoch 15/50\n",
      "7000/7000 [==============================]7000/7000 [==============================] - 0s 51us/step - loss: 0.3467 - acc: 0.8577\n",
      "\n",
      "Epoch 16/50\n",
      "7000/7000 [==============================]7000/7000 [==============================] - 0s 53us/step - loss: 0.3448 - acc: 0.8573\n",
      "\n",
      "Epoch 17/50\n",
      "7000/7000 [==============================]7000/7000 [==============================] - 0s 50us/step - loss: 0.3443 - acc: 0.8584\n",
      "\n",
      "Epoch 18/50\n",
      "7000/7000 [==============================]7000/7000 [==============================] - 0s 50us/step - loss: 0.3442 - acc: 0.8591\n",
      "\n",
      "Epoch 19/50\n",
      "7000/7000 [==============================]7000/7000 [==============================] - 0s 52us/step - loss: 0.3427 - acc: 0.8584\n",
      "\n",
      "Epoch 20/50\n",
      "7000/7000 [==============================]7000/7000 [==============================] - 0s 54us/step - loss: 0.3389 - acc: 0.8604\n",
      "\n",
      "Epoch 21/50\n",
      "7000/7000 [==============================]7000/7000 [==============================] - 0s 52us/step - loss: 0.3373 - acc: 0.8643\n",
      "\n",
      "Epoch 22/50\n",
      "7000/7000 [==============================]7000/7000 [==============================] - 0s 52us/step - loss: 0.3366 - acc: 0.8603\n",
      "\n",
      "Epoch 23/50\n",
      "7000/7000 [==============================]7000/7000 [==============================] - 0s 51us/step - loss: 0.3354 - acc: 0.8621\n",
      "\n",
      "Epoch 24/50\n",
      "7000/7000 [==============================]7000/7000 [==============================] - 0s 51us/step - loss: 0.3354 - acc: 0.8633\n",
      "\n",
      "Epoch 25/50\n",
      "7000/7000 [==============================]7000/7000 [==============================] - 0s 51us/step - loss: 0.3341 - acc: 0.8621\n",
      "\n",
      "Epoch 26/50\n",
      "7000/7000 [==============================]7000/7000 [==============================] - 0s 51us/step - loss: 0.3352 - acc: 0.8623\n",
      "\n",
      "Epoch 27/50\n",
      "7000/7000 [==============================]7000/7000 [==============================] - 0s 53us/step - loss: 0.3345 - acc: 0.8636\n",
      "\n",
      "Epoch 28/50\n",
      "7000/7000 [==============================]7000/7000 [==============================] - 0s 50us/step - loss: 0.3335 - acc: 0.8620\n",
      "\n",
      "Epoch 29/50\n",
      "7000/7000 [==============================]7000/7000 [==============================] - 0s 51us/step - loss: 0.3324 - acc: 0.8627\n",
      "\n",
      "Epoch 30/50\n",
      "7000/7000 [==============================]7000/7000 [==============================] - 0s 48us/step - loss: 0.3305 - acc: 0.8626\n",
      "\n",
      "Epoch 31/50\n",
      "7000/7000 [==============================]7000/7000 [==============================] - 0s 48us/step - loss: 0.3295 - acc: 0.8667\n",
      "\n",
      "Epoch 32/50\n",
      "7000/7000 [==============================]7000/7000 [==============================] - 0s 50us/step - loss: 0.3307 - acc: 0.8661\n",
      "\n",
      "Epoch 33/50\n",
      "7000/7000 [==============================]7000/7000 [==============================] - 0s 51us/step - loss: 0.3280 - acc: 0.8649\n",
      "\n",
      "Epoch 34/50\n",
      "7000/7000 [==============================]7000/7000 [==============================] - 0s 52us/step - loss: 0.3288 - acc: 0.8651\n",
      "\n",
      "Epoch 35/50\n",
      "7000/7000 [==============================]7000/7000 [==============================] - 0s 51us/step - loss: 0.3285 - acc: 0.8637\n",
      "\n",
      "Epoch 36/50\n",
      "7000/7000 [==============================]7000/7000 [==============================] - 0s 55us/step - loss: 0.3264 - acc: 0.8654\n",
      "\n",
      "Epoch 37/50\n",
      "7000/7000 [==============================]7000/7000 [==============================] - 0s 52us/step - loss: 0.3268 - acc: 0.8656\n",
      "\n",
      "Epoch 38/50\n",
      "7000/7000 [==============================]7000/7000 [==============================] - 0s 53us/step - loss: 0.3248 - acc: 0.8671\n",
      "\n",
      "Epoch 39/50\n",
      "7000/7000 [==============================]7000/7000 [==============================] - 0s 49us/step - loss: 0.3245 - acc: 0.8664\n",
      "\n",
      "Epoch 40/50\n",
      "7000/7000 [==============================]7000/7000 [==============================] - 0s 50us/step - loss: 0.3254 - acc: 0.8653\n",
      "\n",
      "Epoch 41/50\n",
      "7000/7000 [==============================]7000/7000 [==============================] - 0s 50us/step - loss: 0.3226 - acc: 0.8660\n",
      "\n",
      "Epoch 42/50\n",
      "7000/7000 [==============================]7000/7000 [==============================] - 0s 50us/step - loss: 0.3219 - acc: 0.8659\n",
      "\n",
      "Epoch 43/50\n",
      "7000/7000 [==============================]7000/7000 [==============================] - 0s 48us/step - loss: 0.3237 - acc: 0.8654\n",
      "\n",
      "Epoch 44/50\n",
      "7000/7000 [==============================]7000/7000 [==============================] - 0s 48us/step - loss: 0.3216 - acc: 0.8669\n",
      "\n",
      "Epoch 45/50\n",
      "7000/7000 [==============================]7000/7000 [==============================] - 0s 48us/step - loss: 0.3203 - acc: 0.8687\n",
      "\n",
      "Epoch 46/50\n",
      "7000/7000 [==============================]7000/7000 [==============================] - 0s 49us/step - loss: 0.3222 - acc: 0.8667\n",
      "\n",
      "Epoch 47/50\n",
      "7000/7000 [==============================]7000/7000 [==============================] - 0s 50us/step - loss: 0.3198 - acc: 0.8683\n",
      "\n",
      "Epoch 48/50\n",
      "7000/7000 [==============================]7000/7000 [==============================] - 0s 49us/step - loss: 0.3199 - acc: 0.8669\n",
      "\n",
      "Epoch 49/50\n",
      "7000/7000 [==============================]7000/7000 [==============================] - 0s 49us/step - loss: 0.3193 - acc: 0.8670\n",
      "\n",
      "Epoch 50/50\n",
      "7000/7000 [==============================]7000/7000 [==============================] - 0s 55us/step - loss: 0.3172 - acc: 0.8681\n",
      "\n"
     ]
    },
    {
     "data": {
      "text/plain": [
       "<tensorflow.python.keras._impl.keras.callbacks.History at 0x121a247f0>"
      ]
     },
     "execution_count": 27,
     "metadata": {},
     "output_type": "execute_result"
    }
   ],
   "source": [
    "model.fit(scaled_X_train, y_train, epochs=50)"
   ]
  },
  {
   "cell_type": "code",
   "execution_count": 28,
   "metadata": {},
   "outputs": [],
   "source": [
    "y_pred = model.predict(scaled_X_test)"
   ]
  },
  {
   "cell_type": "code",
   "execution_count": 29,
   "metadata": {},
   "outputs": [
    {
     "data": {
      "text/plain": [
       "array([[0.9673089 , 0.03269113],\n",
       "       [0.9525623 , 0.04743778],\n",
       "       [0.42226192, 0.5777381 ],\n",
       "       ...,\n",
       "       [0.98815596, 0.01184408],\n",
       "       [0.42085975, 0.5791402 ],\n",
       "       [0.56153035, 0.43846962]], dtype=float32)"
      ]
     },
     "execution_count": 29,
     "metadata": {},
     "output_type": "execute_result"
    }
   ],
   "source": [
    "y_pred"
   ]
  },
  {
   "cell_type": "code",
   "execution_count": 30,
   "metadata": {},
   "outputs": [],
   "source": [
    "from sklearn.metrics import classification_report"
   ]
  },
  {
   "cell_type": "code",
   "execution_count": 31,
   "metadata": {},
   "outputs": [],
   "source": [
    "y_pred = [np.argmax(x) for x in y_pred]"
   ]
  },
  {
   "cell_type": "code",
   "execution_count": 32,
   "metadata": {},
   "outputs": [
    {
     "name": "stdout",
     "output_type": "stream",
     "text": [
      "             precision    recall  f1-score   support\n",
      "\n",
      "          0       0.89      0.95      0.92      2378\n",
      "          1       0.74      0.54      0.63       622\n",
      "\n",
      "avg / total       0.86      0.87      0.86      3000\n",
      "\n"
     ]
    }
   ],
   "source": [
    "print(classification_report(y_test, y_pred))"
   ]
  },
  {
   "cell_type": "code",
   "execution_count": null,
   "metadata": {},
   "outputs": [],
   "source": []
  }
 ],
 "metadata": {
  "kernelspec": {
   "display_name": "Python 3",
   "language": "python",
   "name": "python3"
  },
  "language_info": {
   "codemirror_mode": {
    "name": "ipython",
    "version": 3
   },
   "file_extension": ".py",
   "mimetype": "text/x-python",
   "name": "python",
   "nbconvert_exporter": "python",
   "pygments_lexer": "ipython3",
   "version": "3.6.4"
  }
 },
 "nbformat": 4,
 "nbformat_minor": 2
}
