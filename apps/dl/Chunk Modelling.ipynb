{
 "cells": [
  {
   "cell_type": "code",
   "execution_count": 1,
   "metadata": {},
   "outputs": [],
   "source": [
    "import tensorflow as tf\n",
    "import pandas as pd\n",
    "import numpy as np\n",
    "from sklearn.model_selection import train_test_split, cross_val_score, GridSearchCV\n",
    "from sklearn.preprocessing import MinMaxScaler, LabelEncoder, OneHotEncoder"
   ]
  },
  {
   "cell_type": "markdown",
   "metadata": {},
   "source": [
    "## Input data"
   ]
  },
  {
   "cell_type": "code",
   "execution_count": 2,
   "metadata": {},
   "outputs": [],
   "source": [
    "df = pd.read_csv('./Churn_Modelling.csv')"
   ]
  },
  {
   "cell_type": "code",
   "execution_count": 3,
   "metadata": {},
   "outputs": [
    {
     "data": {
      "text/html": [
       "<div>\n",
       "<style scoped>\n",
       "    .dataframe tbody tr th:only-of-type {\n",
       "        vertical-align: middle;\n",
       "    }\n",
       "\n",
       "    .dataframe tbody tr th {\n",
       "        vertical-align: top;\n",
       "    }\n",
       "\n",
       "    .dataframe thead th {\n",
       "        text-align: right;\n",
       "    }\n",
       "</style>\n",
       "<table border=\"1\" class=\"dataframe\">\n",
       "  <thead>\n",
       "    <tr style=\"text-align: right;\">\n",
       "      <th></th>\n",
       "      <th>RowNumber</th>\n",
       "      <th>CustomerId</th>\n",
       "      <th>Surname</th>\n",
       "      <th>CreditScore</th>\n",
       "      <th>Geography</th>\n",
       "      <th>Gender</th>\n",
       "      <th>Age</th>\n",
       "      <th>Tenure</th>\n",
       "      <th>Balance</th>\n",
       "      <th>NumOfProducts</th>\n",
       "      <th>HasCrCard</th>\n",
       "      <th>IsActiveMember</th>\n",
       "      <th>EstimatedSalary</th>\n",
       "      <th>Exited</th>\n",
       "    </tr>\n",
       "  </thead>\n",
       "  <tbody>\n",
       "    <tr>\n",
       "      <th>0</th>\n",
       "      <td>1</td>\n",
       "      <td>15634602</td>\n",
       "      <td>Hargrave</td>\n",
       "      <td>619</td>\n",
       "      <td>France</td>\n",
       "      <td>Female</td>\n",
       "      <td>42</td>\n",
       "      <td>2</td>\n",
       "      <td>0.00</td>\n",
       "      <td>1</td>\n",
       "      <td>1</td>\n",
       "      <td>1</td>\n",
       "      <td>101348.88</td>\n",
       "      <td>1</td>\n",
       "    </tr>\n",
       "    <tr>\n",
       "      <th>1</th>\n",
       "      <td>2</td>\n",
       "      <td>15647311</td>\n",
       "      <td>Hill</td>\n",
       "      <td>608</td>\n",
       "      <td>Spain</td>\n",
       "      <td>Female</td>\n",
       "      <td>41</td>\n",
       "      <td>1</td>\n",
       "      <td>83807.86</td>\n",
       "      <td>1</td>\n",
       "      <td>0</td>\n",
       "      <td>1</td>\n",
       "      <td>112542.58</td>\n",
       "      <td>0</td>\n",
       "    </tr>\n",
       "    <tr>\n",
       "      <th>2</th>\n",
       "      <td>3</td>\n",
       "      <td>15619304</td>\n",
       "      <td>Onio</td>\n",
       "      <td>502</td>\n",
       "      <td>France</td>\n",
       "      <td>Female</td>\n",
       "      <td>42</td>\n",
       "      <td>8</td>\n",
       "      <td>159660.80</td>\n",
       "      <td>3</td>\n",
       "      <td>1</td>\n",
       "      <td>0</td>\n",
       "      <td>113931.57</td>\n",
       "      <td>1</td>\n",
       "    </tr>\n",
       "    <tr>\n",
       "      <th>3</th>\n",
       "      <td>4</td>\n",
       "      <td>15701354</td>\n",
       "      <td>Boni</td>\n",
       "      <td>699</td>\n",
       "      <td>France</td>\n",
       "      <td>Female</td>\n",
       "      <td>39</td>\n",
       "      <td>1</td>\n",
       "      <td>0.00</td>\n",
       "      <td>2</td>\n",
       "      <td>0</td>\n",
       "      <td>0</td>\n",
       "      <td>93826.63</td>\n",
       "      <td>0</td>\n",
       "    </tr>\n",
       "    <tr>\n",
       "      <th>4</th>\n",
       "      <td>5</td>\n",
       "      <td>15737888</td>\n",
       "      <td>Mitchell</td>\n",
       "      <td>850</td>\n",
       "      <td>Spain</td>\n",
       "      <td>Female</td>\n",
       "      <td>43</td>\n",
       "      <td>2</td>\n",
       "      <td>125510.82</td>\n",
       "      <td>1</td>\n",
       "      <td>1</td>\n",
       "      <td>1</td>\n",
       "      <td>79084.10</td>\n",
       "      <td>0</td>\n",
       "    </tr>\n",
       "  </tbody>\n",
       "</table>\n",
       "</div>"
      ],
      "text/plain": [
       "   RowNumber  CustomerId   Surname  CreditScore Geography  Gender  Age  \\\n",
       "0          1    15634602  Hargrave          619    France  Female   42   \n",
       "1          2    15647311      Hill          608     Spain  Female   41   \n",
       "2          3    15619304      Onio          502    France  Female   42   \n",
       "3          4    15701354      Boni          699    France  Female   39   \n",
       "4          5    15737888  Mitchell          850     Spain  Female   43   \n",
       "\n",
       "   Tenure    Balance  NumOfProducts  HasCrCard  IsActiveMember  \\\n",
       "0       2       0.00              1          1               1   \n",
       "1       1   83807.86              1          0               1   \n",
       "2       8  159660.80              3          1               0   \n",
       "3       1       0.00              2          0               0   \n",
       "4       2  125510.82              1          1               1   \n",
       "\n",
       "   EstimatedSalary  Exited  \n",
       "0        101348.88       1  \n",
       "1        112542.58       0  \n",
       "2        113931.57       1  \n",
       "3         93826.63       0  \n",
       "4         79084.10       0  "
      ]
     },
     "execution_count": 3,
     "metadata": {},
     "output_type": "execute_result"
    }
   ],
   "source": [
    "df.head()"
   ]
  },
  {
   "cell_type": "code",
   "execution_count": 4,
   "metadata": {},
   "outputs": [],
   "source": [
    "df = df.drop(['RowNumber', 'CustomerId', 'Surname'], axis=1)"
   ]
  },
  {
   "cell_type": "code",
   "execution_count": 5,
   "metadata": {},
   "outputs": [
    {
     "data": {
      "text/html": [
       "<div>\n",
       "<style scoped>\n",
       "    .dataframe tbody tr th:only-of-type {\n",
       "        vertical-align: middle;\n",
       "    }\n",
       "\n",
       "    .dataframe tbody tr th {\n",
       "        vertical-align: top;\n",
       "    }\n",
       "\n",
       "    .dataframe thead th {\n",
       "        text-align: right;\n",
       "    }\n",
       "</style>\n",
       "<table border=\"1\" class=\"dataframe\">\n",
       "  <thead>\n",
       "    <tr style=\"text-align: right;\">\n",
       "      <th></th>\n",
       "      <th>CreditScore</th>\n",
       "      <th>Geography</th>\n",
       "      <th>Gender</th>\n",
       "      <th>Age</th>\n",
       "      <th>Tenure</th>\n",
       "      <th>Balance</th>\n",
       "      <th>NumOfProducts</th>\n",
       "      <th>HasCrCard</th>\n",
       "      <th>IsActiveMember</th>\n",
       "      <th>EstimatedSalary</th>\n",
       "      <th>Exited</th>\n",
       "    </tr>\n",
       "  </thead>\n",
       "  <tbody>\n",
       "    <tr>\n",
       "      <th>0</th>\n",
       "      <td>619</td>\n",
       "      <td>France</td>\n",
       "      <td>Female</td>\n",
       "      <td>42</td>\n",
       "      <td>2</td>\n",
       "      <td>0.00</td>\n",
       "      <td>1</td>\n",
       "      <td>1</td>\n",
       "      <td>1</td>\n",
       "      <td>101348.88</td>\n",
       "      <td>1</td>\n",
       "    </tr>\n",
       "    <tr>\n",
       "      <th>1</th>\n",
       "      <td>608</td>\n",
       "      <td>Spain</td>\n",
       "      <td>Female</td>\n",
       "      <td>41</td>\n",
       "      <td>1</td>\n",
       "      <td>83807.86</td>\n",
       "      <td>1</td>\n",
       "      <td>0</td>\n",
       "      <td>1</td>\n",
       "      <td>112542.58</td>\n",
       "      <td>0</td>\n",
       "    </tr>\n",
       "    <tr>\n",
       "      <th>2</th>\n",
       "      <td>502</td>\n",
       "      <td>France</td>\n",
       "      <td>Female</td>\n",
       "      <td>42</td>\n",
       "      <td>8</td>\n",
       "      <td>159660.80</td>\n",
       "      <td>3</td>\n",
       "      <td>1</td>\n",
       "      <td>0</td>\n",
       "      <td>113931.57</td>\n",
       "      <td>1</td>\n",
       "    </tr>\n",
       "    <tr>\n",
       "      <th>3</th>\n",
       "      <td>699</td>\n",
       "      <td>France</td>\n",
       "      <td>Female</td>\n",
       "      <td>39</td>\n",
       "      <td>1</td>\n",
       "      <td>0.00</td>\n",
       "      <td>2</td>\n",
       "      <td>0</td>\n",
       "      <td>0</td>\n",
       "      <td>93826.63</td>\n",
       "      <td>0</td>\n",
       "    </tr>\n",
       "    <tr>\n",
       "      <th>4</th>\n",
       "      <td>850</td>\n",
       "      <td>Spain</td>\n",
       "      <td>Female</td>\n",
       "      <td>43</td>\n",
       "      <td>2</td>\n",
       "      <td>125510.82</td>\n",
       "      <td>1</td>\n",
       "      <td>1</td>\n",
       "      <td>1</td>\n",
       "      <td>79084.10</td>\n",
       "      <td>0</td>\n",
       "    </tr>\n",
       "  </tbody>\n",
       "</table>\n",
       "</div>"
      ],
      "text/plain": [
       "   CreditScore Geography  Gender  Age  Tenure    Balance  NumOfProducts  \\\n",
       "0          619    France  Female   42       2       0.00              1   \n",
       "1          608     Spain  Female   41       1   83807.86              1   \n",
       "2          502    France  Female   42       8  159660.80              3   \n",
       "3          699    France  Female   39       1       0.00              2   \n",
       "4          850     Spain  Female   43       2  125510.82              1   \n",
       "\n",
       "   HasCrCard  IsActiveMember  EstimatedSalary  Exited  \n",
       "0          1               1        101348.88       1  \n",
       "1          0               1        112542.58       0  \n",
       "2          1               0        113931.57       1  \n",
       "3          0               0         93826.63       0  \n",
       "4          1               1         79084.10       0  "
      ]
     },
     "execution_count": 5,
     "metadata": {},
     "output_type": "execute_result"
    }
   ],
   "source": [
    "df.head()"
   ]
  },
  {
   "cell_type": "code",
   "execution_count": 6,
   "metadata": {},
   "outputs": [],
   "source": [
    "X, y = df.drop(['Exited'], axis=1), df['Exited']"
   ]
  },
  {
   "cell_type": "markdown",
   "metadata": {},
   "source": [
    "## Preprocessing data"
   ]
  },
  {
   "cell_type": "code",
   "execution_count": 7,
   "metadata": {},
   "outputs": [],
   "source": [
    "geography_encoder = LabelEncoder()\n",
    "gender_encoder = LabelEncoder()"
   ]
  },
  {
   "cell_type": "code",
   "execution_count": 8,
   "metadata": {},
   "outputs": [],
   "source": [
    "X['Geography'] = geography_encoder.fit_transform(X['Geography'])"
   ]
  },
  {
   "cell_type": "code",
   "execution_count": 9,
   "metadata": {},
   "outputs": [],
   "source": [
    "X['Gender'] = gender_encoder.fit_transform(X['Gender'])"
   ]
  },
  {
   "cell_type": "code",
   "execution_count": 10,
   "metadata": {},
   "outputs": [
    {
     "data": {
      "text/html": [
       "<div>\n",
       "<style scoped>\n",
       "    .dataframe tbody tr th:only-of-type {\n",
       "        vertical-align: middle;\n",
       "    }\n",
       "\n",
       "    .dataframe tbody tr th {\n",
       "        vertical-align: top;\n",
       "    }\n",
       "\n",
       "    .dataframe thead th {\n",
       "        text-align: right;\n",
       "    }\n",
       "</style>\n",
       "<table border=\"1\" class=\"dataframe\">\n",
       "  <thead>\n",
       "    <tr style=\"text-align: right;\">\n",
       "      <th></th>\n",
       "      <th>CreditScore</th>\n",
       "      <th>Geography</th>\n",
       "      <th>Gender</th>\n",
       "      <th>Age</th>\n",
       "      <th>Tenure</th>\n",
       "      <th>Balance</th>\n",
       "      <th>NumOfProducts</th>\n",
       "      <th>HasCrCard</th>\n",
       "      <th>IsActiveMember</th>\n",
       "      <th>EstimatedSalary</th>\n",
       "    </tr>\n",
       "  </thead>\n",
       "  <tbody>\n",
       "    <tr>\n",
       "      <th>0</th>\n",
       "      <td>619</td>\n",
       "      <td>0</td>\n",
       "      <td>0</td>\n",
       "      <td>42</td>\n",
       "      <td>2</td>\n",
       "      <td>0.00</td>\n",
       "      <td>1</td>\n",
       "      <td>1</td>\n",
       "      <td>1</td>\n",
       "      <td>101348.88</td>\n",
       "    </tr>\n",
       "    <tr>\n",
       "      <th>1</th>\n",
       "      <td>608</td>\n",
       "      <td>2</td>\n",
       "      <td>0</td>\n",
       "      <td>41</td>\n",
       "      <td>1</td>\n",
       "      <td>83807.86</td>\n",
       "      <td>1</td>\n",
       "      <td>0</td>\n",
       "      <td>1</td>\n",
       "      <td>112542.58</td>\n",
       "    </tr>\n",
       "    <tr>\n",
       "      <th>2</th>\n",
       "      <td>502</td>\n",
       "      <td>0</td>\n",
       "      <td>0</td>\n",
       "      <td>42</td>\n",
       "      <td>8</td>\n",
       "      <td>159660.80</td>\n",
       "      <td>3</td>\n",
       "      <td>1</td>\n",
       "      <td>0</td>\n",
       "      <td>113931.57</td>\n",
       "    </tr>\n",
       "    <tr>\n",
       "      <th>3</th>\n",
       "      <td>699</td>\n",
       "      <td>0</td>\n",
       "      <td>0</td>\n",
       "      <td>39</td>\n",
       "      <td>1</td>\n",
       "      <td>0.00</td>\n",
       "      <td>2</td>\n",
       "      <td>0</td>\n",
       "      <td>0</td>\n",
       "      <td>93826.63</td>\n",
       "    </tr>\n",
       "    <tr>\n",
       "      <th>4</th>\n",
       "      <td>850</td>\n",
       "      <td>2</td>\n",
       "      <td>0</td>\n",
       "      <td>43</td>\n",
       "      <td>2</td>\n",
       "      <td>125510.82</td>\n",
       "      <td>1</td>\n",
       "      <td>1</td>\n",
       "      <td>1</td>\n",
       "      <td>79084.10</td>\n",
       "    </tr>\n",
       "  </tbody>\n",
       "</table>\n",
       "</div>"
      ],
      "text/plain": [
       "   CreditScore  Geography  Gender  Age  Tenure    Balance  NumOfProducts  \\\n",
       "0          619          0       0   42       2       0.00              1   \n",
       "1          608          2       0   41       1   83807.86              1   \n",
       "2          502          0       0   42       8  159660.80              3   \n",
       "3          699          0       0   39       1       0.00              2   \n",
       "4          850          2       0   43       2  125510.82              1   \n",
       "\n",
       "   HasCrCard  IsActiveMember  EstimatedSalary  \n",
       "0          1               1        101348.88  \n",
       "1          0               1        112542.58  \n",
       "2          1               0        113931.57  \n",
       "3          0               0         93826.63  \n",
       "4          1               1         79084.10  "
      ]
     },
     "execution_count": 10,
     "metadata": {},
     "output_type": "execute_result"
    }
   ],
   "source": [
    "X.head()"
   ]
  },
  {
   "cell_type": "code",
   "execution_count": 11,
   "metadata": {},
   "outputs": [
    {
     "data": {
      "text/plain": [
       "array([0, 2, 1])"
      ]
     },
     "execution_count": 11,
     "metadata": {},
     "output_type": "execute_result"
    }
   ],
   "source": [
    "X['Geography'].unique()"
   ]
  },
  {
   "cell_type": "code",
   "execution_count": 12,
   "metadata": {},
   "outputs": [],
   "source": [
    "one_hot_encoder = OneHotEncoder(categorical_features=[1])"
   ]
  },
  {
   "cell_type": "code",
   "execution_count": 13,
   "metadata": {},
   "outputs": [],
   "source": [
    "X_encoded = one_hot_encoder.fit_transform(X).toarray()"
   ]
  },
  {
   "cell_type": "code",
   "execution_count": 14,
   "metadata": {},
   "outputs": [
    {
     "data": {
      "text/plain": [
       "array([1.0000000e+00, 0.0000000e+00, 0.0000000e+00, 6.1900000e+02,\n",
       "       0.0000000e+00, 4.2000000e+01, 2.0000000e+00, 0.0000000e+00,\n",
       "       1.0000000e+00, 1.0000000e+00, 1.0000000e+00, 1.0134888e+05])"
      ]
     },
     "execution_count": 14,
     "metadata": {},
     "output_type": "execute_result"
    }
   ],
   "source": [
    "X_encoded[0]"
   ]
  },
  {
   "cell_type": "code",
   "execution_count": 15,
   "metadata": {},
   "outputs": [],
   "source": [
    "X_train, X_test, y_train, y_test = train_test_split(X_encoded, y, test_size=0.3, random_state=101)"
   ]
  },
  {
   "cell_type": "code",
   "execution_count": 16,
   "metadata": {},
   "outputs": [],
   "source": [
    "scaler = MinMaxScaler()"
   ]
  },
  {
   "cell_type": "code",
   "execution_count": 17,
   "metadata": {},
   "outputs": [],
   "source": [
    "scaled_X_train = scaler.fit_transform(X_train)"
   ]
  },
  {
   "cell_type": "code",
   "execution_count": 18,
   "metadata": {},
   "outputs": [
    {
     "name": "stdout",
     "output_type": "stream",
     "text": [
      "[0.0000000e+00 0.0000000e+00 1.0000000e+00 5.1100000e+02 0.0000000e+00\n",
      " 2.9000000e+01 9.0000000e+00 0.0000000e+00 2.0000000e+00 0.0000000e+00\n",
      " 1.0000000e+00 1.4067698e+05]\n",
      "[0.         0.         1.         0.322      0.         0.14864865\n",
      " 0.9        0.         0.33333333 0.         1.         0.70347065]\n"
     ]
    }
   ],
   "source": [
    "print(X_train[0])\n",
    "print(scaled_X_train[0])"
   ]
  },
  {
   "cell_type": "code",
   "execution_count": 19,
   "metadata": {},
   "outputs": [],
   "source": [
    "scaled_X_test = scaler.transform(X_test)"
   ]
  },
  {
   "cell_type": "code",
   "execution_count": 20,
   "metadata": {},
   "outputs": [
    {
     "data": {
      "text/plain": [
       "array([0.        , 0.        , 1.        , 0.538     , 1.        ,\n",
       "       0.45945946, 0.8       , 0.        , 0.33333333, 1.        ,\n",
       "       1.        , 0.61627849])"
      ]
     },
     "execution_count": 20,
     "metadata": {},
     "output_type": "execute_result"
    }
   ],
   "source": [
    "scaled_X_test[0]"
   ]
  },
  {
   "cell_type": "markdown",
   "metadata": {},
   "source": [
    "## Model"
   ]
  },
  {
   "cell_type": "code",
   "execution_count": 21,
   "metadata": {},
   "outputs": [],
   "source": [
    "def get_classifier(optimizer='adam'):\n",
    "    model = tf.keras.models.Sequential()\n",
    "    model.add(tf.keras.layers.Dense(24, activation='relu', input_dim=12))\n",
    "    model.add(tf.keras.layers.Dropout(0.1))\n",
    "    model.add(tf.keras.layers.Dense(32, activation='relu'))\n",
    "    model.add(tf.keras.layers.Dropout(0.1))\n",
    "    model.add(tf.keras.layers.Dense(12, activation='relu'))\n",
    "    model.add(tf.keras.layers.Dense(2, activation='softmax'))\n",
    "    model.compile(\n",
    "        optimizer=optimizer,\n",
    "        loss='sparse_categorical_crossentropy',\n",
    "        metrics=['accuracy']\n",
    "    )\n",
    "    return model"
   ]
  },
  {
   "cell_type": "code",
   "execution_count": 22,
   "metadata": {},
   "outputs": [],
   "source": [
    "model = get_classifier()"
   ]
  },
  {
   "cell_type": "code",
   "execution_count": 23,
   "metadata": {},
   "outputs": [
    {
     "name": "stdout",
     "output_type": "stream",
     "text": [
      "Epoch 1/25\n",
      "7000/7000 [==============================]7000/7000 [==============================] - 1s 94us/step - loss: 0.5052 - acc: 0.7886\n",
      "\n",
      "Epoch 2/25\n",
      "7000/7000 [==============================]7000/7000 [==============================] - 0s 57us/step - loss: 0.4699 - acc: 0.7991\n",
      "\n",
      "Epoch 3/25\n",
      "7000/7000 [==============================]7000/7000 [==============================] - 0s 63us/step - loss: 0.4552 - acc: 0.8027\n",
      "\n",
      "Epoch 4/25\n",
      "7000/7000 [==============================]7000/7000 [==============================] - 0s 54us/step - loss: 0.4464 - acc: 0.8080\n",
      "\n",
      "Epoch 5/25\n",
      "7000/7000 [==============================]7000/7000 [==============================] - 0s 51us/step - loss: 0.4408 - acc: 0.8109\n",
      "\n",
      "Epoch 6/25\n",
      "7000/7000 [==============================]7000/7000 [==============================] - 0s 56us/step - loss: 0.4320 - acc: 0.8173\n",
      "\n",
      "Epoch 7/25\n",
      "7000/7000 [==============================]7000/7000 [==============================] - 0s 49us/step - loss: 0.4209 - acc: 0.8234\n",
      "\n",
      "Epoch 8/25\n",
      "7000/7000 [==============================]7000/7000 [==============================] - 0s 49us/step - loss: 0.4127 - acc: 0.8284\n",
      "\n",
      "Epoch 9/25\n",
      "7000/7000 [==============================]7000/7000 [==============================] - 0s 49us/step - loss: 0.3992 - acc: 0.8359\n",
      "\n",
      "Epoch 10/25\n",
      "7000/7000 [==============================]7000/7000 [==============================] - 0s 49us/step - loss: 0.3875 - acc: 0.8359\n",
      "\n",
      "Epoch 11/25\n",
      "7000/7000 [==============================]7000/7000 [==============================] - 0s 50us/step - loss: 0.3820 - acc: 0.8393\n",
      "\n",
      "Epoch 12/25\n",
      "7000/7000 [==============================]7000/7000 [==============================] - 0s 50us/step - loss: 0.3737 - acc: 0.8479\n",
      "\n",
      "Epoch 13/25\n",
      "7000/7000 [==============================]7000/7000 [==============================] - 0s 51us/step - loss: 0.3751 - acc: 0.8443\n",
      "\n",
      "Epoch 14/25\n",
      "7000/7000 [==============================]7000/7000 [==============================] - 0s 49us/step - loss: 0.3684 - acc: 0.8486\n",
      "\n",
      "Epoch 15/25\n",
      "7000/7000 [==============================]7000/7000 [==============================] - 0s 48us/step - loss: 0.3716 - acc: 0.8471\n",
      "\n",
      "Epoch 16/25\n",
      "7000/7000 [==============================]7000/7000 [==============================] - 0s 53us/step - loss: 0.3679 - acc: 0.8501\n",
      "\n",
      "Epoch 17/25\n",
      "7000/7000 [==============================]7000/7000 [==============================] - 0s 49us/step - loss: 0.3665 - acc: 0.8494\n",
      "\n",
      "Epoch 18/25\n",
      "7000/7000 [==============================]7000/7000 [==============================] - 0s 50us/step - loss: 0.3634 - acc: 0.8517\n",
      "\n",
      "Epoch 19/25\n",
      "7000/7000 [==============================]7000/7000 [==============================] - 0s 51us/step - loss: 0.3674 - acc: 0.8500\n",
      "\n",
      "Epoch 20/25\n",
      "7000/7000 [==============================]7000/7000 [==============================] - 0s 48us/step - loss: 0.3646 - acc: 0.8477\n",
      "\n",
      "Epoch 21/25\n",
      "7000/7000 [==============================]7000/7000 [==============================] - 0s 49us/step - loss: 0.3619 - acc: 0.8500\n",
      "\n",
      "Epoch 22/25\n",
      "7000/7000 [==============================]7000/7000 [==============================] - 0s 49us/step - loss: 0.3583 - acc: 0.8539\n",
      "\n",
      "Epoch 23/25\n",
      "7000/7000 [==============================]7000/7000 [==============================] - 0s 52us/step - loss: 0.3612 - acc: 0.8499\n",
      "\n",
      "Epoch 24/25\n",
      "7000/7000 [==============================]7000/7000 [==============================] - 0s 48us/step - loss: 0.3583 - acc: 0.8516\n",
      "\n",
      "Epoch 25/25\n",
      "7000/7000 [==============================]7000/7000 [==============================] - 0s 50us/step - loss: 0.3565 - acc: 0.8514\n",
      "\n"
     ]
    },
    {
     "data": {
      "text/plain": [
       "<tensorflow.python.keras._impl.keras.callbacks.History at 0x117942780>"
      ]
     },
     "execution_count": 23,
     "metadata": {},
     "output_type": "execute_result"
    }
   ],
   "source": [
    "model.fit(scaled_X_train, y_train, epochs=25)"
   ]
  },
  {
   "cell_type": "markdown",
   "metadata": {},
   "source": [
    "## Prediction"
   ]
  },
  {
   "cell_type": "code",
   "execution_count": 24,
   "metadata": {},
   "outputs": [],
   "source": [
    "y_pred = model.predict(scaled_X_test)"
   ]
  },
  {
   "cell_type": "code",
   "execution_count": 25,
   "metadata": {},
   "outputs": [
    {
     "data": {
      "text/plain": [
       "array([[0.9707305 , 0.02926952],\n",
       "       [0.96448994, 0.03551003],\n",
       "       [0.7127436 , 0.28725642],\n",
       "       ...,\n",
       "       [0.9788674 , 0.02113254],\n",
       "       [0.4786541 , 0.521346  ],\n",
       "       [0.6893471 , 0.31065288]], dtype=float32)"
      ]
     },
     "execution_count": 25,
     "metadata": {},
     "output_type": "execute_result"
    }
   ],
   "source": [
    "y_pred"
   ]
  },
  {
   "cell_type": "code",
   "execution_count": 26,
   "metadata": {},
   "outputs": [],
   "source": [
    "from sklearn.metrics import classification_report"
   ]
  },
  {
   "cell_type": "code",
   "execution_count": 27,
   "metadata": {},
   "outputs": [],
   "source": [
    "y_pred = [np.argmax(x) for x in y_pred]"
   ]
  },
  {
   "cell_type": "code",
   "execution_count": 28,
   "metadata": {},
   "outputs": [
    {
     "name": "stdout",
     "output_type": "stream",
     "text": [
      "             precision    recall  f1-score   support\n",
      "\n",
      "          0       0.87      0.97      0.92      2378\n",
      "          1       0.81      0.43      0.56       622\n",
      "\n",
      "avg / total       0.86      0.86      0.84      3000\n",
      "\n"
     ]
    }
   ],
   "source": [
    "print(classification_report(y_test, y_pred))"
   ]
  },
  {
   "cell_type": "markdown",
   "metadata": {},
   "source": [
    "So should we say goodbye to that customer ?\n",
    "\n",
    "```\n",
    "Geography: France\n",
    "Credit Score: 600\n",
    "Gender: Male\n",
    "Age: 40 years old\n",
    "Tenure: 3 years\n",
    "Balance: $60000\n",
    "Number of Products: 2\n",
    "Does this customer have a credit card ? Yes\n",
    "Is this customer an Active Member: Yes\n",
    "Estimated Salary: $50000\n",
    "```"
   ]
  },
  {
   "cell_type": "code",
   "execution_count": 29,
   "metadata": {},
   "outputs": [
    {
     "data": {
      "text/plain": [
       "array([0])"
      ]
     },
     "execution_count": 29,
     "metadata": {},
     "output_type": "execute_result"
    }
   ],
   "source": [
    "geography_encoder.transform(['France'])"
   ]
  },
  {
   "cell_type": "code",
   "execution_count": 30,
   "metadata": {},
   "outputs": [
    {
     "data": {
      "text/plain": [
       "array([1])"
      ]
     },
     "execution_count": 30,
     "metadata": {},
     "output_type": "execute_result"
    }
   ],
   "source": [
    "gender_encoder.transform(['Male'])"
   ]
  },
  {
   "cell_type": "code",
   "execution_count": 31,
   "metadata": {},
   "outputs": [
    {
     "name": "stdout",
     "output_type": "stream",
     "text": [
      "CreditScore           619.00\n",
      "Geography               0.00\n",
      "Gender                  0.00\n",
      "Age                    42.00\n",
      "Tenure                  2.00\n",
      "Balance                 0.00\n",
      "NumOfProducts           1.00\n",
      "HasCrCard               1.00\n",
      "IsActiveMember          1.00\n",
      "EstimatedSalary    101348.88\n",
      "Name: 0, dtype: float64\n",
      "[6.1900000e+02 0.0000000e+00 0.0000000e+00 4.2000000e+01 2.0000000e+00\n",
      " 0.0000000e+00 1.0000000e+00 1.0000000e+00 1.0000000e+00 1.0134888e+05]\n"
     ]
    }
   ],
   "source": [
    "print(X.iloc[0])\n",
    "print(X.iloc[0].values)"
   ]
  },
  {
   "cell_type": "code",
   "execution_count": 32,
   "metadata": {},
   "outputs": [],
   "source": [
    "new_data = np.array([\n",
    "    600,\n",
    "    geography_encoder.transform(['France']),\n",
    "    gender_encoder.transform(['Male']),\n",
    "    40,\n",
    "    3,\n",
    "    60000,\n",
    "    2,\n",
    "    1,\n",
    "    1,\n",
    "    50000\n",
    "])"
   ]
  },
  {
   "cell_type": "code",
   "execution_count": 33,
   "metadata": {},
   "outputs": [],
   "source": [
    "new_data = one_hot_encoder.transform([new_data]).toarray()"
   ]
  },
  {
   "cell_type": "code",
   "execution_count": 34,
   "metadata": {},
   "outputs": [
    {
     "name": "stdout",
     "output_type": "stream",
     "text": [
      "[[1.e+00 0.e+00 0.e+00 6.e+02 1.e+00 4.e+01 3.e+00 6.e+04 2.e+00 1.e+00\n",
      "  1.e+00 5.e+04]]\n"
     ]
    }
   ],
   "source": [
    "print(new_data)"
   ]
  },
  {
   "cell_type": "code",
   "execution_count": 35,
   "metadata": {},
   "outputs": [
    {
     "data": {
      "text/plain": [
       "array([[0., 1.]], dtype=float32)"
      ]
     },
     "execution_count": 35,
     "metadata": {},
     "output_type": "execute_result"
    }
   ],
   "source": [
    "model.predict(new_data)"
   ]
  },
  {
   "cell_type": "code",
   "execution_count": 36,
   "metadata": {},
   "outputs": [],
   "source": [
    "y_pred = [np.argmax(x) for x in model.predict(new_data)]"
   ]
  },
  {
   "cell_type": "code",
   "execution_count": 37,
   "metadata": {},
   "outputs": [
    {
     "data": {
      "text/plain": [
       "[1]"
      ]
     },
     "execution_count": 37,
     "metadata": {},
     "output_type": "execute_result"
    }
   ],
   "source": [
    "y_pred"
   ]
  },
  {
   "cell_type": "markdown",
   "metadata": {},
   "source": [
    "## k-fold cross validation"
   ]
  },
  {
   "cell_type": "code",
   "execution_count": 38,
   "metadata": {},
   "outputs": [],
   "source": [
    "model = tf.keras.wrappers.scikit_learn.KerasClassifier(build_fn=get_classifier, batch_size=12, epochs=10)"
   ]
  },
  {
   "cell_type": "code",
   "execution_count": 39,
   "metadata": {},
   "outputs": [
    {
     "name": "stdout",
     "output_type": "stream",
     "text": [
      "Epoch 1/10\n",
      "3500/3500 [==============================]3500/3500 [==============================] - 1s 214us/step - loss: 0.5107 - acc: 0.7751\n",
      "\n",
      "Epoch 2/10\n",
      "3500/3500 [==============================]3500/3500 [==============================] - 1s 146us/step - loss: 0.4709 - acc: 0.7969\n",
      "\n",
      "Epoch 3/10\n",
      "3500/3500 [==============================]3500/3500 [==============================] - 0s 137us/step - loss: 0.4615 - acc: 0.7991\n",
      "\n",
      "Epoch 4/10\n",
      "3500/3500 [==============================]3500/3500 [==============================] - 0s 133us/step - loss: 0.4508 - acc: 0.8086\n",
      "\n",
      "Epoch 5/10\n",
      "3500/3500 [==============================]3500/3500 [==============================] - 0s 135us/step - loss: 0.4427 - acc: 0.8103\n",
      "\n",
      "Epoch 6/10\n",
      "3500/3500 [==============================]3500/3500 [==============================] - 0s 132us/step - loss: 0.4330 - acc: 0.8134\n",
      "\n",
      "Epoch 7/10\n",
      "3500/3500 [==============================]3500/3500 [==============================] - 0s 138us/step - loss: 0.4255 - acc: 0.8183\n",
      "\n",
      "Epoch 8/10\n",
      "3500/3500 [==============================]3500/3500 [==============================] - 0s 134us/step - loss: 0.4202 - acc: 0.8223\n",
      "\n",
      "Epoch 9/10\n",
      "3500/3500 [==============================]3500/3500 [==============================] - 0s 133us/step - loss: 0.4106 - acc: 0.8271\n",
      "\n",
      "Epoch 10/10\n",
      "3500/3500 [==============================]3500/3500 [==============================] - 0s 136us/step - loss: 0.4108 - acc: 0.8269\n",
      "\n",
      "3500/3500 [==============================]3500/3500 [==============================] - 0s 75us/step\n",
      "\n",
      "Epoch 1/10\n",
      "3500/3500 [==============================]3500/3500 [==============================] - 1s 237us/step - loss: 0.4921 - acc: 0.7929\n",
      "\n",
      "Epoch 2/10\n",
      "3500/3500 [==============================]3500/3500 [==============================] - 0s 142us/step - loss: 0.4679 - acc: 0.8026\n",
      "\n",
      "Epoch 3/10\n",
      "3500/3500 [==============================]3500/3500 [==============================] - 1s 147us/step - loss: 0.4588 - acc: 0.8043\n",
      "\n",
      "Epoch 4/10\n",
      "3500/3500 [==============================]3500/3500 [==============================] - 0s 140us/step - loss: 0.4545 - acc: 0.8046\n",
      "\n",
      "Epoch 5/10\n",
      "3500/3500 [==============================]3500/3500 [==============================] - 0s 137us/step - loss: 0.4431 - acc: 0.8126\n",
      "\n",
      "Epoch 6/10\n",
      "3500/3500 [==============================]3500/3500 [==============================] - 0s 135us/step - loss: 0.4364 - acc: 0.8117\n",
      "\n",
      "Epoch 7/10\n",
      "3500/3500 [==============================]3500/3500 [==============================] - 0s 141us/step - loss: 0.4261 - acc: 0.8203\n",
      "\n",
      "Epoch 8/10\n",
      "3500/3500 [==============================]3500/3500 [==============================] - 1s 145us/step - loss: 0.4241 - acc: 0.8220\n",
      "\n",
      "Epoch 9/10\n",
      "3500/3500 [==============================]3500/3500 [==============================] - 1s 149us/step - loss: 0.4144 - acc: 0.8271\n",
      "\n",
      "Epoch 10/10\n",
      "3500/3500 [==============================]3500/3500 [==============================] - 0s 134us/step - loss: 0.4039 - acc: 0.8357\n",
      "\n",
      "3500/3500 [==============================]3500/3500 [==============================] - 0s 81us/step\n",
      "\n"
     ]
    }
   ],
   "source": [
    "accuracies = cross_val_score(estimator=model, X=scaled_X_train, y=y_train, cv=2)"
   ]
  },
  {
   "cell_type": "code",
   "execution_count": 40,
   "metadata": {},
   "outputs": [
    {
     "data": {
      "text/plain": [
       "0.8331428575686046"
      ]
     },
     "execution_count": 40,
     "metadata": {},
     "output_type": "execute_result"
    }
   ],
   "source": [
    "accuracies.mean()"
   ]
  },
  {
   "cell_type": "code",
   "execution_count": 41,
   "metadata": {},
   "outputs": [
    {
     "data": {
      "text/plain": [
       "0.005142857364245801"
      ]
     },
     "execution_count": 41,
     "metadata": {},
     "output_type": "execute_result"
    }
   ],
   "source": [
    "accuracies.std()"
   ]
  },
  {
   "cell_type": "markdown",
   "metadata": {},
   "source": [
    "## Grid search for best hyperparameters"
   ]
  },
  {
   "cell_type": "code",
   "execution_count": 42,
   "metadata": {},
   "outputs": [],
   "source": [
    "parameters = {\n",
    "    'batch_size': [16, 32],\n",
    "    'epochs': [5, 10],\n",
    "    'optimizer': ['adam', 'rmsprop']\n",
    "}"
   ]
  },
  {
   "cell_type": "code",
   "execution_count": 43,
   "metadata": {},
   "outputs": [],
   "source": [
    "model = tf.keras.wrappers.scikit_learn.KerasClassifier(build_fn=get_classifier)"
   ]
  },
  {
   "cell_type": "code",
   "execution_count": 44,
   "metadata": {},
   "outputs": [],
   "source": [
    "grid_search = GridSearchCV(estimator=model, param_grid=parameters, scoring='accuracy', cv=2)"
   ]
  },
  {
   "cell_type": "code",
   "execution_count": 45,
   "metadata": {},
   "outputs": [
    {
     "name": "stdout",
     "output_type": "stream",
     "text": [
      "Epoch 1/5\n",
      "3500/3500 [==============================]3500/3500 [==============================] - 1s 205us/step - loss: 0.4973 - acc: 0.7929\n",
      "\n",
      "Epoch 2/5\n",
      "3500/3500 [==============================]3500/3500 [==============================] - 0s 105us/step - loss: 0.4753 - acc: 0.7951\n",
      "\n",
      "Epoch 3/5\n",
      "3500/3500 [==============================]3500/3500 [==============================] - 0s 106us/step - loss: 0.4643 - acc: 0.8011\n",
      "\n",
      "Epoch 4/5\n",
      "3500/3500 [==============================]3500/3500 [==============================] - 0s 114us/step - loss: 0.4439 - acc: 0.8080\n",
      "\n",
      "Epoch 5/5\n",
      "3500/3500 [==============================]3500/3500 [==============================] - 0s 109us/step - loss: 0.4362 - acc: 0.8166\n",
      "\n",
      "Epoch 1/5\n",
      "3500/3500 [==============================]3500/3500 [==============================] - 1s 213us/step - loss: 0.5151 - acc: 0.7829\n",
      "\n",
      "Epoch 2/5\n",
      "3500/3500 [==============================]3500/3500 [==============================] - 0s 107us/step - loss: 0.4703 - acc: 0.8014\n",
      "\n",
      "Epoch 3/5\n",
      "3500/3500 [==============================]3500/3500 [==============================] - 0s 119us/step - loss: 0.4562 - acc: 0.8014\n",
      "\n",
      "Epoch 4/5\n",
      "3500/3500 [==============================]3500/3500 [==============================] - 0s 109us/step - loss: 0.4534 - acc: 0.8040\n",
      "\n",
      "Epoch 5/5\n",
      "3500/3500 [==============================]3500/3500 [==============================] - 0s 121us/step - loss: 0.4398 - acc: 0.8103\n",
      "\n",
      "Epoch 1/5\n",
      "3500/3500 [==============================]3500/3500 [==============================] - 1s 240us/step - loss: 0.5054 - acc: 0.7943\n",
      "\n",
      "Epoch 2/5\n",
      "3500/3500 [==============================]3500/3500 [==============================] - 0s 113us/step - loss: 0.4840 - acc: 0.7943\n",
      "\n",
      "Epoch 3/5\n",
      "3500/3500 [==============================]3500/3500 [==============================] - 0s 108us/step - loss: 0.4688 - acc: 0.7943\n",
      "\n",
      "Epoch 4/5\n",
      "3500/3500 [==============================]3500/3500 [==============================] - 0s 96us/step - loss: 0.4563 - acc: 0.7946\n",
      "\n",
      "Epoch 5/5\n",
      "3500/3500 [==============================]3500/3500 [==============================] - 0s 113us/step - loss: 0.4476 - acc: 0.8071\n",
      "\n",
      "Epoch 1/5\n",
      "3500/3500 [==============================]3500/3500 [==============================] - 1s 219us/step - loss: 0.4852 - acc: 0.8014\n",
      "\n",
      "Epoch 2/5\n",
      "3500/3500 [==============================]3500/3500 [==============================] - 0s 113us/step - loss: 0.4649 - acc: 0.8031\n",
      "\n",
      "Epoch 3/5\n",
      "3500/3500 [==============================]3500/3500 [==============================] - 0s 114us/step - loss: 0.4612 - acc: 0.8023\n",
      "\n",
      "Epoch 4/5\n",
      "3500/3500 [==============================]3500/3500 [==============================] - 0s 105us/step - loss: 0.4492 - acc: 0.8089\n",
      "\n",
      "Epoch 5/5\n",
      "3500/3500 [==============================]3500/3500 [==============================] - 0s 106us/step - loss: 0.4435 - acc: 0.8131\n",
      "\n",
      "Epoch 1/10\n",
      "3500/3500 [==============================]3500/3500 [==============================] - 1s 261us/step - loss: 0.5086 - acc: 0.7886\n",
      "\n",
      "Epoch 2/10\n",
      "3500/3500 [==============================]3500/3500 [==============================] - 0s 113us/step - loss: 0.4788 - acc: 0.7949\n",
      "\n",
      "Epoch 3/10\n",
      "3500/3500 [==============================]3500/3500 [==============================] - 0s 111us/step - loss: 0.4700 - acc: 0.7963\n",
      "\n",
      "Epoch 4/10\n",
      "3500/3500 [==============================]3500/3500 [==============================] - 0s 118us/step - loss: 0.4597 - acc: 0.8034\n",
      "\n",
      "Epoch 5/10\n",
      "3500/3500 [==============================]3500/3500 [==============================] - 0s 106us/step - loss: 0.4547 - acc: 0.8069\n",
      "\n",
      "Epoch 6/10\n",
      "3500/3500 [==============================]3500/3500 [==============================] - 0s 105us/step - loss: 0.4433 - acc: 0.8106\n",
      "\n",
      "Epoch 7/10\n",
      "3500/3500 [==============================]3500/3500 [==============================] - 0s 110us/step - loss: 0.4309 - acc: 0.8186\n",
      "\n",
      "Epoch 8/10\n",
      "3500/3500 [==============================]3500/3500 [==============================] - 0s 108us/step - loss: 0.4287 - acc: 0.8186\n",
      "\n",
      "Epoch 9/10\n",
      "3500/3500 [==============================]3500/3500 [==============================] - 0s 117us/step - loss: 0.4184 - acc: 0.8160\n",
      "\n",
      "Epoch 10/10\n",
      "3500/3500 [==============================]3500/3500 [==============================] - 0s 110us/step - loss: 0.4117 - acc: 0.8289\n",
      "\n",
      "Epoch 1/10\n",
      "3500/3500 [==============================]3500/3500 [==============================] - 1s 260us/step - loss: 0.5737 - acc: 0.7623\n",
      "\n",
      "Epoch 2/10\n",
      "3500/3500 [==============================]3500/3500 [==============================] - 0s 109us/step - loss: 0.4752 - acc: 0.8014\n",
      "\n",
      "Epoch 3/10\n",
      "3500/3500 [==============================]3500/3500 [==============================] - 0s 111us/step - loss: 0.4643 - acc: 0.8014\n",
      "\n",
      "Epoch 4/10\n",
      "3500/3500 [==============================]3500/3500 [==============================] - 0s 112us/step - loss: 0.4596 - acc: 0.8014\n",
      "\n",
      "Epoch 5/10\n",
      "3500/3500 [==============================]3500/3500 [==============================] - 0s 109us/step - loss: 0.4530 - acc: 0.8020\n",
      "\n",
      "Epoch 6/10\n",
      "3500/3500 [==============================]3500/3500 [==============================] - 0s 112us/step - loss: 0.4449 - acc: 0.8137\n",
      "\n",
      "Epoch 7/10\n",
      "3500/3500 [==============================]3500/3500 [==============================] - 0s 113us/step - loss: 0.4387 - acc: 0.8131\n",
      "\n",
      "Epoch 8/10\n",
      "3500/3500 [==============================]3500/3500 [==============================] - 0s 107us/step - loss: 0.4273 - acc: 0.8214\n",
      "\n",
      "Epoch 9/10\n",
      "3500/3500 [==============================]3500/3500 [==============================] - 0s 121us/step - loss: 0.4227 - acc: 0.8214\n",
      "\n",
      "Epoch 10/10\n",
      "3500/3500 [==============================]3500/3500 [==============================] - 0s 120us/step - loss: 0.4118 - acc: 0.8300\n",
      "\n",
      "Epoch 1/10\n",
      "3500/3500 [==============================]3500/3500 [==============================] - 1s 248us/step - loss: 0.4924 - acc: 0.7943\n",
      "\n",
      "Epoch 2/10\n",
      "3500/3500 [==============================]3500/3500 [==============================] - 0s 108us/step - loss: 0.4660 - acc: 0.7954\n",
      "\n",
      "Epoch 3/10\n",
      "3500/3500 [==============================]3500/3500 [==============================] - 0s 105us/step - loss: 0.4614 - acc: 0.8006\n",
      "\n",
      "Epoch 4/10\n",
      "3500/3500 [==============================]3500/3500 [==============================] - 0s 103us/step - loss: 0.4516 - acc: 0.8091\n",
      "\n",
      "Epoch 5/10\n",
      "3500/3500 [==============================]3500/3500 [==============================] - 0s 104us/step - loss: 0.4459 - acc: 0.8117\n",
      "\n",
      "Epoch 6/10\n",
      "3500/3500 [==============================]3500/3500 [==============================] - 0s 95us/step - loss: 0.4371 - acc: 0.8177\n",
      "\n",
      "Epoch 7/10\n",
      "3500/3500 [==============================]3500/3500 [==============================] - 0s 99us/step - loss: 0.4303 - acc: 0.8180\n",
      "\n",
      "Epoch 8/10\n",
      "3500/3500 [==============================]3500/3500 [==============================] - 0s 108us/step - loss: 0.4315 - acc: 0.8183\n",
      "\n",
      "Epoch 9/10\n",
      "3500/3500 [==============================]3500/3500 [==============================] - 0s 112us/step - loss: 0.4270 - acc: 0.8243\n",
      "\n",
      "Epoch 10/10\n",
      "3500/3500 [==============================]3500/3500 [==============================] - 0s 111us/step - loss: 0.4223 - acc: 0.8231\n",
      "\n",
      "Epoch 1/10\n",
      "3500/3500 [==============================]3500/3500 [==============================] - 1s 261us/step - loss: 0.5125 - acc: 0.7974\n",
      "\n",
      "Epoch 2/10\n",
      "3500/3500 [==============================]3500/3500 [==============================] - 0s 110us/step - loss: 0.4798 - acc: 0.8014\n",
      "\n",
      "Epoch 3/10\n",
      "3500/3500 [==============================]3500/3500 [==============================] - 0s 101us/step - loss: 0.4719 - acc: 0.8014\n",
      "\n",
      "Epoch 4/10\n",
      "3500/3500 [==============================]3500/3500 [==============================] - 0s 104us/step - loss: 0.4702 - acc: 0.8014\n",
      "\n",
      "Epoch 5/10\n",
      "3500/3500 [==============================]3500/3500 [==============================] - 0s 103us/step - loss: 0.4631 - acc: 0.8014\n",
      "\n",
      "Epoch 6/10\n",
      "3500/3500 [==============================]3500/3500 [==============================] - 0s 106us/step - loss: 0.4592 - acc: 0.8014\n",
      "\n",
      "Epoch 7/10\n",
      "3500/3500 [==============================]3500/3500 [==============================] - 0s 104us/step - loss: 0.4503 - acc: 0.8017\n",
      "\n",
      "Epoch 8/10\n",
      "3500/3500 [==============================]3500/3500 [==============================] - 0s 105us/step - loss: 0.4446 - acc: 0.8069\n",
      "\n",
      "Epoch 9/10\n",
      "3500/3500 [==============================]3500/3500 [==============================] - 0s 102us/step - loss: 0.4451 - acc: 0.8117\n",
      "\n",
      "Epoch 10/10\n",
      "3500/3500 [==============================]3500/3500 [==============================] - 0s 100us/step - loss: 0.4360 - acc: 0.8146\n",
      "\n",
      "Epoch 1/5\n",
      "3500/3500 [==============================]3500/3500 [==============================] - 1s 236us/step - loss: 0.5073 - acc: 0.7857\n",
      "\n",
      "Epoch 2/5\n",
      "3500/3500 [==============================]3500/3500 [==============================] - 0s 64us/step - loss: 0.4794 - acc: 0.7943\n",
      "\n",
      "Epoch 3/5\n",
      "3500/3500 [==============================]3500/3500 [==============================] - 0s 63us/step - loss: 0.4679 - acc: 0.7954\n",
      "\n",
      "Epoch 4/5\n",
      "3500/3500 [==============================]3500/3500 [==============================] - 0s 62us/step - loss: 0.4618 - acc: 0.7960\n",
      "\n",
      "Epoch 5/5\n",
      "3500/3500 [==============================]3500/3500 [==============================] - 0s 59us/step - loss: 0.4591 - acc: 0.8034\n",
      "\n",
      "Epoch 1/5\n",
      "3500/3500 [==============================]3500/3500 [==============================] - 1s 246us/step - loss: 0.5157 - acc: 0.7960\n",
      "\n",
      "Epoch 2/5\n",
      "3500/3500 [==============================]3500/3500 [==============================] - 0s 61us/step - loss: 0.4843 - acc: 0.8009\n",
      "\n",
      "Epoch 3/5\n",
      "3500/3500 [==============================]3500/3500 [==============================] - 0s 62us/step - loss: 0.4711 - acc: 0.8017\n",
      "\n",
      "Epoch 4/5\n",
      "3500/3500 [==============================]3500/3500 [==============================] - 0s 61us/step - loss: 0.4662 - acc: 0.8017\n",
      "\n",
      "Epoch 5/5\n",
      "3500/3500 [==============================]3500/3500 [==============================] - 0s 63us/step - loss: 0.4638 - acc: 0.8011\n",
      "\n",
      "Epoch 1/5\n",
      "3500/3500 [==============================]3500/3500 [==============================] - 1s 233us/step - loss: 0.5053 - acc: 0.7914\n",
      "\n",
      "Epoch 2/5\n",
      "3500/3500 [==============================]3500/3500 [==============================] - 0s 54us/step - loss: 0.4825 - acc: 0.7943\n",
      "\n",
      "Epoch 3/5\n",
      "3500/3500 [==============================]3500/3500 [==============================] - 0s 53us/step - loss: 0.4755 - acc: 0.7943\n",
      "\n",
      "Epoch 4/5\n",
      "3500/3500 [==============================]3500/3500 [==============================] - 0s 51us/step - loss: 0.4679 - acc: 0.7943\n",
      "\n",
      "Epoch 5/5\n",
      "3500/3500 [==============================]3500/3500 [==============================] - 0s 53us/step - loss: 0.4659 - acc: 0.7949\n",
      "\n",
      "Epoch 1/5\n",
      "3500/3500 [==============================]3500/3500 [==============================] - 1s 241us/step - loss: 0.5106 - acc: 0.7960\n",
      "\n",
      "Epoch 2/5\n",
      "3500/3500 [==============================]3500/3500 [==============================] - 0s 54us/step - loss: 0.4766 - acc: 0.8014\n",
      "\n",
      "Epoch 3/5\n",
      "3500/3500 [==============================]3500/3500 [==============================] - 0s 53us/step - loss: 0.4626 - acc: 0.8020\n",
      "\n",
      "Epoch 4/5\n",
      "3500/3500 [==============================]3500/3500 [==============================] - 0s 56us/step - loss: 0.4577 - acc: 0.8006\n",
      "\n",
      "Epoch 5/5\n",
      "3500/3500 [==============================]3500/3500 [==============================] - 0s 54us/step - loss: 0.4564 - acc: 0.8049\n",
      "\n",
      "Epoch 1/10\n",
      "3500/3500 [==============================]3500/3500 [==============================] - 1s 263us/step - loss: 0.5057 - acc: 0.7934\n",
      "\n",
      "Epoch 2/10\n",
      "3500/3500 [==============================]3500/3500 [==============================] - 0s 62us/step - loss: 0.4833 - acc: 0.7943\n",
      "\n",
      "Epoch 3/10\n",
      "3500/3500 [==============================]3500/3500 [==============================] - 0s 60us/step - loss: 0.4715 - acc: 0.7946\n",
      "\n",
      "Epoch 4/10\n",
      "3500/3500 [==============================]3500/3500 [==============================] - 0s 60us/step - loss: 0.4671 - acc: 0.7946\n",
      "\n",
      "Epoch 5/10\n",
      "3500/3500 [==============================]3500/3500 [==============================] - 0s 59us/step - loss: 0.4566 - acc: 0.8006\n",
      "\n",
      "Epoch 6/10\n",
      "3500/3500 [==============================]3500/3500 [==============================] - 0s 58us/step - loss: 0.4508 - acc: 0.8086\n",
      "\n",
      "Epoch 7/10\n",
      "3500/3500 [==============================]3500/3500 [==============================] - 0s 60us/step - loss: 0.4409 - acc: 0.8120\n",
      "\n",
      "Epoch 8/10\n",
      "3500/3500 [==============================]3500/3500 [==============================] - 0s 59us/step - loss: 0.4365 - acc: 0.8169\n",
      "\n",
      "Epoch 9/10\n",
      "3500/3500 [==============================]3500/3500 [==============================] - 0s 57us/step - loss: 0.4322 - acc: 0.8140\n",
      "\n",
      "Epoch 10/10\n",
      "3500/3500 [==============================]3500/3500 [==============================] - 0s 55us/step - loss: 0.4231 - acc: 0.8203\n",
      "\n",
      "Epoch 1/10\n",
      "3500/3500 [==============================]3500/3500 [==============================] - 1s 271us/step - loss: 0.5066 - acc: 0.7903\n",
      "\n",
      "Epoch 2/10\n",
      "3500/3500 [==============================]3500/3500 [==============================] - 0s 63us/step - loss: 0.4745 - acc: 0.8014\n",
      "\n",
      "Epoch 3/10\n",
      "3500/3500 [==============================]3500/3500 [==============================] - 0s 58us/step - loss: 0.4650 - acc: 0.8014\n",
      "\n",
      "Epoch 4/10\n",
      "3500/3500 [==============================]3500/3500 [==============================] - 0s 59us/step - loss: 0.4621 - acc: 0.8014\n",
      "\n",
      "Epoch 5/10\n",
      "3500/3500 [==============================]3500/3500 [==============================] - 0s 61us/step - loss: 0.4539 - acc: 0.8020\n",
      "\n",
      "Epoch 6/10\n",
      "3500/3500 [==============================]3500/3500 [==============================] - 0s 57us/step - loss: 0.4481 - acc: 0.8043\n",
      "\n",
      "Epoch 7/10\n",
      "3500/3500 [==============================]3500/3500 [==============================] - 0s 63us/step - loss: 0.4456 - acc: 0.8034\n",
      "\n",
      "Epoch 8/10\n",
      "3500/3500 [==============================]3500/3500 [==============================] - 0s 64us/step - loss: 0.4390 - acc: 0.8134\n",
      "\n",
      "Epoch 9/10\n",
      "3500/3500 [==============================]3500/3500 [==============================] - 0s 74us/step - loss: 0.4372 - acc: 0.8103\n",
      "\n",
      "Epoch 10/10\n",
      "3500/3500 [==============================]3500/3500 [==============================] - 0s 67us/step - loss: 0.4301 - acc: 0.8191\n",
      "\n",
      "Epoch 1/10\n",
      "3500/3500 [==============================]3500/3500 [==============================] - 1s 264us/step - loss: 0.5133 - acc: 0.7911\n",
      "\n",
      "Epoch 2/10\n",
      "3500/3500 [==============================]3500/3500 [==============================] - 0s 57us/step - loss: 0.4841 - acc: 0.7943\n",
      "\n",
      "Epoch 3/10\n",
      "3500/3500 [==============================]3500/3500 [==============================] - 0s 52us/step - loss: 0.4759 - acc: 0.7943\n",
      "\n",
      "Epoch 4/10\n",
      "3500/3500 [==============================]3500/3500 [==============================] - 0s 49us/step - loss: 0.4730 - acc: 0.7931\n",
      "\n",
      "Epoch 5/10\n",
      "3500/3500 [==============================]3500/3500 [==============================] - 0s 52us/step - loss: 0.4680 - acc: 0.7969\n",
      "\n",
      "Epoch 6/10\n",
      "3500/3500 [==============================]3500/3500 [==============================] - 0s 55us/step - loss: 0.4593 - acc: 0.7977\n",
      "\n",
      "Epoch 7/10\n",
      "3500/3500 [==============================]3500/3500 [==============================] - 0s 59us/step - loss: 0.4606 - acc: 0.8000\n",
      "\n",
      "Epoch 8/10\n",
      "3500/3500 [==============================]3500/3500 [==============================] - 0s 55us/step - loss: 0.4553 - acc: 0.8017\n",
      "\n",
      "Epoch 9/10\n",
      "3500/3500 [==============================]3500/3500 [==============================] - 0s 54us/step - loss: 0.4494 - acc: 0.8054\n",
      "\n",
      "Epoch 10/10\n",
      "3500/3500 [==============================]3500/3500 [==============================] - 0s 52us/step - loss: 0.4483 - acc: 0.8057\n",
      "\n",
      "Epoch 1/10\n",
      "3500/3500 [==============================]3500/3500 [==============================] - 1s 282us/step - loss: 0.5213 - acc: 0.7760\n",
      "\n",
      "Epoch 2/10\n",
      "3500/3500 [==============================]3500/3500 [==============================] - 0s 57us/step - loss: 0.4734 - acc: 0.8017\n",
      "\n",
      "Epoch 3/10\n",
      "3500/3500 [==============================]3500/3500 [==============================] - 0s 55us/step - loss: 0.4654 - acc: 0.8014\n",
      "\n",
      "Epoch 4/10\n",
      "3500/3500 [==============================]3500/3500 [==============================] - 0s 55us/step - loss: 0.4628 - acc: 0.8034\n",
      "\n",
      "Epoch 5/10\n",
      "3500/3500 [==============================]3500/3500 [==============================] - 0s 69us/step - loss: 0.4603 - acc: 0.8020\n",
      "\n",
      "Epoch 6/10\n",
      "3500/3500 [==============================]3500/3500 [==============================] - 0s 63us/step - loss: 0.4581 - acc: 0.8026\n",
      "\n",
      "Epoch 7/10\n",
      "3500/3500 [==============================]3500/3500 [==============================] - 0s 59us/step - loss: 0.4521 - acc: 0.8037\n",
      "\n",
      "Epoch 8/10\n",
      "3500/3500 [==============================]3500/3500 [==============================] - 0s 62us/step - loss: 0.4449 - acc: 0.8071\n",
      "\n",
      "Epoch 9/10\n",
      "3500/3500 [==============================]3500/3500 [==============================] - 0s 55us/step - loss: 0.4451 - acc: 0.8074\n",
      "\n",
      "Epoch 10/10\n",
      "3500/3500 [==============================]3500/3500 [==============================] - 0s 64us/step - loss: 0.4468 - acc: 0.8011\n",
      "\n",
      "Epoch 1/10\n",
      "7000/7000 [==============================]7000/7000 [==============================] - 2s 245us/step - loss: 0.4899 - acc: 0.7969\n",
      "\n",
      "Epoch 2/10\n",
      "7000/7000 [==============================]7000/7000 [==============================] - 1s 132us/step - loss: 0.4603 - acc: 0.8009\n",
      "\n",
      "Epoch 3/10\n",
      "7000/7000 [==============================]7000/7000 [==============================] - 1s 117us/step - loss: 0.4473 - acc: 0.8086\n",
      "\n",
      "Epoch 4/10\n",
      "7000/7000 [==============================]7000/7000 [==============================] - 1s 134us/step - loss: 0.4312 - acc: 0.8216\n",
      "\n",
      "Epoch 5/10\n",
      "7000/7000 [==============================]7000/7000 [==============================] - 1s 117us/step - loss: 0.4149 - acc: 0.8239\n",
      "\n",
      "Epoch 6/10\n",
      "7000/7000 [==============================]7000/7000 [==============================] - 1s 124us/step - loss: 0.3980 - acc: 0.8323\n",
      "\n",
      "Epoch 7/10\n",
      "7000/7000 [==============================]7000/7000 [==============================] - 1s 146us/step - loss: 0.3812 - acc: 0.8401\n",
      "\n",
      "Epoch 8/10\n",
      "7000/7000 [==============================]7000/7000 [==============================] - 1s 139us/step - loss: 0.3765 - acc: 0.8461\n",
      "\n",
      "Epoch 9/10\n",
      "7000/7000 [==============================]7000/7000 [==============================] - 1s 134us/step - loss: 0.3726 - acc: 0.8494\n",
      "\n",
      "Epoch 10/10\n",
      "7000/7000 [==============================]7000/7000 [==============================] - 1s 121us/step - loss: 0.3736 - acc: 0.8484\n",
      "\n"
     ]
    }
   ],
   "source": [
    "result = grid_search.fit(X=scaled_X_train, y=y_train)"
   ]
  },
  {
   "cell_type": "code",
   "execution_count": 46,
   "metadata": {},
   "outputs": [
    {
     "data": {
      "text/plain": [
       "{'batch_size': 16, 'epochs': 10, 'optimizer': 'adam'}"
      ]
     },
     "execution_count": 46,
     "metadata": {},
     "output_type": "execute_result"
    }
   ],
   "source": [
    "result.best_params_"
   ]
  },
  {
   "cell_type": "code",
   "execution_count": 47,
   "metadata": {},
   "outputs": [
    {
     "data": {
      "text/plain": [
       "0.8328571428571429"
      ]
     },
     "execution_count": 47,
     "metadata": {},
     "output_type": "execute_result"
    }
   ],
   "source": [
    "result.best_score_"
   ]
  },
  {
   "cell_type": "code",
   "execution_count": null,
   "metadata": {},
   "outputs": [],
   "source": []
  }
 ],
 "metadata": {
  "kernelspec": {
   "display_name": "Python 3",
   "language": "python",
   "name": "python3"
  },
  "language_info": {
   "codemirror_mode": {
    "name": "ipython",
    "version": 3
   },
   "file_extension": ".py",
   "mimetype": "text/x-python",
   "name": "python",
   "nbconvert_exporter": "python",
   "pygments_lexer": "ipython3",
   "version": "3.6.4"
  }
 },
 "nbformat": 4,
 "nbformat_minor": 2
}
