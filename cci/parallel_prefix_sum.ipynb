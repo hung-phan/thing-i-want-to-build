{
  "cells": [
    {
      "cell_type": "code",
      "execution_count": 20,
      "metadata": {
        "collapsed": true,
        "pycharm": {
          "is_executing": false
        }
      },
      "outputs": [],
      "source": "from concurrent.futures.thread import ThreadPoolExecutor\nfrom dataclasses import dataclass\nfrom typing import List, Union\n\n\n@dataclass(frozen\u003dTrue)\nclass Tree:\n    val: int\n\n\n@dataclass(frozen\u003dTrue)\nclass Leaf(Tree):\n    start: int\n    until: int\n\n\n@dataclass(frozen\u003dTrue)\nclass Node(Tree):\n    left: Tree\n    right: Tree\n\n\nITree \u003d Union[Leaf, Node]\n\n\ndef upsweep_sequential(input_ls: List[int], start: int, until: int) -\u003e int:\n    return sum(input_ls[idx] for idx in range(start, until))\n\n\ndef upsweep(input_ls: List[int], start: int, until: int, threshold: int, executor: ThreadPoolExecutor) -\u003e ITree:\n    if until - start \u003c threshold:\n        return Leaf(\n            start\u003dstart, until\u003duntil,\n            val\u003dupsweep_sequential(input_ls, start, until)\n        )\n\n    mid \u003d start + (until - start) // 2\n    \n    future1 \u003d executor.submit(upsweep, input_ls, start, mid, threshold, executor)\n    future2 \u003d executor.submit(upsweep, input_ls, mid, until, threshold, executor)\n\n    left, right \u003d future1.result(), future2.result()\n\n    return Node(left\u003dleft, right\u003dright, val\u003dleft.val + right.val)\n\n\ndef downsweep_sequential(input_ls: List[int], output_ls: List[int], start_val: int, start: int, until: int) -\u003e None:\n    for idx in range(start, until):\n        start_val +\u003d input_ls[start]\n        output_ls[idx] \u003d start_val\n\n\ndef downsweep(input_ls: List[int], output_ls: List[int], start_val: int, tree: ITree, executor: ThreadPoolExecutor):\n    if isinstance(tree, Leaf):\n        downsweep_sequential(input_ls, output_ls, start_val, tree.start, tree.until)\n    elif isinstance(tree, Node):\n        future1 \u003d executor.submit(downsweep, input_ls, output_ls, start_val, tree.left, executor)\n        future2 \u003d executor.submit(downsweep, input_ls, output_ls, start_val + tree.left.val, tree.right, executor)\n\n        future1.result(), future2.result()\n    else:\n        raise ValueError\n\n\ndef parallel_scan(input_ls: List[int], output_ls: List[int], start_val: int, threshold: int):\n    executor \u003d ThreadPoolExecutor()\n\n    downsweep(\n        input_ls, output_ls,\n        start_val, upsweep(input_ls, 0, len(input_ls), threshold, executor),\n        executor\n    )\n    executor.shutdown()\n"
    },
    {
      "cell_type": "code",
      "execution_count": 21,
      "outputs": [
        {
          "name": "stdout",
          "text": [
            "[0, 1, 3, 6, 10, 15, 21, 28, 36, 45]\n"
          ],
          "output_type": "stream"
        }
      ],
      "source": "input_ls \u003d list(range(10))\noutput_ls \u003d [0] * len(input_ls)\n\nparallel_scan(input_ls, output_ls, 0, 2)\n\nprint(output_ls)",
      "metadata": {
        "pycharm": {
          "metadata": false,
          "name": "#%%\n",
          "is_executing": false
        }
      }
    },
    {
      "cell_type": "code",
      "execution_count": null,
      "outputs": [],
      "source": "\n",
      "metadata": {
        "pycharm": {
          "metadata": false,
          "name": "#%%\n"
        }
      }
    }
  ],
  "metadata": {
    "language_info": {
      "codemirror_mode": {
        "name": "ipython",
        "version": 2
      },
      "file_extension": ".py",
      "mimetype": "text/x-python",
      "name": "python",
      "nbconvert_exporter": "python",
      "pygments_lexer": "ipython2",
      "version": "2.7.6"
    },
    "kernelspec": {
      "name": "python3",
      "language": "python",
      "display_name": "Python 3"
    }
  },
  "nbformat": 4,
  "nbformat_minor": 0
}