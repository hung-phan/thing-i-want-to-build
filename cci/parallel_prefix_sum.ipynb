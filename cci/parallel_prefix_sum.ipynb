{
 "cells": [
  {
   "cell_type": "code",
   "execution_count": 22,
   "metadata": {
    "collapsed": true,
    "jupyter": {
     "outputs_hidden": true
    },
    "pycharm": {
     "is_executing": false
    }
   },
   "outputs": [],
   "source": [
    "from concurrent.futures.thread import ThreadPoolExecutor\n",
    "from dataclasses import dataclass\n",
    "from typing import List, Union\n",
    "\n",
    "\n",
    "@dataclass(frozen=True)\n",
    "class Tree:\n",
    "    val: int\n",
    "\n",
    "\n",
    "@dataclass(frozen=True)\n",
    "class Leaf(Tree):\n",
    "    start: int\n",
    "    until: int\n",
    "\n",
    "\n",
    "@dataclass(frozen=True)\n",
    "class Node(Tree):\n",
    "    left: Tree\n",
    "    right: Tree\n",
    "\n",
    "\n",
    "ITree = Union[Leaf, Node]\n",
    "executor = ThreadPoolExecutor()\n",
    "\n",
    "\n",
    "def upsweep_sequential(input_ls: List[int], start: int, until: int) -> int:\n",
    "    return sum(input_ls[idx] for idx in range(start, until))\n",
    "\n",
    "\n",
    "def upsweep(input_ls: List[int], start: int, until: int, threshold: int) -> ITree:\n",
    "    if until - start < threshold:\n",
    "        return Leaf(\n",
    "            start=start, until=until,\n",
    "            val=upsweep_sequential(input_ls, start, until)\n",
    "        )\n",
    "\n",
    "    mid = start + (until - start) // 2\n",
    "    \n",
    "    future1 = executor.submit(upsweep, input_ls, start, mid, threshold)\n",
    "    future2 = executor.submit(upsweep, input_ls, mid, until, threshold)\n",
    "\n",
    "    left, right = future1.result(), future2.result()\n",
    "\n",
    "    return Node(left=left, right=right, val=left.val + right.val)\n",
    "\n",
    "\n",
    "def downsweep_sequential(input_ls: List[int], output_ls: List[int], start_val: int, start: int, until: int) -> None:\n",
    "    for idx in range(start, until):\n",
    "        start_val += input_ls[start]\n",
    "        output_ls[idx] = start_val\n",
    "\n",
    "\n",
    "def downsweep(input_ls: List[int], output_ls: List[int], start_val: int, tree: ITree):\n",
    "    if isinstance(tree, Leaf):\n",
    "        downsweep_sequential(input_ls, output_ls, start_val, tree.start, tree.until)\n",
    "    elif isinstance(tree, Node):\n",
    "        future1 = executor.submit(downsweep, input_ls, output_ls, start_val, tree.left)\n",
    "        future2 = executor.submit(downsweep, input_ls, output_ls, start_val + tree.left.val, tree.right)\n",
    "\n",
    "        future1.result(), future2.result()\n",
    "    else:\n",
    "        raise ValueError\n",
    "\n",
    "\n",
    "def parallel_scan(input_ls: List[int], output_ls: List[int], start_val: int, threshold: int):\n",
    "    downsweep(\n",
    "        input_ls, output_ls,\n",
    "        start_val, upsweep(input_ls, 0, len(input_ls), threshold)\n",
    "    )"
   ]
  },
  {
   "cell_type": "code",
   "execution_count": 24,
   "metadata": {
    "pycharm": {
     "is_executing": false,
     "metadata": false,
     "name": "#%%\n"
    }
   },
   "outputs": [
    {
     "name": "stdout",
     "output_type": "stream",
     "text": [
      "[0, 1, 3, 6, 10, 15, 21, 28, 36, 45]\n"
     ]
    }
   ],
   "source": [
    "input_ls = list(range(10))\n",
    "output_ls = [0] * len(input_ls)\n",
    "\n",
    "parallel_scan(input_ls, output_ls, 0, 2)\n",
    "\n",
    "print(output_ls)"
   ]
  },
  {
   "cell_type": "code",
   "execution_count": null,
   "metadata": {
    "pycharm": {
     "metadata": false,
     "name": "#%%\n"
    }
   },
   "outputs": [],
   "source": [
    "\n"
   ]
  }
 ],
 "metadata": {
  "kernelspec": {
   "display_name": "Python 3",
   "language": "python",
   "name": "python3"
  },
  "language_info": {
   "codemirror_mode": {
    "name": "ipython",
    "version": 3
   },
   "file_extension": ".py",
   "mimetype": "text/x-python",
   "name": "python",
   "nbconvert_exporter": "python",
   "pygments_lexer": "ipython3",
   "version": "3.7.4"
  }
 },
 "nbformat": 4,
 "nbformat_minor": 4
}
