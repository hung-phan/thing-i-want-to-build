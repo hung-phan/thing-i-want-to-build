{
  "cells": [
    {
      "cell_type": "markdown",
      "source": "### Weighted quick union with path compression",
      "metadata": {
        "pycharm": {
          "metadata": false
        }
      }
    },
    {
      "cell_type": "code",
      "execution_count": 23,
      "metadata": {
        "collapsed": false,
        "deletable": true,
        "editable": true,
        "pycharm": {}
      },
      "outputs": [],
      "source": "from typing import List, TypeVar, Generic\n\nT \u003d TypeVar(\u0027T\u0027)\n\nclass QuickUnion(Generic[T]):\n    def __init__(self, members: List[T]):\n        length \u003d len(members)\n\n        self.collection \u003d list(range(length))\n        self.size \u003d [1] * length\n        self.max \u003d members[:]\n\n    def get_root(self, index: int) -\u003e int:\n        while index !\u003d self.collection[index]:\n            self.collection[index] \u003d self.collection[self.collection[index]]\n            index \u003d self.collection[index]\n        \n        return index\n\n    def is_connected(self, a: int, b: int) -\u003e bool:\n        return self.get_root(a) \u003d\u003d self.get_root(b)\n    \n    def find(self, index: int) -\u003e T:\n        return self.max[self.get_root(index)]\n    \n    def union(self, a: int, b: int):\n        a_root \u003d self.get_root(a)\n        b_root \u003d self.get_root(b)\n        \n        if a_root !\u003d b_root:\n            if self.size[a_root] \u003c self.size[b_root]:\n                self.size[b_root] +\u003d self.size[a_root]\n                self.collection[a_root] \u003d b_root\n            else:\n                self.size[a_root] +\u003d self.size[b_root]\n                self.collection[b_root] \u003d a_root\n            \n            if self.max[a_root] \u003c self.max[b_root]:\n                self.max[a_root] \u003d self.max[b_root]\n            else:\n                self.max[b_root] \u003d self.max[a_root]\n    \n    def __str__(self) -\u003e str:\n        return f\"collection: {self.collection}\\nsize: {self.size}\\nmax_number: {self.max}\""
    },
    {
      "cell_type": "code",
      "execution_count": 26,
      "metadata": {
        "collapsed": false,
        "deletable": true,
        "editable": true,
        "pycharm": {}
      },
      "outputs": [
        {
          "name": "stdout",
          "output_type": "stream",
          "text": [
            "collection: [0, 1, 2, 3, 4, 5]\n",
            "size: [1, 1, 1, 1, 1, 1]\n",
            "max_number: [0, 1, 2, 3, 4, 5]\n",
            "--------------\n",
            "collection: [0, 0, 0, 0, 4, 4]\n",
            "size: [4, 1, 1, 1, 2, 1]\n",
            "max_number: [3, 1, 2, 3, 5, 5]\n",
            "3\n",
            "5\n"
          ]
        }
      ],
      "source": [
        "members \u003d [0, 1, 2, 3, 4, 5]\n",
        "\n",
        "\"\"\"\n",
        "0 -\u003e 1\n",
        "0 -\u003e 2\n",
        "2 -\u003e 3\n",
        "4 -\u003e 5\n",
        "\"\"\"\n",
        "\n",
        "quick_union: QuickUnion[str] \u003d QuickUnion(members)\n",
        "\n",
        "print(quick_union)\n",
        "\n",
        "print(\u0027--------------\u0027)\n",
        "\n",
        "quick_union.union(0, 1)\n",
        "quick_union.union(0, 2)\n",
        "quick_union.union(2, 3)\n",
        "quick_union.union(4, 5)\n",
        "\n",
        "print(quick_union)\n",
        "\n",
        "print(quick_union.find(0))\n",
        "print(quick_union.find(4))"
      ]
    },
    {
      "cell_type": "markdown",
      "metadata": {
        "deletable": true,
        "editable": true,
        "pycharm": {}
      },
      "source": [
        "### Successor with delete. Given a set of N integers S\u003d{0, 1, ..., n−1} and a sequence of requests of the following form:\n",
        "\n",
        "- Remove x from S\n",
        "- Find the successor of x: the smallest y in S such that y ≥ x\n",
        "\n",
        "design a data type so that all operations (except construction) take logarithmic time or better in the worst case."
      ]
    },
    {
      "cell_type": "code",
      "execution_count": 51,
      "metadata": {
        "collapsed": true,
        "deletable": true,
        "editable": true,
        "pycharm": {}
      },
      "outputs": [],
      "source": [
        "from typing import List\n",
        "\n",
        "class QuickUnion:\n",
        "    def __init__(self, length: int):\n",
        "        self.collection \u003d list(range(length))\n",
        "\n",
        "    def get_root(self, value: int) -\u003e int:\n",
        "        while value !\u003d self.collection[value]:\n",
        "            if self.collection[value] is None:\n",
        "                return None\n",
        "            else:\n",
        "                self.collection[value] \u003d self.collection[self.collection[value]]\n",
        "                value \u003d self.collection[value]\n",
        "        \n",
        "        return value\n",
        "\n",
        "    def get_successor(self, value: int) -\u003e int:\n",
        "        return self.get_root(value)\n",
        "    \n",
        "    def union(self, a: int, b: int):\n",
        "        a_root \u003d self.get_root(a)\n",
        "        b_root \u003d self.get_root(b)\n",
        "        \n",
        "        if a_root !\u003d b_root:\n",
        "            self.collection[a_root] \u003d b_root\n",
        "            return True\n",
        "        else:\n",
        "            return False\n",
        "\n",
        "    def remove(self, value: int) -\u003e int:\n",
        "        if value \u003c len(self.collection) - 1:\n",
        "            return self.union(value, value + 1)\n",
        "        elif value \u003d\u003d len(self.collection) - 1:\n",
        "            self.collection[value] \u003d None\n",
        "    \n",
        "    def __str__(self) -\u003e str:\n",
        "        return f\"collection: {self.collection}\""
      ]
    },
    {
      "cell_type": "code",
      "execution_count": 52,
      "metadata": {
        "collapsed": false,
        "deletable": true,
        "editable": true,
        "pycharm": {}
      },
      "outputs": [
        {
          "name": "stdout",
          "output_type": "stream",
          "text": [
            "collection: [0, 1, 2, 3, 4, 5, 6, 7, 8, 9]\n",
            "4\n",
            "collection: [0, 1, 2, 3, 4, 5, 6, 7, 8, None]\n",
            "None\n"
          ]
        }
      ],
      "source": [
        "quick_union: QuickUnion \u003d QuickUnion(10)\n",
        "\n",
        "print(quick_union)\n",
        "\n",
        "print(quick_union.get_successor(4))\n",
        "\n",
        "quick_union.remove(9)\n",
        "\n",
        "print(quick_union)\n",
        "\n",
        "print(quick_union.get_successor(9))"
      ]
    },
    {
      "cell_type": "markdown",
      "metadata": {
        "deletable": true,
        "editable": true,
        "pycharm": {}
      },
      "source": [
        "## Structure"
      ]
    },
    {
      "cell_type": "code",
      "execution_count": 129,
      "metadata": {
        "collapsed": false,
        "deletable": true,
        "editable": true,
        "pycharm": {}
      },
      "outputs": [],
      "source": [
        "from typing import TypeVar, Generic, Optional\n",
        "\n",
        "T \u003d TypeVar(\u0027T\u0027)\n",
        "\n",
        "class Tree(Generic[T]):\n",
        "    pass\n",
        "\n",
        "\n",
        "class Tree(Generic[T]):\n",
        "    value: T\n",
        "    left: Tree[T]\n",
        "    right: Tree[T]\n",
        "    \n",
        "    def __init__(self, value: T, left: Optional[Tree[T]] \u003d None, right: Optional[Tree[T]] \u003d None):\n",
        "        self.value \u003d value\n",
        "        self.left \u003d left\n",
        "        self.right \u003d right\n",
        "    \n",
        "    def __str__(self) -\u003e str:\n",
        "        if self.left or self.right:\n",
        "            left \u003d str(self.left) + \u0027 \u003c- \u0027 if self.left else \u0027\u0027\n",
        "            right \u003d \u0027 -\u003e \u0027 + str(self.right) if self.right else \u0027\u0027\n",
        "\n",
        "            return f\"({left}{self.value}{right})\"\n",
        "        else:\n",
        "            return str(self.value)"
      ]
    },
    {
      "cell_type": "code",
      "execution_count": 79,
      "metadata": {
        "collapsed": true,
        "deletable": true,
        "editable": true,
        "pycharm": {}
      },
      "outputs": [],
      "source": [
        "from typing import List\n",
        "\n",
        "class Node:\n",
        "    pass\n",
        "\n",
        "\n",
        "class Node:\n",
        "    name: str\n",
        "    adjacents: List[Node]\n",
        "    \n",
        "    def __init__(self, name: str \u003d None, adjacents: List[Node] \u003d None):\n",
        "        self.name \u003d name\n",
        "        self.adjacents \u003d adjacents or []\n",
        "    \n",
        "    def add_adjacents(self, nodes: List[Node]):\n",
        "        self.adjacents +\u003d nodes\n",
        "\n",
        "    def __str__(self) -\u003e str:\n",
        "        return f\"{self.name}: {[adjacent.name for adjacent in self.adjacents]}\"\n",
        "\n",
        "class Graph:\n",
        "    nodes: List[Node]\n",
        "    \n",
        "    def __init__(self, nodes: List[Node] \u003d None):\n",
        "        self.nodes \u003d nodes or []\n",
        "    \n",
        "    def get(self, index: int):\n",
        "        return self.nodes[index]\n",
        "        \n",
        "    def __str__(self) -\u003e str:\n",
        "        return \u0027\\n\u0027.join([str(node) for node in self.nodes])"
      ]
    },
    {
      "cell_type": "code",
      "execution_count": 81,
      "metadata": {
        "collapsed": false,
        "deletable": true,
        "editable": true,
        "pycharm": {}
      },
      "outputs": [],
      "source": [
        "from typing import TypeVar, Generic\n",
        "\n",
        "\n",
        "T \u003d TypeVar(\u0027T\u0027)\n",
        "\n",
        "\n",
        "class LinkedList(Generic[T]):\n",
        "    pass\n",
        "\n",
        "\n",
        "class LinkedList(Generic[T]):\n",
        "    value: T\n",
        "    next_node: LinkedList[T]\n",
        "    \n",
        "    def __init__(self, value: T, next_node: LinkedList[T] \u003d None):\n",
        "        self.value \u003d value\n",
        "        self.next_node \u003d next_node\n",
        "\n",
        "    def __add__(self, node: LinkedList[T]) -\u003e LinkedList[T]:\n",
        "        head \u003d self\n",
        "        \n",
        "        while head and head.next_node:\n",
        "            head \u003d head.next_node\n",
        "\n",
        "        head.next_node \u003d node\n",
        "        \n",
        "        return self\n",
        "\n",
        "    def __str__(self) -\u003e str:\n",
        "        if self.next_node:\n",
        "            return f\"{self.value} -\u003e {self.next_node}\"\n",
        "        else:\n",
        "            return str(self.value)"
      ]
    },
    {
      "cell_type": "code",
      "execution_count": 83,
      "metadata": {
        "collapsed": false,
        "deletable": true,
        "editable": true,
        "scrolled": true,
        "pycharm": {}
      },
      "outputs": [
        {
          "name": "stdout",
          "output_type": "stream",
          "text": [
            "1 -\u003e 2 -\u003e 3 -\u003e 4\n"
          ]
        }
      ],
      "source": [
        "print(LinkedList(1) + LinkedList(2) + LinkedList(3) + LinkedList(4))"
      ]
    },
    {
      "cell_type": "code",
      "execution_count": 169,
      "metadata": {
        "collapsed": true,
        "deletable": true,
        "editable": true,
        "pycharm": {}
      },
      "outputs": [],
      "source": [
        "from typing import Optional\n",
        "\n",
        "\n",
        "def pre_order(tree: Tree[int]) -\u003e List[str]:\n",
        "    def recur(tree: Tree[int], acc: List[str]) -\u003e List[str]:\n",
        "        if tree:\n",
        "            acc.append(tree.value)\n",
        "            recur(tree.left, acc)\n",
        "            recur(tree.right, acc)\n",
        "\n",
        "        return acc\n",
        "\n",
        "    return recur(tree, [])\n",
        "\n",
        "\n",
        "def in_order(tree: Tree[int]) -\u003e List[str]:\n",
        "    def recur(tree: Tree[int], acc: List[str]) -\u003e List[str]:\n",
        "        if tree:\n",
        "            recur(tree.left, acc)\n",
        "            acc.append(tree.value)\n",
        "            recur(tree.right, acc)\n",
        "\n",
        "        return acc\n",
        "\n",
        "    return recur(tree, [])\n",
        "\n",
        "\n",
        "def post_order(tree: Tree[int]) -\u003e List[str]:\n",
        "    def recur(tree: Tree[int], acc: List[str]) -\u003e List[str]:\n",
        "        if tree:\n",
        "            recur(tree.left, acc)\n",
        "            recur(tree.right, acc)\n",
        "            acc.append(tree.value)\n",
        "\n",
        "        return acc\n",
        "\n",
        "    return recur(tree, [])"
      ]
    },
    {
      "cell_type": "code",
      "execution_count": 207,
      "metadata": {
        "collapsed": true,
        "deletable": true,
        "editable": true,
        "pycharm": {}
      },
      "outputs": [],
      "source": [
        "from typing import Optional\n",
        "\n",
        "\n",
        "def add_value_to_bst(root: Tree[int], value: int):\n",
        "    if not root:\n",
        "        return\n",
        "\n",
        "    if value \u003d\u003d root.value:\n",
        "        return\n",
        "\n",
        "    if value \u003c root.value:\n",
        "        if root.left:\n",
        "            bst(root.left, value)\n",
        "        else:\n",
        "            root.left \u003d Tree(value)\n",
        "    \n",
        "    if value \u003e root.value:\n",
        "        if root.right:\n",
        "            bst(root.right, value)\n",
        "        else:\n",
        "            root.right \u003d Tree(value)\n",
        "\n",
        "\n",
        "def create_bst(ls: List[int]) -\u003e Optional[Tree[int]]:\n",
        "    root: Optional[Tree[int]] \u003d None\n",
        "        \n",
        "    for value in ls:\n",
        "        if root:\n",
        "            add_value_to_bst(root, value)\n",
        "        else:\n",
        "            root \u003d Tree(value)\n",
        "    \n",
        "    return root"
      ]
    },
    {
      "cell_type": "markdown",
      "metadata": {
        "deletable": true,
        "editable": true,
        "pycharm": {}
      },
      "source": [
        "### 4.1 Route Between Nodes: Given a directed graph, design an algorithm to find out whether there is a route between two nodes.\n",
        "\n",
        "Solution 1: Use quick find for this\n",
        "\n",
        "Solution 2: BFS"
      ]
    },
    {
      "cell_type": "code",
      "execution_count": 40,
      "metadata": {
        "collapsed": true,
        "deletable": true,
        "editable": true,
        "pycharm": {}
      },
      "outputs": [],
      "source": [
        "from collections import deque\n",
        "from typing import Dict\n",
        "\n",
        "def has_route(graph: Graph, start: Node, end: Node) -\u003e bool:\n",
        "    \"\"\"Using BFS\"\"\"\n",
        "    queue \u003d deque()\n",
        "    visited \u003d set()\n",
        "    \n",
        "    queue.append(start)\n",
        "    visited.add(start.name)\n",
        "    \n",
        "    while len(queue) \u003e 0:\n",
        "        node: Node \u003d queue.popleft()\n",
        "        \n",
        "        if node \u003d\u003d end:\n",
        "            return True\n",
        "        \n",
        "        for adjacent in node.adjacents:\n",
        "            if adjacent.name not in visited:\n",
        "                queue.append(adjacent)\n",
        "                visited.add(adjacent.name)\n",
        "    \n",
        "    return False"
      ]
    },
    {
      "cell_type": "code",
      "execution_count": 31,
      "metadata": {
        "collapsed": false,
        "deletable": true,
        "editable": true,
        "pycharm": {}
      },
      "outputs": [
        {
          "name": "stdout",
          "output_type": "stream",
          "text": [
            "0: [\u00271\u0027]\n",
            "1: [\u00272\u0027]\n",
            "2: [\u00270\u0027, \u00273\u0027]\n",
            "3: [\u00272\u0027]\n",
            "4: [\u00276\u0027]\n",
            "5: [\u00274\u0027]\n",
            "6: [\u00275\u0027]\n"
          ]
        }
      ],
      "source": [
        "graph \u003d Graph([Node(str(index)) for index in range(7)])\n",
        "\n",
        "graph.get(0).add_adjacents([graph.get(1)])\n",
        "graph.get(1).add_adjacents([graph.get(2)])\n",
        "graph.get(2).add_adjacents([graph.get(0), graph.get(3)])\n",
        "graph.get(3).add_adjacents([graph.get(2)])\n",
        "graph.get(4).add_adjacents([graph.get(6)])\n",
        "graph.get(5).add_adjacents([graph.get(4)])\n",
        "graph.get(6).add_adjacents([graph.get(5)])\n",
        "\n",
        "print(graph)"
      ]
    },
    {
      "cell_type": "code",
      "execution_count": 41,
      "metadata": {
        "collapsed": false,
        "deletable": true,
        "editable": true,
        "pycharm": {}
      },
      "outputs": [
        {
          "name": "stdout",
          "output_type": "stream",
          "text": [
            "False\n"
          ]
        }
      ],
      "source": [
        "print(has_route(graph, graph.get(0), graph.get(4)))"
      ]
    },
    {
      "cell_type": "markdown",
      "metadata": {
        "deletable": true,
        "editable": true,
        "pycharm": {}
      },
      "source": [
        "### 4.2 Minimal Tree: Given a sorted (increasing order) array with unique integer elements, write an algorithm to create a binary search tree with minimal height."
      ]
    },
    {
      "cell_type": "code",
      "execution_count": 132,
      "metadata": {
        "collapsed": true,
        "deletable": true,
        "editable": true,
        "pycharm": {}
      },
      "outputs": [],
      "source": [
        "from typing import List\n",
        "import math\n",
        "\n",
        "\n",
        "def create_bst_for_sorted_array(array: List[int]) -\u003e Tree:\n",
        "    if len(array) \u003d\u003d 0:\n",
        "        return None\n",
        "    else:\n",
        "        middle_index \u003d math.ceil((len(array) - 1) / 2)\n",
        "        return Tree(\n",
        "            array[middle_index],\n",
        "            create_bst_for_sorted_array(array[:middle_index]),\n",
        "            create_bst_for_sorted_array(array[middle_index + 1:])\n",
        "        )"
      ]
    },
    {
      "cell_type": "code",
      "execution_count": 133,
      "metadata": {
        "collapsed": false,
        "deletable": true,
        "editable": true,
        "pycharm": {}
      },
      "outputs": [
        {
          "name": "stdout",
          "output_type": "stream",
          "text": [
            "(((1 \u003c- 2) \u003c- 3 -\u003e (4 \u003c- 5)) \u003c- 6 -\u003e ((7 \u003c- 8) \u003c- 9 -\u003e 10))\n"
          ]
        }
      ],
      "source": [
        "print(create_bst_for_sorted_array([1, 2, 3, 4, 5, 6, 7, 8, 9, 10]))"
      ]
    },
    {
      "cell_type": "markdown",
      "metadata": {
        "deletable": true,
        "editable": true,
        "pycharm": {}
      },
      "source": [
        "### 4.3 List of Depths: Given a binary tree, design an algorithm which creates a linked list of all the nodes at each depth (e.g., if you have a tree with depth 0, you\u0027ll have 0 linked lists)."
      ]
    },
    {
      "cell_type": "code",
      "execution_count": 150,
      "metadata": {
        "collapsed": true,
        "deletable": true,
        "editable": true,
        "pycharm": {}
      },
      "outputs": [],
      "source": [
        "def list_of_depths(tree: Tree[int]) -\u003e LinkedList[LinkedList[int]]:\n",
        "    def recur(tree: Tree[int], level: int, ls: LinkedList[LinkedList[int]]) -\u003e LinkedList[LinkedList[int]]:\n",
        "        if tree:\n",
        "            new_linked_node: LinkedList[int] \u003d LinkedList(tree.value)\n",
        "\n",
        "            if ls:\n",
        "                current_level: int \u003d level\n",
        "                runner: LinkedList[LinkedList[int]] \u003d ls\n",
        "\n",
        "                while current_level \u003e 0 and runner and runner.next_node:\n",
        "                    runner \u003d runner.next_node\n",
        "                    current_level -\u003d 1\n",
        "                \n",
        "                if current_level \u003c\u003d 0:\n",
        "                    runner.value \u003d runner.value + new_linked_node\n",
        "                else:\n",
        "                    runner.next_node \u003d LinkedList(new_linked_node)\n",
        "            else:\n",
        "                ls \u003d LinkedList(new_linked_node)\n",
        "\n",
        "            next_level: int \u003d level + 1\n",
        "            recur(tree.left, next_level, ls)\n",
        "            recur(tree.right, next_level, ls)\n",
        "\n",
        "        return ls\n",
        "    \n",
        "    return recur(tree, 0, None)"
      ]
    },
    {
      "cell_type": "code",
      "execution_count": 152,
      "metadata": {
        "collapsed": false,
        "deletable": true,
        "editable": true,
        "pycharm": {}
      },
      "outputs": [
        {
          "name": "stdout",
          "output_type": "stream",
          "text": [
            "6\n",
            "3 -\u003e 9\n",
            "2 -\u003e 5 -\u003e 8 -\u003e 10\n",
            "1 -\u003e 4 -\u003e 7\n"
          ]
        }
      ],
      "source": [
        "depths \u003d list_of_depths(create_bst_for_sorted_array([1, 2, 3, 4, 5, 6, 7, 8, 9, 10]))\n",
        "\n",
        "head \u003d depths\n",
        "\n",
        "# 0: 6\n",
        "# 1: 3, 9\n",
        "# 2: 2, 5, 8, 10\n",
        "# 3: 1, 4, 7\n",
        "\n",
        "while head:\n",
        "    print(head.value)\n",
        "    head \u003d head.next_node"
      ]
    },
    {
      "cell_type": "markdown",
      "metadata": {
        "deletable": true,
        "editable": true,
        "pycharm": {}
      },
      "source": [
        "### 4.4 Check Balanced: Implement a function to check if a binary tree is balanced. For the purposes of this question, a balanced tree is defined to be a tree such that the heights of the two subtrees of any node never differ by more than one."
      ]
    },
    {
      "cell_type": "code",
      "execution_count": 136,
      "metadata": {
        "collapsed": true,
        "deletable": true,
        "editable": true,
        "pycharm": {}
      },
      "outputs": [],
      "source": [
        "def get_height(tree: Tree[int]) -\u003e int:\n",
        "    return max(get_height(tree.left), get_height(tree.right)) + 1 if tree else 0\n",
        "\n",
        "\n",
        "def check_balanced(tree: Tree[int]) -\u003e bool:\n",
        "    if not tree:\n",
        "        return True\n",
        "\n",
        "    if abs(get_height(tree.left) - get_height(tree.right)) \u003e 1:\n",
        "        return False\n",
        "\n",
        "    return check_balanced(tree.left) and check_balanced(tree.right)"
      ]
    },
    {
      "cell_type": "markdown",
      "metadata": {
        "deletable": true,
        "editable": true,
        "pycharm": {}
      },
      "source": [
        "Improvement"
      ]
    },
    {
      "cell_type": "code",
      "execution_count": 159,
      "metadata": {
        "collapsed": false,
        "deletable": true,
        "editable": true,
        "pycharm": {}
      },
      "outputs": [],
      "source": [
        "def improved_check_balanced(root: Tree) -\u003e int:\n",
        "    try:\n",
        "        def recur(root: Tree[int]) -\u003e int:\n",
        "            if not root:\n",
        "                return 0\n",
        "\n",
        "            left: int \u003d recur(root.left)\n",
        "            right: int \u003d recur(root.right)\n",
        "\n",
        "            if abs(left - right) \u003e 1:\n",
        "                raise Exception(\u0027The tree is not balanced\u0027)\n",
        "            else:\n",
        "                return max(left, right) + 1\n",
        "\n",
        "        recur(root)\n",
        "\n",
        "        return True\n",
        "    except:\n",
        "        return False"
      ]
    },
    {
      "cell_type": "code",
      "execution_count": 160,
      "metadata": {
        "collapsed": false,
        "deletable": true,
        "editable": true,
        "pycharm": {}
      },
      "outputs": [
        {
          "name": "stdout",
          "output_type": "stream",
          "text": [
            "True\n",
            "True\n"
          ]
        }
      ],
      "source": [
        "print(check_balanced(create_bst_for_sorted_array([1, 2, 3, 4, 5, 6, 7, 8, 9, 10])))\n",
        "print(improved_check_balanced(create_bst_for_sorted_array([1, 2, 3, 4, 5, 6, 7, 8, 9, 10])))"
      ]
    },
    {
      "cell_type": "markdown",
      "metadata": {
        "deletable": true,
        "editable": true,
        "pycharm": {}
      },
      "source": [
        "### 4.5 Validate BST: Implement a function to check if a binary tree is a binary search tree."
      ]
    },
    {
      "cell_type": "code",
      "execution_count": 161,
      "metadata": {
        "collapsed": true,
        "deletable": true,
        "editable": true,
        "pycharm": {}
      },
      "outputs": [],
      "source": [
        "def valid_bst(tree: Tree[int]) -\u003e bool:\n",
        "    def recur(tree: Tree[int], min_value: float \u003d float(\u0027-inf\u0027), max_value: float \u003d float(\u0027inf\u0027)) -\u003e bool:\n",
        "        if not tree:\n",
        "            return True\n",
        "        \n",
        "        if min_value \u003e\u003d tree.value or max_value \u003c\u003d tree.value:\n",
        "            return False\n",
        "        \n",
        "        return recur(tree.left, min_value, tree.value) and recur(tree.right, tree.value, max_value)\n",
        "\n",
        "    return recur(tree)"
      ]
    },
    {
      "cell_type": "code",
      "execution_count": 162,
      "metadata": {
        "collapsed": false,
        "deletable": true,
        "editable": true,
        "pycharm": {}
      },
      "outputs": [
        {
          "data": {
            "text/plain": [
              "True"
            ]
          },
          "execution_count": 162,
          "metadata": {},
          "output_type": "execute_result"
        }
      ],
      "source": [
        "valid_bst(create_bst_for_sorted_array([1, 2, 3, 4, 5, 6, 7, 8, 9, 10]))"
      ]
    },
    {
      "cell_type": "markdown",
      "metadata": {
        "deletable": true,
        "editable": true,
        "pycharm": {}
      },
      "source": [
        "### 4.6 Successor: Write an algorithm to find the \"next\" node (i.e., in-order successor) of a given node in a binary search tree. You may assume that each node has a link to its parent."
      ]
    },
    {
      "cell_type": "code",
      "execution_count": 172,
      "metadata": {
        "collapsed": false,
        "deletable": true,
        "editable": true,
        "pycharm": {}
      },
      "outputs": [
        {
          "name": "stdout",
          "output_type": "stream",
          "text": [
            "(((1 \u003c- 2) \u003c- 3 -\u003e (4 \u003c- 5)) \u003c- 6 -\u003e ((7 \u003c- 8) \u003c- 9 -\u003e 10))\n",
            "-------------\n",
            "[6, 3, 2, 1, 5, 4, 9, 8, 7, 10]\n",
            "[1, 2, 3, 4, 5, 6, 7, 8, 9, 10]\n",
            "[1, 2, 4, 5, 3, 7, 8, 10, 9, 6]\n"
          ]
        }
      ],
      "source": [
        "tree \u003d create_bst_for_sorted_array([1, 2, 3, 4, 5, 6, 7, 8, 9, 10])\n",
        "\n",
        "print(tree)\n",
        "print(\u0027-------------\u0027)\n",
        "print(pre_order(tree))\n",
        "print(in_order(tree))\n",
        "print(post_order(tree))"
      ]
    },
    {
      "cell_type": "markdown",
      "metadata": {
        "deletable": true,
        "editable": true,
        "pycharm": {}
      },
      "source": [
        "If 3 was given, it must return 4"
      ]
    },
    {
      "cell_type": "code",
      "execution_count": 161,
      "metadata": {
        "collapsed": true,
        "deletable": true,
        "editable": true,
        "pycharm": {}
      },
      "outputs": [],
      "source": [
        "from typing import Optional\n",
        "\n",
        "\n",
        "def get_in_order_successor(tree: Tree[int], value: int) -\u003e int:\n",
        "    def recur(tree: Tree[int], stack: List[int]) -\u003e int:\n",
        "        if tree and len(stack) \u003c 2:\n",
        "            recur(tree.left, stack)\n",
        "            \n",
        "            if tree.value \u003d\u003d value or len(stack) \u003d\u003d 1:\n",
        "                stack.append(tree.value)\n",
        "\n",
        "            recur(tree.right, stack)\n",
        "        \n",
        "        return stack\n",
        "\n",
        "    stack \u003d recur(tree, [])\n",
        "    \n",
        "    if len(stack) \u003d\u003d 2:\n",
        "        return stack.pop()\n",
        "    else:\n",
        "        return None"
      ]
    },
    {
      "cell_type": "code",
      "execution_count": 182,
      "metadata": {
        "collapsed": false,
        "deletable": true,
        "editable": true,
        "pycharm": {}
      },
      "outputs": [
        {
          "data": {
            "text/plain": [
              "4"
            ]
          },
          "execution_count": 182,
          "metadata": {},
          "output_type": "execute_result"
        }
      ],
      "source": [
        "get_in_order_successor(tree, 3)"
      ]
    },
    {
      "cell_type": "markdown",
      "metadata": {
        "deletable": true,
        "editable": true,
        "pycharm": {}
      },
      "source": [
        "### 4.7 Build Order: You are given a list of projects and a list of dependencies (which is a list of pairs of projects, where the second project is dependent on the first project). All of a project\u0027s dependencies must be built before the project is. Find a build order that will allow the projects to be built. If there is no valid build order, return an error.\n",
        "\n",
        "EXAMPLE\n",
        "\n",
        "Input:\n",
        "\n",
        "    projects: a, b, c, d, e, f\n",
        "\n",
        "    dependencies: (a, d), (f, b), (b, d), (f, a), (d, c)\n",
        "\n",
        "Output: f, e, a, b, d, c"
      ]
    },
    {
      "cell_type": "code",
      "execution_count": 53,
      "metadata": {
        "collapsed": false,
        "deletable": true,
        "editable": true,
        "pycharm": {}
      },
      "outputs": [],
      "source": [
        "from typing import List, Optional\n",
        "\n",
        "\n",
        "class Node:\n",
        "    pass\n",
        "\n",
        "\n",
        "class Node:\n",
        "    name: str\n",
        "    incoming_nodes: List[Node]\n",
        "    outcoming_nodes: List[Node]\n",
        "    \n",
        "    def __init__(self,\n",
        "                 name: str,\n",
        "                 incoming_nodes: Optional[List[str]] \u003d None,\n",
        "                 outcoming_nodes: Optional[List[str]] \u003d None):\n",
        "        self.name \u003d name\n",
        "        self.incoming_nodes \u003d incoming_nodes or []\n",
        "        self.outcoming_nodes \u003d outcoming_nodes or []\n",
        "    \n",
        "    def add_incoming_node(self, node: Node):\n",
        "        self.incoming_nodes.append(node)\n",
        "    \n",
        "    def remove_incoming_node(self, node: Node):\n",
        "        self.incoming_nodes.remove(node)\n",
        "    \n",
        "    def add_outcoming_node(self, node: Node):\n",
        "        self.outcoming_nodes.append(node)\n",
        "\n",
        "    def remove_outcoming_node(self, node: Node):\n",
        "        self.outcoming_nodes.remove(node)"
      ]
    },
    {
      "cell_type": "markdown",
      "metadata": {
        "deletable": true,
        "editable": true,
        "pycharm": {}
      },
      "source": [
        "Kahn\u0027s algorithm\n",
        "\n",
        "One of these algorithms, first described by Kahn (1962), works by choosing vertices in the same order as the eventual topological sort. First, find a list of \"start nodes\" which have no incoming edges and insert them into a set S; at least one such node must exist in a non-empty acyclic graph. Then:\n",
        "\n",
        "```\n",
        "L ← Empty list that will contain the sorted elements\n",
        "S ← Set of all nodes with no incoming edges\n",
        "while S is non-empty do\n",
        "    remove a node n from S\n",
        "    add n to tail of L\n",
        "    for each node m with an edge e from n to m do\n",
        "        remove edge e from the graph\n",
        "        if m has no other incoming edges then\n",
        "            insert m into S\n",
        "if graph has edges then\n",
        "    return error (graph has at least one cycle)\n",
        "else \n",
        "    return L (a topologically sorted order)\n",
        "```\n",
        "\n",
        "If the graph is a DAG, a solution will be contained in the list L (the solution is not necessarily unique). Otherwise, the graph must have at least one cycle and therefore a topological sorting is impossible.\n",
        "\n",
        "Reflecting the non-uniqueness of the resulting sort, the structure S can be simply a set or a queue or a stack. Depending on the order that nodes n are removed from set S, a different solution is created. A variation of Kahn\u0027s algorithm that breaks ties lexicographically forms a key component of the Coffman–Graham algorithm for parallel scheduling and layered graph drawing."
      ]
    },
    {
      "cell_type": "code",
      "execution_count": 125,
      "metadata": {
        "collapsed": false,
        "deletable": true,
        "editable": true,
        "pycharm": {}
      },
      "outputs": [],
      "source": [
        "from typing import Dict, Set, List\n",
        "\n",
        "\n",
        "def get_projects_without_dependencies_and_dependants(graph: Dict[str, Node]) -\u003e List[Node]:\n",
        "    return [node for node in graph.values()\n",
        "            if len(node.incoming_nodes) \u003d\u003d 0 and len(node.outcoming_nodes) \u003d\u003d 0]\n",
        "\n",
        "\n",
        "def get_nodes_without_incoming_connection_and_exclude_from_given_nodes(graph: Dict[str, Node],\n",
        "                                                                       nodes: List[Node]) -\u003e List[Node]:\n",
        "    node_hash_table: Dict[str, Node] \u003d {node.name: node for node in nodes}\n",
        "\n",
        "    return [node for key, node in graph.items()\n",
        "            if node_hash_table.get(key) is None and len(node.incoming_nodes) \u003d\u003d 0]\n",
        "\n",
        "\n",
        "def kahn_agorithm(graph: Dict[str, Node]):\n",
        "    result: List[Node] \u003d get_projects_without_dependencies_and_dependants(graph)\n",
        "    nodes_without_incoming: List[Node] \u003d get_nodes_without_incoming_connection_and_exclude_from_given_nodes(\n",
        "        graph, result\n",
        "    )\n",
        "\n",
        "    while nodes_without_incoming:\n",
        "        node: Node \u003d nodes_without_incoming.pop()\n",
        "        result.append(node)\n",
        "        \n",
        "        for connected_node in node.outcoming_nodes[:]:\n",
        "            node.remove_outcoming_node(connected_node)\n",
        "            connected_node.remove_incoming_node(node)\n",
        "\n",
        "            if len(connected_node.incoming_nodes) \u003d\u003d 0:\n",
        "                nodes_without_incoming.append(connected_node)\n",
        "\n",
        "    if len(result) !\u003d len(graph):\n",
        "        raise Exception(\u0027Cycle detected\u0027)\n",
        "\n",
        "    return result"
      ]
    },
    {
      "cell_type": "code",
      "execution_count": 127,
      "metadata": {
        "collapsed": false,
        "deletable": true,
        "editable": true,
        "pycharm": {}
      },
      "outputs": [
        {
          "name": "stdout",
          "output_type": "stream",
          "text": [
            "[\u0027e\u0027, \u0027f\u0027, \u0027a\u0027, \u0027b\u0027, \u0027d\u0027, \u0027c\u0027]\n"
          ]
        }
      ],
      "source": [
        "projects \u003d [\u0027a\u0027, \u0027b\u0027, \u0027c\u0027, \u0027d\u0027, \u0027e\u0027, \u0027f\u0027]\n",
        "\n",
        "dependencies \u003d [\n",
        "    (\u0027a\u0027, \u0027d\u0027),\n",
        "    (\u0027f\u0027, \u0027b\u0027),\n",
        "    (\u0027b\u0027, \u0027d\u0027),\n",
        "    (\u0027f\u0027, \u0027a\u0027),\n",
        "    (\u0027d\u0027, \u0027c\u0027)\n",
        "]\n",
        "\n",
        "graph \u003d {project: Node(project) for project in projects}\n",
        "\n",
        "for project, dependant in dependencies:\n",
        "    graph[project].add_outcoming_node(graph[dependant])\n",
        "    graph[dependant].add_incoming_node(graph[project])\n",
        "\n",
        "\n",
        "print([node.name for node in kahn_agorithm(graph)])"
      ]
    },
    {
      "cell_type": "markdown",
      "metadata": {
        "deletable": true,
        "editable": true,
        "pycharm": {}
      },
      "source": [
        "### 4.8 First Common Ancestor: Design an algorithm and write code to find the first common ancestor of two nodes in a binary tree. Avoid storing additional nodes in a data structure. NOTE: This is not necessarily a binary search tree.\n",
        "\n",
        "Approach: Using bfs to go to all the nodes in the tree until we get 2 nodes that we want. Follow their trace to construct the common ancestor"
      ]
    },
    {
      "cell_type": "code",
      "execution_count": 203,
      "metadata": {
        "collapsed": false,
        "deletable": true,
        "editable": true,
        "pycharm": {}
      },
      "outputs": [],
      "source": [
        "from typing import List\n",
        "from collections import deque\n",
        "\n",
        "\n",
        "def first_common_ancestor(root: Tree[int], a: Tree[int], b: Tree[int]) -\u003e Tree[int]:\n",
        "    queue \u003d deque()\n",
        "    trace \u003d dict()\n",
        "    \n",
        "    queue.append(root)\n",
        "    \n",
        "    while queue:\n",
        "        current_node \u003d queue.popleft()\n",
        "        \n",
        "        if trace.get(hash(a)) and trace.get(hash(b)):\n",
        "            break\n",
        "        elif current_node:\n",
        "            for leaf in (current_node.left, current_node.right):\n",
        "                queue.append(leaf)\n",
        "                trace[hash(leaf)] \u003d current_node\n",
        "\n",
        "    def get_built_path_from_trace(trace: Dict[str, Tree[int]], root: Tree[int], node: Tree[int]):\n",
        "        if trace[hash(node)]:\n",
        "            stack \u003d deque()\n",
        "            current_node: Tree[int] \u003d node\n",
        "\n",
        "            while current_node !\u003d root:\n",
        "                stack.appendleft(current_node)\n",
        "                current_node \u003d trace[hash(current_node)]\n",
        "\n",
        "            stack.appendleft(root)\n",
        "\n",
        "            return stack\n",
        "        else:\n",
        "            return []\n",
        "\n",
        "    a_path \u003d get_built_path_from_trace(trace, root, a)\n",
        "    b_path \u003d get_built_path_from_trace(trace, root, b)\n",
        "    prev_node: Tree[int]\n",
        "        \n",
        "    while len(a_path) and len(b_path) and a_path[0] \u003d\u003d b_path[0]:\n",
        "        prev_node \u003d a_path.popleft()\n",
        "        b_path.popleft()\n",
        "    \n",
        "    return prev_node"
      ]
    },
    {
      "cell_type": "code",
      "execution_count": 206,
      "metadata": {
        "collapsed": false,
        "deletable": true,
        "editable": true,
        "pycharm": {}
      },
      "outputs": [
        {
          "name": "stdout",
          "output_type": "stream",
          "text": [
            "(((1 \u003c- 2) \u003c- 3 -\u003e (4 \u003c- 5)) \u003c- 6 -\u003e ((7 \u003c- 8) \u003c- 9 -\u003e 10))\n",
            "-------------\n"
          ]
        },
        {
          "data": {
            "text/plain": [
              "3"
            ]
          },
          "execution_count": 206,
          "metadata": {},
          "output_type": "execute_result"
        }
      ],
      "source": [
        "root \u003d create_bst_for_sorted_array([1, 2, 3, 4, 5, 6, 7, 8, 9, 10])\n",
        "\n",
        "print(root)\n",
        "print(\u0027-------------\u0027)\n",
        "\n",
        "first_common_ancestor(root, root.left.left.left, root.left.right.left).value"
      ]
    },
    {
      "cell_type": "markdown",
      "metadata": {
        "deletable": true,
        "editable": true,
        "pycharm": {}
      },
      "source": [
        "### 4.9 BST Sequences: A binary search tree was created by traversing through an array from left to right and inserting each element. Given a binary search tree with distinct elements, print all possible arrays that could have led to this tree.\n",
        "\n",
        "EXAMPLE Input:\n",
        "\n",
        "    2\n",
        "1 ----- 3\n",
        "\n",
        "Output: {2, 1, 3}, {2, 3, 1}\n",
        "\n",
        "Approach: generate the level for given binary search tree. Then generate permutation for it."
      ]
    },
    {
      "cell_type": "code",
      "execution_count": 219,
      "metadata": {
        "collapsed": true,
        "deletable": true,
        "editable": true,
        "pycharm": {}
      },
      "outputs": [],
      "source": [
        "from typing import List\n",
        "\n",
        "\n",
        "def create_level(root: Tree[int]) -\u003e List[int]:\n",
        "    def recur(root: Tree[int], stack: List[int], level: int) -\u003e List[int]:\n",
        "        if root:\n",
        "            if len(stack) - 1 \u003c level:\n",
        "                stack.append([root])\n",
        "            else:\n",
        "                stack[level].append(root)\n",
        "\n",
        "            recur(root.left, stack, level + 1)\n",
        "            recur(root.right, stack, level + 1)\n",
        "        \n",
        "        return stack\n",
        "    \n",
        "    return recur(root, [], 0)"
      ]
    },
    {
      "cell_type": "code",
      "execution_count": 256,
      "metadata": {
        "collapsed": false,
        "deletable": true,
        "editable": true,
        "pycharm": {}
      },
      "outputs": [],
      "source": [
        "from typing import TypeVar, Iterator\n",
        "\n",
        "\n",
        "T \u003d TypeVar(\u0027T\u0027)\n",
        "\n",
        "\n",
        "def create_permutation(ls: List[T]) -\u003e Iterator[T]:\n",
        "    def recur(ls: List[T], result: List[T]) -\u003e Iterator[T]:\n",
        "        if len(ls) \u003d\u003d 0:\n",
        "            yield result\n",
        "        else:\n",
        "            for index, value in enumerate(ls):\n",
        "                yield from recur(ls[:index] + ls[index + 1:], result + [value])\n",
        "\n",
        "    return recur(ls, [])"
      ]
    },
    {
      "cell_type": "code",
      "execution_count": 242,
      "metadata": {
        "collapsed": false,
        "deletable": true,
        "editable": true,
        "pycharm": {}
      },
      "outputs": [
        {
          "data": {
            "text/plain": [
              "[[1, 2, 3], [1, 3, 2], [2, 1, 3], [2, 3, 1], [3, 1, 2], [3, 2, 1]]"
            ]
          },
          "execution_count": 242,
          "metadata": {},
          "output_type": "execute_result"
        }
      ],
      "source": [
        "list(create_permutation([1, 2, 3]))"
      ]
    },
    {
      "cell_type": "code",
      "execution_count": 257,
      "metadata": {
        "collapsed": true,
        "deletable": true,
        "editable": true,
        "pycharm": {}
      },
      "outputs": [],
      "source": [
        "from typing import Iterator\n",
        "\n",
        "\n",
        "def bst_sequences(root: Tree[int]) -\u003e Iterator[List[int]]:\n",
        "    levels \u003d [[node.value for node in level] for level in create_level(root)]\n",
        "    \n",
        "    def recur(level: int, result: List[int]):\n",
        "        if level \u003d\u003d len(levels):\n",
        "            yield result\n",
        "        else:\n",
        "            # TODO: prevent create_premutation everytime\n",
        "            for nodes_in_level in create_permutation(levels[level]):\n",
        "                yield from recur(level + 1, result + nodes_in_level)\n",
        "    \n",
        "    return recur(0, [])"
      ]
    },
    {
      "cell_type": "code",
      "execution_count": 253,
      "metadata": {
        "collapsed": false,
        "deletable": true,
        "editable": true,
        "pycharm": {}
      },
      "outputs": [
        {
          "name": "stdout",
          "output_type": "stream",
          "text": [
            "(1 \u003c- 2 -\u003e 3)\n",
            "(1 \u003c- 2 -\u003e 3)\n"
          ]
        },
        {
          "data": {
            "text/plain": [
              "[[6, 3, 9, 2, 5, 8, 10, 1, 4, 7],\n",
              " [6, 3, 9, 2, 5, 8, 10, 1, 7, 4],\n",
              " [6, 3, 9, 2, 5, 8, 10, 4, 1, 7],\n",
              " [6, 3, 9, 2, 5, 8, 10, 4, 7, 1],\n",
              " [6, 3, 9, 2, 5, 8, 10, 7, 1, 4],\n",
              " [6, 3, 9, 2, 5, 8, 10, 7, 4, 1],\n",
              " [6, 3, 9, 2, 5, 10, 8, 1, 4, 7],\n",
              " [6, 3, 9, 2, 5, 10, 8, 1, 7, 4],\n",
              " [6, 3, 9, 2, 5, 10, 8, 4, 1, 7],\n",
              " [6, 3, 9, 2, 5, 10, 8, 4, 7, 1],\n",
              " [6, 3, 9, 2, 5, 10, 8, 7, 1, 4],\n",
              " [6, 3, 9, 2, 5, 10, 8, 7, 4, 1],\n",
              " [6, 3, 9, 2, 8, 5, 10, 1, 4, 7],\n",
              " [6, 3, 9, 2, 8, 5, 10, 1, 7, 4],\n",
              " [6, 3, 9, 2, 8, 5, 10, 4, 1, 7],\n",
              " [6, 3, 9, 2, 8, 5, 10, 4, 7, 1],\n",
              " [6, 3, 9, 2, 8, 5, 10, 7, 1, 4],\n",
              " [6, 3, 9, 2, 8, 5, 10, 7, 4, 1],\n",
              " [6, 3, 9, 2, 8, 10, 5, 1, 4, 7],\n",
              " [6, 3, 9, 2, 8, 10, 5, 1, 7, 4],\n",
              " [6, 3, 9, 2, 8, 10, 5, 4, 1, 7],\n",
              " [6, 3, 9, 2, 8, 10, 5, 4, 7, 1],\n",
              " [6, 3, 9, 2, 8, 10, 5, 7, 1, 4],\n",
              " [6, 3, 9, 2, 8, 10, 5, 7, 4, 1],\n",
              " [6, 3, 9, 2, 10, 5, 8, 1, 4, 7],\n",
              " [6, 3, 9, 2, 10, 5, 8, 1, 7, 4],\n",
              " [6, 3, 9, 2, 10, 5, 8, 4, 1, 7],\n",
              " [6, 3, 9, 2, 10, 5, 8, 4, 7, 1],\n",
              " [6, 3, 9, 2, 10, 5, 8, 7, 1, 4],\n",
              " [6, 3, 9, 2, 10, 5, 8, 7, 4, 1],\n",
              " [6, 3, 9, 2, 10, 8, 5, 1, 4, 7],\n",
              " [6, 3, 9, 2, 10, 8, 5, 1, 7, 4],\n",
              " [6, 3, 9, 2, 10, 8, 5, 4, 1, 7],\n",
              " [6, 3, 9, 2, 10, 8, 5, 4, 7, 1],\n",
              " [6, 3, 9, 2, 10, 8, 5, 7, 1, 4],\n",
              " [6, 3, 9, 2, 10, 8, 5, 7, 4, 1],\n",
              " [6, 3, 9, 5, 2, 8, 10, 1, 4, 7],\n",
              " [6, 3, 9, 5, 2, 8, 10, 1, 7, 4],\n",
              " [6, 3, 9, 5, 2, 8, 10, 4, 1, 7],\n",
              " [6, 3, 9, 5, 2, 8, 10, 4, 7, 1],\n",
              " [6, 3, 9, 5, 2, 8, 10, 7, 1, 4],\n",
              " [6, 3, 9, 5, 2, 8, 10, 7, 4, 1],\n",
              " [6, 3, 9, 5, 2, 10, 8, 1, 4, 7],\n",
              " [6, 3, 9, 5, 2, 10, 8, 1, 7, 4],\n",
              " [6, 3, 9, 5, 2, 10, 8, 4, 1, 7],\n",
              " [6, 3, 9, 5, 2, 10, 8, 4, 7, 1],\n",
              " [6, 3, 9, 5, 2, 10, 8, 7, 1, 4],\n",
              " [6, 3, 9, 5, 2, 10, 8, 7, 4, 1],\n",
              " [6, 3, 9, 5, 8, 2, 10, 1, 4, 7],\n",
              " [6, 3, 9, 5, 8, 2, 10, 1, 7, 4],\n",
              " [6, 3, 9, 5, 8, 2, 10, 4, 1, 7],\n",
              " [6, 3, 9, 5, 8, 2, 10, 4, 7, 1],\n",
              " [6, 3, 9, 5, 8, 2, 10, 7, 1, 4],\n",
              " [6, 3, 9, 5, 8, 2, 10, 7, 4, 1],\n",
              " [6, 3, 9, 5, 8, 10, 2, 1, 4, 7],\n",
              " [6, 3, 9, 5, 8, 10, 2, 1, 7, 4],\n",
              " [6, 3, 9, 5, 8, 10, 2, 4, 1, 7],\n",
              " [6, 3, 9, 5, 8, 10, 2, 4, 7, 1],\n",
              " [6, 3, 9, 5, 8, 10, 2, 7, 1, 4],\n",
              " [6, 3, 9, 5, 8, 10, 2, 7, 4, 1],\n",
              " [6, 3, 9, 5, 10, 2, 8, 1, 4, 7],\n",
              " [6, 3, 9, 5, 10, 2, 8, 1, 7, 4],\n",
              " [6, 3, 9, 5, 10, 2, 8, 4, 1, 7],\n",
              " [6, 3, 9, 5, 10, 2, 8, 4, 7, 1],\n",
              " [6, 3, 9, 5, 10, 2, 8, 7, 1, 4],\n",
              " [6, 3, 9, 5, 10, 2, 8, 7, 4, 1],\n",
              " [6, 3, 9, 5, 10, 8, 2, 1, 4, 7],\n",
              " [6, 3, 9, 5, 10, 8, 2, 1, 7, 4],\n",
              " [6, 3, 9, 5, 10, 8, 2, 4, 1, 7],\n",
              " [6, 3, 9, 5, 10, 8, 2, 4, 7, 1],\n",
              " [6, 3, 9, 5, 10, 8, 2, 7, 1, 4],\n",
              " [6, 3, 9, 5, 10, 8, 2, 7, 4, 1],\n",
              " [6, 3, 9, 8, 2, 5, 10, 1, 4, 7],\n",
              " [6, 3, 9, 8, 2, 5, 10, 1, 7, 4],\n",
              " [6, 3, 9, 8, 2, 5, 10, 4, 1, 7],\n",
              " [6, 3, 9, 8, 2, 5, 10, 4, 7, 1],\n",
              " [6, 3, 9, 8, 2, 5, 10, 7, 1, 4],\n",
              " [6, 3, 9, 8, 2, 5, 10, 7, 4, 1],\n",
              " [6, 3, 9, 8, 2, 10, 5, 1, 4, 7],\n",
              " [6, 3, 9, 8, 2, 10, 5, 1, 7, 4],\n",
              " [6, 3, 9, 8, 2, 10, 5, 4, 1, 7],\n",
              " [6, 3, 9, 8, 2, 10, 5, 4, 7, 1],\n",
              " [6, 3, 9, 8, 2, 10, 5, 7, 1, 4],\n",
              " [6, 3, 9, 8, 2, 10, 5, 7, 4, 1],\n",
              " [6, 3, 9, 8, 5, 2, 10, 1, 4, 7],\n",
              " [6, 3, 9, 8, 5, 2, 10, 1, 7, 4],\n",
              " [6, 3, 9, 8, 5, 2, 10, 4, 1, 7],\n",
              " [6, 3, 9, 8, 5, 2, 10, 4, 7, 1],\n",
              " [6, 3, 9, 8, 5, 2, 10, 7, 1, 4],\n",
              " [6, 3, 9, 8, 5, 2, 10, 7, 4, 1],\n",
              " [6, 3, 9, 8, 5, 10, 2, 1, 4, 7],\n",
              " [6, 3, 9, 8, 5, 10, 2, 1, 7, 4],\n",
              " [6, 3, 9, 8, 5, 10, 2, 4, 1, 7],\n",
              " [6, 3, 9, 8, 5, 10, 2, 4, 7, 1],\n",
              " [6, 3, 9, 8, 5, 10, 2, 7, 1, 4],\n",
              " [6, 3, 9, 8, 5, 10, 2, 7, 4, 1],\n",
              " [6, 3, 9, 8, 10, 2, 5, 1, 4, 7],\n",
              " [6, 3, 9, 8, 10, 2, 5, 1, 7, 4],\n",
              " [6, 3, 9, 8, 10, 2, 5, 4, 1, 7],\n",
              " [6, 3, 9, 8, 10, 2, 5, 4, 7, 1],\n",
              " [6, 3, 9, 8, 10, 2, 5, 7, 1, 4],\n",
              " [6, 3, 9, 8, 10, 2, 5, 7, 4, 1],\n",
              " [6, 3, 9, 8, 10, 5, 2, 1, 4, 7],\n",
              " [6, 3, 9, 8, 10, 5, 2, 1, 7, 4],\n",
              " [6, 3, 9, 8, 10, 5, 2, 4, 1, 7],\n",
              " [6, 3, 9, 8, 10, 5, 2, 4, 7, 1],\n",
              " [6, 3, 9, 8, 10, 5, 2, 7, 1, 4],\n",
              " [6, 3, 9, 8, 10, 5, 2, 7, 4, 1],\n",
              " [6, 3, 9, 10, 2, 5, 8, 1, 4, 7],\n",
              " [6, 3, 9, 10, 2, 5, 8, 1, 7, 4],\n",
              " [6, 3, 9, 10, 2, 5, 8, 4, 1, 7],\n",
              " [6, 3, 9, 10, 2, 5, 8, 4, 7, 1],\n",
              " [6, 3, 9, 10, 2, 5, 8, 7, 1, 4],\n",
              " [6, 3, 9, 10, 2, 5, 8, 7, 4, 1],\n",
              " [6, 3, 9, 10, 2, 8, 5, 1, 4, 7],\n",
              " [6, 3, 9, 10, 2, 8, 5, 1, 7, 4],\n",
              " [6, 3, 9, 10, 2, 8, 5, 4, 1, 7],\n",
              " [6, 3, 9, 10, 2, 8, 5, 4, 7, 1],\n",
              " [6, 3, 9, 10, 2, 8, 5, 7, 1, 4],\n",
              " [6, 3, 9, 10, 2, 8, 5, 7, 4, 1],\n",
              " [6, 3, 9, 10, 5, 2, 8, 1, 4, 7],\n",
              " [6, 3, 9, 10, 5, 2, 8, 1, 7, 4],\n",
              " [6, 3, 9, 10, 5, 2, 8, 4, 1, 7],\n",
              " [6, 3, 9, 10, 5, 2, 8, 4, 7, 1],\n",
              " [6, 3, 9, 10, 5, 2, 8, 7, 1, 4],\n",
              " [6, 3, 9, 10, 5, 2, 8, 7, 4, 1],\n",
              " [6, 3, 9, 10, 5, 8, 2, 1, 4, 7],\n",
              " [6, 3, 9, 10, 5, 8, 2, 1, 7, 4],\n",
              " [6, 3, 9, 10, 5, 8, 2, 4, 1, 7],\n",
              " [6, 3, 9, 10, 5, 8, 2, 4, 7, 1],\n",
              " [6, 3, 9, 10, 5, 8, 2, 7, 1, 4],\n",
              " [6, 3, 9, 10, 5, 8, 2, 7, 4, 1],\n",
              " [6, 3, 9, 10, 8, 2, 5, 1, 4, 7],\n",
              " [6, 3, 9, 10, 8, 2, 5, 1, 7, 4],\n",
              " [6, 3, 9, 10, 8, 2, 5, 4, 1, 7],\n",
              " [6, 3, 9, 10, 8, 2, 5, 4, 7, 1],\n",
              " [6, 3, 9, 10, 8, 2, 5, 7, 1, 4],\n",
              " [6, 3, 9, 10, 8, 2, 5, 7, 4, 1],\n",
              " [6, 3, 9, 10, 8, 5, 2, 1, 4, 7],\n",
              " [6, 3, 9, 10, 8, 5, 2, 1, 7, 4],\n",
              " [6, 3, 9, 10, 8, 5, 2, 4, 1, 7],\n",
              " [6, 3, 9, 10, 8, 5, 2, 4, 7, 1],\n",
              " [6, 3, 9, 10, 8, 5, 2, 7, 1, 4],\n",
              " [6, 3, 9, 10, 8, 5, 2, 7, 4, 1],\n",
              " [6, 9, 3, 2, 5, 8, 10, 1, 4, 7],\n",
              " [6, 9, 3, 2, 5, 8, 10, 1, 7, 4],\n",
              " [6, 9, 3, 2, 5, 8, 10, 4, 1, 7],\n",
              " [6, 9, 3, 2, 5, 8, 10, 4, 7, 1],\n",
              " [6, 9, 3, 2, 5, 8, 10, 7, 1, 4],\n",
              " [6, 9, 3, 2, 5, 8, 10, 7, 4, 1],\n",
              " [6, 9, 3, 2, 5, 10, 8, 1, 4, 7],\n",
              " [6, 9, 3, 2, 5, 10, 8, 1, 7, 4],\n",
              " [6, 9, 3, 2, 5, 10, 8, 4, 1, 7],\n",
              " [6, 9, 3, 2, 5, 10, 8, 4, 7, 1],\n",
              " [6, 9, 3, 2, 5, 10, 8, 7, 1, 4],\n",
              " [6, 9, 3, 2, 5, 10, 8, 7, 4, 1],\n",
              " [6, 9, 3, 2, 8, 5, 10, 1, 4, 7],\n",
              " [6, 9, 3, 2, 8, 5, 10, 1, 7, 4],\n",
              " [6, 9, 3, 2, 8, 5, 10, 4, 1, 7],\n",
              " [6, 9, 3, 2, 8, 5, 10, 4, 7, 1],\n",
              " [6, 9, 3, 2, 8, 5, 10, 7, 1, 4],\n",
              " [6, 9, 3, 2, 8, 5, 10, 7, 4, 1],\n",
              " [6, 9, 3, 2, 8, 10, 5, 1, 4, 7],\n",
              " [6, 9, 3, 2, 8, 10, 5, 1, 7, 4],\n",
              " [6, 9, 3, 2, 8, 10, 5, 4, 1, 7],\n",
              " [6, 9, 3, 2, 8, 10, 5, 4, 7, 1],\n",
              " [6, 9, 3, 2, 8, 10, 5, 7, 1, 4],\n",
              " [6, 9, 3, 2, 8, 10, 5, 7, 4, 1],\n",
              " [6, 9, 3, 2, 10, 5, 8, 1, 4, 7],\n",
              " [6, 9, 3, 2, 10, 5, 8, 1, 7, 4],\n",
              " [6, 9, 3, 2, 10, 5, 8, 4, 1, 7],\n",
              " [6, 9, 3, 2, 10, 5, 8, 4, 7, 1],\n",
              " [6, 9, 3, 2, 10, 5, 8, 7, 1, 4],\n",
              " [6, 9, 3, 2, 10, 5, 8, 7, 4, 1],\n",
              " [6, 9, 3, 2, 10, 8, 5, 1, 4, 7],\n",
              " [6, 9, 3, 2, 10, 8, 5, 1, 7, 4],\n",
              " [6, 9, 3, 2, 10, 8, 5, 4, 1, 7],\n",
              " [6, 9, 3, 2, 10, 8, 5, 4, 7, 1],\n",
              " [6, 9, 3, 2, 10, 8, 5, 7, 1, 4],\n",
              " [6, 9, 3, 2, 10, 8, 5, 7, 4, 1],\n",
              " [6, 9, 3, 5, 2, 8, 10, 1, 4, 7],\n",
              " [6, 9, 3, 5, 2, 8, 10, 1, 7, 4],\n",
              " [6, 9, 3, 5, 2, 8, 10, 4, 1, 7],\n",
              " [6, 9, 3, 5, 2, 8, 10, 4, 7, 1],\n",
              " [6, 9, 3, 5, 2, 8, 10, 7, 1, 4],\n",
              " [6, 9, 3, 5, 2, 8, 10, 7, 4, 1],\n",
              " [6, 9, 3, 5, 2, 10, 8, 1, 4, 7],\n",
              " [6, 9, 3, 5, 2, 10, 8, 1, 7, 4],\n",
              " [6, 9, 3, 5, 2, 10, 8, 4, 1, 7],\n",
              " [6, 9, 3, 5, 2, 10, 8, 4, 7, 1],\n",
              " [6, 9, 3, 5, 2, 10, 8, 7, 1, 4],\n",
              " [6, 9, 3, 5, 2, 10, 8, 7, 4, 1],\n",
              " [6, 9, 3, 5, 8, 2, 10, 1, 4, 7],\n",
              " [6, 9, 3, 5, 8, 2, 10, 1, 7, 4],\n",
              " [6, 9, 3, 5, 8, 2, 10, 4, 1, 7],\n",
              " [6, 9, 3, 5, 8, 2, 10, 4, 7, 1],\n",
              " [6, 9, 3, 5, 8, 2, 10, 7, 1, 4],\n",
              " [6, 9, 3, 5, 8, 2, 10, 7, 4, 1],\n",
              " [6, 9, 3, 5, 8, 10, 2, 1, 4, 7],\n",
              " [6, 9, 3, 5, 8, 10, 2, 1, 7, 4],\n",
              " [6, 9, 3, 5, 8, 10, 2, 4, 1, 7],\n",
              " [6, 9, 3, 5, 8, 10, 2, 4, 7, 1],\n",
              " [6, 9, 3, 5, 8, 10, 2, 7, 1, 4],\n",
              " [6, 9, 3, 5, 8, 10, 2, 7, 4, 1],\n",
              " [6, 9, 3, 5, 10, 2, 8, 1, 4, 7],\n",
              " [6, 9, 3, 5, 10, 2, 8, 1, 7, 4],\n",
              " [6, 9, 3, 5, 10, 2, 8, 4, 1, 7],\n",
              " [6, 9, 3, 5, 10, 2, 8, 4, 7, 1],\n",
              " [6, 9, 3, 5, 10, 2, 8, 7, 1, 4],\n",
              " [6, 9, 3, 5, 10, 2, 8, 7, 4, 1],\n",
              " [6, 9, 3, 5, 10, 8, 2, 1, 4, 7],\n",
              " [6, 9, 3, 5, 10, 8, 2, 1, 7, 4],\n",
              " [6, 9, 3, 5, 10, 8, 2, 4, 1, 7],\n",
              " [6, 9, 3, 5, 10, 8, 2, 4, 7, 1],\n",
              " [6, 9, 3, 5, 10, 8, 2, 7, 1, 4],\n",
              " [6, 9, 3, 5, 10, 8, 2, 7, 4, 1],\n",
              " [6, 9, 3, 8, 2, 5, 10, 1, 4, 7],\n",
              " [6, 9, 3, 8, 2, 5, 10, 1, 7, 4],\n",
              " [6, 9, 3, 8, 2, 5, 10, 4, 1, 7],\n",
              " [6, 9, 3, 8, 2, 5, 10, 4, 7, 1],\n",
              " [6, 9, 3, 8, 2, 5, 10, 7, 1, 4],\n",
              " [6, 9, 3, 8, 2, 5, 10, 7, 4, 1],\n",
              " [6, 9, 3, 8, 2, 10, 5, 1, 4, 7],\n",
              " [6, 9, 3, 8, 2, 10, 5, 1, 7, 4],\n",
              " [6, 9, 3, 8, 2, 10, 5, 4, 1, 7],\n",
              " [6, 9, 3, 8, 2, 10, 5, 4, 7, 1],\n",
              " [6, 9, 3, 8, 2, 10, 5, 7, 1, 4],\n",
              " [6, 9, 3, 8, 2, 10, 5, 7, 4, 1],\n",
              " [6, 9, 3, 8, 5, 2, 10, 1, 4, 7],\n",
              " [6, 9, 3, 8, 5, 2, 10, 1, 7, 4],\n",
              " [6, 9, 3, 8, 5, 2, 10, 4, 1, 7],\n",
              " [6, 9, 3, 8, 5, 2, 10, 4, 7, 1],\n",
              " [6, 9, 3, 8, 5, 2, 10, 7, 1, 4],\n",
              " [6, 9, 3, 8, 5, 2, 10, 7, 4, 1],\n",
              " [6, 9, 3, 8, 5, 10, 2, 1, 4, 7],\n",
              " [6, 9, 3, 8, 5, 10, 2, 1, 7, 4],\n",
              " [6, 9, 3, 8, 5, 10, 2, 4, 1, 7],\n",
              " [6, 9, 3, 8, 5, 10, 2, 4, 7, 1],\n",
              " [6, 9, 3, 8, 5, 10, 2, 7, 1, 4],\n",
              " [6, 9, 3, 8, 5, 10, 2, 7, 4, 1],\n",
              " [6, 9, 3, 8, 10, 2, 5, 1, 4, 7],\n",
              " [6, 9, 3, 8, 10, 2, 5, 1, 7, 4],\n",
              " [6, 9, 3, 8, 10, 2, 5, 4, 1, 7],\n",
              " [6, 9, 3, 8, 10, 2, 5, 4, 7, 1],\n",
              " [6, 9, 3, 8, 10, 2, 5, 7, 1, 4],\n",
              " [6, 9, 3, 8, 10, 2, 5, 7, 4, 1],\n",
              " [6, 9, 3, 8, 10, 5, 2, 1, 4, 7],\n",
              " [6, 9, 3, 8, 10, 5, 2, 1, 7, 4],\n",
              " [6, 9, 3, 8, 10, 5, 2, 4, 1, 7],\n",
              " [6, 9, 3, 8, 10, 5, 2, 4, 7, 1],\n",
              " [6, 9, 3, 8, 10, 5, 2, 7, 1, 4],\n",
              " [6, 9, 3, 8, 10, 5, 2, 7, 4, 1],\n",
              " [6, 9, 3, 10, 2, 5, 8, 1, 4, 7],\n",
              " [6, 9, 3, 10, 2, 5, 8, 1, 7, 4],\n",
              " [6, 9, 3, 10, 2, 5, 8, 4, 1, 7],\n",
              " [6, 9, 3, 10, 2, 5, 8, 4, 7, 1],\n",
              " [6, 9, 3, 10, 2, 5, 8, 7, 1, 4],\n",
              " [6, 9, 3, 10, 2, 5, 8, 7, 4, 1],\n",
              " [6, 9, 3, 10, 2, 8, 5, 1, 4, 7],\n",
              " [6, 9, 3, 10, 2, 8, 5, 1, 7, 4],\n",
              " [6, 9, 3, 10, 2, 8, 5, 4, 1, 7],\n",
              " [6, 9, 3, 10, 2, 8, 5, 4, 7, 1],\n",
              " [6, 9, 3, 10, 2, 8, 5, 7, 1, 4],\n",
              " [6, 9, 3, 10, 2, 8, 5, 7, 4, 1],\n",
              " [6, 9, 3, 10, 5, 2, 8, 1, 4, 7],\n",
              " [6, 9, 3, 10, 5, 2, 8, 1, 7, 4],\n",
              " [6, 9, 3, 10, 5, 2, 8, 4, 1, 7],\n",
              " [6, 9, 3, 10, 5, 2, 8, 4, 7, 1],\n",
              " [6, 9, 3, 10, 5, 2, 8, 7, 1, 4],\n",
              " [6, 9, 3, 10, 5, 2, 8, 7, 4, 1],\n",
              " [6, 9, 3, 10, 5, 8, 2, 1, 4, 7],\n",
              " [6, 9, 3, 10, 5, 8, 2, 1, 7, 4],\n",
              " [6, 9, 3, 10, 5, 8, 2, 4, 1, 7],\n",
              " [6, 9, 3, 10, 5, 8, 2, 4, 7, 1],\n",
              " [6, 9, 3, 10, 5, 8, 2, 7, 1, 4],\n",
              " [6, 9, 3, 10, 5, 8, 2, 7, 4, 1],\n",
              " [6, 9, 3, 10, 8, 2, 5, 1, 4, 7],\n",
              " [6, 9, 3, 10, 8, 2, 5, 1, 7, 4],\n",
              " [6, 9, 3, 10, 8, 2, 5, 4, 1, 7],\n",
              " [6, 9, 3, 10, 8, 2, 5, 4, 7, 1],\n",
              " [6, 9, 3, 10, 8, 2, 5, 7, 1, 4],\n",
              " [6, 9, 3, 10, 8, 2, 5, 7, 4, 1],\n",
              " [6, 9, 3, 10, 8, 5, 2, 1, 4, 7],\n",
              " [6, 9, 3, 10, 8, 5, 2, 1, 7, 4],\n",
              " [6, 9, 3, 10, 8, 5, 2, 4, 1, 7],\n",
              " [6, 9, 3, 10, 8, 5, 2, 4, 7, 1],\n",
              " [6, 9, 3, 10, 8, 5, 2, 7, 1, 4],\n",
              " [6, 9, 3, 10, 8, 5, 2, 7, 4, 1]]"
            ]
          },
          "execution_count": 253,
          "metadata": {},
          "output_type": "execute_result"
        }
      ],
      "source": [
        "print(create_bst([2, 1, 3]))\n",
        "print(create_bst([2, 3, 1]))\n",
        "\n",
        "list(bst_sequences(create_bst_for_sorted_array([1, 2, 3, 4, 5, 6, 7, 8, 9, 10])))"
      ]
    },
    {
      "cell_type": "markdown",
      "metadata": {
        "deletable": true,
        "editable": true,
        "pycharm": {}
      },
      "source": [
        "### 4.10 Check Subtree: T1 and T2 are two very large binary trees, with T1 much bigger than T2. Create analgorithm to determine if T2 is a subtree of T1. A tree T2 is a subtree of T1 if there exists a node n in T1 such that the subtree of n is identical to T2. That is, if you cut off the tree at node n, the two trees would be identical."
      ]
    },
    {
      "cell_type": "code",
      "execution_count": 162,
      "metadata": {
        "collapsed": true,
        "deletable": true,
        "editable": true,
        "pycharm": {}
      },
      "outputs": [],
      "source": [
        "def is_subtree(tree_1: Tree[int], tree_2: Tree[int]) -\u003e bool:\n",
        "    if not tree_1 and not tree_2:\n",
        "        return True\n",
        "    \n",
        "    if not tree_1 or not tree_2:\n",
        "        return False\n",
        "    \n",
        "    return tree_1 \u003d\u003d tree_2 or is_subtree(tree_1.left, tree_2) or is_subtree(tree_1.right, tree2)"
      ]
    },
    {
      "cell_type": "markdown",
      "metadata": {
        "deletable": true,
        "editable": true,
        "pycharm": {}
      },
      "source": [
        "### 4.11 Random Node: You are implementing a binary tree class from scratch which, in addition to insert, find, and delete, has a method getRandomNode() which returns a random node from the tree. All nodes should be equally likely to be chosen. Design and implement an algorithm for getRandomNode, and explain how you would implement the rest of the methods."
      ]
    },
    {
      "cell_type": "code",
      "execution_count": 2,
      "metadata": {
        "collapsed": false,
        "deletable": true,
        "editable": true,
        "pycharm": {}
      },
      "outputs": [],
      "source": [
        "from typing import List, TypeVar, Generic, Optional\n",
        "from random import random\n",
        "import math\n",
        "\n",
        "\n",
        "T \u003d TypeVar(\u0027T\u0027)\n",
        "\n",
        "\n",
        "class BinarySearchTree(Generic[T]):\n",
        "    value: T\n",
        "    left: \u0027BinarySearchTree[T]\u0027\n",
        "    right: \u0027BinarySearchTree[T]\u0027\n",
        "    \n",
        "    def __init__(self,\n",
        "                 value: T,\n",
        "                 left: Optional[\u0027BinarySearchTree[T]\u0027] \u003d None,\n",
        "                 right: Optional[\u0027BinarySearchTree[T]\u0027] \u003d None):\n",
        "        self.value \u003d value\n",
        "        self.left \u003d left\n",
        "        self.right \u003d right\n",
        "\n",
        "    @classmethod\n",
        "    def create_from_list(cls, array: List[T]) -\u003e \u0027BinarySearchTree[T]\u0027:\n",
        "        if array:\n",
        "            root \u003d cls(array[0])\n",
        "\n",
        "            for value in array[1:]:\n",
        "                root.insert(value)\n",
        "\n",
        "            return root\n",
        "        else:\n",
        "            return None\n",
        "\n",
        "    def find(self, value: T) -\u003e bool:\n",
        "        if value \u003d\u003d self.value:\n",
        "            return True\n",
        "        \n",
        "        if value \u003c self.value:\n",
        "            return self.left.find(value) if self.left else False\n",
        "\n",
        "        if value \u003e self.value:\n",
        "            return self.right.find(value) if self.right else False\n",
        "\n",
        "    def insert(self, value: T):\n",
        "        if value \u003d\u003d self.value:\n",
        "            return\n",
        "        \n",
        "        if value \u003c self.value:\n",
        "            if self.left:\n",
        "                self.left.insert(value)\n",
        "            else:\n",
        "                self.left \u003d BinarySearchTree(value)\n",
        "        \n",
        "        if value \u003e self.value:\n",
        "            if self.right:\n",
        "                self.right.insert(value)\n",
        "            else:\n",
        "                self.right \u003d BinarySearchTree(value)\n",
        "\n",
        "    def delete(self, value: T, prev_node: \u0027BinarySearchTree[T]\u0027 \u003d None):\n",
        "        prev_node \u003d prev_node or self\n",
        "\n",
        "        if value \u003d\u003d self.value:\n",
        "            if not self.left and not self.right:\n",
        "                # leaf node\n",
        "                if prev_node.left \u003d\u003d self:\n",
        "                    prev_node.left \u003d None\n",
        "                \n",
        "                if prev_node.right \u003d\u003d self:\n",
        "                    prev_node.right \u003d None\n",
        "\n",
        "            elif not self.left or not self.right:\n",
        "                # one branch\n",
        "                if prev_node.left \u003d\u003d self:\n",
        "                    if self.left:\n",
        "                        prev_node.left \u003d self.left\n",
        "                    \n",
        "                    if self.right:\n",
        "                        prev_node.left \u003d self.right\n",
        "                \n",
        "                if prev_node.right \u003d\u003d self:\n",
        "                    if self.left:\n",
        "                        prev_node.right \u003d self.left\n",
        "\n",
        "                    if self.right:\n",
        "                        prev_node.right \u003d self.right\n",
        "\n",
        "            else:\n",
        "                # ancestor of 2 nodes\n",
        "                prev_runner: BinarySearchTree[T] \u003d self\n",
        "                runner: BinarySearchTree[T] \u003d self.right\n",
        "\n",
        "                while runner and runner.left:\n",
        "                    prev_runner \u003d runner\n",
        "                    runner \u003d runner.left\n",
        "\n",
        "                self.value \u003d runner.value\n",
        "                runner.delete(runner.value, prev_runner)\n",
        "\n",
        "        if value \u003c self.value and self.left:\n",
        "            self.left.delete(value, self)\n",
        "        \n",
        "        if value \u003e self.value and self.right:\n",
        "            self.right.delete(value, self)\n",
        "    \n",
        "    def get_random_node(self) -\u003e \u0027BinarySearchTree[T]\u0027:\n",
        "        def recur(root: \u0027BinarySearchTree[T]\u0027, stack: Optional[List[\u0027BinarySearchTree[T]\u0027]] \u003d None):\n",
        "            stack \u003d stack or []\n",
        "\n",
        "            if root:\n",
        "                stack.append(root)\n",
        "                \n",
        "                recur(root.left, stack)\n",
        "                recur(root.right, stack)\n",
        "\n",
        "            return stack\n",
        "\n",
        "        nodes: List[BinarySearchTree[T]] \u003d recur(self, [])\n",
        "        \n",
        "        return nodes[math.floor(random() * len(nodes))]\n",
        "\n",
        "    def __str__(self) -\u003e str:\n",
        "        if self.left or self.right:\n",
        "            left \u003d str(self.left) + \u0027 \u003c- \u0027 if self.left else \u0027\u0027\n",
        "            right \u003d \u0027 -\u003e \u0027 + str(self.right) if self.right else \u0027\u0027\n",
        "\n",
        "            return f\"({left}{self.value}{right})\"\n",
        "        else:\n",
        "            return str(self.value)"
      ]
    },
    {
      "cell_type": "code",
      "execution_count": 25,
      "metadata": {
        "collapsed": false,
        "deletable": true,
        "editable": true,
        "pycharm": {}
      },
      "outputs": [
        {
          "name": "stdout",
          "output_type": "stream",
          "text": [
            "(((1 \u003c- 2) \u003c- 3 -\u003e (4 \u003c- 5)) \u003c- 6 -\u003e ((7 \u003c- 8) \u003c- 9 -\u003e 10))\n",
            "True\n",
            "8\n",
            "8\n",
            "4\n",
            "1\n",
            "10\n",
            "6\n",
            "3\n",
            "6\n",
            "10\n",
            "6\n"
          ]
        }
      ],
      "source": [
        "bst \u003d BinarySearchTree.create_from_list([6, 3, 9, 2, 5, 8, 10, 1, 4, 7])\n",
        "\n",
        "print(bst)\n",
        "print(bst.find(3))\n",
        "\n",
        "for _ in range(10):\n",
        "    print(bst.get_random_node().value)"
      ]
    },
    {
      "cell_type": "markdown",
      "metadata": {
        "deletable": true,
        "editable": true,
        "pycharm": {}
      },
      "source": [
        "### 4.12 Paths with Sum: You are given a binary tree in which each node contains an integer value (which might be positive or negative). Design an algorithm to count the number of paths that sum to a given value. The path does not need to start or end at the root or a leaf, but it must go downwards (traveling only from parent nodes to child nodes).\n",
        "\n",
        "Solution: DFS for in all the nodes to the leaf, print the result if it is equal to the given sum. The optimal solution is that we should track the path"
      ]
    },
    {
      "cell_type": "code",
      "execution_count": 35,
      "metadata": {
        "collapsed": false,
        "deletable": true,
        "editable": true,
        "pycharm": {}
      },
      "outputs": [],
      "source": [
        "from typing import Iterator\n",
        "\n",
        "\n",
        "def paths_with_sum_recur(root: Tree[int],\n",
        "                         result: List[Tree[int]],\n",
        "                         current_sum: int, given_sum: int) -\u003e Iterator[List[Tree[int]]]:\n",
        "    if root:\n",
        "        new_result: List[Tree[int]] \u003d result + [root]\n",
        "        new_sum: int \u003d current_sum + root.value\n",
        "\n",
        "        if new_sum \u003d\u003d given_sum:\n",
        "            yield new_result\n",
        "        \n",
        "        yield from paths_with_sum_recur(root.left, new_result, new_sum, given_sum)\n",
        "        yield from paths_with_sum_recur(root.right, new_result, new_sum, given_sum)\n",
        "    \n",
        "\n",
        "def paths_with_sum(root: Tree[int], given_sum: int) -\u003e Iterator[List[Tree[int]]]:\n",
        "    if root:\n",
        "        yield from paths_with_sum_recur(root, [], 0, given_sum)\n",
        "        yield from paths_with_sum(root.left, given_sum)\n",
        "        yield from paths_with_sum(root.right, given_sum)\n",
        "        "
      ]
    },
    {
      "cell_type": "code",
      "execution_count": 38,
      "metadata": {
        "collapsed": false,
        "deletable": true,
        "editable": true,
        "pycharm": {}
      },
      "outputs": [
        {
          "name": "stdout",
          "output_type": "stream",
          "text": [
            "(((1 \u003c- 2) \u003c- 3 -\u003e (4 \u003c- 5)) \u003c- 6 -\u003e ((7 \u003c- 8) \u003c- 9 -\u003e 10))\n",
            "[3, 5]\n",
            "[8]\n"
          ]
        }
      ],
      "source": [
        "tree \u003d create_bst_for_sorted_array([1, 2, 3, 4, 5, 6, 7, 8, 9, 10])\n",
        "\n",
        "print(tree)\n",
        "\n",
        "for ls in paths_with_sum(tree, 8):\n",
        "    print([node.value for node in ls])"
      ]
    },
    {
      "cell_type": "code",
      "execution_count": 15,
      "metadata": {
        "collapsed": true,
        "deletable": true,
        "editable": true,
        "pycharm": {}
      },
      "outputs": [],
      "source": "from typing import Generic, TypeVar\nfrom enum import Enum\n\n\nT \u003d TypeVar(\u0027T\u0027)\n\n\nclass Color(Enum):\n    BLACK \u003d 0\n    RED \u003d 1\n    \n    @classmethod\n    def get_opposite_color(cls, color: \u0027Color\u0027):\n        if color \u003d\u003d Color.BLACK:\n            return Color.RED\n        \n        if color \u003d\u003d Color.RED:\n            return Color.BLACK\n\n\nclass Node(Generic[T]):\n    value: T\n    color: Color\n    left: \u0027Node[T]\u0027\n    right: \u0027Node[T]\u0027\n    \n    def __init__(self, value: T, color: Color, left: \u0027Node[T]\u0027 \u003d None, right: \u0027Node[T]\u0027 \u003d None):\n        self.value \u003d value\n        self.color \u003d color\n        self.left \u003d left\n        self.right \u003d right\n\n    def __str__(self) -\u003e str:\n        if self.left or self.right:\n            left \u003d str(self.left) + \u0027 \u003c- \u0027 if self.left else \u0027\u0027\n            right \u003d \u0027 -\u003e \u0027 + str(self.right) if self.right else \u0027\u0027\n\n            return f\"({left}{self.value}{right})\"\n        else:\n            return str(self.value)\n\n\nclass RedBlackBST(Generic[T]):\n    root: Node[T]\n    \n    def __init__(self):\n        self.root \u003d None\n    \n    def is_red(self, node: Node[T]):\n        return node.color \u003d\u003d Color.RED if node else False\n\n    def is_black(self, node: Node[T]):\n        return node.color \u003d\u003d Color.BLACK if node else False\n    \n    def find(self, item: T) -\u003e bool:\n        node \u003d self.root\n\n        while node:  \n            if item \u003d\u003d node.value:\n                return True\n            elif item \u003c node.value:\n                node \u003d node.left\n            else:\n                node \u003d node.right\n\n        return False\n\n    def insert(self, item: T):\n        def recur(node: Node[T]) -\u003e Node[T]: \n            if not node:\n                return Node(item, Color.RED)\n\n            if item \u003c node.value:\n                node.left \u003d recur(node.left)\n\n            if item \u003e node.value:\n                node.right \u003d recur(node.right)\n\n            if self.is_black(node.left) and self.is_red(node.right):\n                node \u003d self.rotate_left(node)\n\n            if self.is_red(node.left) and self.is_red(node.left.left):\n                node \u003d self.rotate_right(node)\n\n            if self.is_red(node.left) and self.is_red(node.right):\n                self.flip_color(node)\n\n            return node\n        \n        self.root \u003d recur(self.root)\n        self.root.color \u003d Color.BLACK\n\n    def rotate_left(self, node: Node[T]):\n        right_node \u003d node.right\n        \n        node.right \u003d right_node.left\n        right_node.left \u003d node\n        right_node.color \u003d right_node.left.color\n        right_node.left.color \u003d Color.RED\n        \n        return right_node\n\n    def rotate_right(self, node: Node[T]) -\u003e Node[T]:\n        left_node \u003d node.left\n        \n        node.left \u003d left_node.right\n        left_node.right \u003d node\n        left_node.color \u003d left_node.right.color\n        left_node.right.color \u003d Color.RED\n        \n        return left_node\n\n    def flip_color(self, node: Node[T]):\n        node.color \u003d Color.get_opposite_color(node.color)\n        node.left.color \u003d Color.get_opposite_color(node.left.color)\n        node.right.color \u003d Color.get_opposite_color(node.right.color)\n    \n    def __str__(self) -\u003e str:\n        return str(self.root)"
    },
    {
      "cell_type": "code",
      "execution_count": 19,
      "metadata": {
        "collapsed": false,
        "pycharm": {}
      },
      "outputs": [
        {
          "name": "stdout",
          "output_type": "stream",
          "text": [
            "S\n",
            "(E \u003c- S)\n",
            "(A \u003c- E -\u003e S)\n",
            "(A \u003c- E -\u003e (R \u003c- S))\n",
            "((A \u003c- C) \u003c- E -\u003e (R \u003c- S))\n",
            "(((A \u003c- C) \u003c- E -\u003e H) \u003c- R -\u003e S)\n"
          ]
        }
      ],
      "source": [
        "redblackbst: RedBlackBST[str] \u003d RedBlackBST()\n",
        "\n",
        "def insert(item: str):\n",
        "    redblackbst.insert(item)\n",
        "    print(redblackbst)\n",
        "\n",
        "insert(\u0027S\u0027)\n",
        "insert(\u0027E\u0027)\n",
        "insert(\u0027A\u0027)\n",
        "insert(\u0027R\u0027)\n",
        "insert(\u0027C\u0027)\n",
        "insert(\u0027H\u0027)"
      ]
    },
    {
      "cell_type": "code",
      "execution_count": null,
      "metadata": {
        "collapsed": true,
        "pycharm": {}
      },
      "outputs": [],
      "source": []
    }
  ],
  "metadata": {
    "kernelspec": {
      "display_name": "Python 3",
      "language": "python",
      "name": "python3"
    },
    "language_info": {
      "codemirror_mode": {
        "name": "ipython",
        "version": 3
      },
      "file_extension": ".py",
      "mimetype": "text/x-python",
      "name": "python",
      "nbconvert_exporter": "python",
      "pygments_lexer": "ipython3",
      "version": "3.7.2"
    },
    "stem_cell": {
      "cell_type": "raw",
      "source": "",
      "metadata": {
        "pycharm": {
          "metadata": false
        }
      }
    }
  },
  "nbformat": 4,
  "nbformat_minor": 2
}