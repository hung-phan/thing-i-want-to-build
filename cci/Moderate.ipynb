{
 "cells": [
  {
   "cell_type": "markdown",
   "metadata": {},
   "source": [
    "### Number Swapper: Write a function to swap a number in place (that is, without temporary vari- ables) ."
   ]
  },
  {
   "cell_type": "code",
   "execution_count": 6,
   "metadata": {},
   "outputs": [
    {
     "name": "stdout",
     "output_type": "stream",
     "text": [
      "20 10\n",
      "20 10\n"
     ]
    },
    {
     "data": {
      "text/plain": [
       "undefined"
      ]
     },
     "execution_count": 6,
     "metadata": {},
     "output_type": "execute_result"
    }
   ],
   "source": [
    "(function () {\n",
    "    let x = 10;\n",
    "    let y = 20;\n",
    "    \n",
    "    [x, y] = [y, x];\n",
    "    \n",
    "    console.log(x, y);\n",
    "})();\n",
    "\n",
    "(function () {\n",
    "    let x = 10;\n",
    "    let y = 20;\n",
    "    \n",
    "    x = x ^ y;\n",
    "    y = x ^ y;\n",
    "    x = x ^ y;\n",
    "\n",
    "    console.log(x, y);\n",
    "})();"
   ]
  },
  {
   "cell_type": "markdown",
   "metadata": {},
   "source": [
    "### Word Frequencies: Design a method to find the frequency of occurrences of any given word in a\n",
    "book. What if we were running this algorithm multiple times?"
   ]
  },
  {
   "cell_type": "code",
   "execution_count": 3,
   "metadata": {},
   "outputs": [
    {
     "name": "stdout",
     "output_type": "stream",
     "text": [
      "Map {\n",
      "  'Lorem' => 4,\n",
      "  'Ipsum' => 3,\n",
      "  'is' => 1,\n",
      "  'simply' => 1,\n",
      "  'dummy' => 2,\n",
      "  'text' => 2,\n",
      "  'of' => 4,\n",
      "  'the' => 6,\n",
      "  'printing' => 1,\n",
      "  'and' => 3,\n",
      "  'typesetting' => 1,\n",
      "  'industry.' => 1,\n",
      "  'has' => 2,\n",
      "  'been' => 1,\n",
      "  'industry\\'s' => 1,\n",
      "  'standard' => 1,\n",
      "  'ever' => 1,\n",
      "  'since' => 1,\n",
      "  '1500s,' => 1,\n",
      "  'when' => 1,\n",
      "  'an' => 1,\n",
      "  'unknown' => 1,\n",
      "  'printer' => 1,\n",
      "  'took' => 1,\n",
      "  'a' => 2,\n",
      "  'galley' => 1,\n",
      "  'type' => 2,\n",
      "  'scrambled' => 1,\n",
      "  'it' => 1,\n",
      "  'to' => 1,\n",
      "  'make' => 1,\n",
      "  'specimen' => 1,\n",
      "  'book.' => 1,\n",
      "  'It' => 2,\n",
      "  'survived' => 1,\n",
      "  'not' => 1,\n",
      "  'only' => 1,\n",
      "  'five' => 1,\n",
      "  'centuries,' => 1,\n",
      "  'but' => 1,\n",
      "  'also' => 1,\n",
      "  'leap' => 1,\n",
      "  'into' => 1,\n",
      "  'electronic' => 1,\n",
      "  'typesetting,' => 1,\n",
      "  'remaining' => 1,\n",
      "  'essentially' => 1,\n",
      "  'unchanged.' => 1,\n",
      "  'was' => 1,\n",
      "  'popularised' => 1,\n",
      "  'in' => 1,\n",
      "  '1960s' => 1,\n",
      "  'with' => 2,\n",
      "  'release' => 1,\n",
      "  'Letraset' => 1,\n",
      "  'sheets' => 1,\n",
      "  'containing' => 1,\n",
      "  'passages,' => 1,\n",
      "  'more' => 1,\n",
      "  'recently' => 1,\n",
      "  'desktop' => 1,\n",
      "  'publishing' => 1,\n",
      "  'software' => 1,\n",
      "  'like' => 1,\n",
      "  'Aldus' => 1,\n",
      "  'PageMaker' => 1,\n",
      "  'including' => 1,\n",
      "  'versions' => 1,\n",
      "  'Ipsum.' => 1 }\n"
     ]
    },
    {
     "data": {
      "text/plain": [
       "undefined"
      ]
     },
     "execution_count": 3,
     "metadata": {},
     "output_type": "execute_result"
    }
   ],
   "source": [
    "(function () {\n",
    "    const lines = `\n",
    "        Lorem Ipsum is simply dummy text of the printing and typesetting industry.\n",
    "        Lorem Ipsum has been the industry's standard dummy text ever since the 1500s,\n",
    "        when an unknown printer took a galley of type and scrambled it to make a type specimen book.\n",
    "        It has survived not only five centuries, but also the leap into electronic typesetting,\n",
    "        remaining essentially unchanged. It was popularised in the 1960s with the release of Letraset\n",
    "        sheets containing Lorem Ipsum passages, and more recently with desktop publishing software like\n",
    "        Aldus PageMaker including versions of Lorem Ipsum.\n",
    "    `;\n",
    "    const hashTable = new Map();\n",
    "\n",
    "    for (let line of lines.split('\\n')) {\n",
    "        for (let word of line.split(' ')) {\n",
    "            if (word !== '') {\n",
    "                if (!hashTable.has(word)) {\n",
    "                    hashTable.set(word, 0);\n",
    "                }\n",
    "\n",
    "                hashTable.set(word, hashTable.get(word) + 1); \n",
    "            }\n",
    "        }\n",
    "    }\n",
    "    \n",
    "    console.log(hashTable);\n",
    "})();"
   ]
  },
  {
   "cell_type": "markdown",
   "metadata": {},
   "source": [
    "If we have to call this method multiple time we can has another map to store the book information"
   ]
  },
  {
   "cell_type": "markdown",
   "metadata": {},
   "source": [
    "### Intersection: Given two straight line segments (represented as a start point and an end point), compute the point of intersection, if any."
   ]
  },
  {
   "cell_type": "markdown",
   "metadata": {},
   "source": [
    "### Tic Tac Win: Design an algorithm to figure out if someone has won a game of tic-tac-toe."
   ]
  },
  {
   "cell_type": "code",
   "execution_count": 17,
   "metadata": {},
   "outputs": [
    {
     "name": "stdout",
     "output_type": "stream",
     "text": [
      "o wins\n"
     ]
    },
    {
     "data": {
      "text/plain": [
       "undefined"
      ]
     },
     "execution_count": 17,
     "metadata": {},
     "output_type": "execute_result"
    }
   ],
   "source": [
    "(function () {\n",
    "    const ticTacToe = [\n",
    "        ['o', 'x', 'x'],\n",
    "        ['o', 'o', 'x'],\n",
    "        ['x', 'x', 'o'],\n",
    "    ];\n",
    "    const n = ticTacToe.length;\n",
    "    \n",
    "    function whoWins(array) {\n",
    "        const { x, o } = array.reduce((acc, value) => {\n",
    "            if (value === 'o') {\n",
    "                acc.o++;\n",
    "            } else if (value === 'x') {\n",
    "                acc.x++;\n",
    "            }\n",
    "            return acc;\n",
    "        }, { x: 0, o: 0 });\n",
    "        \n",
    "        // try to exit the current function. Could use exeception here\n",
    "        if (x === n) {\n",
    "            console.log('x wins');\n",
    "        } else if (o === n) {\n",
    "            console.log('o wins');\n",
    "        }\n",
    "    }\n",
    "    \n",
    "    for (let i = 0; i < n; i++) {\n",
    "        whoWins(ticTacToe[i]);\n",
    "    }\n",
    "    \n",
    "    for (let i = 0; i < n; i++) {\n",
    "        const array = [];\n",
    "        \n",
    "        for (let j = 0; j < n; j++) {\n",
    "            array.push(ticTacToe[j][i]);\n",
    "        }\n",
    "        \n",
    "        whoWins(array);\n",
    "    }\n",
    "    \n",
    "    let array = [];\n",
    "    \n",
    "    for (let i = 0; i < n; i++) {\n",
    "        array.push(ticTacToe[i][i]);   \n",
    "    }\n",
    "    whoWins(array);\n",
    "\n",
    "    array = [];\n",
    "    for (let i = 0; i < n; i++) {\n",
    "        array.push(ticTacToe[n - i - 1][i])\n",
    "    }\n",
    "    whoWins(array);\n",
    "})();"
   ]
  },
  {
   "cell_type": "markdown",
   "metadata": {},
   "source": [
    "### Factorial Zeros: Write an algorithm which computes the number of trailing zeros in n factorial."
   ]
  },
  {
   "cell_type": "code",
   "execution_count": 21,
   "metadata": {},
   "outputs": [
    {
     "data": {
      "text/plain": [
       "2"
      ]
     },
     "execution_count": 21,
     "metadata": {},
     "output_type": "execute_result"
    }
   ],
   "source": [
    "(function () {\n",
    "    const n = 10;\n",
    "    let count = 0;\n",
    "    \n",
    "    for (let i = 2; i <= n; i++) {\n",
    "        let number = i;\n",
    "\n",
    "        while (number % 5 === 0) {\n",
    "            number /= 5;\n",
    "            count++;\n",
    "        }\n",
    "    }\n",
    "\n",
    "    return count;\n",
    "})();"
   ]
  },
  {
   "cell_type": "markdown",
   "metadata": {},
   "source": [
    "### Smallest Difference: Given two arrays of integers, compute the pair of values (one value in each array) with the smallest (non-negative) difference. Return the difference.\n",
    "\n",
    "EXAMPLE\n",
    "\n",
    "Input: {1, 3, 15, 11, 2}, {23, 127, 235, 19, 8}\n",
    "\n",
    "Output: 3. That is, the pair (11 , 8)."
   ]
  },
  {
   "cell_type": "code",
   "execution_count": 28,
   "metadata": {},
   "outputs": [
    {
     "data": {
      "text/plain": [
       "[ 11, 8 ]"
      ]
     },
     "execution_count": 28,
     "metadata": {},
     "output_type": "execute_result"
    }
   ],
   "source": [
    "(function () {\n",
    "    const a = [1, 3, 15, 11, 2];\n",
    "    const b = [23, 127, 235, 19, 8];\n",
    "    \n",
    "    a.sort((i, j) => i - j);\n",
    "    b.sort((i, j) => i - j);\n",
    "    \n",
    "    let i = 0;\n",
    "    let j = 0;\n",
    "    let min = Number.MAX_SAFE_INTEGER;\n",
    "    let bestA;\n",
    "    let bestB;\n",
    "\n",
    "    while (i < a.length && j < b.length) {\n",
    "        if (min > Math.abs(a[i] - b[j])) {\n",
    "            min = Math.abs(a[i] - b[j]);\n",
    "            bestA = a[i];\n",
    "            bestB = b[j];\n",
    "        }\n",
    "        \n",
    "        if (min === 0) {\n",
    "            break;\n",
    "        }\n",
    "        \n",
    "        if (a[i] < b[j]) {\n",
    "            i++;\n",
    "        } else {\n",
    "            j++;\n",
    "        }\n",
    "    }\n",
    "    \n",
    "    return [bestA, bestB];\n",
    "})();"
   ]
  },
  {
   "cell_type": "markdown",
   "metadata": {},
   "source": [
    "### Living People: Given a list of people with their birth and death years, implement a method to compute the year with the most number of people alive.You may assume that all people were born between 1900 and 2000 (inclusive). If a person was alive during any portion of that year, they should be included in that year's count. For example, Person (birth = 1908, death = 1909) is included in the counts for both 1908 and 1909."
   ]
  }
 ],
 "metadata": {
  "kernelspec": {
   "display_name": "Javascript (Node.js)",
   "language": "javascript",
   "name": "javascript"
  },
  "language_info": {
   "file_extension": ".js",
   "mimetype": "application/javascript",
   "name": "javascript",
   "version": "6.10.0"
  }
 },
 "nbformat": 4,
 "nbformat_minor": 2
}
