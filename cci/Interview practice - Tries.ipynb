{
 "cells": [
  {
   "cell_type": "code",
   "execution_count": 80,
   "metadata": {
    "collapsed": false,
    "deletable": true,
    "editable": true
   },
   "outputs": [],
   "source": [
    "from typing import TypeVar, Generic, List, Optional, Dict\n",
    "\n",
    "\n",
    "T = TypeVar('T')\n",
    "\n",
    "\n",
    "class Trie(Generic[T]):\n",
    "    nodes: Dict[T, 'Trie[T]']\n",
    "    is_completed: bool\n",
    "\n",
    "    def __init__(self, is_completed = True, nodes: Dict[T, 'Trie[T]'] = None):\n",
    "        self.is_completed = is_completed\n",
    "        self.nodes = nodes or {}\n",
    "    \n",
    "    def add(self, seq: List[T]):\n",
    "        if seq:\n",
    "            first, *rest = seq\n",
    "            first_node = self.nodes.get(first)\n",
    "\n",
    "            if first_node:\n",
    "                first_node.add(rest)\n",
    "            else:\n",
    "                self.nodes[first] = Trie(len(rest) == 0)\n",
    "                self.nodes[first].add(rest)\n",
    "    \n",
    "    def find(self, seq: List[T]) -> int:\n",
    "        if seq:\n",
    "            first, *rest = seq\n",
    "            node: 'Trie[T]' = self.nodes.get(first)\n",
    "\n",
    "            return node.find(rest) + (1 if node.is_completed and not rest else 0) if node else 0\n",
    "        else:\n",
    "            return sum([node.find([]) + (1 if node.is_completed else 0) for node in self.nodes.values()])"
   ]
  },
  {
   "cell_type": "code",
   "execution_count": 4,
   "metadata": {
    "collapsed": true,
    "deletable": true,
    "editable": true
   },
   "outputs": [],
   "source": [
    "class Trie:\n",
    "    def __init__(self):\n",
    "        self.data = [{}, 0]\n",
    "    \n",
    "    def add(self, seq):\n",
    "        nodes = self.data[0]\n",
    "        self.data[1] += 1\n",
    "        \n",
    "        for value in seq:\n",
    "            if value not in nodes:\n",
    "                nodes[value] = [{}, 0]\n",
    "            \n",
    "            nodes[value][1] += 1\n",
    "            nodes = nodes[value][0]\n",
    "\n",
    "    def find(self, seq, nodes=None):\n",
    "        if not nodes:\n",
    "            nodes = self.data[0]\n",
    "\n",
    "        if seq[0] not in nodes:\n",
    "            return 0\n",
    "        elif len(seq) == 1:\n",
    "            return nodes[seq[0]][1]\n",
    "        else:\n",
    "            return self.find(seq[1:], nodes[seq[0]][0])"
   ]
  },
  {
   "cell_type": "code",
   "execution_count": 5,
   "metadata": {
    "collapsed": false,
    "deletable": true,
    "editable": true
   },
   "outputs": [
    {
     "name": "stdout",
     "output_type": "stream",
     "text": [
      "2\n"
     ]
    }
   ],
   "source": [
    "trie_root = Trie()\n",
    "\n",
    "trie_root.add(\"hack\")\n",
    "trie_root.add(\"hackerrank\")\n",
    "\n",
    "print(trie_root.find(\"ha\"))"
   ]
  },
  {
   "cell_type": "code",
   "execution_count": null,
   "metadata": {
    "collapsed": true,
    "deletable": true,
    "editable": true
   },
   "outputs": [],
   "source": []
  }
 ],
 "metadata": {
  "kernelspec": {
   "display_name": "Python 3",
   "language": "python",
   "name": "python3"
  },
  "language_info": {
   "codemirror_mode": {
    "name": "ipython",
    "version": 3
   },
   "file_extension": ".py",
   "mimetype": "text/x-python",
   "name": "python",
   "nbconvert_exporter": "python",
   "pygments_lexer": "ipython3",
   "version": "3.6.0"
  }
 },
 "nbformat": 4,
 "nbformat_minor": 2
}
