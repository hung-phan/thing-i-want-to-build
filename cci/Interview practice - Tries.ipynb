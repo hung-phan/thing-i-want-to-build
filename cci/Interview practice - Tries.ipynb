{
 "cells": [
  {
   "cell_type": "code",
   "execution_count": 1,
   "metadata": {
    "collapsed": false,
    "deletable": true,
    "editable": true
   },
   "outputs": [],
   "source": [
    "class Trie():\n",
    "    def __init__(self):\n",
    "        self.nodes = {}\n",
    "        self.count = 0\n",
    "    \n",
    "    def add(self, seq):\n",
    "        if not seq:\n",
    "            return\n",
    "        \n",
    "        self.count += 1\n",
    "\n",
    "        if seq[0] not in self.nodes:\n",
    "            self.nodes[seq[0]] = Trie()\n",
    "        \n",
    "        self.nodes[seq[0]].add(seq[1:])\n",
    "\n",
    "    def find(self, seq):\n",
    "        if not seq:\n",
    "            return 0\n",
    "\n",
    "        head, *tail = seq\n",
    "\n",
    "        if head not in self.nodes:\n",
    "            return 0\n",
    "        \n",
    "        if not tail:\n",
    "            return self.count\n",
    "\n",
    "        return self.nodes[head].find(tail)"
   ]
  },
  {
   "cell_type": "code",
   "execution_count": 8,
   "metadata": {
    "collapsed": false,
    "deletable": true,
    "editable": true
   },
   "outputs": [
    {
     "name": "stdout",
     "output_type": "stream",
     "text": [
      "2\n",
      "2\n",
      "1\n"
     ]
    }
   ],
   "source": [
    "trie_root = Trie()\n",
    "\n",
    "trie_root.add(\"hack\")\n",
    "trie_root.add(\"hackerrank\")\n",
    "\n",
    "print(trie_root.find(\"hack\"))\n",
    "print(trie_root.find(\"ha\"))\n",
    "print(trie_root.find(\"hacker\"))"
   ]
  },
  {
   "cell_type": "code",
   "execution_count": 3,
   "metadata": {
    "collapsed": true,
    "deletable": true,
    "editable": true
   },
   "outputs": [],
   "source": [
    "class Trie:\n",
    "    def __init__(self):\n",
    "        self.data = [{}, 0]\n",
    "    \n",
    "    def add(self, seq):\n",
    "        pointer = self.data\n",
    "        \n",
    "        pointer[1] += 1\n",
    "        \n",
    "        for val in seq:\n",
    "            if val not in pointer[0]:\n",
    "                pointer[0][val] = [{}, 0]\n",
    "\n",
    "            pointer = pointer[0][val]\n",
    "            pointer[1] += 1\n",
    "\n",
    "    def find(self, seq):\n",
    "        if not seq:\n",
    "            return 0\n",
    "\n",
    "        pointer = self.data\n",
    "\n",
    "        for val in seq:\n",
    "            if val not in pointer[0]:\n",
    "                return 0\n",
    "            \n",
    "            pointer = pointer[0][val]\n",
    "\n",
    "        return pointer[1]"
   ]
  },
  {
   "cell_type": "code",
   "execution_count": 7,
   "metadata": {
    "collapsed": false,
    "deletable": true,
    "editable": true
   },
   "outputs": [
    {
     "name": "stdout",
     "output_type": "stream",
     "text": [
      "2\n",
      "2\n",
      "1\n"
     ]
    }
   ],
   "source": [
    "trie_root = Trie()\n",
    "\n",
    "trie_root.add(\"hack\")\n",
    "trie_root.add(\"hackerrank\")\n",
    "\n",
    "print(trie_root.find(\"hack\"))\n",
    "print(trie_root.find(\"ha\"))\n",
    "print(trie_root.find(\"hacker\"))"
   ]
  },
  {
   "cell_type": "code",
   "execution_count": null,
   "metadata": {
    "collapsed": true,
    "deletable": true,
    "editable": true
   },
   "outputs": [],
   "source": []
  }
 ],
 "metadata": {
  "kernelspec": {
   "display_name": "Python 3",
   "language": "python",
   "name": "python3"
  },
  "language_info": {
   "codemirror_mode": {
    "name": "ipython",
    "version": 3
   },
   "file_extension": ".py",
   "mimetype": "text/x-python",
   "name": "python",
   "nbconvert_exporter": "python",
   "pygments_lexer": "ipython3",
   "version": "3.7.2"
  }
 },
 "nbformat": 4,
 "nbformat_minor": 2
}
