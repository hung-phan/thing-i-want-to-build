{
  "cells": [
    {
      "cell_type": "markdown",
      "metadata": {
        "pycharm": {}
      },
      "source": [
        "Selective sum that equal to given result\n",
        "\n",
        "given an array of integer, select the numbers that will accumulate to given sum\n",
        "\n",
        "[1, 2, 3, 4, 5, 6, 7, 8, 9]\n",
        "\n",
        "sum \u003d 12\n",
        "\n",
        "-\u003e [1, 2, 3, 6]\n",
        "-\u003e [3, 9]\n",
        "-\u003e [5, 7]\n",
        "\n",
        "if the array is not sorted, we must have a hash_table to store the result and to prevent doing unnecessary works"
      ]
    },
    {
      "cell_type": "code",
      "execution_count": 1,
      "metadata": {
        "collapsed": true,
        "pycharm": {}
      },
      "outputs": [],
      "source": [
        "from typing import List, Iterator\n",
        "\n",
        "\n",
        "def selective_sum(ls: List[int], given_sum: int) -\u003e Iterator[List[int]]:\n",
        "    def recur(ls: List, result_ls: List[int], accumulated_result: int) -\u003e Iterator[List[int]]:\n",
        "        if accumulated_result \u003d\u003d given_sum:\n",
        "            yield result_ls\n",
        "        else:\n",
        "            for index, value in enumerate(ls):\n",
        "                new_ls: List[int] \u003d ls[:index] + ls[index + 1:]\n",
        "                new_result_ls: List[int] \u003d result_ls + [value]\n",
        "                new_accumulated_result: int \u003d accumulated_result + value\n",
        "\n",
        "                if new_accumulated_result \u003c\u003d given_sum and (result_ls and result_ls[-1] \u003c\u003d value or not result_ls):\n",
        "                    yield from recur(new_ls, new_result_ls, new_accumulated_result)\n",
        "    \n",
        "    return recur(ls, [], 0)"
      ]
    },
    {
      "cell_type": "code",
      "execution_count": 2,
      "metadata": {
        "pycharm": {}
      },
      "outputs": [
        {
          "data": {
            "text/plain": [
              "[[0, 1, 2, 3, 4],\n",
              " [0, 1, 2, 7],\n",
              " [0, 1, 3, 6],\n",
              " [0, 1, 4, 5],\n",
              " [0, 1, 9],\n",
              " [0, 2, 3, 5],\n",
              " [0, 2, 8],\n",
              " [0, 3, 7],\n",
              " [0, 4, 6],\n",
              " [1, 2, 3, 4],\n",
              " [1, 2, 7],\n",
              " [1, 3, 6],\n",
              " [1, 4, 5],\n",
              " [1, 9],\n",
              " [2, 3, 5],\n",
              " [2, 8],\n",
              " [3, 7],\n",
              " [4, 6]]"
            ]
          },
          "execution_count": 2,
          "metadata": {},
          "output_type": "execute_result"
        }
      ],
      "source": [
        "list(selective_sum(list(range(10)), 10))"
      ]
    },
    {
      "cell_type": "markdown",
      "metadata": {
        "pycharm": {}
      },
      "source": [
        "Given a set of non-negative integers, and a value sum, determine if there is a subset of the given set with sum equal to given sum.\n",
        "\n",
        "Examples: set[] \u003d {3, 34, 4, 12, 5, 2}, sum \u003d 9\n",
        "Output:  True  //There is a subset (4, 5) with sum 9."
      ]
    },
    {
      "cell_type": "code",
      "execution_count": 3,
      "metadata": {
        "collapsed": true,
        "pycharm": {}
      },
      "outputs": [],
      "source": [
        "from typing import List\n",
        "\n",
        "\n",
        "# same as knapsack problem\n",
        "def has_subset_sum(ls: List[int], given_sum: int) -\u003e bool:\n",
        "    result \u003d [[0 for i in range(given_sum + 1)] for j in range(len(ls) + 1)]\n",
        "    \n",
        "    for i in range(1, len(ls) + 1):\n",
        "        for j in range(given_sum + 1):\n",
        "            result[i][j] \u003d result[i - 1][j]\n",
        "            item \u003d ls[i - 1]\n",
        "\n",
        "            if j \u003e\u003d item and result[i][j] \u003c result[i - 1][j - item] + item:\n",
        "                result[i][j] \u003d result[i - 1][j - item] + item\n",
        "\n",
        "    return result[len(ls)][given_sum] \u003d\u003d given_sum"
      ]
    },
    {
      "cell_type": "code",
      "execution_count": 4,
      "metadata": {
        "pycharm": {}
      },
      "outputs": [
        {
          "data": {
            "text/plain": [
              "True"
            ]
          },
          "execution_count": 4,
          "metadata": {},
          "output_type": "execute_result"
        }
      ],
      "source": [
        "has_subset_sum([3, 34, 4, 12, 5, 2], 14)"
      ]
    },
    {
      "cell_type": "markdown",
      "metadata": {
        "pycharm": {}
      },
      "source": [
        "Search in a bitonic array. An array is bitonic if it is comprised of an increasing sequence of integers followed immediately by a decreasing sequence of integers. Write a program that, given a bitonic array of n distinct integer values, determines whether a given integer is in the array.\n",
        "\n",
        "Standard version: Use ∼3lgn compares in the worst case.\n",
        "Signing bonus: Use ∼2lgn compares in the worst case (and prove that no algorithm can guarantee to perform fewer than ∼2lgn compares in the worst case)."
      ]
    },
    {
      "cell_type": "code",
      "execution_count": 5,
      "metadata": {
        "pycharm": {}
      },
      "outputs": [
        {
          "data": {
            "text/plain": [
              "6"
            ]
          },
          "execution_count": 5,
          "metadata": {},
          "output_type": "execute_result"
        }
      ],
      "source": [
        "from typing import List, Tuple\n",
        "import math\n",
        "\n",
        "\n",
        "array \u003d [1, 2, 3, 4, 5, 6, 0, -1, -2, -3, -4]\n",
        "\n",
        "\n",
        "def search_in_bitonic(ls: List[int], value: int) -\u003e int:\n",
        "    def find_the_separator_for_2_arrays() -\u003e Tuple[List[int], List[int]]:\n",
        "        left: int \u003d 0\n",
        "        right: int \u003d len(ls) - 1\n",
        "        \n",
        "        while left \u003c\u003d right:\n",
        "            middle: int \u003d math.floor((right + left) / 2)\n",
        "            \n",
        "            if ls[middle - 1] \u003c ls[middle] \u003e ls[middle + 1]:\n",
        "                return ls[:middle + 1], ls[middle + 1:]\n",
        "            elif ls[middle] \u003c ls[middle + 1]:\n",
        "                left \u003d middle + 1\n",
        "            else:\n",
        "                right \u003d middle - 1\n",
        "                \n",
        "        raise Exception(\u0027Cannot find the middle point to separate 2 arrays\u0027)\n",
        "\n",
        "\n",
        "    def binary_search(ls: List[int]) -\u003e int:\n",
        "        left: int \u003d 0\n",
        "        right: int \u003d len(ls) - 1\n",
        "        \n",
        "        while left \u003c right:\n",
        "            middle: int \u003d math.floor((right + left) / 2)\n",
        "            \n",
        "            if ls[middle] \u003d\u003d value:\n",
        "                return middle\n",
        "            elif value \u003c ls[middle]:\n",
        "                right \u003d middle - 1\n",
        "            else:\n",
        "                left \u003d middle + 1\n",
        "\n",
        "        return -1\n",
        "\n",
        "\n",
        "    def reverse_binary_search(ls: List[int]) -\u003e int:\n",
        "        left: int \u003d 0\n",
        "        right: int \u003d len(ls) - 1\n",
        "        \n",
        "        while left \u003c right:\n",
        "            middle: int \u003d math.floor((right + left) / 2)\n",
        "            \n",
        "            if ls[middle] \u003d\u003d value:\n",
        "                return middle\n",
        "            elif value \u003e ls[middle]:\n",
        "                right \u003d middle - 1\n",
        "            else:\n",
        "                left \u003d middle + 1\n",
        "\n",
        "        return -1\n",
        "    \n",
        "\n",
        "    left_array, right_array \u003d find_the_separator_for_2_arrays()\n",
        "    \n",
        "    left_index \u003d binary_search(left_array)\n",
        "    if left_index !\u003d -1:\n",
        "        return left_index\n",
        "    \n",
        "    right_index \u003d reverse_binary_search(right_array)\n",
        "    if right_index !\u003d -1:\n",
        "        return right_index + len(left_array)\n",
        "\n",
        "    return -1\n",
        "\n",
        "search_in_bitonic(array, 0)"
      ]
    },
    {
      "cell_type": "markdown",
      "metadata": {
        "pycharm": {}
      },
      "source": [
        "Egg drop. Suppose that you have an n-story building (with floors 1 through n) and plenty of eggs. An egg breaks if it is dropped from floor T or higher and does not break otherwise. Your goal is to devise a strategy to determine the value of T given the following limitations on the number of eggs and tosses:\n",
        "\n",
        "Version 0: 1 egg, ≤T tosses.\n",
        "\n",
        "Version 1: ∼1lgn eggs and ∼1lgn tosses.\n",
        "\n",
        "Version 2: ∼lgT eggs and ∼2lgT tosses.\n",
        "\n",
        "Version 3: 2 eggs and ∼2n‾‾√ tosses.\n",
        "\n",
        "Version 4: 2 eggs and ≤cT‾‾√ tosses for some fixed constant c."
      ]
    },
    {
      "cell_type": "markdown",
      "metadata": {
        "pycharm": {}
      },
      "source": [
        "Version 0: A for loop run from 1 to T\n",
        "\n",
        "Version 1: Binary search\n",
        "\n",
        "Version 2: Binary search with range\n",
        "\n",
        "Version 3, 4: Divide by range and increase"
      ]
    },
    {
      "cell_type": "markdown",
      "metadata": {
        "pycharm": {}
      },
      "source": [
        "Intersection of two sets. Given two arrays 𝚊[] and 𝚋[], each containing n distinct 2D points in the plane, design a subquadratic algorithm to count the number of points that are contained both in array 𝚊[] and array 𝚋[]."
      ]
    },
    {
      "cell_type": "code",
      "execution_count": 6,
      "metadata": {
        "collapsed": true,
        "pycharm": {}
      },
      "outputs": [],
      "source": [
        "from typing import TypeVar, List\n",
        "import math\n",
        "\n",
        "\n",
        "T \u003d TypeVar(\u0027T\u0027)\n",
        "\n",
        "\n",
        "def merge(a: List[T], b: List[T]) -\u003e List[T]:\n",
        "    if not a and not b:\n",
        "        return []\n",
        "    \n",
        "    if not a:\n",
        "        return b\n",
        "    \n",
        "    if not b:\n",
        "        return a\n",
        "    \n",
        "    a_head, *a_tail \u003d a\n",
        "    b_head, *b_tail \u003d b\n",
        "    \n",
        "    return [a_head] + merge(a_tail, b) if a_head \u003c b_head else [b_head] + merge(a, b_tail)\n",
        "\n",
        "\n",
        "def merge_sort(ls: List[T]) -\u003e List[T]:\n",
        "    pivot_index \u003d math.floor(len(ls) / 2)\n",
        "    \n",
        "    if pivot_index \u003d\u003d 0:\n",
        "        return ls\n",
        "    else:\n",
        "        return merge(merge_sort(ls[:pivot_index]), merge_sort(ls[pivot_index:]))"
      ]
    },
    {
      "cell_type": "code",
      "execution_count": 7,
      "metadata": {
        "collapsed": true,
        "pycharm": {}
      },
      "outputs": [],
      "source": [
        "class Point:\n",
        "    x: int\n",
        "    y: int\n",
        "    \n",
        "    def __init__(self, _x: int, _y: int):\n",
        "        self.x \u003d _x\n",
        "        self.y \u003d _y\n",
        "    \n",
        "    def __eq__(self, other):\n",
        "        return self.x \u003d\u003d other.x and self.y \u003d\u003d other.y\n",
        "    \n",
        "    def __lt__(self, other):\n",
        "        return self.x \u003c other.x or self.y \u003c other.y"
      ]
    },
    {
      "cell_type": "code",
      "execution_count": 8,
      "metadata": {
        "pycharm": {}
      },
      "outputs": [
        {
          "name": "stdout",
          "output_type": "stream",
          "text": [
            "[-3, 0, 1, 2, 2, 3, 5, 9]\n"
          ]
        }
      ],
      "source": [
        "ls \u003d [2, 3, 1, 5, -3, 2, 9, 0]\n",
        "\n",
        "print(merge_sort(ls))"
      ]
    },
    {
      "cell_type": "code",
      "execution_count": 9,
      "metadata": {
        "collapsed": true,
        "pycharm": {}
      },
      "outputs": [],
      "source": [
        "def intersection(a: List[Point], b: List[Point]) -\u003e int:\n",
        "    a \u003d merge_sort(a)\n",
        "    b \u003d merge_sort(b)\n",
        "    i \u003d 0\n",
        "    j \u003d 0\n",
        "    count \u003d 0\n",
        "\n",
        "    while i \u003c len(a) and j \u003c len(b):\n",
        "        if a[i] \u003d\u003d b[j]:\n",
        "            count +\u003d 1\n",
        "        \n",
        "        if a[i] \u003c b[j]:\n",
        "            i +\u003d 1\n",
        "        else:\n",
        "            j +\u003d 1\n",
        "    \n",
        "    return count"
      ]
    },
    {
      "cell_type": "code",
      "execution_count": 10,
      "metadata": {
        "pycharm": {}
      },
      "outputs": [
        {
          "name": "stdout",
          "output_type": "stream",
          "text": [
            "2\n"
          ]
        }
      ],
      "source": [
        "a \u003d [Point(1, 2), Point(3, 4), Point(5, 6)]\n",
        "b \u003d [Point(3, 4), Point(7, 8), Point(1, 2)]\n",
        "\n",
        "print(intersection(a, b))"
      ]
    },
    {
      "cell_type": "code",
      "execution_count": 11,
      "metadata": {
        "collapsed": true,
        "pycharm": {}
      },
      "outputs": [],
      "source": "from typing import List\n\n\ndef partition(ls: List[int], left: int, right: int) -\u003e int:\n    pivot: int \u003d left\n\n    while left \u003c\u003d right:\n        while left \u003c\u003d right and ls[left] \u003c\u003d ls[pivot]:\n            left +\u003d 1\n\n        while left \u003c\u003d right and ls[pivot] \u003c ls[right]:\n            right -\u003d 1\n\n        if left \u003e right:\n            break\n\n        ls[left], ls[right] \u003d ls[right], ls[left]\n\n    ls[right], ls[pivot] \u003d ls[pivot], ls[right]\n\n    return right\n\n\ndef quick_select(ls: List[int], k: int) -\u003e int:\n    ls: List[int] \u003d ls[:]\n    left: int \u003d 0\n    right: int \u003d len(ls) - 1\n    k_index: int \u003d len(ls) - k\n    \n    while left \u003c right:\n        pivot: int \u003d partition(ls, left, right)\n        \n        if pivot \u003c k_index:\n            left +\u003d 1\n        elif pivot \u003e k_index:\n            right -\u003d 1\n        else:\n            return ls[pivot]\n\n    return ls[left]"
    },
    {
      "cell_type": "code",
      "execution_count": 12,
      "metadata": {
        "pycharm": {}
      },
      "outputs": [
        {
          "data": {
            "text/plain": [
              "6"
            ]
          },
          "execution_count": 12,
          "metadata": {},
          "output_type": "execute_result"
        }
      ],
      "source": [
        "quick_select([3, 2, 1, 4, 6, 5], 1)"
      ]
    },
    {
      "cell_type": "code",
      "execution_count": 13,
      "metadata": {
        "collapsed": true,
        "pycharm": {}
      },
      "outputs": [],
      "source": [
        "from typing import List, Dict, Any, Callable\n",
        "\n",
        "\n",
        "def group_by(ls: List[int], func: Callable[[int], str]) -\u003e Dict[str, List[int]]:\n",
        "    hash_table: Dict[str, List[int]] \u003d {}\n",
        "\n",
        "    for value in ls:\n",
        "        key: str \u003d func(value)\n",
        "        \n",
        "        if hash_table.get(key):\n",
        "            hash_table[key].append(value)\n",
        "        else:\n",
        "            hash_table[key] \u003d [value]\n",
        "\n",
        "    return hash_table"
      ]
    },
    {
      "cell_type": "code",
      "execution_count": 14,
      "metadata": {
        "pycharm": {}
      },
      "outputs": [
        {
          "data": {
            "text/plain": [
              "{\u0027\u003e\u0027: [3, 4, 6, 5], \u0027\u003d\u0027: [2], \u0027\u003c\u0027: [1]}"
            ]
          },
          "execution_count": 14,
          "metadata": {},
          "output_type": "execute_result"
        }
      ],
      "source": [
        "group_by([3, 2, 1, 4, 6, 5], lambda x: \u0027\u003c\u0027 if x \u003c 2 else \u0027\u003e\u0027 if x \u003e 2 else \u0027\u003d\u0027)"
      ]
    },
    {
      "cell_type": "code",
      "execution_count": 15,
      "metadata": {
        "collapsed": true,
        "pycharm": {}
      },
      "outputs": [],
      "source": [
        "from typing import List\n",
        "\n",
        "\n",
        "def quick_select_recursive(ls: List[int], k: int) -\u003e int:\n",
        "    def recur(ls: List[int], k_index: int) -\u003e int:\n",
        "        if len(ls) \u003d\u003d 1:\n",
        "            return ls[0]\n",
        "\n",
        "        lesser \u003d [value for value in ls if value \u003c ls[k_index]]\n",
        "        equal \u003d [value for value in ls if value \u003d\u003d ls[k_index]]\n",
        "        larger \u003d [value for value in ls if value \u003e ls[k_index]]\n",
        "        \n",
        "        if k_index \u003c\u003d len(lesser) - 1:\n",
        "            return recur(lesser, k_index)\n",
        "        elif k_index \u003c\u003d len(lesser) + len(equal) - 1:\n",
        "            return equal[0]\n",
        "        else:\n",
        "            return recur(larger, k_index - len(lesser) - len(equal))\n",
        "    \n",
        "    return recur(ls, len(ls) - k)"
      ]
    },
    {
      "cell_type": "code",
      "execution_count": 16,
      "metadata": {
        "pycharm": {}
      },
      "outputs": [
        {
          "data": {
            "text/plain": [
              "4"
            ]
          },
          "execution_count": 16,
          "metadata": {},
          "output_type": "execute_result"
        }
      ],
      "source": [
        "quick_select_recursive([3, 2, 1, 4, 6, 5], 3)"
      ]
    },
    {
      "cell_type": "code",
      "execution_count": 17,
      "metadata": {
        "collapsed": true,
        "pycharm": {}
      },
      "outputs": [],
      "source": [
        "import heapq\n",
        "\n",
        "class PriorityQueue:\n",
        "    def __init__(self, initial\u003dNone, key\u003dlambda x:x):\n",
        "        self.key \u003d key\n",
        "        if initial:\n",
        "            self._data \u003d [(key(item), item) for item in initial]\n",
        "            heapq.heapify(self._data)\n",
        "        else:\n",
        "            self._data \u003d []\n",
        "\n",
        "    def push(self, item):\n",
        "        heapq.heappush(self._data, (self.key(item), item))\n",
        "\n",
        "    def pop(self):\n",
        "        return heapq.heappop(self._data)[1]\n",
        "    \n",
        "    def peek(self):\n",
        "        return self._data[0][1]\n",
        "    \n",
        "    def is_empty(self):\n",
        "        return self.size() \u003d\u003d 0\n",
        "    \n",
        "    def size(self):\n",
        "        return len(self._data)"
      ]
    },
    {
      "cell_type": "code",
      "execution_count": 18,
      "metadata": {
        "pycharm": {}
      },
      "outputs": [
        {
          "name": "stdout",
          "output_type": "stream",
          "text": [
            "0\n",
            "1\n",
            "2\n",
            "3\n",
            "4\n",
            "5\n",
            "6\n",
            "7\n"
          ]
        }
      ],
      "source": [
        "a \u003d PriorityQueue()\n",
        "\n",
        "a.push(7)\n",
        "a.push(3)\n",
        "a.push(5)\n",
        "a.push(2)\n",
        "a.push(4)\n",
        "a.push(1)\n",
        "a.push(0)\n",
        "a.push(6)\n",
        "\n",
        "print(a.pop())\n",
        "print(a.pop())\n",
        "print(a.pop())\n",
        "print(a.pop())\n",
        "print(a.pop())\n",
        "print(a.pop())\n",
        "print(a.pop())\n",
        "print(a.pop())"
      ]
    },
    {
      "cell_type": "code",
      "execution_count": 19,
      "metadata": {
        "collapsed": true,
        "pycharm": {}
      },
      "outputs": [],
      "source": [
        "from typing import Callable, Generic, TypeVar, List\n",
        "\n",
        "\n",
        "T \u003d TypeVar(\u0027T\u0027)\n",
        "\n",
        "\n",
        "class PriorityQueueImplement(Generic[T]):\n",
        "    _data: List[T]\n",
        "    _comparator: Callable[[T, T], int]\n",
        "\n",
        "    def __init__(self, comparator: Callable[[T, T], int]):\n",
        "        self._data \u003d []\n",
        "        self._comparator \u003d comparator\n",
        "\n",
        "    @property\n",
        "    def size(self) -\u003e int:\n",
        "        return len(self._data)\n",
        "\n",
        "    def compare(self, i: int, j: int) -\u003e int:\n",
        "        return self._comparator(self._data[i], self._data[j])\n",
        "    \n",
        "    def exch(self, i: int, j: int):\n",
        "        self._data[i], self._data[j] \u003d self._data[j], self._data[i]\n",
        "\n",
        "    def push(self, item: T):\n",
        "        self._data.append(item)\n",
        "\n",
        "        k_index \u003d self.size - 1\n",
        "        \n",
        "        while k_index \u003e 0 and self.compare(k_index, (k_index - 1) // 2) \u003c 0:\n",
        "            self.exch(k_index, (k_index - 1) // 2)\n",
        "            k_index \u003d (k_index - 1) // 2\n",
        "\n",
        "    def pop(self) -\u003e T:\n",
        "        if self.size \u003d\u003d 0:\n",
        "            raise ValueError()\n",
        "\n",
        "        k_index \u003d 0\n",
        "        returned_val \u003d self._data[0]\n",
        "\n",
        "        self._data[0] \u003d self._data[-1]\n",
        "\n",
        "        while 2 * k_index + 1 \u003c self.size:\n",
        "            child_index \u003d 2 * k_index + 1\n",
        "\n",
        "            if child_index + 1 \u003c self.size and self.compare(child_index, child_index + 1) \u003e 0:\n",
        "                child_index +\u003d 1\n",
        "\n",
        "            if self.compare(k_index, child_index) \u003c 0:\n",
        "                break\n",
        "            \n",
        "            self.exch(k_index, child_index)\n",
        "            k_index \u003d child_index\n",
        "\n",
        "        self._data.pop()\n",
        "\n",
        "        return returned_val"
      ]
    },
    {
      "cell_type": "code",
      "execution_count": 20,
      "metadata": {
        "pycharm": {}
      },
      "outputs": [
        {
          "name": "stdout",
          "output_type": "stream",
          "text": [
            "[0, 3, 1, 6, 4, 5, 2, 7]\n",
            "0\n",
            "1\n",
            "2\n",
            "3\n",
            "4\n",
            "5\n",
            "6\n",
            "7\n"
          ]
        }
      ],
      "source": [
        "a \u003d PriorityQueueImplement(lambda x, y: x - y)\n",
        "\n",
        "a.push(7)\n",
        "a.push(3)\n",
        "a.push(5)\n",
        "a.push(2)\n",
        "a.push(4)\n",
        "a.push(1)\n",
        "a.push(0)\n",
        "a.push(6)\n",
        "\n",
        "print(a._data)\n",
        "print(a.pop())\n",
        "print(a.pop())\n",
        "print(a.pop())\n",
        "print(a.pop())\n",
        "print(a.pop())\n",
        "print(a.pop())\n",
        "print(a.pop())\n",
        "print(a.pop())"
      ]
    },
    {
      "cell_type": "code",
      "execution_count": 21,
      "metadata": {
        "collapsed": true,
        "pycharm": {}
      },
      "outputs": [],
      "source": [
        "from collections import deque\n",
        "\n",
        "\n",
        "class Graph:\n",
        "    def __init__(self, n):\n",
        "        self.n \u003d n\n",
        "        self.adjacents \u003d {}\n",
        "    \n",
        "    def connect(self, a, b):\n",
        "        if a in self.adjacents:\n",
        "            self.adjacents[a].add(b)\n",
        "        else:\n",
        "            self.adjacents[a] \u003d set([b])\n",
        "\n",
        "        if b in self.adjacents:\n",
        "            self.adjacents[b].add(a)\n",
        "        else:\n",
        "            self.adjacents[b] \u003d set([a])\n",
        "\n",
        "    def bfs(self, start, end):\n",
        "        paths \u003d [-1] * self.n\n",
        "\n",
        "        visited \u003d set()\n",
        "        queue \u003d deque()\n",
        "        queue.appendleft(start)\n",
        "        \n",
        "        while len(queue) \u003e 0:\n",
        "            node \u003d queue.popleft()\n",
        "            \n",
        "            if node \u003d\u003d end:\n",
        "                break\n",
        "\n",
        "            for adjacent_node in self.adjacents[node]:\n",
        "                if adjacent_node not in visited:\n",
        "                    queue.appendleft(adjacent_node)\n",
        "                    visited.add(adjacent_node)\n",
        "                    paths[adjacent_node] \u003d node\n",
        "\n",
        "        if paths[end] \u003d\u003d -1:\n",
        "            return -1\n",
        "        else:\n",
        "            result \u003d 0\n",
        "            node \u003d end\n",
        "            \n",
        "            while node !\u003d start:\n",
        "                node \u003d paths[node]\n",
        "                result +\u003d 6\n",
        "            \n",
        "            return result\n",
        "\n",
        "    def find_all_distances(self, start):\n",
        "        result \u003d \u0027\u0027\n",
        "\n",
        "        for end in range(self.n):\n",
        "            if start !\u003d end:\n",
        "                result +\u003d \"{} \".format(self.bfs(start, end))\n",
        "\n",
        "        print(result)"
      ]
    },
    {
      "cell_type": "code",
      "execution_count": 22,
      "metadata": {
        "pycharm": {}
      },
      "outputs": [
        {
          "name": "stdout",
          "output_type": "stream",
          "text": [
            "6 6 -1 \n"
          ]
        }
      ],
      "source": [
        "graph \u003d Graph(4)\n",
        "\n",
        "graph.connect(0, 1)\n",
        "graph.connect(0, 2)\n",
        "\n",
        "graph.find_all_distances(0)"
      ]
    },
    {
      "cell_type": "code",
      "execution_count": 23,
      "metadata": {
        "collapsed": true,
        "pycharm": {}
      },
      "outputs": [],
      "source": [
        "from typing import Tuple, Dict, Set\n",
        "\n",
        "\n",
        "def taxicab(n: int) -\u003e Set[Tuple[int, int, int, int]]:\n",
        "    hash_table: Dict[str, Set[Set[int]]] \u003d {}\n",
        "    result: Set[Tuple[int, int, int, int]] \u003d set()\n",
        "\n",
        "    for i in range(n):\n",
        "        for j in range(n):\n",
        "            calc_result \u003d i ** 3 + j ** 3\n",
        "            \n",
        "            if not calc_result in hash_table:\n",
        "                hash_table[calc_result] \u003d set()\n",
        "\n",
        "            hash_table[calc_result].add(frozenset([i, j]))\n",
        "    \n",
        "    for key, value in hash_table.items():\n",
        "        if len(value) \u003e 1:\n",
        "            value_list \u003d list(value)\n",
        "            \n",
        "            for i in range(len(value_list) - 1):\n",
        "                for j in range(i + 1, len(value_list)):\n",
        "                    a, b \u003d list(value_list[i])\n",
        "                    c, d \u003d list(value_list[j])\n",
        "\n",
        "                    result.add((a, b, c, d))\n",
        "    return result"
      ]
    },
    {
      "cell_type": "code",
      "execution_count": 24,
      "metadata": {
        "pycharm": {}
      },
      "outputs": [
        {
          "data": {
            "text/plain": [
              "{(1, 12, 9, 10),\n",
              " (4, 68, 66, 30),\n",
              " (8, 64, 36, 60),\n",
              " (9, 58, 57, 22),\n",
              " (16, 2, 9, 15),\n",
              " (16, 33, 9, 34),\n",
              " (17, 39, 26, 36),\n",
              " (17, 76, 73, 38),\n",
              " (18, 20, 24, 2),\n",
              " (24, 19, 10, 27),\n",
              " (24, 54, 17, 55),\n",
              " (27, 30, 3, 36),\n",
              " (32, 4, 18, 30),\n",
              " (32, 66, 18, 68),\n",
              " (33, 15, 2, 34),\n",
              " (33, 31, 40, 12),\n",
              " (48, 4, 40, 36),\n",
              " (48, 6, 27, 45),\n",
              " (48, 38, 20, 54),\n",
              " (50, 29, 8, 53),\n",
              " (50, 45, 60, 5),\n",
              " (51, 12, 43, 38),\n",
              " (54, 71, 80, 15),\n",
              " (56, 61, 42, 69),\n",
              " (59, 22, 3, 60),\n",
              " (59, 92, 98, 35),\n",
              " (59, 93, 96, 50),\n",
              " (60, 54, 72, 6),\n",
              " (60, 92, 99, 29),\n",
              " (66, 62, 24, 80),\n",
              " (67, 30, 58, 51),\n",
              " (70, 63, 84, 7),\n",
              " (72, 52, 34, 78),\n",
              " (72, 80, 8, 96),\n",
              " (76, 5, 48, 69),\n",
              " (80, 10, 75, 45),\n",
              " (81, 30, 72, 57),\n",
              " (82, 51, 64, 75),\n",
              " (84, 63, 94, 23),\n",
              " (89, 2, 41, 86),\n",
              " (89, 63, 24, 98),\n",
              " (90, 54, 96, 12),\n",
              " (92, 30, 11, 93),\n",
              " (96, 33, 97, 20),\n",
              " (97, 47, 66, 90)}"
            ]
          },
          "execution_count": 24,
          "metadata": {},
          "output_type": "execute_result"
        }
      ],
      "source": [
        "taxicab(100)"
      ]
    },
    {
      "cell_type": "code",
      "execution_count": 25,
      "metadata": {
        "collapsed": true,
        "pycharm": {}
      },
      "outputs": [],
      "source": [
        "def roman_to_int(value: str) -\u003e int:\n",
        "    # Symbol I  V  X   L   C    D    M\n",
        "    # Value  1  5  10  50  100  500  1000\n",
        "    \n",
        "    if not value:\n",
        "        return 0\n",
        "\n",
        "    hash_table \u003d {\n",
        "        \"I\": 1,\n",
        "        \"V\": 5,\n",
        "        \"X\": 10,\n",
        "        \"L\": 50,\n",
        "        \"C\": 100,\n",
        "        \"D\": 500,\n",
        "        \"M\": 1000\n",
        "    }\n",
        "\n",
        "    length \u003d len(value)\n",
        "    prev \u003d hash_table[value[length - 1]]\n",
        "    curr \u003d 0\n",
        "    result \u003d prev\n",
        "\n",
        "    for index in range(length - 2, -1, -1):\n",
        "        curr \u003d hash_table[value[index]]\n",
        "        \n",
        "        if curr \u003c prev:\n",
        "            result -\u003d curr\n",
        "            prev \u003d 0\n",
        "        else:\n",
        "            result +\u003d curr\n",
        "            prev \u003d curr\n",
        "    return result"
      ]
    },
    {
      "cell_type": "markdown",
      "metadata": {
        "pycharm": {}
      },
      "source": [
        "## Bottom-up merge sort vs Normal merge sort"
      ]
    },
    {
      "cell_type": "code",
      "execution_count": 26,
      "metadata": {
        "collapsed": true,
        "pycharm": {}
      },
      "outputs": [],
      "source": [
        "def merge(array, aux, low, mid, high):\n",
        "    for k in range(low, high + 1):\n",
        "        aux[k] \u003d array[k]\n",
        "\n",
        "    i \u003d low\n",
        "    j \u003d mid + 1\n",
        "\n",
        "    for k in range(low, high + 1):\n",
        "        if i \u003e mid:\n",
        "            array[k] \u003d aux[j]\n",
        "            j +\u003d 1\n",
        "        elif j \u003e high:\n",
        "            array[k] \u003d aux[i]\n",
        "            i +\u003d 1\n",
        "        elif aux[i] \u003c aux[j]:\n",
        "            array[k] \u003d aux[i]\n",
        "            i +\u003d 1\n",
        "        else:\n",
        "            array[k] \u003d aux[j]\n",
        "            j +\u003d 1\n",
        "\n",
        "\n",
        "def merge_sort(array):\n",
        "    def sort(array, aux, low, high):\n",
        "        if low \u003c high:\n",
        "            mid \u003d low + (high - low) // 2\n",
        "            \n",
        "            sort(array, aux, low, mid)\n",
        "            sort(array, aux, mid + 1, high)\n",
        "            merge(array, aux, low, mid, high)\n",
        "    \n",
        "    sort(array, array[:], 0, len(array) - 1)\n",
        "\n",
        "\n",
        "def bottom_up_merge_sort(array):\n",
        "    aux \u003d array[:]\n",
        "    length \u003d len(array)\n",
        "    size \u003d 1\n",
        "    \n",
        "    while size \u003c length:\n",
        "        low \u003d 0\n",
        "        \n",
        "        while low \u003c length - size:\n",
        "            mid \u003d low + size - 1\n",
        "            high \u003d min([low + 2 * size - 1, length - 1])\n",
        "            merge(array, aux, low, mid, high)\n",
        "            \n",
        "            low +\u003d 2 * size\n",
        "            \n",
        "        size *\u003d 2"
      ]
    },
    {
      "cell_type": "code",
      "execution_count": 27,
      "metadata": {
        "pycharm": {}
      },
      "outputs": [
        {
          "name": "stdout",
          "output_type": "stream",
          "text": [
            "22.2 µs ± 440 ns per loop (mean ± std. dev. of 7 runs, 10000 loops each)\n",
            "24.9 µs ± 1.81 µs per loop (mean ± std. dev. of 7 runs, 10000 loops each)\n",
            "[1, 2, 2, 3, 3, 4, 5, 6, 7, 8, 9, 10]\n",
            "[1, 2, 2, 3, 3, 4, 5, 6, 7, 8, 9, 10]\n"
          ]
        }
      ],
      "source": [
        "a \u003d [5, 3, 2, 4, 3, 8, 9, 2, 10, 6, 7, 1]\n",
        "b \u003d [5, 3, 2, 4, 3, 8, 9, 2, 10, 6, 7, 1]\n",
        "\n",
        "%timeit merge_sort(a)\n",
        "%timeit bottom_up_merge_sort(b)\n",
        "\n",
        "print(a)\n",
        "print(b)"
      ]
    },
    {
      "cell_type": "code",
      "execution_count": 28,
      "metadata": {
        "collapsed": true,
        "pycharm": {}
      },
      "outputs": [],
      "source": [
        "from typing import TypeVar, Generic\n",
        "\n",
        "\n",
        "T \u003d TypeVar(\u0027T\u0027)\n",
        "\n",
        "\n",
        "class Node(Generic[T]):\n",
        "    value: T\n",
        "    left: \u0027Node[T]\u0027\n",
        "    right: \u0027Node[T]\u0027\n",
        "    \n",
        "    def __init__(self, value: T, left: \u0027Node[T]\u0027 \u003d None, right: \u0027Node[T]\u0027 \u003d None):\n",
        "        self.value \u003d value\n",
        "        self.left \u003d left\n",
        "        self.right \u003d right\n",
        "\n",
        "\n",
        "class BST(Generic[T]):\n",
        "    root: Node[T]\n",
        "\n",
        "    def __init__(self):\n",
        "        self.root \u003d None\n",
        "\n",
        "    def insert(self, item: T):\n",
        "        def recur(node: Node[T]):\n",
        "            if item \u003d\u003d node.value:\n",
        "                return\n",
        "            elif item \u003c node.value:\n",
        "                if node.left:\n",
        "                    recur(node.left)\n",
        "                else:\n",
        "                    node.left \u003d Node(item)\n",
        "            else:\n",
        "                if node.right:\n",
        "                    recur(node.right)\n",
        "                else:\n",
        "                    node.right \u003d Node(item)\n",
        "\n",
        "        if self.root:\n",
        "            recur(self.root)\n",
        "        else:\n",
        "            self.root \u003d Node(item)\n",
        "\n",
        "    def find_node_in_range(self, low: T, high: T):\n",
        "        result \u003d []\n",
        "        \n",
        "        def is_range_overlap(new_low: T, new_high: T) -\u003e bool:\n",
        "            return new_low \u003c\u003d low \u003c\u003d new_high \u003c\u003d high or \\\n",
        "                low \u003c\u003d new_low \u003c\u003d high \u003c\u003d new_high\n",
        "\n",
        "        def recur(node: Node[T]):\n",
        "            if node:\n",
        "                if low \u003c\u003d node.value \u003c\u003d high:\n",
        "                    result.append(node.value)\n",
        "\n",
        "                if node.left and is_range_overlap(low, node.value):\n",
        "                    recur(node.left)\n",
        "\n",
        "                if node.right and is_range_overlap(node.value, high):\n",
        "                    recur(node.right)\n",
        "        \n",
        "        recur(self.root)\n",
        "        \n",
        "        return result"
      ]
    },
    {
      "cell_type": "code",
      "execution_count": 29,
      "metadata": {
        "pycharm": {}
      },
      "outputs": [
        {
          "data": {
            "text/plain": [
              "[5, 4, 7, 8]"
            ]
          },
          "execution_count": 29,
          "metadata": {},
          "output_type": "execute_result"
        }
      ],
      "source": [
        "bst \u003d BST()\n",
        "\n",
        "bst.insert(10)\n",
        "bst.insert(5)\n",
        "bst.insert(15)\n",
        "bst.insert(2)\n",
        "bst.insert(7)\n",
        "bst.insert(8)\n",
        "bst.insert(4)\n",
        "\n",
        "bst.find_node_in_range(4, 9)"
      ]
    },
    {
      "cell_type": "markdown",
      "metadata": {
        "pycharm": {}
      },
      "source": [
        "### Rotated Array Binary Search\n",
        "\n",
        "[10, 20, 1, 3, 6, 7, 8]"
      ]
    },
    {
      "cell_type": "code",
      "execution_count": 30,
      "metadata": {
        "collapsed": true,
        "pycharm": {}
      },
      "outputs": [],
      "source": [
        "import math\n",
        "\n",
        "\n",
        "def binary_search_rotated_array(ls):\n",
        "    def search_mid_point(left, right):\n",
        "        while left \u003c\u003d right:\n",
        "            mid \u003d math.floor(right - left)\n",
        "\n",
        "            if ls[mid - 1] \u003e ls[mid] \u003c ls[mid + 1]:\n",
        "                return ls[:mid], ls[mid:] \n",
        "            elif ls[mid - 1] \u003e ls[mid]:\n",
        "                left \u003d mid + 1\n",
        "            else:\n",
        "                right \u003d mid - 1\n",
        "    \n",
        "    print(search_mid_point(0, len(ls) - 1))\n",
        "    \n",
        "    # then do the simple binary search on subarry"
      ]
    },
    {
      "cell_type": "code",
      "execution_count": 31,
      "metadata": {
        "pycharm": {}
      },
      "outputs": [
        {
          "name": "stdout",
          "output_type": "stream",
          "text": [
            "([10, 20], [1, 3, 6, 7, 8])\n"
          ]
        }
      ],
      "source": [
        "binary_search_rotated_array([10, 20, 1, 3, 6, 7, 8])"
      ]
    },
    {
      "cell_type": "markdown",
      "metadata": {
        "pycharm": {}
      },
      "source": [
        "## Weighted Random Numbers"
      ]
    },
    {
      "cell_type": "code",
      "execution_count": 32,
      "metadata": {
        "collapsed": true,
        "pycharm": {}
      },
      "outputs": [],
      "source": [
        "import random\n",
        "\n",
        "\n",
        "def counter(hashtable):\n",
        "    counter: int \u003d sum([value for value in hashtable.values()])\n",
        "    random_int: int \u003d random.randint(1, counter)\n",
        "    current_sum: int \u003d 0\n",
        "    prev_value: str \u003d None\n",
        "\n",
        "    for key, value in hashtable.items():\n",
        "        current_sum +\u003d value\n",
        "        \n",
        "        if current_sum \u003e\u003d random_int:\n",
        "            return key\n",
        "        \n",
        "        prev_value \u003d key\n",
        "\n",
        "    return prev_value"
      ]
    },
    {
      "cell_type": "code",
      "execution_count": 33,
      "metadata": {
        "pycharm": {}
      },
      "outputs": [
        {
          "name": "stdout",
          "output_type": "stream",
          "text": [
            "{\u0027C\u0027: 207, \u0027D\u0027: 326, \u0027E\u0027: 240, \u0027A\u0027: 108, \u0027B\u0027: 119}\n"
          ]
        }
      ],
      "source": [
        "hashtable \u003d {}\n",
        "\n",
        "for i in range(1000):\n",
        "    result \u003d counter({\u0027A\u0027: 1, \u0027B\u0027: 1, \u0027C\u0027: 2, \u0027D\u0027: 3, \u0027E\u0027: 2})\n",
        "    \n",
        "    if hashtable.get(result):\n",
        "        hashtable[result] +\u003d 1\n",
        "    else:\n",
        "        hashtable[result] \u003d 1\n",
        "\n",
        "print(hashtable)"
      ]
    },
    {
      "cell_type": "markdown",
      "metadata": {
        "pycharm": {}
      },
      "source": [
        "### Modify the array by moving all the zeros to the beginning (left side). The order of other elements doesn’t matter.\n",
        "\n",
        "Let’s have an example. For array [1, 2, 0, 3, 0, 1, 2], the program can output [0, 0, 1, 2, 3, 1, 2,]."
      ]
    },
    {
      "cell_type": "code",
      "execution_count": 34,
      "metadata": {
        "collapsed": true,
        "pycharm": {}
      },
      "outputs": [],
      "source": [
        "def move_zeros(ls):\n",
        "    i: int \u003d 0\n",
        "        \n",
        "    while a[i] \u003d\u003d 0:\n",
        "        i +\u003d 1\n",
        "\n",
        "    j: int \u003d i + 1\n",
        "\n",
        "    while j \u003c len(ls):\n",
        "        if a[j] \u003d\u003d 0:\n",
        "            a[i], a[j] \u003d a[j], a[i]\n",
        "            i +\u003d 1\n",
        "        j +\u003d 1"
      ]
    },
    {
      "cell_type": "code",
      "execution_count": 35,
      "metadata": {
        "pycharm": {}
      },
      "outputs": [
        {
          "data": {
            "text/plain": [
              "[0, 0, 1, 3, 2, 1, 2]"
            ]
          },
          "execution_count": 35,
          "metadata": {},
          "output_type": "execute_result"
        }
      ],
      "source": [
        "a \u003d [1, 2, 0, 3, 0, 1, 2]\n",
        "move_zeros(a)\n",
        "a"
      ]
    },
    {
      "cell_type": "markdown",
      "metadata": {
        "pycharm": {}
      },
      "source": [
        "### Maximum Sum of Non-adjacent Elements\n",
        "\n",
        "Given an array of integers, find a maximum sum of non-adjacent elements.\n",
        "For example, inputs [1, 0, 3, 9, 2] should return 10 (1 + 9)."
      ]
    },
    {
      "cell_type": "code",
      "execution_count": 36,
      "metadata": {
        "collapsed": true,
        "pycharm": {}
      },
      "outputs": [],
      "source": [
        "from typing import List, Dict, Any\n",
        "\n",
        "\n",
        "def maximum_sum(ls: List[int]) -\u003e Dict[str, Any]:\n",
        "    hashtable: Dict[str, Any] \u003d {\n",
        "        \u0027sum\u0027: 0,\n",
        "        \u0027result\u0027: []\n",
        "    }\n",
        "\n",
        "    def recur(ls: List[int], acc: List[int]):\n",
        "        if not ls and hashtable[\u0027sum\u0027] \u003c sum(acc):\n",
        "            hashtable[\u0027sum\u0027] \u003d sum(acc)\n",
        "            hashtable[\u0027result\u0027] \u003d acc\n",
        "        else:\n",
        "            for index, value in enumerate(ls):\n",
        "                recur(ls[index + 2:], acc + [value])\n",
        "\n",
        "    recur(ls, [])\n",
        "    \n",
        "    return hashtable\n",
        "\n",
        "\n",
        "def maximum_sum_dp(ls: List[int]) -\u003e int:\n",
        "    mem: Dict[int, int] \u003d {\n",
        "        0: ls[0],\n",
        "        1: max([ls[0], ls[1]])\n",
        "    }\n",
        "\n",
        "    def recur(index):\n",
        "        if not mem.get(index):\n",
        "            mem[index] \u003d max([recur(index - 1), ls[index] + recur(index - 2)])\n",
        "        \n",
        "        return mem[index]\n",
        "    \n",
        "    return recur(len(ls) - 1)"
      ]
    },
    {
      "cell_type": "code",
      "execution_count": 37,
      "metadata": {
        "pycharm": {}
      },
      "outputs": [
        {
          "data": {
            "text/plain": [
              "{\u0027sum\u0027: 10, \u0027result\u0027: [1, 9]}"
            ]
          },
          "execution_count": 37,
          "metadata": {},
          "output_type": "execute_result"
        }
      ],
      "source": [
        "maximum_sum([1, 0, 3, 9, 2])"
      ]
    },
    {
      "cell_type": "code",
      "execution_count": 38,
      "metadata": {
        "pycharm": {}
      },
      "outputs": [
        {
          "data": {
            "text/plain": [
              "10"
            ]
          },
          "execution_count": 38,
          "metadata": {},
          "output_type": "execute_result"
        }
      ],
      "source": [
        "maximum_sum_dp([1, 0, 3, 9, 2])"
      ]
    },
    {
      "cell_type": "markdown",
      "metadata": {
        "pycharm": {}
      },
      "source": [
        "## Longest repeated substring - Brute force"
      ]
    },
    {
      "cell_type": "code",
      "execution_count": 39,
      "metadata": {
        "pycharm": {}
      },
      "outputs": [],
      "source": [
        "# brute-force\n",
        "\n",
        "def common_substring(txt: str) -\u003e str:\n",
        "    N, result \u003d len(txt), []\n",
        "    i \u003d 0\n",
        "    \n",
        "    while i \u003c N - 1:\n",
        "        j \u003d i + 1\n",
        "        \n",
        "        while j \u003c N:\n",
        "            while j \u003c N and txt[i] !\u003d txt[j]:\n",
        "                j +\u003d 1\n",
        "            \n",
        "            if j \u003d\u003d N:\n",
        "                break\n",
        "\n",
        "            offset \u003d 1\n",
        "            \n",
        "            while i + offset \u003c j and j + offset \u003c N and txt[i + offset] \u003d\u003d txt[j + offset]:\n",
        "                offset +\u003d 1\n",
        "        \n",
        "            if len(result) \u003c offset:\n",
        "                result \u003d txt[i:i + offset]\n",
        "        \n",
        "            j +\u003d 1\n",
        "\n",
        "        i +\u003d 1\n",
        "    \n",
        "    return result"
      ]
    },
    {
      "cell_type": "code",
      "execution_count": 40,
      "metadata": {
        "pycharm": {}
      },
      "outputs": [
        {
          "data": {
            "text/plain": [
              "\" we\u0027re going to look at \""
            ]
          },
          "execution_count": 40,
          "metadata": {},
          "output_type": "execute_result"
        }
      ],
      "source": [
        "common_substring(\"\"\"finally Finally we\u0027re going to look at suffix arrays and string processing using this data structure that has really played a very important role in, string processing applications that would not otherwise be possible. To get a feeling for the idea, we\u0027re going to look at a really old idea that you\u0027re actually familiar with called keyword in context search. And the idea is that you\u0027re given a text, a huge X and what you want to do is pre-process it to enable fast substring search. That is, you want a client to be able to give a query string and then you want to give all occurrences of that query string in context. So, if you look for the word, search, it will give all the occurrences of where the word search occurs in context. Or better thing is another one. And that\u0027s a, a very common operation. One, you\u0027re certainly familiar with it\"\"\")"
      ]
    },
    {
      "cell_type": "code",
      "execution_count": 41,
      "metadata": {
        "pycharm": {}
      },
      "outputs": [],
      "source": [
        "# brute-force with backup\n",
        "\n",
        "def substring_search(txt, pattern):\n",
        "    N, M \u003d len(txt), len(pattern)\n",
        "    i, j \u003d 0, 0\n",
        "    \n",
        "    while i \u003c N and j \u003c M:\n",
        "        if txt[i] \u003d\u003d pattern[j]:\n",
        "            j +\u003d 1\n",
        "        else:\n",
        "            i -\u003d j\n",
        "            j \u003d 0\n",
        "\n",
        "        i +\u003d 1\n",
        "    \n",
        "    return i - M if j \u003d\u003d M else -1"
      ]
    },
    {
      "cell_type": "code",
      "execution_count": 42,
      "metadata": {
        "pycharm": {}
      },
      "outputs": [
        {
          "name": "stdout",
          "output_type": "stream",
          "text": [
            "6.34 µs ± 172 ns per loop (mean ± std. dev. of 7 runs, 100000 loops each)\n"
          ]
        }
      ],
      "source": [
        "%timeit substring_search(\"Hello world. I am testing and writing a python test\", \"writing\")"
      ]
    },
    {
      "cell_type": "code",
      "execution_count": 43,
      "metadata": {
        "pycharm": {}
      },
      "outputs": [],
      "source": [
        "import string"
      ]
    },
    {
      "cell_type": "code",
      "execution_count": 44,
      "metadata": {
        "pycharm": {}
      },
      "outputs": [
        {
          "data": {
            "text/plain": [
              "\u0027abcdefghijklmnopqrstuvwxyzABCDEFGHIJKLMNOPQRSTUVWXYZ \\t\\n\\r\\x0b\\x0c\u0027"
            ]
          },
          "execution_count": 44,
          "metadata": {},
          "output_type": "execute_result"
        }
      ],
      "source": [
        "string.ascii_letters + string.whitespace"
      ]
    },
    {
      "cell_type": "code",
      "execution_count": 45,
      "metadata": {
        "pycharm": {}
      },
      "outputs": [],
      "source": [
        "from collections import defaultdict\n",
        "\n",
        "\n",
        "CHARACTER_SETS \u003d string.ascii_letters + string.whitespace\n",
        "\n",
        "\n",
        "def print_dfa(dfa):\n",
        "    print(\"---------------------\")\n",
        "    for k, v in dfa.items():\n",
        "        print(k, \" \".join(str(index) for index in v))\n",
        "    print(\"---------------------\")\n",
        "\n",
        "\n",
        "# efficient algorithm for constructing DFA. Original by Knuth-Morris-Pratt\n",
        "def build_dfa(pattern):\n",
        "    M \u003d len(pattern)\n",
        "    \n",
        "    dfa \u003d defaultdict(lambda: [0] * M)\n",
        "    \n",
        "    dfa[pattern[0]][0] \u003d 1\n",
        "    \n",
        "    X, j \u003d 0, 1\n",
        "\n",
        "    while j \u003c M:\n",
        "        for c in CHARACTER_SETS:\n",
        "            # copy mismatch cases\n",
        "            dfa[c][j] \u003d dfa[c][X]\n",
        "\n",
        "        current_char \u003d pattern[j]\n",
        "\n",
        "        # set match case\n",
        "        dfa[current_char][j] \u003d j + 1\n",
        "        # update restart state\n",
        "        X \u003d dfa[current_char][X]\n",
        "        j +\u003d 1\n",
        "    \n",
        "    return dfa\n",
        "\n",
        "\n",
        "def substring_search(txt, pattern):\n",
        "    N, M \u003d len(txt), len(pattern)\n",
        "    i, j \u003d 0, 0\n",
        "    dfa \u003d build_dfa(pattern)\n",
        "        \n",
        "    while i \u003c N and j \u003c M:\n",
        "        j \u003d dfa[txt[i]][j]\n",
        "        i +\u003d 1\n",
        "\n",
        "    return i - M if j \u003d\u003d M else -1"
      ]
    },
    {
      "cell_type": "code",
      "execution_count": 46,
      "metadata": {
        "pycharm": {}
      },
      "outputs": [
        {
          "name": "stdout",
          "output_type": "stream",
          "text": [
            "62.2 µs ± 4.35 µs per loop (mean ± std. dev. of 7 runs, 10000 loops each)\n"
          ]
        }
      ],
      "source": [
        "%timeit substring_search(\"Hello world. I am testing and writing a python test\", \"writing\")"
      ]
    },
    {
      "cell_type": "code",
      "execution_count": 47,
      "metadata": {
        "pycharm": {}
      },
      "outputs": [],
      "source": [
        "# Boyer-Moore skip string algorithm\n",
        "\n",
        "\n",
        "CHARACTER_SETS \u003d string.ascii_letters + string.whitespace + string.punctuation\n",
        "\n",
        "\n",
        "def compute_rightmost_occurence(pattern):\n",
        "    right \u003d {}\n",
        "    \n",
        "    for c in CHARACTER_SETS:\n",
        "        right[c] \u003d -1\n",
        "    \n",
        "    for j in range(len(pattern)):\n",
        "        right[pattern[j]] \u003d j\n",
        "    \n",
        "    return right\n",
        "\n",
        "\n",
        "def substring_search(txt, pattern):\n",
        "    N, M \u003d len(txt), len(pattern)\n",
        "    i \u003d 0\n",
        "    \n",
        "    skiplist \u003d compute_rightmost_occurence(pattern)\n",
        "    \n",
        "    while i \u003c\u003d N - M:\n",
        "        skip, j \u003d 0, M - 1\n",
        "        \n",
        "        while j \u003e\u003d 0:\n",
        "            if txt[i + j] !\u003d pattern[j]:\n",
        "                skip \u003d max(1, j - skiplist[txt[i + j]])\n",
        "                break\n",
        "\n",
        "            j -\u003d 1\n",
        "\n",
        "        if skip \u003d\u003d 0:\n",
        "            return i\n",
        "\n",
        "        i +\u003d skip\n",
        "    \n",
        "    return -1"
      ]
    },
    {
      "cell_type": "code",
      "execution_count": 48,
      "metadata": {
        "pycharm": {}
      },
      "outputs": [
        {
          "name": "stdout",
          "output_type": "stream",
          "text": [
            "10.9 µs ± 324 ns per loop (mean ± std. dev. of 7 runs, 100000 loops each)\n"
          ]
        }
      ],
      "source": [
        "%timeit substring_search(\"Hello world. I am testing and writing a python test\", \"writing\")"
      ]
    },
    {
      "cell_type": "markdown",
      "metadata": {
        "pycharm": {}
      },
      "source": [
        "In a school, the students were playing a game.Initially everyone is standing in a circular path in the school lawn.The student at index 1 is standing next to student at index n and before the student at index 2.All the girls need to stand together to win the game.The girls had influencial power to influence the boys to swap the positions.Help the Girls decide the minimum number of swaps they have to do so that all of them stand together.\n",
        "example: BBGBGBG\n",
        "BBBBGGG\n",
        "answer\u003d1"
      ]
    },
    {
      "cell_type": "code",
      "execution_count": 49,
      "metadata": {
        "pycharm": {}
      },
      "outputs": [
        {
          "name": "stdout",
          "output_type": "stream",
          "text": [
            "0\n"
          ]
        }
      ],
      "source": [
        "def solution(seq):\n",
        "    total_girls \u003d sum(1 for ch in seq if ch \u003d\u003d \u0027G\u0027)\n",
        "\n",
        "    i \u003d 0\n",
        "    ans \u003d total_girls\n",
        "    total_boy_so_far \u003d None\n",
        "\n",
        "    while i \u003c len(seq):\n",
        "        if total_boy_so_far is None:\n",
        "            total_boy \u003d sum(1 for idx in range(i, i + total_girls) if seq[idx if idx \u003c len(seq) else idx - len(seq)] \u003d\u003d \u0027B\u0027)\n",
        "        else:\n",
        "            last_index, next_index \u003d i - 1, i + total_girls\n",
        "\n",
        "            if next_index \u003e\u003d len(seq):\n",
        "                next_index -\u003d len(seq)\n",
        "\n",
        "            total_boy \u003d total_boy_so_far - (seq[last_index] \u003d\u003d \u0027B\u0027) + (seq[next_index] \u003d\u003d \u0027B\u0027)\n",
        "\n",
        "        i +\u003d 1\n",
        "        ans \u003d min(ans, total_boy)\n",
        "        total_boy_so_far \u003d total_boy\n",
        "\n",
        "    print(ans)\n",
        "\n",
        "solution(\u0027GBBBG\u0027)"
      ]
    },
    {
      "cell_type": "code",
      "execution_count": null,
      "metadata": {
        "pycharm": {}
      },
      "outputs": [],
      "source": []
    }
  ],
  "metadata": {
    "kernelspec": {
      "display_name": "Python 3",
      "language": "python",
      "name": "python3"
    },
    "language_info": {
      "codemirror_mode": {
        "name": "ipython",
        "version": 3
      },
      "file_extension": ".py",
      "mimetype": "text/x-python",
      "name": "python",
      "nbconvert_exporter": "python",
      "pygments_lexer": "ipython3",
      "version": "3.7.2"
    }
  },
  "nbformat": 4,
  "nbformat_minor": 2
}