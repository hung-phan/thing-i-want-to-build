{
 "cells": [
  {
   "cell_type": "markdown",
   "metadata": {
    "pycharm": {}
   },
   "source": [
    "Selective sum that equal to given result\n",
    "\n",
    "given an array of integer, select the numbers that will accumulate to given sum\n",
    "\n",
    "[1, 2, 3, 4, 5, 6, 7, 8, 9]\n",
    "\n",
    "sum = 12\n",
    "\n",
    "-> [1, 2, 3, 6]\n",
    "-> [3, 9]\n",
    "-> [5, 7]\n",
    "\n",
    "if the array is not sorted, we must have a hash_table to store the result and to prevent doing unnecessary works"
   ]
  },
  {
   "cell_type": "code",
   "execution_count": 1,
   "metadata": {
    "pycharm": {}
   },
   "outputs": [],
   "source": [
    "from typing import List, Iterator\n",
    "\n",
    "\n",
    "def selective_sum(ls: List[int], given_sum: int) -> Iterator[List[int]]:\n",
    "    def recur(ls: List, result_ls: List[int], accumulated_result: int) -> Iterator[List[int]]:\n",
    "        if accumulated_result == given_sum:\n",
    "            yield result_ls\n",
    "        else:\n",
    "            for index, value in enumerate(ls):\n",
    "                new_ls: List[int] = ls[:index] + ls[index + 1:]\n",
    "                new_result_ls: List[int] = result_ls + [value]\n",
    "                new_accumulated_result: int = accumulated_result + value\n",
    "\n",
    "                if new_accumulated_result <= given_sum and (result_ls and result_ls[-1] <= value or not result_ls):\n",
    "                    yield from recur(new_ls, new_result_ls, new_accumulated_result)\n",
    "    \n",
    "    return recur(ls, [], 0)"
   ]
  },
  {
   "cell_type": "code",
   "execution_count": 2,
   "metadata": {
    "pycharm": {}
   },
   "outputs": [
    {
     "data": {
      "text/plain": [
       "[[0, 1, 2, 3, 4],\n",
       " [0, 1, 2, 7],\n",
       " [0, 1, 3, 6],\n",
       " [0, 1, 4, 5],\n",
       " [0, 1, 9],\n",
       " [0, 2, 3, 5],\n",
       " [0, 2, 8],\n",
       " [0, 3, 7],\n",
       " [0, 4, 6],\n",
       " [1, 2, 3, 4],\n",
       " [1, 2, 7],\n",
       " [1, 3, 6],\n",
       " [1, 4, 5],\n",
       " [1, 9],\n",
       " [2, 3, 5],\n",
       " [2, 8],\n",
       " [3, 7],\n",
       " [4, 6]]"
      ]
     },
     "execution_count": 2,
     "metadata": {},
     "output_type": "execute_result"
    }
   ],
   "source": [
    "list(selective_sum(list(range(10)), 10))"
   ]
  },
  {
   "cell_type": "markdown",
   "metadata": {
    "pycharm": {}
   },
   "source": [
    "Given a set of non-negative integers, and a value sum, determine if there is a subset of the given set with sum equal to given sum.\n",
    "\n",
    "Examples: set[] = {3, 34, 4, 12, 5, 2}, sum = 9\n",
    "Output:  True  //There is a subset (4, 5) with sum 9."
   ]
  },
  {
   "cell_type": "code",
   "execution_count": 3,
   "metadata": {
    "collapsed": true,
    "jupyter": {
     "outputs_hidden": true
    },
    "pycharm": {}
   },
   "outputs": [],
   "source": [
    "from typing import List\n",
    "\n",
    "\n",
    "# same as knapsack problem\n",
    "def has_subset_sum(ls: List[int], given_sum: int) -> bool:\n",
    "    result = [[0 for i in range(given_sum + 1)] for j in range(len(ls) + 1)]\n",
    "    \n",
    "    for i in range(1, len(ls) + 1):\n",
    "        for j in range(given_sum + 1):\n",
    "            result[i][j] = result[i - 1][j]\n",
    "            item = ls[i - 1]\n",
    "\n",
    "            if j >= item and result[i][j] < result[i - 1][j - item] + item:\n",
    "                result[i][j] = result[i - 1][j - item] + item\n",
    "\n",
    "    return result[len(ls)][given_sum] == given_sum"
   ]
  },
  {
   "cell_type": "code",
   "execution_count": 4,
   "metadata": {
    "pycharm": {}
   },
   "outputs": [
    {
     "data": {
      "text/plain": [
       "True"
      ]
     },
     "execution_count": 4,
     "metadata": {},
     "output_type": "execute_result"
    }
   ],
   "source": [
    "has_subset_sum([3, 34, 4, 12, 5, 2], 14)"
   ]
  },
  {
   "cell_type": "markdown",
   "metadata": {
    "pycharm": {}
   },
   "source": [
    "Search in a bitonic array. An array is bitonic if it is comprised of an increasing sequence of integers followed immediately by a decreasing sequence of integers. Write a program that, given a bitonic array of n distinct integer values, determines whether a given integer is in the array.\n",
    "\n",
    "Standard version: Use ∼3lgn compares in the worst case.\n",
    "Signing bonus: Use ∼2lgn compares in the worst case (and prove that no algorithm can guarantee to perform fewer than ∼2lgn compares in the worst case)."
   ]
  },
  {
   "cell_type": "code",
   "execution_count": 5,
   "metadata": {
    "pycharm": {}
   },
   "outputs": [
    {
     "data": {
      "text/plain": [
       "6"
      ]
     },
     "execution_count": 5,
     "metadata": {},
     "output_type": "execute_result"
    }
   ],
   "source": [
    "from typing import List, Tuple\n",
    "import math\n",
    "\n",
    "\n",
    "array = [1, 2, 3, 4, 5, 6, 0, -1, -2, -3, -4]\n",
    "\n",
    "\n",
    "def search_in_bitonic(ls: List[int], value: int) -> int:\n",
    "    def find_the_separator_for_2_arrays() -> Tuple[List[int], List[int]]:\n",
    "        left: int = 0\n",
    "        right: int = len(ls) - 1\n",
    "        \n",
    "        while left <= right:\n",
    "            middle: int = math.floor((right + left) / 2)\n",
    "            \n",
    "            if ls[middle - 1] < ls[middle] > ls[middle + 1]:\n",
    "                return ls[:middle + 1], ls[middle + 1:]\n",
    "            elif ls[middle] < ls[middle + 1]:\n",
    "                left = middle + 1\n",
    "            else:\n",
    "                right = middle - 1\n",
    "                \n",
    "        raise Exception('Cannot find the middle point to separate 2 arrays')\n",
    "\n",
    "\n",
    "    def binary_search(ls: List[int]) -> int:\n",
    "        left: int = 0\n",
    "        right: int = len(ls) - 1\n",
    "        \n",
    "        while left < right:\n",
    "            middle: int = math.floor((right + left) / 2)\n",
    "            \n",
    "            if ls[middle] == value:\n",
    "                return middle\n",
    "            elif value < ls[middle]:\n",
    "                right = middle - 1\n",
    "            else:\n",
    "                left = middle + 1\n",
    "\n",
    "        return -1\n",
    "\n",
    "\n",
    "    def reverse_binary_search(ls: List[int]) -> int:\n",
    "        left: int = 0\n",
    "        right: int = len(ls) - 1\n",
    "        \n",
    "        while left < right:\n",
    "            middle: int = math.floor((right + left) / 2)\n",
    "            \n",
    "            if ls[middle] == value:\n",
    "                return middle\n",
    "            elif value > ls[middle]:\n",
    "                right = middle - 1\n",
    "            else:\n",
    "                left = middle + 1\n",
    "\n",
    "        return -1\n",
    "    \n",
    "\n",
    "    left_array, right_array = find_the_separator_for_2_arrays()\n",
    "    \n",
    "    left_index = binary_search(left_array)\n",
    "    if left_index != -1:\n",
    "        return left_index\n",
    "    \n",
    "    right_index = reverse_binary_search(right_array)\n",
    "    if right_index != -1:\n",
    "        return right_index + len(left_array)\n",
    "\n",
    "    return -1\n",
    "\n",
    "search_in_bitonic(array, 0)"
   ]
  },
  {
   "cell_type": "markdown",
   "metadata": {
    "pycharm": {}
   },
   "source": [
    "Egg drop. Suppose that you have an n-story building (with floors 1 through n) and plenty of eggs. An egg breaks if it is dropped from floor T or higher and does not break otherwise. Your goal is to devise a strategy to determine the value of T given the following limitations on the number of eggs and tosses:\n",
    "\n",
    "Version 0: 1 egg, ≤T tosses.\n",
    "\n",
    "Version 1: ∼1lgn eggs and ∼1lgn tosses.\n",
    "\n",
    "Version 2: ∼lgT eggs and ∼2lgT tosses.\n",
    "\n",
    "Version 3: 2 eggs and ∼2n‾‾√ tosses.\n",
    "\n",
    "Version 4: 2 eggs and ≤cT‾‾√ tosses for some fixed constant c."
   ]
  },
  {
   "cell_type": "markdown",
   "metadata": {
    "pycharm": {}
   },
   "source": [
    "Version 0: A for loop run from 1 to T\n",
    "\n",
    "Version 1: Binary search\n",
    "\n",
    "Version 2: Binary search with range\n",
    "\n",
    "Version 3, 4: Divide by range and increase"
   ]
  },
  {
   "cell_type": "markdown",
   "metadata": {
    "pycharm": {}
   },
   "source": [
    "Intersection of two sets. Given two arrays 𝚊[] and 𝚋[], each containing n distinct 2D points in the plane, design a subquadratic algorithm to count the number of points that are contained both in array 𝚊[] and array 𝚋[]."
   ]
  },
  {
   "cell_type": "code",
   "execution_count": 6,
   "metadata": {
    "pycharm": {}
   },
   "outputs": [],
   "source": [
    "from typing import TypeVar, List\n",
    "import math\n",
    "\n",
    "\n",
    "T = TypeVar('T')\n",
    "\n",
    "\n",
    "def merge(a: List[T], b: List[T]) -> List[T]:\n",
    "    if not a and not b:\n",
    "        return []\n",
    "    \n",
    "    if not a:\n",
    "        return b\n",
    "    \n",
    "    if not b:\n",
    "        return a\n",
    "    \n",
    "    a_head, *a_tail = a\n",
    "    b_head, *b_tail = b\n",
    "    \n",
    "    return [a_head] + merge(a_tail, b) if a_head < b_head else [b_head] + merge(a, b_tail)\n",
    "\n",
    "\n",
    "def merge_sort(ls: List[T]) -> List[T]:\n",
    "    pivot_index = math.floor(len(ls) / 2)\n",
    "    \n",
    "    if pivot_index == 0:\n",
    "        return ls\n",
    "    else:\n",
    "        return merge(merge_sort(ls[:pivot_index]), merge_sort(ls[pivot_index:]))"
   ]
  },
  {
   "cell_type": "code",
   "execution_count": 7,
   "metadata": {
    "pycharm": {}
   },
   "outputs": [],
   "source": [
    "class Point:\n",
    "    x: int\n",
    "    y: int\n",
    "    \n",
    "    def __init__(self, _x: int, _y: int):\n",
    "        self.x = _x\n",
    "        self.y = _y\n",
    "    \n",
    "    def __eq__(self, other):\n",
    "        return self.x == other.x and self.y == other.y\n",
    "    \n",
    "    def __lt__(self, other):\n",
    "        return self.x < other.x or self.y < other.y"
   ]
  },
  {
   "cell_type": "code",
   "execution_count": 8,
   "metadata": {
    "pycharm": {}
   },
   "outputs": [
    {
     "name": "stdout",
     "output_type": "stream",
     "text": [
      "[-3, 0, 1, 2, 2, 3, 5, 9]\n"
     ]
    }
   ],
   "source": [
    "ls = [2, 3, 1, 5, -3, 2, 9, 0]\n",
    "\n",
    "print(merge_sort(ls))"
   ]
  },
  {
   "cell_type": "code",
   "execution_count": 9,
   "metadata": {
    "pycharm": {}
   },
   "outputs": [],
   "source": [
    "def intersection(a: List[Point], b: List[Point]) -> int:\n",
    "    a = merge_sort(a)\n",
    "    b = merge_sort(b)\n",
    "    i = 0\n",
    "    j = 0\n",
    "    count = 0\n",
    "\n",
    "    while i < len(a) and j < len(b):\n",
    "        if a[i] == b[j]:\n",
    "            count += 1\n",
    "        \n",
    "        if a[i] < b[j]:\n",
    "            i += 1\n",
    "        else:\n",
    "            j += 1\n",
    "    \n",
    "    return count"
   ]
  },
  {
   "cell_type": "code",
   "execution_count": 10,
   "metadata": {
    "pycharm": {}
   },
   "outputs": [
    {
     "name": "stdout",
     "output_type": "stream",
     "text": [
      "2\n"
     ]
    }
   ],
   "source": [
    "a = [Point(1, 2), Point(3, 4), Point(5, 6)]\n",
    "b = [Point(3, 4), Point(7, 8), Point(1, 2)]\n",
    "\n",
    "print(intersection(a, b))"
   ]
  },
  {
   "cell_type": "code",
   "execution_count": 11,
   "metadata": {
    "collapsed": true,
    "jupyter": {
     "outputs_hidden": true
    },
    "pycharm": {}
   },
   "outputs": [],
   "source": [
    "from typing import List\n",
    "\n",
    "\n",
    "def partition(ls: List[int], left: int, right: int) -> int:\n",
    "    pivot: int = left\n",
    "\n",
    "    while left <= right:\n",
    "        while left <= right and ls[left] <= ls[pivot]:\n",
    "            left += 1\n",
    "\n",
    "        while left <= right and ls[pivot] < ls[right]:\n",
    "            right -= 1\n",
    "\n",
    "        if left > right:\n",
    "            break\n",
    "\n",
    "        ls[left], ls[right] = ls[right], ls[left]\n",
    "\n",
    "    ls[right], ls[pivot] = ls[pivot], ls[right]\n",
    "\n",
    "    return right\n",
    "\n",
    "\n",
    "def quick_select(ls: List[int], k: int) -> int:\n",
    "    ls: List[int] = ls[:]\n",
    "    left: int = 0\n",
    "    right: int = len(ls) - 1\n",
    "    k_index: int = len(ls) - k\n",
    "    \n",
    "    while left < right:\n",
    "        pivot: int = partition(ls, left, right)\n",
    "        \n",
    "        if pivot < k_index:\n",
    "            left += 1\n",
    "        elif pivot > k_index:\n",
    "            right -= 1\n",
    "        else:\n",
    "            return ls[pivot]\n",
    "\n",
    "    return ls[left]"
   ]
  },
  {
   "cell_type": "code",
   "execution_count": 12,
   "metadata": {
    "pycharm": {}
   },
   "outputs": [
    {
     "data": {
      "text/plain": [
       "6"
      ]
     },
     "execution_count": 12,
     "metadata": {},
     "output_type": "execute_result"
    }
   ],
   "source": [
    "quick_select([3, 2, 1, 4, 6, 5], 1)"
   ]
  },
  {
   "cell_type": "code",
   "execution_count": 13,
   "metadata": {
    "pycharm": {}
   },
   "outputs": [],
   "source": [
    "from typing import List, Dict, Any, Callable\n",
    "\n",
    "\n",
    "def group_by(ls: List[int], func: Callable[[int], str]) -> Dict[str, List[int]]:\n",
    "    hash_table: Dict[str, List[int]] = {}\n",
    "\n",
    "    for value in ls:\n",
    "        key: str = func(value)\n",
    "        \n",
    "        if hash_table.get(key):\n",
    "            hash_table[key].append(value)\n",
    "        else:\n",
    "            hash_table[key] = [value]\n",
    "\n",
    "    return hash_table"
   ]
  },
  {
   "cell_type": "code",
   "execution_count": 14,
   "metadata": {
    "pycharm": {}
   },
   "outputs": [
    {
     "data": {
      "text/plain": [
       "{'>': [3, 4, 6, 5], '=': [2], '<': [1]}"
      ]
     },
     "execution_count": 14,
     "metadata": {},
     "output_type": "execute_result"
    }
   ],
   "source": [
    "group_by([3, 2, 1, 4, 6, 5], lambda x: '<' if x < 2 else '>' if x > 2 else '=')"
   ]
  },
  {
   "cell_type": "code",
   "execution_count": 15,
   "metadata": {
    "collapsed": true,
    "jupyter": {
     "outputs_hidden": true
    },
    "pycharm": {}
   },
   "outputs": [],
   "source": [
    "from typing import List\n",
    "\n",
    "\n",
    "def quick_select_recursive(ls: List[int], k: int) -> int:\n",
    "    def recur(ls: List[int], k_index: int) -> int:\n",
    "        if len(ls) == 1:\n",
    "            return ls[0]\n",
    "\n",
    "        lesser = [value for value in ls if value < ls[k_index]]\n",
    "        equal = [value for value in ls if value == ls[k_index]]\n",
    "        larger = [value for value in ls if value > ls[k_index]]\n",
    "        \n",
    "        if k_index <= len(lesser) - 1:\n",
    "            return recur(lesser, k_index)\n",
    "\n",
    "        if k_index <= len(lesser) + len(equal) - 1:\n",
    "            return equal[0]\n",
    "\n",
    "        return recur(larger, k_index - len(lesser) - len(equal))\n",
    "    \n",
    "    return recur(ls, len(ls) - k)"
   ]
  },
  {
   "cell_type": "code",
   "execution_count": 16,
   "metadata": {
    "pycharm": {}
   },
   "outputs": [
    {
     "data": {
      "text/plain": [
       "4"
      ]
     },
     "execution_count": 16,
     "metadata": {},
     "output_type": "execute_result"
    }
   ],
   "source": [
    "quick_select_recursive([3, 2, 1, 4, 6, 5], 3)"
   ]
  },
  {
   "cell_type": "code",
   "execution_count": 17,
   "metadata": {
    "collapsed": true,
    "jupyter": {
     "outputs_hidden": true
    },
    "pycharm": {}
   },
   "outputs": [],
   "source": [
    "import heapq\n",
    "\n",
    "class PriorityQueue:\n",
    "    def __init__(self, initial=None, key=lambda x:x):\n",
    "        self.key = key\n",
    "        if initial:\n",
    "            self._data = [(key(item), item) for item in initial]\n",
    "            heapq.heapify(self._data)\n",
    "        else:\n",
    "            self._data = []\n",
    "\n",
    "    def push(self, item):\n",
    "        heapq.heappush(self._data, (self.key(item), item))\n",
    "\n",
    "    def pop(self):\n",
    "        return heapq.heappop(self._data)[1]\n",
    "    \n",
    "    def peek(self):\n",
    "        return self._data[0][1]\n",
    "    \n",
    "    def is_empty(self):\n",
    "        return self.size() == 0\n",
    "    \n",
    "    def size(self):\n",
    "        return len(self._data)"
   ]
  },
  {
   "cell_type": "code",
   "execution_count": 18,
   "metadata": {
    "pycharm": {}
   },
   "outputs": [
    {
     "name": "stdout",
     "output_type": "stream",
     "text": [
      "0\n",
      "1\n",
      "2\n",
      "3\n",
      "4\n",
      "5\n",
      "6\n",
      "7\n"
     ]
    }
   ],
   "source": [
    "a = PriorityQueue()\n",
    "\n",
    "a.push(7)\n",
    "a.push(3)\n",
    "a.push(5)\n",
    "a.push(2)\n",
    "a.push(4)\n",
    "a.push(1)\n",
    "a.push(0)\n",
    "a.push(6)\n",
    "\n",
    "print(a.pop())\n",
    "print(a.pop())\n",
    "print(a.pop())\n",
    "print(a.pop())\n",
    "print(a.pop())\n",
    "print(a.pop())\n",
    "print(a.pop())\n",
    "print(a.pop())"
   ]
  },
  {
   "cell_type": "code",
   "execution_count": 19,
   "metadata": {
    "collapsed": true,
    "jupyter": {
     "outputs_hidden": true
    },
    "pycharm": {}
   },
   "outputs": [],
   "source": [
    "from typing import Callable, Generic, TypeVar, List\n",
    "\n",
    "\n",
    "T = TypeVar('T')\n",
    "\n",
    "\n",
    "class PriorityQueueImplement(Generic[T]):\n",
    "    _data: List[T]\n",
    "    _comparator: Callable[[T, T], int]\n",
    "\n",
    "    def __init__(self, comparator: Callable[[T, T], int]):\n",
    "        self._data = []\n",
    "        self._comparator = comparator\n",
    "\n",
    "    @property\n",
    "    def size(self) -> int:\n",
    "        return len(self._data)\n",
    "\n",
    "    def compare(self, i: int, j: int) -> int:\n",
    "        return self._comparator(self._data[i], self._data[j])\n",
    "    \n",
    "    def exch(self, i: int, j: int):\n",
    "        self._data[i], self._data[j] = self._data[j], self._data[i]\n",
    "\n",
    "    def push(self, item: T):\n",
    "        self._data.append(item)\n",
    "\n",
    "        k_index = self.size - 1\n",
    "        \n",
    "        while k_index > 0 and self.compare(k_index, (k_index - 1) // 2) < 0:\n",
    "            self.exch(k_index, (k_index - 1) // 2)\n",
    "            k_index = (k_index - 1) // 2\n",
    "\n",
    "    def pop(self) -> T:\n",
    "        if self.size == 0:\n",
    "            raise ValueError()\n",
    "\n",
    "        k_index = 0\n",
    "        returned_val = self._data[0]\n",
    "\n",
    "        self._data[0] = self._data[-1]\n",
    "\n",
    "        while 2 * k_index + 1 < self.size:\n",
    "            child_index = 2 * k_index + 1\n",
    "\n",
    "            if child_index + 1 < self.size and self.compare(child_index, child_index + 1) > 0:\n",
    "                child_index += 1\n",
    "\n",
    "            if self.compare(k_index, child_index) < 0:\n",
    "                break\n",
    "            \n",
    "            self.exch(k_index, child_index)\n",
    "            k_index = child_index\n",
    "\n",
    "        self._data.pop()\n",
    "\n",
    "        return returned_val"
   ]
  },
  {
   "cell_type": "code",
   "execution_count": 20,
   "metadata": {
    "pycharm": {}
   },
   "outputs": [
    {
     "name": "stdout",
     "output_type": "stream",
     "text": [
      "[0, 3, 1, 6, 4, 5, 2, 7]\n",
      "0\n",
      "1\n",
      "2\n",
      "3\n",
      "4\n",
      "5\n",
      "6\n",
      "7\n"
     ]
    }
   ],
   "source": [
    "a = PriorityQueueImplement(lambda x, y: x - y)\n",
    "\n",
    "a.push(7)\n",
    "a.push(3)\n",
    "a.push(5)\n",
    "a.push(2)\n",
    "a.push(4)\n",
    "a.push(1)\n",
    "a.push(0)\n",
    "a.push(6)\n",
    "\n",
    "print(a._data)\n",
    "print(a.pop())\n",
    "print(a.pop())\n",
    "print(a.pop())\n",
    "print(a.pop())\n",
    "print(a.pop())\n",
    "print(a.pop())\n",
    "print(a.pop())\n",
    "print(a.pop())"
   ]
  },
  {
   "cell_type": "code",
   "execution_count": 21,
   "metadata": {
    "pycharm": {}
   },
   "outputs": [],
   "source": [
    "from collections import deque\n",
    "\n",
    "\n",
    "class Graph:\n",
    "    def __init__(self, n):\n",
    "        self.n = n\n",
    "        self.adjacents = {}\n",
    "    \n",
    "    def connect(self, a, b):\n",
    "        if a in self.adjacents:\n",
    "            self.adjacents[a].add(b)\n",
    "        else:\n",
    "            self.adjacents[a] = set([b])\n",
    "\n",
    "        if b in self.adjacents:\n",
    "            self.adjacents[b].add(a)\n",
    "        else:\n",
    "            self.adjacents[b] = set([a])\n",
    "\n",
    "    def bfs(self, start, end):\n",
    "        paths = [-1] * self.n\n",
    "\n",
    "        visited = set()\n",
    "        queue = deque()\n",
    "        queue.appendleft(start)\n",
    "        \n",
    "        while len(queue) > 0:\n",
    "            node = queue.popleft()\n",
    "            \n",
    "            if node == end:\n",
    "                break\n",
    "\n",
    "            for adjacent_node in self.adjacents[node]:\n",
    "                if adjacent_node not in visited:\n",
    "                    queue.appendleft(adjacent_node)\n",
    "                    visited.add(adjacent_node)\n",
    "                    paths[adjacent_node] = node\n",
    "\n",
    "        if paths[end] == -1:\n",
    "            return -1\n",
    "        else:\n",
    "            result = 0\n",
    "            node = end\n",
    "            \n",
    "            while node != start:\n",
    "                node = paths[node]\n",
    "                result += 6\n",
    "            \n",
    "            return result\n",
    "\n",
    "    def find_all_distances(self, start):\n",
    "        result = ''\n",
    "\n",
    "        for end in range(self.n):\n",
    "            if start != end:\n",
    "                result += \"{} \".format(self.bfs(start, end))\n",
    "\n",
    "        print(result)"
   ]
  },
  {
   "cell_type": "code",
   "execution_count": 22,
   "metadata": {
    "pycharm": {}
   },
   "outputs": [
    {
     "name": "stdout",
     "output_type": "stream",
     "text": [
      "6 6 -1 \n"
     ]
    }
   ],
   "source": [
    "graph = Graph(4)\n",
    "\n",
    "graph.connect(0, 1)\n",
    "graph.connect(0, 2)\n",
    "\n",
    "graph.find_all_distances(0)"
   ]
  },
  {
   "cell_type": "code",
   "execution_count": 23,
   "metadata": {
    "collapsed": true,
    "jupyter": {
     "outputs_hidden": true
    },
    "pycharm": {}
   },
   "outputs": [],
   "source": [
    "from typing import Tuple, Dict, Set\n",
    "\n",
    "\n",
    "def taxicab(n: int) -> Set[Tuple[int, int, int, int]]:\n",
    "    hash_table: Dict[str, Set[Set[int]]] = {}\n",
    "    result: Set[Tuple[int, int, int, int]] = set()\n",
    "\n",
    "    for i in range(n):\n",
    "        for j in range(n):\n",
    "            calc_result = i ** 3 + j ** 3\n",
    "            \n",
    "            if not calc_result in hash_table:\n",
    "                hash_table[calc_result] = set()\n",
    "\n",
    "            hash_table[calc_result].add(frozenset([i, j]))\n",
    "    \n",
    "    for key, value in hash_table.items():\n",
    "        if len(value) > 1:\n",
    "            value_list = list(value)\n",
    "            \n",
    "            for i in range(len(value_list) - 1):\n",
    "                for j in range(i + 1, len(value_list)):\n",
    "                    a, b = list(value_list[i])\n",
    "                    c, d = list(value_list[j])\n",
    "\n",
    "                    result.add((a, b, c, d))\n",
    "    return result"
   ]
  },
  {
   "cell_type": "code",
   "execution_count": 24,
   "metadata": {
    "pycharm": {}
   },
   "outputs": [
    {
     "data": {
      "text/plain": [
       "{(1, 12, 9, 10),\n",
       " (4, 68, 66, 30),\n",
       " (8, 64, 36, 60),\n",
       " (9, 58, 57, 22),\n",
       " (16, 2, 9, 15),\n",
       " (16, 33, 9, 34),\n",
       " (17, 39, 26, 36),\n",
       " (17, 76, 73, 38),\n",
       " (18, 20, 24, 2),\n",
       " (24, 19, 10, 27),\n",
       " (24, 54, 17, 55),\n",
       " (27, 30, 3, 36),\n",
       " (32, 4, 18, 30),\n",
       " (32, 66, 18, 68),\n",
       " (33, 15, 2, 34),\n",
       " (33, 31, 40, 12),\n",
       " (48, 4, 40, 36),\n",
       " (48, 6, 27, 45),\n",
       " (48, 38, 20, 54),\n",
       " (50, 29, 8, 53),\n",
       " (50, 45, 60, 5),\n",
       " (51, 12, 43, 38),\n",
       " (54, 71, 80, 15),\n",
       " (56, 61, 42, 69),\n",
       " (59, 22, 3, 60),\n",
       " (59, 92, 98, 35),\n",
       " (59, 93, 96, 50),\n",
       " (60, 54, 72, 6),\n",
       " (60, 92, 99, 29),\n",
       " (66, 62, 24, 80),\n",
       " (67, 30, 58, 51),\n",
       " (70, 63, 84, 7),\n",
       " (72, 52, 34, 78),\n",
       " (72, 80, 8, 96),\n",
       " (76, 5, 48, 69),\n",
       " (80, 10, 75, 45),\n",
       " (81, 30, 72, 57),\n",
       " (82, 51, 64, 75),\n",
       " (84, 63, 94, 23),\n",
       " (89, 2, 41, 86),\n",
       " (89, 63, 24, 98),\n",
       " (90, 54, 96, 12),\n",
       " (92, 30, 11, 93),\n",
       " (96, 33, 97, 20),\n",
       " (97, 47, 66, 90)}"
      ]
     },
     "execution_count": 24,
     "metadata": {},
     "output_type": "execute_result"
    }
   ],
   "source": [
    "taxicab(100)"
   ]
  },
  {
   "cell_type": "code",
   "execution_count": 25,
   "metadata": {
    "pycharm": {}
   },
   "outputs": [],
   "source": [
    "def roman_to_int(value: str) -> int:\n",
    "    # Symbol I  V  X   L   C    D    M\n",
    "    # Value  1  5  10  50  100  500  1000\n",
    "    \n",
    "    if not value:\n",
    "        return 0\n",
    "\n",
    "    hash_table = {\n",
    "        \"I\": 1,\n",
    "        \"V\": 5,\n",
    "        \"X\": 10,\n",
    "        \"L\": 50,\n",
    "        \"C\": 100,\n",
    "        \"D\": 500,\n",
    "        \"M\": 1000\n",
    "    }\n",
    "\n",
    "    length = len(value)\n",
    "    prev = hash_table[value[length - 1]]\n",
    "    curr = 0\n",
    "    result = prev\n",
    "\n",
    "    for index in range(length - 2, -1, -1):\n",
    "        curr = hash_table[value[index]]\n",
    "        \n",
    "        if curr < prev:\n",
    "            result -= curr\n",
    "            prev = 0\n",
    "        else:\n",
    "            result += curr\n",
    "            prev = curr\n",
    "    return result"
   ]
  },
  {
   "cell_type": "markdown",
   "metadata": {
    "pycharm": {}
   },
   "source": [
    "## Bottom-up merge sort vs Normal merge sort"
   ]
  },
  {
   "cell_type": "code",
   "execution_count": 26,
   "metadata": {
    "collapsed": true,
    "jupyter": {
     "outputs_hidden": true
    },
    "pycharm": {}
   },
   "outputs": [],
   "source": [
    "def merge(array, aux, low, mid, high):\n",
    "    for k in range(low, high + 1):\n",
    "        aux[k] = array[k]\n",
    "\n",
    "    i = low\n",
    "    j = mid + 1\n",
    "\n",
    "    for k in range(low, high + 1):\n",
    "        if i > mid:\n",
    "            array[k] = aux[j]\n",
    "            j += 1\n",
    "        elif j > high:\n",
    "            array[k] = aux[i]\n",
    "            i += 1\n",
    "        elif aux[i] < aux[j]:\n",
    "            array[k] = aux[i]\n",
    "            i += 1\n",
    "        else:\n",
    "            array[k] = aux[j]\n",
    "            j += 1\n",
    "\n",
    "\n",
    "def merge_sort(array):\n",
    "    def sort(array, aux, low, high):\n",
    "        if low < high:\n",
    "            mid = low + (high - low) // 2\n",
    "            \n",
    "            sort(array, aux, low, mid)\n",
    "            sort(array, aux, mid + 1, high)\n",
    "            merge(array, aux, low, mid, high)\n",
    "    \n",
    "    sort(array, array[:], 0, len(array) - 1)\n",
    "\n",
    "\n",
    "def bottom_up_merge_sort(array):\n",
    "    aux = array[:]\n",
    "    length = len(array)\n",
    "    size = 1\n",
    "    \n",
    "    while size < length:\n",
    "        low = 0\n",
    "        \n",
    "        while low < length - size:\n",
    "            mid = low + size - 1\n",
    "            high = min([low + 2 * size - 1, length - 1])\n",
    "            merge(array, aux, low, mid, high)\n",
    "            \n",
    "            low += 2 * size\n",
    "            \n",
    "        size *= 2"
   ]
  },
  {
   "cell_type": "code",
   "execution_count": 27,
   "metadata": {
    "pycharm": {}
   },
   "outputs": [
    {
     "name": "stdout",
     "output_type": "stream",
     "text": [
      "22.2 µs ± 440 ns per loop (mean ± std. dev. of 7 runs, 10000 loops each)\n",
      "24.9 µs ± 1.81 µs per loop (mean ± std. dev. of 7 runs, 10000 loops each)\n",
      "[1, 2, 2, 3, 3, 4, 5, 6, 7, 8, 9, 10]\n",
      "[1, 2, 2, 3, 3, 4, 5, 6, 7, 8, 9, 10]\n"
     ]
    }
   ],
   "source": [
    "a = [5, 3, 2, 4, 3, 8, 9, 2, 10, 6, 7, 1]\n",
    "b = [5, 3, 2, 4, 3, 8, 9, 2, 10, 6, 7, 1]\n",
    "\n",
    "%timeit merge_sort(a)\n",
    "%timeit bottom_up_merge_sort(b)\n",
    "\n",
    "print(a)\n",
    "print(b)"
   ]
  },
  {
   "cell_type": "code",
   "execution_count": 28,
   "metadata": {
    "collapsed": true,
    "jupyter": {
     "outputs_hidden": true
    },
    "pycharm": {}
   },
   "outputs": [],
   "source": [
    "from typing import TypeVar, Generic\n",
    "\n",
    "\n",
    "T = TypeVar('T')\n",
    "\n",
    "\n",
    "class Node(Generic[T]):\n",
    "    value: T\n",
    "    left: 'Node[T]'\n",
    "    right: 'Node[T]'\n",
    "    \n",
    "    def __init__(self, value: T, left: 'Node[T]' = None, right: 'Node[T]' = None):\n",
    "        self.value = value\n",
    "        self.left = left\n",
    "        self.right = right\n",
    "\n",
    "\n",
    "class BST(Generic[T]):\n",
    "    root: Node[T]\n",
    "\n",
    "    def __init__(self):\n",
    "        self.root = None\n",
    "\n",
    "    def insert(self, item: T):\n",
    "        def recur(node: Node[T]):\n",
    "            if item == node.value:\n",
    "                return\n",
    "            elif item < node.value:\n",
    "                if node.left:\n",
    "                    recur(node.left)\n",
    "                else:\n",
    "                    node.left = Node(item)\n",
    "            else:\n",
    "                if node.right:\n",
    "                    recur(node.right)\n",
    "                else:\n",
    "                    node.right = Node(item)\n",
    "\n",
    "        if self.root:\n",
    "            recur(self.root)\n",
    "        else:\n",
    "            self.root = Node(item)\n",
    "\n",
    "    def find_node_in_range(self, low: T, high: T):\n",
    "        result = []\n",
    "        \n",
    "        def is_range_overlap(new_low: T, new_high: T) -> bool:\n",
    "            return new_low <= low <= new_high <= high or \\\n",
    "                low <= new_low <= high <= new_high\n",
    "\n",
    "        def recur(node: Node[T]):\n",
    "            if node:\n",
    "                if low <= node.value <= high:\n",
    "                    result.append(node.value)\n",
    "\n",
    "                if node.left and is_range_overlap(low, node.value):\n",
    "                    recur(node.left)\n",
    "\n",
    "                if node.right and is_range_overlap(node.value, high):\n",
    "                    recur(node.right)\n",
    "        \n",
    "        recur(self.root)\n",
    "        \n",
    "        return result"
   ]
  },
  {
   "cell_type": "code",
   "execution_count": 29,
   "metadata": {
    "pycharm": {}
   },
   "outputs": [
    {
     "data": {
      "text/plain": [
       "[5, 4, 7, 8]"
      ]
     },
     "execution_count": 29,
     "metadata": {},
     "output_type": "execute_result"
    }
   ],
   "source": [
    "bst = BST()\n",
    "\n",
    "bst.insert(10)\n",
    "bst.insert(5)\n",
    "bst.insert(15)\n",
    "bst.insert(2)\n",
    "bst.insert(7)\n",
    "bst.insert(8)\n",
    "bst.insert(4)\n",
    "\n",
    "bst.find_node_in_range(4, 9)"
   ]
  },
  {
   "cell_type": "markdown",
   "metadata": {
    "pycharm": {}
   },
   "source": [
    "### Rotated Array Binary Search\n",
    "\n",
    "[10, 20, 1, 3, 6, 7, 8]"
   ]
  },
  {
   "cell_type": "code",
   "execution_count": 30,
   "metadata": {
    "collapsed": true,
    "jupyter": {
     "outputs_hidden": true
    },
    "pycharm": {}
   },
   "outputs": [],
   "source": [
    "import math\n",
    "\n",
    "\n",
    "def binary_search_rotated_array(ls):\n",
    "    def search_mid_point(left, right):\n",
    "        while left <= right:\n",
    "            mid = math.floor(right - left)\n",
    "\n",
    "            if ls[mid - 1] > ls[mid] < ls[mid + 1]:\n",
    "                return ls[:mid], ls[mid:] \n",
    "            elif ls[mid - 1] > ls[mid]:\n",
    "                left = mid + 1\n",
    "            else:\n",
    "                right = mid - 1\n",
    "    \n",
    "    print(search_mid_point(0, len(ls) - 1))\n",
    "    \n",
    "    # then do the simple binary search on subarry"
   ]
  },
  {
   "cell_type": "code",
   "execution_count": 31,
   "metadata": {
    "pycharm": {}
   },
   "outputs": [
    {
     "name": "stdout",
     "output_type": "stream",
     "text": [
      "([10, 20], [1, 3, 6, 7, 8])\n"
     ]
    }
   ],
   "source": [
    "binary_search_rotated_array([10, 20, 1, 3, 6, 7, 8])"
   ]
  },
  {
   "cell_type": "markdown",
   "metadata": {
    "pycharm": {}
   },
   "source": [
    "## Weighted Random Numbers"
   ]
  },
  {
   "cell_type": "code",
   "execution_count": 32,
   "metadata": {
    "collapsed": true,
    "jupyter": {
     "outputs_hidden": true
    },
    "pycharm": {}
   },
   "outputs": [],
   "source": [
    "import random\n",
    "\n",
    "\n",
    "def counter(hashtable):\n",
    "    counter: int = sum([value for value in hashtable.values()])\n",
    "    random_int: int = random.randint(1, counter)\n",
    "    current_sum: int = 0\n",
    "    prev_value: str = None\n",
    "\n",
    "    for key, value in hashtable.items():\n",
    "        current_sum += value\n",
    "        \n",
    "        if current_sum >= random_int:\n",
    "            return key\n",
    "        \n",
    "        prev_value = key\n",
    "\n",
    "    return prev_value"
   ]
  },
  {
   "cell_type": "code",
   "execution_count": 33,
   "metadata": {
    "pycharm": {}
   },
   "outputs": [
    {
     "name": "stdout",
     "output_type": "stream",
     "text": [
      "{'C': 207, 'D': 326, 'E': 240, 'A': 108, 'B': 119}\n"
     ]
    }
   ],
   "source": [
    "hashtable = {}\n",
    "\n",
    "for i in range(1000):\n",
    "    result = counter({'A': 1, 'B': 1, 'C': 2, 'D': 3, 'E': 2})\n",
    "    \n",
    "    if hashtable.get(result):\n",
    "        hashtable[result] += 1\n",
    "    else:\n",
    "        hashtable[result] = 1\n",
    "\n",
    "print(hashtable)"
   ]
  },
  {
   "cell_type": "markdown",
   "metadata": {
    "pycharm": {}
   },
   "source": [
    "### Modify the array by moving all the zeros to the beginning (left side). The order of other elements doesn’t matter.\n",
    "\n",
    "Let’s have an example. For array [1, 2, 0, 3, 0, 1, 2], the program can output [0, 0, 1, 2, 3, 1, 2,]."
   ]
  },
  {
   "cell_type": "code",
   "execution_count": 34,
   "metadata": {
    "collapsed": true,
    "jupyter": {
     "outputs_hidden": true
    },
    "pycharm": {}
   },
   "outputs": [],
   "source": [
    "def move_zeros(ls):\n",
    "    i: int = 0\n",
    "        \n",
    "    while a[i] == 0:\n",
    "        i += 1\n",
    "\n",
    "    j: int = i + 1\n",
    "\n",
    "    while j < len(ls):\n",
    "        if a[j] == 0:\n",
    "            a[i], a[j] = a[j], a[i]\n",
    "            i += 1\n",
    "        j += 1"
   ]
  },
  {
   "cell_type": "code",
   "execution_count": 35,
   "metadata": {
    "pycharm": {}
   },
   "outputs": [
    {
     "data": {
      "text/plain": [
       "[0, 0, 1, 3, 2, 1, 2]"
      ]
     },
     "execution_count": 35,
     "metadata": {},
     "output_type": "execute_result"
    }
   ],
   "source": [
    "a = [1, 2, 0, 3, 0, 1, 2]\n",
    "move_zeros(a)\n",
    "a"
   ]
  },
  {
   "cell_type": "markdown",
   "metadata": {
    "pycharm": {}
   },
   "source": [
    "### Maximum Sum of Non-adjacent Elements\n",
    "\n",
    "Given an array of integers, find a maximum sum of non-adjacent elements.\n",
    "For example, inputs [1, 0, 3, 9, 2] should return 10 (1 + 9)."
   ]
  },
  {
   "cell_type": "code",
   "execution_count": 36,
   "metadata": {
    "collapsed": true,
    "jupyter": {
     "outputs_hidden": true
    },
    "pycharm": {}
   },
   "outputs": [],
   "source": [
    "from typing import List, Dict, Any\n",
    "\n",
    "\n",
    "def maximum_sum(ls: List[int]) -> Dict[str, Any]:\n",
    "    hashtable: Dict[str, Any] = {\n",
    "        'sum': 0,\n",
    "        'result': []\n",
    "    }\n",
    "\n",
    "    def recur(ls: List[int], acc: List[int]):\n",
    "        if not ls and hashtable['sum'] < sum(acc):\n",
    "            hashtable['sum'] = sum(acc)\n",
    "            hashtable['result'] = acc\n",
    "        else:\n",
    "            for index, value in enumerate(ls):\n",
    "                recur(ls[index + 2:], acc + [value])\n",
    "\n",
    "    recur(ls, [])\n",
    "    \n",
    "    return hashtable\n",
    "\n",
    "\n",
    "def maximum_sum_dp(ls: List[int]) -> int:\n",
    "    mem: Dict[int, int] = {\n",
    "        0: ls[0],\n",
    "        1: max([ls[0], ls[1]])\n",
    "    }\n",
    "\n",
    "    def recur(index):\n",
    "        if not mem.get(index):\n",
    "            mem[index] = max([recur(index - 1), ls[index] + recur(index - 2)])\n",
    "        \n",
    "        return mem[index]\n",
    "    \n",
    "    return recur(len(ls) - 1)"
   ]
  },
  {
   "cell_type": "code",
   "execution_count": 37,
   "metadata": {
    "pycharm": {}
   },
   "outputs": [
    {
     "data": {
      "text/plain": [
       "{'sum': 10, 'result': [1, 9]}"
      ]
     },
     "execution_count": 37,
     "metadata": {},
     "output_type": "execute_result"
    }
   ],
   "source": [
    "maximum_sum([1, 0, 3, 9, 2])"
   ]
  },
  {
   "cell_type": "code",
   "execution_count": 38,
   "metadata": {
    "pycharm": {}
   },
   "outputs": [
    {
     "data": {
      "text/plain": [
       "10"
      ]
     },
     "execution_count": 38,
     "metadata": {},
     "output_type": "execute_result"
    }
   ],
   "source": [
    "maximum_sum_dp([1, 0, 3, 9, 2])"
   ]
  },
  {
   "cell_type": "markdown",
   "metadata": {
    "pycharm": {}
   },
   "source": [
    "## Longest repeated substring - Brute force"
   ]
  },
  {
   "cell_type": "code",
   "execution_count": 39,
   "metadata": {
    "pycharm": {}
   },
   "outputs": [],
   "source": [
    "# brute-force\n",
    "\n",
    "def common_substring(txt: str) -> str:\n",
    "    N, result = len(txt), []\n",
    "    i = 0\n",
    "    \n",
    "    while i < N - 1:\n",
    "        j = i + 1\n",
    "        \n",
    "        while j < N:\n",
    "            while j < N and txt[i] != txt[j]:\n",
    "                j += 1\n",
    "            \n",
    "            if j == N:\n",
    "                break\n",
    "\n",
    "            offset = 1\n",
    "            \n",
    "            while i + offset < j and j + offset < N and txt[i + offset] == txt[j + offset]:\n",
    "                offset += 1\n",
    "        \n",
    "            if len(result) < offset:\n",
    "                result = txt[i:i + offset]\n",
    "        \n",
    "            j += 1\n",
    "\n",
    "        i += 1\n",
    "    \n",
    "    return result"
   ]
  },
  {
   "cell_type": "code",
   "execution_count": 40,
   "metadata": {
    "pycharm": {}
   },
   "outputs": [
    {
     "data": {
      "text/plain": [
       "\" we're going to look at \""
      ]
     },
     "execution_count": 40,
     "metadata": {},
     "output_type": "execute_result"
    }
   ],
   "source": [
    "common_substring(\"\"\"finally Finally we're going to look at suffix arrays and string processing using this data structure that has really played a very important role in, string processing applications that would not otherwise be possible. To get a feeling for the idea, we're going to look at a really old idea that you're actually familiar with called keyword in context search. And the idea is that you're given a text, a huge X and what you want to do is pre-process it to enable fast substring search. That is, you want a client to be able to give a query string and then you want to give all occurrences of that query string in context. So, if you look for the word, search, it will give all the occurrences of where the word search occurs in context. Or better thing is another one. And that's a, a very common operation. One, you're certainly familiar with it\"\"\")"
   ]
  },
  {
   "cell_type": "code",
   "execution_count": 41,
   "metadata": {
    "pycharm": {}
   },
   "outputs": [],
   "source": [
    "# brute-force with backup\n",
    "\n",
    "def substring_search(txt, pattern):\n",
    "    N, M = len(txt), len(pattern)\n",
    "    i, j = 0, 0\n",
    "    \n",
    "    while i < N and j < M:\n",
    "        if txt[i] == pattern[j]:\n",
    "            j += 1\n",
    "        else:\n",
    "            i -= j\n",
    "            j = 0\n",
    "\n",
    "        i += 1\n",
    "    \n",
    "    return i - M if j == M else -1"
   ]
  },
  {
   "cell_type": "code",
   "execution_count": 42,
   "metadata": {
    "pycharm": {}
   },
   "outputs": [
    {
     "name": "stdout",
     "output_type": "stream",
     "text": [
      "6.34 µs ± 172 ns per loop (mean ± std. dev. of 7 runs, 100000 loops each)\n"
     ]
    }
   ],
   "source": [
    "%timeit substring_search(\"Hello world. I am testing and writing a python test\", \"writing\")"
   ]
  },
  {
   "cell_type": "code",
   "execution_count": 43,
   "metadata": {
    "pycharm": {}
   },
   "outputs": [],
   "source": [
    "import string"
   ]
  },
  {
   "cell_type": "code",
   "execution_count": 44,
   "metadata": {
    "pycharm": {}
   },
   "outputs": [
    {
     "data": {
      "text/plain": [
       "'abcdefghijklmnopqrstuvwxyzABCDEFGHIJKLMNOPQRSTUVWXYZ \\t\\n\\r\\x0b\\x0c'"
      ]
     },
     "execution_count": 44,
     "metadata": {},
     "output_type": "execute_result"
    }
   ],
   "source": [
    "string.ascii_letters + string.whitespace"
   ]
  },
  {
   "cell_type": "code",
   "execution_count": 45,
   "metadata": {
    "pycharm": {}
   },
   "outputs": [],
   "source": [
    "from collections import defaultdict\n",
    "\n",
    "\n",
    "CHARACTER_SETS = string.ascii_letters + string.whitespace\n",
    "\n",
    "\n",
    "def print_dfa(dfa):\n",
    "    print(\"---------------------\")\n",
    "    for k, v in dfa.items():\n",
    "        print(k, \" \".join(str(index) for index in v))\n",
    "    print(\"---------------------\")\n",
    "\n",
    "\n",
    "# efficient algorithm for constructing DFA. Original by Knuth-Morris-Pratt\n",
    "def build_dfa(pattern):\n",
    "    M = len(pattern)\n",
    "    \n",
    "    dfa = defaultdict(lambda: [0] * M)\n",
    "    \n",
    "    dfa[pattern[0]][0] = 1\n",
    "    \n",
    "    X, j = 0, 1\n",
    "\n",
    "    while j < M:\n",
    "        for c in CHARACTER_SETS:\n",
    "            # copy mismatch cases\n",
    "            dfa[c][j] = dfa[c][X]\n",
    "\n",
    "        current_char = pattern[j]\n",
    "\n",
    "        # set match case\n",
    "        dfa[current_char][j] = j + 1\n",
    "        # update restart state\n",
    "        X = dfa[current_char][X]\n",
    "        j += 1\n",
    "    \n",
    "    return dfa\n",
    "\n",
    "\n",
    "def substring_search(txt, pattern):\n",
    "    N, M = len(txt), len(pattern)\n",
    "    i, j = 0, 0\n",
    "    dfa = build_dfa(pattern)\n",
    "        \n",
    "    while i < N and j < M:\n",
    "        j = dfa[txt[i]][j]\n",
    "        i += 1\n",
    "\n",
    "    return i - M if j == M else -1"
   ]
  },
  {
   "cell_type": "code",
   "execution_count": 46,
   "metadata": {
    "pycharm": {}
   },
   "outputs": [
    {
     "name": "stdout",
     "output_type": "stream",
     "text": [
      "62.2 µs ± 4.35 µs per loop (mean ± std. dev. of 7 runs, 10000 loops each)\n"
     ]
    }
   ],
   "source": [
    "%timeit substring_search(\"Hello world. I am testing and writing a python test\", \"writing\")"
   ]
  },
  {
   "cell_type": "code",
   "execution_count": 47,
   "metadata": {
    "pycharm": {}
   },
   "outputs": [],
   "source": [
    "# Boyer-Moore skip string algorithm\n",
    "\n",
    "\n",
    "CHARACTER_SETS = string.ascii_letters + string.whitespace + string.punctuation\n",
    "\n",
    "\n",
    "def compute_rightmost_occurence(pattern):\n",
    "    right = {}\n",
    "    \n",
    "    for c in CHARACTER_SETS:\n",
    "        right[c] = -1\n",
    "    \n",
    "    for j in range(len(pattern)):\n",
    "        right[pattern[j]] = j\n",
    "    \n",
    "    return right\n",
    "\n",
    "\n",
    "def substring_search(txt, pattern):\n",
    "    N, M = len(txt), len(pattern)\n",
    "    i = 0\n",
    "    \n",
    "    skiplist = compute_rightmost_occurence(pattern)\n",
    "    \n",
    "    while i <= N - M:\n",
    "        skip, j = 0, M - 1\n",
    "        \n",
    "        while j >= 0:\n",
    "            if txt[i + j] != pattern[j]:\n",
    "                skip = max(1, j - skiplist[txt[i + j]])\n",
    "                break\n",
    "\n",
    "            j -= 1\n",
    "\n",
    "        if skip == 0:\n",
    "            return i\n",
    "\n",
    "        i += skip\n",
    "    \n",
    "    return -1"
   ]
  },
  {
   "cell_type": "code",
   "execution_count": 48,
   "metadata": {
    "pycharm": {}
   },
   "outputs": [
    {
     "name": "stdout",
     "output_type": "stream",
     "text": [
      "10.9 µs ± 324 ns per loop (mean ± std. dev. of 7 runs, 100000 loops each)\n"
     ]
    }
   ],
   "source": [
    "%timeit substring_search(\"Hello world. I am testing and writing a python test\", \"writing\")"
   ]
  },
  {
   "cell_type": "markdown",
   "metadata": {
    "pycharm": {}
   },
   "source": [
    "In a school, the students were playing a game.Initially everyone is standing in a circular path in the school lawn.The student at index 1 is standing next to student at index n and before the student at index 2.All the girls need to stand together to win the game.The girls had influencial power to influence the boys to swap the positions.Help the Girls decide the minimum number of swaps they have to do so that all of them stand together.\n",
    "example: BBGBGBG\n",
    "BBBBGGG\n",
    "answer=1"
   ]
  },
  {
   "cell_type": "code",
   "execution_count": 49,
   "metadata": {
    "pycharm": {}
   },
   "outputs": [
    {
     "name": "stdout",
     "output_type": "stream",
     "text": [
      "0\n"
     ]
    }
   ],
   "source": [
    "def solution(seq):\n",
    "    total_girls = sum(1 for ch in seq if ch == 'G')\n",
    "\n",
    "    i = 0\n",
    "    ans = total_girls\n",
    "    total_boy_so_far = None\n",
    "\n",
    "    while i < len(seq):\n",
    "        if total_boy_so_far is None:\n",
    "            total_boy = sum(1 for idx in range(i, i + total_girls) if seq[idx if idx < len(seq) else idx - len(seq)] == 'B')\n",
    "        else:\n",
    "            last_index, next_index = i - 1, i + total_girls\n",
    "\n",
    "            if next_index >= len(seq):\n",
    "                next_index -= len(seq)\n",
    "\n",
    "            total_boy = total_boy_so_far - (seq[last_index] == 'B') + (seq[next_index] == 'B')\n",
    "\n",
    "        i += 1\n",
    "        ans = min(ans, total_boy)\n",
    "        total_boy_so_far = total_boy\n",
    "\n",
    "    print(ans)\n",
    "\n",
    "solution('GBBBG')"
   ]
  },
  {
   "cell_type": "code",
   "execution_count": 3,
   "metadata": {
    "pycharm": {}
   },
   "outputs": [],
   "source": [
    "def MatrixChainOrder(p, n): \n",
    "    # For simplicity of the program, one extra row and one \n",
    "    # extra column are allocated in m[][].  0th row and 0th \n",
    "    # column of m[][] are not used \n",
    "    m = [[0] * n  for _ in range(n)] \n",
    "\n",
    "    # m[i,j] = Minimum number of scalar multiplications needed \n",
    "    # to compute the matrix A[i]A[i+1]...A[j] = A[i..j] where \n",
    "    # dimension of A[i] is p[i-1] x p[i] \n",
    "\n",
    "    # cost is zero when multiplying one matrix. \n",
    "  \n",
    "    # L is chain length. \n",
    "    for L in range(2, n): \n",
    "        for i in range(1, n - L + 1): \n",
    "            j = i + L - 1\n",
    "            m[i][j] = float('inf')\n",
    "\n",
    "            for k in range(i, j):\n",
    "                # cost/scalar multiplications\n",
    "                m[i][j] = min(m[i][j], m[i][k] + m[k+1][j] + p[i-1]*p[k]*p[j])\n",
    "    return m[1][n-1]"
   ]
  },
  {
   "cell_type": "code",
   "execution_count": 4,
   "metadata": {},
   "outputs": [
    {
     "name": "stdout",
     "output_type": "stream",
     "text": [
      "1 2 2\n",
      "2 3 2\n",
      "1 3 3\n"
     ]
    },
    {
     "data": {
      "text/plain": [
       "18"
      ]
     },
     "execution_count": 4,
     "metadata": {},
     "output_type": "execute_result"
    }
   ],
   "source": [
    "MatrixChainOrder([1, 2, 3 ,4], 4)"
   ]
  },
  {
   "cell_type": "code",
   "execution_count": null,
   "metadata": {},
   "outputs": [],
   "source": [
    "def MatrixChainOrder(p, i, j):\n",
    "    if i == j:\n",
    "        return 0\n",
    "\n",
    "    _min = sys.maxsize\n",
    "\n",
    "    # place parenthesis at different places\n",
    "    # between first and last matrix,\n",
    "    # recursively calculate count of\n",
    "    # multiplications for each parenthesis\n",
    "    # placement and return the minimum count\n",
    "    for k in range(i, j):\n",
    "        count = (MatrixChainOrder(p, i, k)\n",
    "             + MatrixChainOrder(p, k+1, j)\n",
    "                   + p[i-1] * p[k] * p[j])\n",
    "\n",
    "        if count < _min:\n",
    "            _min = count\n",
    "\n",
    "    # Return minimum count\n",
    "    return _min"
   ]
  }
 ],
 "metadata": {
  "kernelspec": {
   "display_name": "Python 3",
   "language": "python",
   "name": "python3"
  },
  "language_info": {
   "codemirror_mode": {
    "name": "ipython",
    "version": 3
   },
   "file_extension": ".py",
   "mimetype": "text/x-python",
   "name": "python",
   "nbconvert_exporter": "python",
   "pygments_lexer": "ipython3",
   "version": "3.7.4"
  }
 },
 "nbformat": 4,
 "nbformat_minor": 4
}
