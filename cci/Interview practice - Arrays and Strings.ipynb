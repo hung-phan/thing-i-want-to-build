{
 "cells": [
  {
   "cell_type": "markdown",
   "metadata": {
    "deletable": true,
    "editable": true
   },
   "source": [
    "## Arrays and Strings\n",
    "\n",
    "### 1.1 Is Unique: Implement an algorithm to determine if a string has all unique characters. What if you cannot use additional data structures?\n",
    "\n",
    "1 - Use hash table to do the counter for all characters in the given string, then iterate through them and check for value different from 1\n",
    "\n",
    "2 - If we cannot use additional data structure, we can come up with the solution of 2 pointers, to check for the duplication"
   ]
  },
  {
   "cell_type": "code",
   "execution_count": 1,
   "metadata": {
    "collapsed": true,
    "deletable": true,
    "editable": true
   },
   "outputs": [],
   "source": [
    "from typing import Dict\n",
    "\n",
    "def is_unique(given_string: str) -> bool:\n",
    "    hash_table: Dict[str, bool] = {}\n",
    "    \n",
    "    for val in given_string:\n",
    "        if hash_table.get(val):\n",
    "            return False\n",
    "        else:\n",
    "            hash_table[val] = True\n",
    "    return True"
   ]
  },
  {
   "cell_type": "code",
   "execution_count": 16,
   "metadata": {
    "collapsed": false,
    "deletable": true,
    "editable": true
   },
   "outputs": [],
   "source": [
    "from collections import Counter\n",
    "\n",
    "def is_unique(given_string: str) -> bool:\n",
    "    return all([val == 1 for val in Counter(given_string).values()])"
   ]
  },
  {
   "cell_type": "markdown",
   "metadata": {
    "deletable": true,
    "editable": true
   },
   "source": [
    "The complexity of this could be N"
   ]
  },
  {
   "cell_type": "code",
   "execution_count": 12,
   "metadata": {
    "collapsed": false,
    "deletable": true,
    "editable": true
   },
   "outputs": [],
   "source": [
    "def is_unique(given_string: str) -> bool:\n",
    "    if len(given_string) <= 1:\n",
    "        return True\n",
    "    else:\n",
    "        pointer_1: int = 0\n",
    "        pointer_2: int = 1\n",
    "        length: int = len(given_string)\n",
    "        \n",
    "        for pointer_1 in range(0, length - 1):\n",
    "            for pointer_2 in range(pointer_1 + 1, length):\n",
    "                if given_string[pointer_1] == given_string[pointer_2]:\n",
    "                    return False\n",
    "        return True"
   ]
  },
  {
   "cell_type": "markdown",
   "metadata": {
    "deletable": true,
    "editable": true
   },
   "source": [
    "The complexity of this could be N^2"
   ]
  },
  {
   "cell_type": "code",
   "execution_count": 17,
   "metadata": {
    "collapsed": false,
    "deletable": true,
    "editable": true
   },
   "outputs": [
    {
     "data": {
      "text/plain": [
       "True"
      ]
     },
     "execution_count": 17,
     "metadata": {},
     "output_type": "execute_result"
    }
   ],
   "source": [
    "is_unique('abcdef')"
   ]
  },
  {
   "cell_type": "code",
   "execution_count": 18,
   "metadata": {
    "collapsed": false,
    "deletable": true,
    "editable": true
   },
   "outputs": [
    {
     "data": {
      "text/plain": [
       "False"
      ]
     },
     "execution_count": 18,
     "metadata": {},
     "output_type": "execute_result"
    }
   ],
   "source": [
    "is_unique('abcdebf')"
   ]
  },
  {
   "cell_type": "markdown",
   "metadata": {
    "deletable": true,
    "editable": true
   },
   "source": [
    "### 1.2 Check permutation: Given two strings, write a method to decide if one is a permutation of the other.\n",
    "\n",
    "The first approach is using hash_table to contain all the characters in a, and subtract it with all the characters in b, then check for any values in hash_table that is different from 0"
   ]
  },
  {
   "cell_type": "code",
   "execution_count": 47,
   "metadata": {
    "collapsed": true,
    "deletable": true,
    "editable": true
   },
   "outputs": [],
   "source": [
    "from typing import Dict\n",
    "\n",
    "def is_permutation(a: str, b: str) -> bool:\n",
    "    hash_table: Dict[str, int] = {}\n",
    "\n",
    "    for val in a:\n",
    "        hash_table[val] = hash_table.get(val, 0) + 1\n",
    "    \n",
    "    for val in b:\n",
    "        if hash_table.get(val):\n",
    "            hash_table[val] = hash_table[val] - 1\n",
    "            \n",
    "            if hash_table[val] < 0:\n",
    "                return False\n",
    "        else:\n",
    "            return False\n",
    "\n",
    "    return all([val == 0 for val in hash_table.values()])"
   ]
  },
  {
   "cell_type": "code",
   "execution_count": 48,
   "metadata": {
    "collapsed": false,
    "deletable": true,
    "editable": true
   },
   "outputs": [
    {
     "data": {
      "text/plain": [
       "True"
      ]
     },
     "execution_count": 48,
     "metadata": {},
     "output_type": "execute_result"
    }
   ],
   "source": [
    "is_permutation('abcdef', 'cdbeaf')"
   ]
  },
  {
   "cell_type": "code",
   "execution_count": 49,
   "metadata": {
    "collapsed": false,
    "deletable": true,
    "editable": true
   },
   "outputs": [
    {
     "data": {
      "text/plain": [
       "False"
      ]
     },
     "execution_count": 49,
     "metadata": {},
     "output_type": "execute_result"
    }
   ],
   "source": [
    "is_permutation('abc', 'baf')"
   ]
  },
  {
   "cell_type": "markdown",
   "metadata": {
    "deletable": true,
    "editable": true
   },
   "source": [
    "### 1.4 Palindrome Permutation: Given a string, write a function to check if it is a permutation of a palindrome. A palindrome is a word or phrase that is the same forwards and backwards. A permutation is a rearrangement of letters.The palindrome does not need to be limited to just dictionary words.\n",
    "\n",
    "EXAMPLE\n",
    "Input: Tact Coa\n",
    "Output: True (permutations: \"taco cat\". \"atco cta\". etc.)\n",
    "\n",
    "The approach is building a hash_table with character (ignore the whitespaces) and keep track of the length of all values.\n",
    "\n",
    "if the length is even, all the values in the hash_table must be divisible for 2\n",
    "else there must be only 1 number is odd, and the others are even\n",
    "\n",
    "'acbbbac' -> {a: 2, c: 2, b: 3}"
   ]
  },
  {
   "cell_type": "code",
   "execution_count": 51,
   "metadata": {
    "collapsed": true,
    "deletable": true,
    "editable": true
   },
   "outputs": [],
   "source": [
    "from typing import Dict\n",
    "\n",
    "def has_palindrome_permutation(given_string: str) -> bool:\n",
    "    hash_table: Dict[str, int] = {}\n",
    "    num_of_chars: int = 0\n",
    "    \n",
    "    for val in given_string.lower():\n",
    "        if val != ' ':\n",
    "            hash_table[val] = hash_table.get(val, 0) + 1\n",
    "            num_of_chars += 1\n",
    "\n",
    "    if num_of_chars % 2 == 0:\n",
    "        return all([val % 2 == 0 for val in hash_table.values()])\n",
    "    else:\n",
    "        has_1_odd_number: bool = False\n",
    "        \n",
    "        for val in hash_table.values():\n",
    "            if val % 2 != 0:\n",
    "                if has_1_odd_number:\n",
    "                    return False\n",
    "                else:\n",
    "                    has_1_odd_number = True\n",
    "        return True"
   ]
  },
  {
   "cell_type": "code",
   "execution_count": 52,
   "metadata": {
    "collapsed": false,
    "deletable": true,
    "editable": true
   },
   "outputs": [
    {
     "data": {
      "text/plain": [
       "True"
      ]
     },
     "execution_count": 52,
     "metadata": {},
     "output_type": "execute_result"
    }
   ],
   "source": [
    "has_palindrome_permutation('Tact Coa')"
   ]
  },
  {
   "cell_type": "code",
   "execution_count": 58,
   "metadata": {
    "collapsed": false,
    "deletable": true,
    "editable": true
   },
   "outputs": [
    {
     "data": {
      "text/plain": [
       "False"
      ]
     },
     "execution_count": 58,
     "metadata": {},
     "output_type": "execute_result"
    }
   ],
   "source": [
    "has_palindrome_permutation('tcaatact')"
   ]
  },
  {
   "cell_type": "markdown",
   "metadata": {
    "deletable": true,
    "editable": true
   },
   "source": [
    "### 1.5 One Away: There are three types of edits that can be performed on strings: insert a character, remove a character, or replace a character. Given two strings, write a function to check if they are one edit (or zero edits) away.\n",
    "\n",
    "EXAMPLE\n",
    "pale, ple -> true\n",
    "pales, pale -> true\n",
    "pale, bale -> true\n",
    "pale, bake -> false\n",
    "\n",
    "Solution: we can divide it into 3 cases and handle each case.\n",
    "\n",
    "1. Replace character case or zero edit, if len(a) - len(b) == 0, loop for i -> len(a), if we find the 1 different then we set the flag for found, if the next time we find the found, we know it is more than one edit, after the for loop we return True\n",
    "2. Insert or Remove a character, if abs(len(a) - len(b)) == 1, use 2 pointer to check for the difference, after the end of the loop return True"
   ]
  },
  {
   "cell_type": "code",
   "execution_count": 42,
   "metadata": {
    "collapsed": true,
    "deletable": true,
    "editable": true
   },
   "outputs": [],
   "source": [
    "def is_one_away(a: str, b: str) -> bool:\n",
    "    if len(a) - len(b) == 0:\n",
    "        found: bool = False\n",
    "        for i in range(len(a)):\n",
    "            if a[i] != b[i]:\n",
    "                if found:\n",
    "                    return False\n",
    "\n",
    "                found = True\n",
    "\n",
    "        return True\n",
    "    elif abs(len(a) - len(b)) == 1:\n",
    "        i: int = 0\n",
    "        j: int = 0\n",
    "        found: bool = False\n",
    "        \n",
    "        while i < len(a) and j < len(b):\n",
    "            if a[i] != b[j]:\n",
    "                if found:\n",
    "                    return False\n",
    "\n",
    "                found = True\n",
    "\n",
    "                if len(a) < len(b):\n",
    "                    i += 1\n",
    "                    j += 2\n",
    "                else:\n",
    "                    i += 2\n",
    "                    j += 1\n",
    "            else:\n",
    "                i += 1\n",
    "                j += 1\n",
    "\n",
    "        return True\n",
    "    else:\n",
    "        return False"
   ]
  },
  {
   "cell_type": "code",
   "execution_count": 43,
   "metadata": {
    "collapsed": false,
    "deletable": true,
    "editable": true
   },
   "outputs": [
    {
     "data": {
      "text/plain": [
       "True"
      ]
     },
     "execution_count": 43,
     "metadata": {},
     "output_type": "execute_result"
    }
   ],
   "source": [
    "is_one_away('pale', 'ple')"
   ]
  },
  {
   "cell_type": "code",
   "execution_count": 44,
   "metadata": {
    "collapsed": false,
    "deletable": true,
    "editable": true
   },
   "outputs": [
    {
     "data": {
      "text/plain": [
       "True"
      ]
     },
     "execution_count": 44,
     "metadata": {},
     "output_type": "execute_result"
    }
   ],
   "source": [
    "is_one_away('pales', 'pale')"
   ]
  },
  {
   "cell_type": "code",
   "execution_count": 45,
   "metadata": {
    "collapsed": false,
    "deletable": true,
    "editable": true,
    "scrolled": true
   },
   "outputs": [
    {
     "data": {
      "text/plain": [
       "True"
      ]
     },
     "execution_count": 45,
     "metadata": {},
     "output_type": "execute_result"
    }
   ],
   "source": [
    "is_one_away('pale', 'bale')"
   ]
  },
  {
   "cell_type": "code",
   "execution_count": 46,
   "metadata": {
    "collapsed": false,
    "deletable": true,
    "editable": true
   },
   "outputs": [
    {
     "data": {
      "text/plain": [
       "False"
      ]
     },
     "execution_count": 46,
     "metadata": {},
     "output_type": "execute_result"
    }
   ],
   "source": [
    "is_one_away('pale', 'bake')"
   ]
  },
  {
   "cell_type": "markdown",
   "metadata": {
    "deletable": true,
    "editable": true
   },
   "source": [
    "### 1.6 String Compression: Implement a method to perform basic string compression using the counts of repeated characters. For example, the string aabcccccaaa would become a2b1c5a3. If the \"compressed\" string would not become smaller than the original string, your method should return the original string. You can assume the string has only uppercase and lowercase letters (a - z).\n",
    "\n",
    "Solution: Create prev_val, and counter. Loop through the given string to count for repeated character"
   ]
  },
  {
   "cell_type": "code",
   "execution_count": 72,
   "metadata": {
    "collapsed": false,
    "deletable": true,
    "editable": true
   },
   "outputs": [],
   "source": [
    "from typing import Optional, List\n",
    "\n",
    "def string_compression(given_string: str) -> str:\n",
    "    result: List[str] = []\n",
    "    prev_val: Optional[str] = None\n",
    "    counter: int\n",
    "\n",
    "    for val in given_string:\n",
    "        if val != prev_val:\n",
    "            if prev_val is not None:\n",
    "                result.extend(list(str(counter)))\n",
    "                \n",
    "            result.append(val)\n",
    "            prev_val = val\n",
    "            counter = 1\n",
    "        else:\n",
    "            counter += 1\n",
    "\n",
    "    result.extend(list(str(counter)))\n",
    "\n",
    "    return ''.join(result) if len(result) < len(given_string) else given_string"
   ]
  },
  {
   "cell_type": "code",
   "execution_count": 73,
   "metadata": {
    "collapsed": false,
    "deletable": true,
    "editable": true
   },
   "outputs": [
    {
     "data": {
      "text/plain": [
       "'a2b1c5a3'"
      ]
     },
     "execution_count": 73,
     "metadata": {},
     "output_type": "execute_result"
    }
   ],
   "source": [
    "string_compression('aabcccccaaa')"
   ]
  },
  {
   "cell_type": "code",
   "execution_count": 76,
   "metadata": {
    "collapsed": false,
    "deletable": true,
    "editable": true
   },
   "outputs": [
    {
     "data": {
      "text/plain": [
       "'abbreviation'"
      ]
     },
     "execution_count": 76,
     "metadata": {},
     "output_type": "execute_result"
    }
   ],
   "source": [
    "string_compression('abbreviation')"
   ]
  },
  {
   "cell_type": "markdown",
   "metadata": {
    "deletable": true,
    "editable": true
   },
   "source": [
    "### 1.7 Rotate Matrix: Given an image represented by an NxN matrix, where each pixel in the image is 4 bytes, write a method to rotate the image by 90 degrees. Can you do this in place?"
   ]
  },
  {
   "cell_type": "code",
   "execution_count": 1,
   "metadata": {
    "collapsed": true,
    "deletable": true,
    "editable": true
   },
   "outputs": [],
   "source": [
    "from typing import List\n",
    "\n",
    "def rotate_matrix(matrix: List[List[int]]):\n",
    "    length = len(matrix)\n",
    "    \n",
    "    for i in range(length // 2):\n",
    "        for j in range(i, length - i - 1):\n",
    "            temp = matrix[i][j]\n",
    "            \n",
    "            # left_to_right = (i, j)\n",
    "            # top_to_bottom = (j, length - i - 1)\n",
    "            # right_to_left = (length - i - 1, length - j - 1)\n",
    "            # bottom_to_top = (length - j - 1, i)\n",
    "            \n",
    "            matrix[i][j] = matrix[length - j - 1][i];\n",
    "            matrix[length - j - 1][i] = matrix[length - i - 1][length - j - 1]\n",
    "            matrix[length - i - 1][length - j - 1] = matrix[j][length - i - 1]\n",
    "            matrix[j][length - i - 1] = temp"
   ]
  },
  {
   "cell_type": "code",
   "execution_count": 2,
   "metadata": {
    "collapsed": false,
    "deletable": true,
    "editable": true
   },
   "outputs": [
    {
     "name": "stdout",
     "output_type": "stream",
     "text": [
      "[21, 16, 11, 6, 1]\n",
      "[22, 17, 12, 7, 2]\n",
      "[23, 18, 13, 8, 3]\n",
      "[24, 19, 14, 9, 4]\n",
      "[25, 20, 15, 10, 5]\n"
     ]
    }
   ],
   "source": [
    "matrix = [\n",
    "    [1,  2,  3,  4,  5],\n",
    "    [6,  7,  8,  9,  10],\n",
    "    [11, 12, 13, 14, 15],\n",
    "    [16, 17, 18, 19, 20],\n",
    "    [21, 22, 23, 24, 25]\n",
    "]\n",
    "\n",
    "rotate_matrix(matrix)\n",
    "\n",
    "            \n",
    "for array in matrix:\n",
    "    print(array)"
   ]
  },
  {
   "cell_type": "markdown",
   "metadata": {
    "deletable": true,
    "editable": true
   },
   "source": [
    "### 1.8 Zero Matrix: Write an algorithm such that if an element in an MxN matrix is 0, its entire row and column are set to O."
   ]
  },
  {
   "cell_type": "code",
   "execution_count": 82,
   "metadata": {
    "collapsed": true,
    "deletable": true,
    "editable": true
   },
   "outputs": [],
   "source": [
    "from typing import List, Tuple, Set\n",
    "\n",
    "def zero_matrix(matrix: List[List[int]]):\n",
    "    stack: Set[Tuple[int, int]] = set()\n",
    "    m = len(matrix)\n",
    "    n = len(matrix[0])\n",
    "\n",
    "    def append_all_data(row: int, column: int):\n",
    "        stack.add((row, column))\n",
    "\n",
    "        for k in range(m):\n",
    "            stack.add((k, column))\n",
    "\n",
    "        for k in range(n):\n",
    "            stack.add((row, k))\n",
    "\n",
    "    for i in range(m):\n",
    "        for j in range(n):\n",
    "            if matrix[i][j] == 0:\n",
    "                append_all_data(i, j)\n",
    "\n",
    "    for position in stack:\n",
    "        i, j = position\n",
    "\n",
    "        matrix[i][j] = 0"
   ]
  },
  {
   "cell_type": "code",
   "execution_count": 83,
   "metadata": {
    "collapsed": false,
    "deletable": true,
    "editable": true
   },
   "outputs": [
    {
     "name": "stdout",
     "output_type": "stream",
     "text": [
      "[1, 2, 0, 4, 5]\n",
      "[6, 7, 0, 9, 10]\n",
      "[0, 0, 0, 0, 0]\n",
      "[16, 17, 0, 19, 20]\n",
      "[21, 22, 0, 24, 25]\n"
     ]
    }
   ],
   "source": [
    "matrix = [\n",
    "    [1,  2,  3,  4,  5],\n",
    "    [6,  7,  8,  9,  10],\n",
    "    [11, 12, 0, 14, 15],\n",
    "    [16, 17, 18, 19, 20],\n",
    "    [21, 22, 23, 24, 25]\n",
    "]\n",
    "\n",
    "zero_matrix(matrix)\n",
    "\n",
    "            \n",
    "for array in matrix:\n",
    "    print(array)"
   ]
  },
  {
   "cell_type": "markdown",
   "metadata": {
    "deletable": true,
    "editable": true
   },
   "source": [
    "### 1.9 String Rotation: Assume you have amethod isSubstring which checks if one word is asubstring of another. Given two strings, s1 and s2, write code to check if s2 is a rotation of s1 using only one call to isSubstring (e.g.,\"waterbottle\"is a rotation of\"erbottlewat\")."
   ]
  },
  {
   "cell_type": "code",
   "execution_count": 84,
   "metadata": {
    "collapsed": true,
    "deletable": true,
    "editable": true
   },
   "outputs": [],
   "source": [
    "def is_rotation(s1: str, s2: str) -> bool:\n",
    "    if len(s1) == len(s2) and len(s1) > 0:\n",
    "        return is_substring(s1 + s1, s2)\n",
    "    else:\n",
    "        return False"
   ]
  }
 ],
 "metadata": {
  "kernelspec": {
   "display_name": "Python 3",
   "language": "python",
   "name": "python3"
  },
  "language_info": {
   "codemirror_mode": {
    "name": "ipython",
    "version": 3
   },
   "file_extension": ".py",
   "mimetype": "text/x-python",
   "name": "python",
   "nbconvert_exporter": "python",
   "pygments_lexer": "ipython3",
   "version": "3.6.0"
  }
 },
 "nbformat": 4,
 "nbformat_minor": 2
}
