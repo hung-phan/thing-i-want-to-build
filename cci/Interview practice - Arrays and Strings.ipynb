{
  "cells": [
    {
      "cell_type": "markdown",
      "metadata": {
        "deletable": true,
        "editable": true,
        "pycharm": {}
      },
      "source": [
        "## Arrays and Strings\n",
        "\n",
        "### 1.1 Is Unique: Implement an algorithm to determine if a string has all unique characters. What if you cannot use additional data structures?\n",
        "\n",
        "1 - Use hash table to do the counter for all characters in the given string, then iterate through them and check for value different from 1\n",
        "\n",
        "2 - If we cannot use additional data structure, we can come up with the solution of 2 pointers, to check for the duplication"
      ]
    },
    {
      "cell_type": "code",
      "execution_count": 1,
      "metadata": {
        "collapsed": true,
        "deletable": true,
        "editable": true,
        "pycharm": {}
      },
      "outputs": [],
      "source": [
        "from typing import Dict\n",
        "\n",
        "def is_unique(given_string: str) -\u003e bool:\n",
        "    hash_table: Dict[str, bool] \u003d {}\n",
        "    \n",
        "    for val in given_string:\n",
        "        if hash_table.get(val):\n",
        "            return False\n",
        "        else:\n",
        "            hash_table[val] \u003d True\n",
        "    return True"
      ]
    },
    {
      "cell_type": "code",
      "execution_count": 16,
      "metadata": {
        "collapsed": false,
        "deletable": true,
        "editable": true,
        "pycharm": {}
      },
      "outputs": [],
      "source": [
        "from collections import Counter\n",
        "\n",
        "def is_unique(given_string: str) -\u003e bool:\n",
        "    return all([val \u003d\u003d 1 for val in Counter(given_string).values()])"
      ]
    },
    {
      "cell_type": "markdown",
      "metadata": {
        "deletable": true,
        "editable": true,
        "pycharm": {}
      },
      "source": [
        "The complexity of this could be N"
      ]
    },
    {
      "cell_type": "code",
      "execution_count": 12,
      "metadata": {
        "collapsed": false,
        "deletable": true,
        "editable": true,
        "pycharm": {}
      },
      "outputs": [],
      "source": [
        "def is_unique(given_string: str) -\u003e bool:\n",
        "    if len(given_string) \u003c\u003d 1:\n",
        "        return True\n",
        "    else:\n",
        "        pointer_1: int \u003d 0\n",
        "        pointer_2: int \u003d 1\n",
        "        length: int \u003d len(given_string)\n",
        "        \n",
        "        for pointer_1 in range(0, length - 1):\n",
        "            for pointer_2 in range(pointer_1 + 1, length):\n",
        "                if given_string[pointer_1] \u003d\u003d given_string[pointer_2]:\n",
        "                    return False\n",
        "        return True"
      ]
    },
    {
      "cell_type": "markdown",
      "metadata": {
        "deletable": true,
        "editable": true,
        "pycharm": {}
      },
      "source": [
        "The complexity of this could be N^2"
      ]
    },
    {
      "cell_type": "code",
      "execution_count": 17,
      "metadata": {
        "collapsed": false,
        "deletable": true,
        "editable": true,
        "pycharm": {}
      },
      "outputs": [
        {
          "data": {
            "text/plain": [
              "True"
            ]
          },
          "execution_count": 17,
          "metadata": {},
          "output_type": "execute_result"
        }
      ],
      "source": [
        "is_unique(\u0027abcdef\u0027)"
      ]
    },
    {
      "cell_type": "code",
      "execution_count": 18,
      "metadata": {
        "collapsed": false,
        "deletable": true,
        "editable": true,
        "pycharm": {}
      },
      "outputs": [
        {
          "data": {
            "text/plain": [
              "False"
            ]
          },
          "execution_count": 18,
          "metadata": {},
          "output_type": "execute_result"
        }
      ],
      "source": [
        "is_unique(\u0027abcdebf\u0027)"
      ]
    },
    {
      "cell_type": "markdown",
      "metadata": {
        "deletable": true,
        "editable": true,
        "pycharm": {}
      },
      "source": [
        "### 1.2 Check permutation: Given two strings, write a method to decide if one is a permutation of the other.\n",
        "\n",
        "The first approach is using hash_table to contain all the characters in a, and subtract it with all the characters in b, then check for any values in hash_table that is different from 0"
      ]
    },
    {
      "cell_type": "code",
      "execution_count": 47,
      "metadata": {
        "collapsed": true,
        "deletable": true,
        "editable": true,
        "pycharm": {}
      },
      "outputs": [],
      "source": [
        "from typing import Dict\n",
        "\n",
        "def is_permutation(a: str, b: str) -\u003e bool:\n",
        "    hash_table: Dict[str, int] \u003d {}\n",
        "\n",
        "    for val in a:\n",
        "        hash_table[val] \u003d hash_table.get(val, 0) + 1\n",
        "    \n",
        "    for val in b:\n",
        "        if hash_table.get(val):\n",
        "            hash_table[val] \u003d hash_table[val] - 1\n",
        "            \n",
        "            if hash_table[val] \u003c 0:\n",
        "                return False\n",
        "        else:\n",
        "            return False\n",
        "\n",
        "    return all([val \u003d\u003d 0 for val in hash_table.values()])"
      ]
    },
    {
      "cell_type": "code",
      "execution_count": 48,
      "metadata": {
        "collapsed": false,
        "deletable": true,
        "editable": true,
        "pycharm": {}
      },
      "outputs": [
        {
          "data": {
            "text/plain": [
              "True"
            ]
          },
          "execution_count": 48,
          "metadata": {},
          "output_type": "execute_result"
        }
      ],
      "source": [
        "is_permutation(\u0027abcdef\u0027, \u0027cdbeaf\u0027)"
      ]
    },
    {
      "cell_type": "code",
      "execution_count": 49,
      "metadata": {
        "collapsed": false,
        "deletable": true,
        "editable": true,
        "pycharm": {}
      },
      "outputs": [
        {
          "data": {
            "text/plain": [
              "False"
            ]
          },
          "execution_count": 49,
          "metadata": {},
          "output_type": "execute_result"
        }
      ],
      "source": [
        "is_permutation(\u0027abc\u0027, \u0027baf\u0027)"
      ]
    },
    {
      "cell_type": "markdown",
      "metadata": {
        "deletable": true,
        "editable": true,
        "pycharm": {}
      },
      "source": [
        "### 1.4 Palindrome Permutation: Given a string, write a function to check if it is a permutation of a palindrome. A palindrome is a word or phrase that is the same forwards and backwards. A permutation is a rearrangement of letters.The palindrome does not need to be limited to just dictionary words.\n",
        "\n",
        "EXAMPLE\n",
        "Input: Tact Coa\n",
        "Output: True (permutations: \"taco cat\". \"atco cta\". etc.)\n",
        "\n",
        "The approach is building a hash_table with character (ignore the whitespaces) and keep track of the length of all values.\n",
        "\n",
        "if the length is even, all the values in the hash_table must be divisible for 2\n",
        "else there must be only 1 number is odd, and the others are even\n",
        "\n",
        "\u0027acbbbac\u0027 -\u003e {a: 2, c: 2, b: 3}"
      ]
    },
    {
      "cell_type": "code",
      "execution_count": 51,
      "metadata": {
        "collapsed": true,
        "deletable": true,
        "editable": true,
        "pycharm": {}
      },
      "outputs": [],
      "source": [
        "from typing import Dict\n",
        "\n",
        "def has_palindrome_permutation(given_string: str) -\u003e bool:\n",
        "    hash_table: Dict[str, int] \u003d {}\n",
        "    num_of_chars: int \u003d 0\n",
        "    \n",
        "    for val in given_string.lower():\n",
        "        if val !\u003d \u0027 \u0027:\n",
        "            hash_table[val] \u003d hash_table.get(val, 0) + 1\n",
        "            num_of_chars +\u003d 1\n",
        "\n",
        "    if num_of_chars % 2 \u003d\u003d 0:\n",
        "        return all([val % 2 \u003d\u003d 0 for val in hash_table.values()])\n",
        "    else:\n",
        "        has_1_odd_number: bool \u003d False\n",
        "        \n",
        "        for val in hash_table.values():\n",
        "            if val % 2 !\u003d 0:\n",
        "                if has_1_odd_number:\n",
        "                    return False\n",
        "                else:\n",
        "                    has_1_odd_number \u003d True\n",
        "        return True"
      ]
    },
    {
      "cell_type": "code",
      "execution_count": 52,
      "metadata": {
        "collapsed": false,
        "deletable": true,
        "editable": true,
        "pycharm": {}
      },
      "outputs": [
        {
          "data": {
            "text/plain": [
              "True"
            ]
          },
          "execution_count": 52,
          "metadata": {},
          "output_type": "execute_result"
        }
      ],
      "source": [
        "has_palindrome_permutation(\u0027Tact Coa\u0027)"
      ]
    },
    {
      "cell_type": "code",
      "execution_count": 58,
      "metadata": {
        "collapsed": false,
        "deletable": true,
        "editable": true,
        "pycharm": {}
      },
      "outputs": [
        {
          "data": {
            "text/plain": [
              "False"
            ]
          },
          "execution_count": 58,
          "metadata": {},
          "output_type": "execute_result"
        }
      ],
      "source": [
        "has_palindrome_permutation(\u0027tcaatact\u0027)"
      ]
    },
    {
      "cell_type": "markdown",
      "metadata": {
        "deletable": true,
        "editable": true,
        "pycharm": {}
      },
      "source": [
        "### 1.5 One Away: There are three types of edits that can be performed on strings: insert a character, remove a character, or replace a character. Given two strings, write a function to check if they are one edit (or zero edits) away.\n",
        "\n",
        "EXAMPLE\n",
        "pale, ple -\u003e true\n",
        "pales, pale -\u003e true\n",
        "pale, bale -\u003e true\n",
        "pale, bake -\u003e false\n",
        "\n",
        "Solution: we can divide it into 3 cases and handle each case.\n",
        "\n",
        "1. Replace character case or zero edit, if len(a) - len(b) \u003d\u003d 0, loop for i -\u003e len(a), if we find the 1 different then we set the flag for found, if the next time we find the found, we know it is more than one edit, after the for loop we return True\n",
        "2. Insert or Remove a character, if abs(len(a) - len(b)) \u003d\u003d 1, use 2 pointer to check for the difference, after the end of the loop return True"
      ]
    },
    {
      "cell_type": "code",
      "execution_count": 42,
      "metadata": {
        "collapsed": true,
        "deletable": true,
        "editable": true,
        "pycharm": {}
      },
      "outputs": [],
      "source": [
        "def is_one_away(a: str, b: str) -\u003e bool:\n",
        "    if len(a) - len(b) \u003d\u003d 0:\n",
        "        found: bool \u003d False\n",
        "        for i in range(len(a)):\n",
        "            if a[i] !\u003d b[i]:\n",
        "                if found:\n",
        "                    return False\n",
        "\n",
        "                found \u003d True\n",
        "\n",
        "        return True\n",
        "    elif abs(len(a) - len(b)) \u003d\u003d 1:\n",
        "        i: int \u003d 0\n",
        "        j: int \u003d 0\n",
        "        found: bool \u003d False\n",
        "        \n",
        "        while i \u003c len(a) and j \u003c len(b):\n",
        "            if a[i] !\u003d b[j]:\n",
        "                if found:\n",
        "                    return False\n",
        "\n",
        "                found \u003d True\n",
        "\n",
        "                if len(a) \u003c len(b):\n",
        "                    i +\u003d 1\n",
        "                    j +\u003d 2\n",
        "                else:\n",
        "                    i +\u003d 2\n",
        "                    j +\u003d 1\n",
        "            else:\n",
        "                i +\u003d 1\n",
        "                j +\u003d 1\n",
        "\n",
        "        return True\n",
        "    else:\n",
        "        return False"
      ]
    },
    {
      "cell_type": "code",
      "execution_count": 43,
      "metadata": {
        "collapsed": false,
        "deletable": true,
        "editable": true,
        "pycharm": {}
      },
      "outputs": [
        {
          "data": {
            "text/plain": [
              "True"
            ]
          },
          "execution_count": 43,
          "metadata": {},
          "output_type": "execute_result"
        }
      ],
      "source": [
        "is_one_away(\u0027pale\u0027, \u0027ple\u0027)"
      ]
    },
    {
      "cell_type": "code",
      "execution_count": 44,
      "metadata": {
        "collapsed": false,
        "deletable": true,
        "editable": true,
        "pycharm": {}
      },
      "outputs": [
        {
          "data": {
            "text/plain": [
              "True"
            ]
          },
          "execution_count": 44,
          "metadata": {},
          "output_type": "execute_result"
        }
      ],
      "source": [
        "is_one_away(\u0027pales\u0027, \u0027pale\u0027)"
      ]
    },
    {
      "cell_type": "code",
      "execution_count": 45,
      "metadata": {
        "collapsed": false,
        "deletable": true,
        "editable": true,
        "scrolled": true,
        "pycharm": {}
      },
      "outputs": [
        {
          "data": {
            "text/plain": [
              "True"
            ]
          },
          "execution_count": 45,
          "metadata": {},
          "output_type": "execute_result"
        }
      ],
      "source": [
        "is_one_away(\u0027pale\u0027, \u0027bale\u0027)"
      ]
    },
    {
      "cell_type": "code",
      "execution_count": 46,
      "metadata": {
        "collapsed": false,
        "deletable": true,
        "editable": true,
        "pycharm": {}
      },
      "outputs": [
        {
          "data": {
            "text/plain": [
              "False"
            ]
          },
          "execution_count": 46,
          "metadata": {},
          "output_type": "execute_result"
        }
      ],
      "source": [
        "is_one_away(\u0027pale\u0027, \u0027bake\u0027)"
      ]
    },
    {
      "cell_type": "markdown",
      "metadata": {
        "deletable": true,
        "editable": true,
        "pycharm": {}
      },
      "source": [
        "### 1.6 String Compression: Implement a method to perform basic string compression using the counts of repeated characters. For example, the string aabcccccaaa would become a2b1c5a3. If the \"compressed\" string would not become smaller than the original string, your method should return the original string. You can assume the string has only uppercase and lowercase letters (a - z).\n",
        "\n",
        "Solution: Create prev_val, and counter. Loop through the given string to count for repeated character"
      ]
    },
    {
      "cell_type": "code",
      "execution_count": 72,
      "metadata": {
        "collapsed": false,
        "deletable": true,
        "editable": true,
        "pycharm": {}
      },
      "outputs": [],
      "source": [
        "from typing import Optional, List\n",
        "\n",
        "def string_compression(given_string: str) -\u003e str:\n",
        "    result: List[str] \u003d []\n",
        "    prev_val: Optional[str] \u003d None\n",
        "    counter: int\n",
        "\n",
        "    for val in given_string:\n",
        "        if val !\u003d prev_val:\n",
        "            if prev_val is not None:\n",
        "                result.extend(list(str(counter)))\n",
        "                \n",
        "            result.append(val)\n",
        "            prev_val \u003d val\n",
        "            counter \u003d 1\n",
        "        else:\n",
        "            counter +\u003d 1\n",
        "\n",
        "    result.extend(list(str(counter)))\n",
        "\n",
        "    return \u0027\u0027.join(result) if len(result) \u003c len(given_string) else given_string"
      ]
    },
    {
      "cell_type": "code",
      "execution_count": 73,
      "metadata": {
        "collapsed": false,
        "deletable": true,
        "editable": true,
        "pycharm": {}
      },
      "outputs": [
        {
          "data": {
            "text/plain": [
              "\u0027a2b1c5a3\u0027"
            ]
          },
          "execution_count": 73,
          "metadata": {},
          "output_type": "execute_result"
        }
      ],
      "source": [
        "string_compression(\u0027aabcccccaaa\u0027)"
      ]
    },
    {
      "cell_type": "code",
      "execution_count": 76,
      "metadata": {
        "collapsed": false,
        "deletable": true,
        "editable": true,
        "pycharm": {}
      },
      "outputs": [
        {
          "data": {
            "text/plain": [
              "\u0027abbreviation\u0027"
            ]
          },
          "execution_count": 76,
          "metadata": {},
          "output_type": "execute_result"
        }
      ],
      "source": [
        "string_compression(\u0027abbreviation\u0027)"
      ]
    },
    {
      "cell_type": "markdown",
      "metadata": {
        "deletable": true,
        "editable": true,
        "pycharm": {}
      },
      "source": [
        "### 1.7 Rotate Matrix: Given an image represented by an NxN matrix, where each pixel in the image is 4 bytes, write a method to rotate the image by 90 degrees. Can you do this in place?"
      ]
    },
    {
      "cell_type": "code",
      "execution_count": 1,
      "metadata": {
        "collapsed": true,
        "deletable": true,
        "editable": true,
        "pycharm": {}
      },
      "outputs": [],
      "source": "from typing import List\n\ndef rotate_matrix(matrix: List[List[int]]):\n    length \u003d len(matrix)\n    \n    for i in range(length // 2):\n        for j in range(i, length - i - 1):\n            temp \u003d matrix[i][j]\n            \n            # left_to_right \u003d (i, j)\n            # top_to_bottom \u003d (j, length - i - 1)\n            # right_to_left \u003d (length - i - 1, length - j - 1)\n            # bottom_to_top \u003d (length - j - 1, i)\n            \n            matrix[i][j] \u003d matrix[length - j - 1][i]\n            matrix[length - j - 1][i] \u003d matrix[length - i - 1][length - j - 1]\n            matrix[length - i - 1][length - j - 1] \u003d matrix[j][length - i - 1]\n            matrix[j][length - i - 1] \u003d temp"
    },
    {
      "cell_type": "code",
      "execution_count": 2,
      "metadata": {
        "collapsed": false,
        "deletable": true,
        "editable": true,
        "pycharm": {}
      },
      "outputs": [
        {
          "name": "stdout",
          "output_type": "stream",
          "text": [
            "[21, 16, 11, 6, 1]\n",
            "[22, 17, 12, 7, 2]\n",
            "[23, 18, 13, 8, 3]\n",
            "[24, 19, 14, 9, 4]\n",
            "[25, 20, 15, 10, 5]\n"
          ]
        }
      ],
      "source": [
        "matrix \u003d [\n",
        "    [1,  2,  3,  4,  5],\n",
        "    [6,  7,  8,  9,  10],\n",
        "    [11, 12, 13, 14, 15],\n",
        "    [16, 17, 18, 19, 20],\n",
        "    [21, 22, 23, 24, 25]\n",
        "]\n",
        "\n",
        "rotate_matrix(matrix)\n",
        "\n",
        "            \n",
        "for array in matrix:\n",
        "    print(array)"
      ]
    },
    {
      "cell_type": "markdown",
      "metadata": {
        "deletable": true,
        "editable": true,
        "pycharm": {}
      },
      "source": [
        "### 1.8 Zero Matrix: Write an algorithm such that if an element in an MxN matrix is 0, its entire row and column are set to O."
      ]
    },
    {
      "cell_type": "code",
      "execution_count": 82,
      "metadata": {
        "collapsed": true,
        "deletable": true,
        "editable": true,
        "pycharm": {}
      },
      "outputs": [],
      "source": [
        "from typing import List, Tuple, Set\n",
        "\n",
        "def zero_matrix(matrix: List[List[int]]):\n",
        "    stack: Set[Tuple[int, int]] \u003d set()\n",
        "    m \u003d len(matrix)\n",
        "    n \u003d len(matrix[0])\n",
        "\n",
        "    def append_all_data(row: int, column: int):\n",
        "        stack.add((row, column))\n",
        "\n",
        "        for k in range(m):\n",
        "            stack.add((k, column))\n",
        "\n",
        "        for k in range(n):\n",
        "            stack.add((row, k))\n",
        "\n",
        "    for i in range(m):\n",
        "        for j in range(n):\n",
        "            if matrix[i][j] \u003d\u003d 0:\n",
        "                append_all_data(i, j)\n",
        "\n",
        "    for position in stack:\n",
        "        i, j \u003d position\n",
        "\n",
        "        matrix[i][j] \u003d 0"
      ]
    },
    {
      "cell_type": "code",
      "execution_count": 83,
      "metadata": {
        "collapsed": false,
        "deletable": true,
        "editable": true,
        "pycharm": {}
      },
      "outputs": [
        {
          "name": "stdout",
          "output_type": "stream",
          "text": [
            "[1, 2, 0, 4, 5]\n",
            "[6, 7, 0, 9, 10]\n",
            "[0, 0, 0, 0, 0]\n",
            "[16, 17, 0, 19, 20]\n",
            "[21, 22, 0, 24, 25]\n"
          ]
        }
      ],
      "source": [
        "matrix \u003d [\n",
        "    [1,  2,  3,  4,  5],\n",
        "    [6,  7,  8,  9,  10],\n",
        "    [11, 12, 0, 14, 15],\n",
        "    [16, 17, 18, 19, 20],\n",
        "    [21, 22, 23, 24, 25]\n",
        "]\n",
        "\n",
        "zero_matrix(matrix)\n",
        "\n",
        "            \n",
        "for array in matrix:\n",
        "    print(array)"
      ]
    },
    {
      "cell_type": "markdown",
      "metadata": {
        "deletable": true,
        "editable": true,
        "pycharm": {}
      },
      "source": [
        "### 1.9 String Rotation: Assume you have amethod isSubstring which checks if one word is asubstring of another. Given two strings, s1 and s2, write code to check if s2 is a rotation of s1 using only one call to isSubstring (e.g.,\"waterbottle\"is a rotation of\"erbottlewat\")."
      ]
    },
    {
      "cell_type": "code",
      "execution_count": 84,
      "metadata": {
        "collapsed": true,
        "deletable": true,
        "editable": true,
        "pycharm": {}
      },
      "outputs": [],
      "source": [
        "def is_rotation(s1: str, s2: str) -\u003e bool:\n",
        "    if len(s1) \u003d\u003d len(s2) and len(s1) \u003e 0:\n",
        "        return is_substring(s1 + s1, s2)\n",
        "    else:\n",
        "        return False"
      ]
    }
  ],
  "metadata": {
    "kernelspec": {
      "display_name": "Python 3",
      "language": "python",
      "name": "python3"
    },
    "language_info": {
      "codemirror_mode": {
        "name": "ipython",
        "version": 3
      },
      "file_extension": ".py",
      "mimetype": "text/x-python",
      "name": "python",
      "nbconvert_exporter": "python",
      "pygments_lexer": "ipython3",
      "version": "3.6.0"
    }
  },
  "nbformat": 4,
  "nbformat_minor": 2
}