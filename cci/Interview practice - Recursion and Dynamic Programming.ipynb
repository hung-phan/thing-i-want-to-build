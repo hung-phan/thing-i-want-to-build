{
 "cells": [
  {
   "cell_type": "markdown",
   "metadata": {
    "deletable": true,
    "editable": true
   },
   "source": [
    "### 8.1 Triple Step: A child is running up a staircase with n steps and can hop either 1 step, 2 steps, or 3 steps at a time. Implement a method to count how many possible ways the child can run up the stairs."
   ]
  },
  {
   "cell_type": "code",
   "execution_count": 4,
   "metadata": {
    "collapsed": false,
    "deletable": true,
    "editable": true
   },
   "outputs": [],
   "source": [
    "def triple_step(n):\n",
    "    if n <= 0:\n",
    "        raise ValueError(\"Must be bigger than 0\")\n",
    "\n",
    "    if n == 1:\n",
    "        return 1\n",
    "    \n",
    "    # {1, 1}, {2}\n",
    "    if n == 2:\n",
    "        return 2\n",
    "    \n",
    "    # {1, 1, 1}, {1, 2}, {2, 1}, 3\n",
    "    if n == 3:\n",
    "        return 4\n",
    "    \n",
    "    return triple_step(n - 1) + triple_step(n - 2) + triple_step(n - 3)"
   ]
  },
  {
   "cell_type": "code",
   "execution_count": 5,
   "metadata": {
    "collapsed": false,
    "deletable": true,
    "editable": true
   },
   "outputs": [
    {
     "data": {
      "text/plain": [
       "7"
      ]
     },
     "execution_count": 5,
     "metadata": {},
     "output_type": "execute_result"
    }
   ],
   "source": [
    "triple_step(4)"
   ]
  },
  {
   "cell_type": "markdown",
   "metadata": {
    "deletable": true,
    "editable": true
   },
   "source": [
    "### 8.2 Robot in a Grid: Imagine a robot sitting on the upper left corner of grid with r rows and c columns. The robot can only move in two directions, right and down, but certain cells are \"off limits\" such that the robot cannot step on them. Design an algorithm to find a path for the robot from the top left to the bottom right."
   ]
  },
  {
   "cell_type": "code",
   "execution_count": 11,
   "metadata": {
    "collapsed": false,
    "deletable": true,
    "editable": true
   },
   "outputs": [],
   "source": [
    "from typing import NamedTuple\n",
    "\n",
    "\n",
    "class Direction(NamedTuple):\n",
    "    dx: int\n",
    "    dy: int"
   ]
  },
  {
   "cell_type": "code",
   "execution_count": 13,
   "metadata": {
    "collapsed": false,
    "deletable": true,
    "editable": true
   },
   "outputs": [],
   "source": [
    "RIGHT = Direction(0, 1)\n",
    "DOWN = Direction(1, 0)"
   ]
  },
  {
   "cell_type": "code",
   "execution_count": 71,
   "metadata": {
    "collapsed": true,
    "deletable": true,
    "editable": true
   },
   "outputs": [],
   "source": [
    "from collections import deque\n",
    "\n",
    "\n",
    "class Board:\n",
    "    def __init__(self, blocks):\n",
    "        self.blocks = blocks\n",
    "        self.trace = [[None for column in row] for row in blocks]\n",
    "    \n",
    "    def get_start(self):\n",
    "        return 0, 0\n",
    "    \n",
    "    def get_destination(self):\n",
    "        return len(self.blocks) - 1, len(self.blocks[0]) - 1\n",
    "    \n",
    "    def is_start(self, i, j):\n",
    "        return (i, j) == self.get_start()\n",
    "    \n",
    "    def is_destination(self, i, j):\n",
    "        return (i, j) == self.get_destination()\n",
    "    \n",
    "    def is_blocked(self, i, j):\n",
    "        return self.blocks[i][j] == 1\n",
    "    \n",
    "    def is_in_boards(self, i, j):\n",
    "        return 0 <= i < len(self.blocks) and 0 <= j < len(self.blocks[0])\n",
    "    \n",
    "    def neighbors(self, i, j):\n",
    "        if self.is_in_boards(i + RIGHT.dx, j + RIGHT.dy):\n",
    "            yield (i + RIGHT.dx, j + RIGHT.dy)\n",
    "        \n",
    "        if self.is_in_boards(i + DOWN.dx, j + DOWN.dy):\n",
    "            yield (i + DOWN.dx, j + DOWN.dy)\n",
    "    \n",
    "    def trace_path(self, newI, newJ, i, j):\n",
    "        self.trace[newI][newJ] = (i, j)\n",
    "\n",
    "    def get_paths(self):\n",
    "        stack = deque()\n",
    "        i, j = self.get_destination()\n",
    "        \n",
    "        stack.appendleft((i, j))\n",
    "\n",
    "        while not self.is_start(i, j):\n",
    "            i, j = self.trace[i][j]\n",
    "            stack.appendleft((i, j))\n",
    "        \n",
    "        return list(stack)"
   ]
  },
  {
   "cell_type": "code",
   "execution_count": 72,
   "metadata": {
    "collapsed": true,
    "deletable": true,
    "editable": true
   },
   "outputs": [],
   "source": [
    "from queue import Queue\n",
    "\n",
    "\n",
    "class Solver:\n",
    "    def __init__(self, board):\n",
    "        self.board = board\n",
    "    \n",
    "    def solve(self):\n",
    "        queue = Queue()\n",
    "        visited = set()\n",
    "        is_arrived = False\n",
    "        \n",
    "        queue.put(self.board.get_start())\n",
    "        \n",
    "        while not queue.empty():\n",
    "            i, j = queue.get()\n",
    "            \n",
    "            if self.board.is_destination(i, j):\n",
    "                is_arrived = True\n",
    "                break\n",
    "            \n",
    "            for newI, newJ in self.board.neighbors(i, j):\n",
    "                if (newI, newJ) not in visited and not self.board.is_blocked(newI, newJ):\n",
    "                    visited.add((newI, newJ))\n",
    "                    queue.put((newI, newJ))\n",
    "                    self.board.trace_path(newI, newJ, i, j)\n",
    "        \n",
    "        if not is_arrived:\n",
    "            return None\n",
    "\n",
    "        return self.board.get_paths()"
   ]
  },
  {
   "cell_type": "code",
   "execution_count": 80,
   "metadata": {
    "collapsed": false,
    "deletable": true,
    "editable": true
   },
   "outputs": [],
   "source": [
    "class SolverRec:\n",
    "    def __init__(self, board):\n",
    "        self.board = board\n",
    "    \n",
    "    def solve(self):\n",
    "        hash_table = {'result': None}\n",
    "\n",
    "        def recur(result, i, j):\n",
    "            if self.board.is_destination(i, j):\n",
    "                result += [(i, j)]\n",
    "                hash_table['result'] = result\n",
    "                raise Error()\n",
    "            else:\n",
    "                for newI, newJ in self.board.neighbors(i, j):\n",
    "                    if not self.board.is_blocked(newI, newJ):\n",
    "                        recur(result + [(i, j)], newI, newJ)\n",
    "\n",
    "        i, j = self.board.get_start()\n",
    "\n",
    "        try:\n",
    "            recur([], i, j)\n",
    "        except:\n",
    "            pass\n",
    "        \n",
    "        return hash_table['result']"
   ]
  },
  {
   "cell_type": "code",
   "execution_count": 81,
   "metadata": {
    "collapsed": false,
    "deletable": true,
    "editable": true
   },
   "outputs": [
    {
     "name": "stdout",
     "output_type": "stream",
     "text": [
      "[(0, 0), (0, 1), (0, 2), (1, 2), (2, 2), (3, 2), (3, 3), (3, 4)]\n",
      "[(0, 0), (0, 1), (0, 2), (1, 2), (2, 2), (3, 2), (3, 3), (3, 4)]\n"
     ]
    }
   ],
   "source": [
    "solver = Solver(\n",
    "    Board([\n",
    "        [0, 0, 0, 0, 0],\n",
    "        [0, 1, 0, 1, 1],\n",
    "        [1, 0, 0, 1, 0],\n",
    "        [1, 0, 0, 0, 0]\n",
    "    ])\n",
    ")\n",
    "\n",
    "print(solver.solve())\n",
    "\n",
    "solver = SolverRec(\n",
    "    Board([\n",
    "        [0, 0, 0, 0, 0],\n",
    "        [0, 1, 0, 1, 1],\n",
    "        [1, 0, 0, 1, 0],\n",
    "        [1, 0, 0, 0, 0]\n",
    "    ])\n",
    ")\n",
    "\n",
    "print(solver.solve())"
   ]
  },
  {
   "cell_type": "markdown",
   "metadata": {
    "deletable": true,
    "editable": true
   },
   "source": [
    "### 8. 3 Magic Index: A magic index in an array A[0... n-1] is defined to be an index such that A[ i] = i. Given a sorted array of distinct integers, write a method to find a magic index, if one exists, in array A.\n",
    "\n",
    "What if the values are not distinct?"
   ]
  },
  {
   "cell_type": "markdown",
   "metadata": {
    "deletable": true,
    "editable": true
   },
   "source": [
    "Dissection:\n",
    "\n",
    "a[i] and i\n",
    "\n",
    "if a[i] == i:\n",
    "    found\n",
    "if a[i] > i:\n",
    "    look on the left\n",
    "if a[i] < i\n",
    "    look on the right\n",
    "    \n",
    "0 3 4 5 6 7 9 14\n",
    "\n",
    "-2 -1 0 1 2 3"
   ]
  },
  {
   "cell_type": "code",
   "execution_count": 110,
   "metadata": {
    "collapsed": true,
    "deletable": true,
    "editable": true
   },
   "outputs": [],
   "source": [
    "def find_magic_index(ls):\n",
    "    def recur(left, mid, right):\n",
    "        if left <= right:\n",
    "            if ls[mid] == mid:\n",
    "                return ls[mid]\n",
    "            elif ls[mid] > mid:\n",
    "                return recur(left, left + (mid - 1 - left) // 2, mid - 1)\n",
    "            else:\n",
    "                return recur(mid + 1, mid + 1 + (right - mid - 1) // 2, right)\n",
    "\n",
    "    \n",
    "    length = len(ls)\n",
    "    return recur(0, (length - 1) // 2, length - 1)"
   ]
  },
  {
   "cell_type": "code",
   "execution_count": 111,
   "metadata": {
    "collapsed": false,
    "deletable": true,
    "editable": true
   },
   "outputs": [
    {
     "data": {
      "text/plain": [
       "2"
      ]
     },
     "execution_count": 111,
     "metadata": {},
     "output_type": "execute_result"
    }
   ],
   "source": [
    "find_magic_index([-2, 0, 2, 4, 8, 10, 16, 18])"
   ]
  },
  {
   "cell_type": "markdown",
   "metadata": {
    "deletable": true,
    "editable": true
   },
   "source": [
    "### 8.4 Power Set: Write a method to return all subsets of a set."
   ]
  },
  {
   "cell_type": "code",
   "execution_count": 3,
   "metadata": {
    "collapsed": true,
    "deletable": true,
    "editable": true
   },
   "outputs": [],
   "source": [
    "def power_set(elements):\n",
    "    def recur(step):\n",
    "        if step == 0:\n",
    "            yield frozenset()\n",
    "        else:\n",
    "            for current_set in recur(step - 1):\n",
    "                yield current_set\n",
    "                yield current_set | frozenset([elements[step - 1]])\n",
    "\n",
    "    return recur(len(elements))"
   ]
  },
  {
   "cell_type": "code",
   "execution_count": 4,
   "metadata": {
    "collapsed": false,
    "deletable": true,
    "editable": true
   },
   "outputs": [
    {
     "data": {
      "text/plain": [
       "[frozenset(),\n",
       " frozenset({3}),\n",
       " frozenset({2}),\n",
       " frozenset({2, 3}),\n",
       " frozenset({1}),\n",
       " frozenset({1, 3}),\n",
       " frozenset({1, 2}),\n",
       " frozenset({1, 2, 3})]"
      ]
     },
     "execution_count": 4,
     "metadata": {},
     "output_type": "execute_result"
    }
   ],
   "source": [
    "list(power_set([1, 2, 3]))"
   ]
  },
  {
   "cell_type": "markdown",
   "metadata": {
    "deletable": true,
    "editable": true
   },
   "source": [
    "### 8.5 Recursive Multiply: Write a recursive function to multiply two positive integers without using the * operator. You can use addition, subtraction, and bit shifting, but you should minimize the number of those operations."
   ]
  },
  {
   "cell_type": "code",
   "execution_count": 140,
   "metadata": {
    "collapsed": true,
    "deletable": true,
    "editable": true
   },
   "outputs": [],
   "source": [
    "def recursive_multiply(a, b):\n",
    "    def recur(a, b):\n",
    "        if a == 0 or b == 0:\n",
    "            return 0\n",
    "        \n",
    "        if a < b:\n",
    "            return b + recur(a - 1, b)\n",
    "        else:\n",
    "            return a + recur(a, b - 1)\n",
    "    \n",
    "    sign = -1 if (a > 0 and b < 0) or (a < 0 and b > 0) else 1\n",
    "    return sign * recur(abs(a), abs(b))"
   ]
  },
  {
   "cell_type": "code",
   "execution_count": 141,
   "metadata": {
    "collapsed": false,
    "deletable": true,
    "editable": true
   },
   "outputs": [
    {
     "data": {
      "text/plain": [
       "400"
      ]
     },
     "execution_count": 141,
     "metadata": {},
     "output_type": "execute_result"
    }
   ],
   "source": [
    "recursive_multiply(4, 100)"
   ]
  },
  {
   "cell_type": "markdown",
   "metadata": {
    "deletable": true,
    "editable": true
   },
   "source": [
    "### 8.6 Towers of Hanoi: In the classic problem of the Towers of Hanoi, you have 3 towers and N disks of different sizes which can slide onto any tower. The puzzle starts with disks sorted in ascending order of size from top to bottom (Le., each disk sits on top of an even larger one). You have the following constraints:\n",
    "\n",
    "(1) Only one disk can be moved at a time.\n",
    "\n",
    "(2) A disk is slid off the top of one tower onto another tower.\n",
    "\n",
    "(3) A disk cannot be placed on top of a smaller disk.\n",
    "\n",
    "Write a program to move the disks from the first tower to the last using stacks."
   ]
  },
  {
   "cell_type": "code",
   "execution_count": 267,
   "metadata": {
    "collapsed": true,
    "deletable": true,
    "editable": true
   },
   "outputs": [],
   "source": [
    "def towers_of_hanoi(source, auxiliary, target):\n",
    "    def recur(n, source, auxiliary, target):\n",
    "        if n > 0:\n",
    "            recur(n - 1, source, target, auxiliary)\n",
    "            \n",
    "            if source[1]:\n",
    "                disk = source[1].pop()\n",
    "                target[1].append(disk)\n",
    "                \n",
    "                print(\"Move {} from {}: {} to {}: {}\".format(disk, source[0], source[1], target[0], target[1]))\n",
    "            \n",
    "            recur(n - 1, auxiliary, source, target)\n",
    "    \n",
    "    return recur(len(source[1]), source, target, auxiliary)"
   ]
  },
  {
   "cell_type": "code",
   "execution_count": 268,
   "metadata": {
    "collapsed": false,
    "deletable": true,
    "editable": true
   },
   "outputs": [
    {
     "name": "stdout",
     "output_type": "stream",
     "text": [
      "Move 1 from Source: [4, 3, 2] to Target: [1]\n",
      "Move 2 from Source: [4, 3] to Auxiliary: [2]\n",
      "Move 1 from Target: [] to Auxiliary: [2, 1]\n",
      "Move 3 from Source: [4] to Target: [3]\n",
      "Move 1 from Auxiliary: [2] to Source: [4, 1]\n",
      "Move 2 from Auxiliary: [] to Target: [3, 2]\n",
      "Move 1 from Source: [4] to Target: [3, 2, 1]\n",
      "Move 4 from Source: [] to Auxiliary: [4]\n",
      "Move 1 from Target: [3, 2] to Auxiliary: [4, 1]\n",
      "Move 2 from Target: [3] to Source: [2]\n",
      "Move 1 from Auxiliary: [4] to Source: [2, 1]\n",
      "Move 3 from Target: [] to Auxiliary: [4, 3]\n",
      "Move 1 from Source: [2] to Target: [1]\n",
      "Move 2 from Source: [] to Auxiliary: [4, 3, 2]\n",
      "Move 1 from Target: [] to Auxiliary: [4, 3, 2, 1]\n"
     ]
    }
   ],
   "source": [
    "source = (\"Source\", [4,3,2,1])\n",
    "target = (\"Target\", [])\n",
    "auxiliary = (\"Auxiliary\", [])\n",
    "\n",
    "towers_of_hanoi(source, auxiliary, target)"
   ]
  },
  {
   "cell_type": "markdown",
   "metadata": {
    "deletable": true,
    "editable": true
   },
   "source": [
    "### 8.7 Permutations without Dups: Write a method to compute all permutations of a string of unique characters."
   ]
  },
  {
   "cell_type": "code",
   "execution_count": 292,
   "metadata": {
    "collapsed": true,
    "deletable": true,
    "editable": true
   },
   "outputs": [],
   "source": [
    "def permutations(ls):\n",
    "    def recur(ls, result):\n",
    "        if not ls:\n",
    "            yield result\n",
    "        else:\n",
    "            for index in range(len(ls)):\n",
    "                yield from recur(ls[:index] + ls[index + 1:], result + [ls[index]])\n",
    "    return recur(ls, [])"
   ]
  },
  {
   "cell_type": "code",
   "execution_count": 118,
   "metadata": {
    "collapsed": false,
    "deletable": true,
    "editable": true
   },
   "outputs": [
    {
     "data": {
      "text/plain": [
       "[['a', 'b', 'c'],\n",
       " ['a', 'c', 'b'],\n",
       " ['b', 'a', 'c'],\n",
       " ['b', 'c', 'a'],\n",
       " ['c', 'a', 'b'],\n",
       " ['c', 'b', 'a']]"
      ]
     },
     "execution_count": 118,
     "metadata": {},
     "output_type": "execute_result"
    }
   ],
   "source": [
    "list(permutations(['a', 'b', 'c']))"
   ]
  },
  {
   "cell_type": "markdown",
   "metadata": {
    "deletable": true,
    "editable": true
   },
   "source": [
    "### 8.8 Permutations with Dups: Write a method to compute all permutations of a string whose characters are not necessarily unique. The list of permutations should not have duplicates."
   ]
  },
  {
   "cell_type": "code",
   "execution_count": 303,
   "metadata": {
    "collapsed": true,
    "deletable": true,
    "editable": true
   },
   "outputs": [],
   "source": [
    "def permutations_with_dups(ls):\n",
    "    result = set()\n",
    "\n",
    "    def recur(ls, acc):\n",
    "        if not ls:\n",
    "            result.add(acc)\n",
    "        else:\n",
    "            for index in range(len(ls)):\n",
    "                recur(ls[:index] + ls[index + 1:], acc + (ls[index],))\n",
    "\n",
    "    recur(ls, tuple())\n",
    "    \n",
    "    return result"
   ]
  },
  {
   "cell_type": "code",
   "execution_count": 304,
   "metadata": {
    "collapsed": false,
    "deletable": true,
    "editable": true
   },
   "outputs": [
    {
     "data": {
      "text/plain": [
       "{('a', 'a', 'c'), ('a', 'c', 'a'), ('c', 'a', 'a')}"
      ]
     },
     "execution_count": 304,
     "metadata": {},
     "output_type": "execute_result"
    }
   ],
   "source": [
    "permutations_with_dups(['a', 'a', 'c'])"
   ]
  },
  {
   "cell_type": "markdown",
   "metadata": {
    "deletable": true,
    "editable": true
   },
   "source": [
    "### 8.9 Parens: Implement an algorithm to print all valid (e.g., properly opened and closed) combinations of n pairs of parentheses.\n",
    "\n",
    "EXAMPLE\n",
    "\n",
    "Input: 3\n",
    "\n",
    "Output: ((())), (()()), (())(), ()(()), ()()()"
   ]
  },
  {
   "cell_type": "code",
   "execution_count": 157,
   "metadata": {
    "collapsed": true,
    "deletable": true,
    "editable": true
   },
   "outputs": [],
   "source": [
    "def parens(n):\n",
    "    if n < 1:\n",
    "        raise ValueError()\n",
    "    \n",
    "    def recur(acc):\n",
    "        if acc == 1:\n",
    "            yield \"()\"\n",
    "        else:\n",
    "            for paren in recur(acc - 1):\n",
    "                yield \"(){}\".format(paren)\n",
    "                yield \"{}()\".format(paren)\n",
    "                yield \"({})\".format(paren)\n",
    "                \n",
    "    # can we not use set in this case?\n",
    "    return set(recur(n))"
   ]
  },
  {
   "cell_type": "code",
   "execution_count": 3,
   "metadata": {
    "collapsed": true
   },
   "outputs": [],
   "source": [
    "def parens_left_right(n):\n",
    "    if n < 1:\n",
    "        raise ValueError()\n",
    "    \n",
    "    num = n * 2\n",
    "    result = [None] * num\n",
    "    \n",
    "    def recur(left, right):\n",
    "        if left == 0 and right == 0:\n",
    "            print(''.join(result))\n",
    "            return\n",
    "\n",
    "        pos = num - (left + right)\n",
    "        \n",
    "        if left > 0:\n",
    "            result[pos] = '('\n",
    "            recur(left - 1, right)\n",
    "        \n",
    "        if left < right:\n",
    "            result[pos] = ')'\n",
    "            recur(left, right - 1)\n",
    "    \n",
    "    recur(n, n)"
   ]
  },
  {
   "cell_type": "code",
   "execution_count": 158,
   "metadata": {
    "collapsed": false,
    "deletable": true,
    "editable": true
   },
   "outputs": [
    {
     "data": {
      "text/plain": [
       "{'((()))', '(()())', '(())()', '()(())', '()()()'}"
      ]
     },
     "execution_count": 158,
     "metadata": {},
     "output_type": "execute_result"
    }
   ],
   "source": [
    "parens(3)"
   ]
  },
  {
   "cell_type": "code",
   "execution_count": 4,
   "metadata": {
    "collapsed": false
   },
   "outputs": [
    {
     "name": "stdout",
     "output_type": "stream",
     "text": [
      "((()))\n",
      "(()())\n",
      "(())()\n",
      "()(())\n",
      "()()()\n"
     ]
    }
   ],
   "source": [
    "parens_left_right(3)"
   ]
  },
  {
   "cell_type": "markdown",
   "metadata": {
    "deletable": true,
    "editable": true
   },
   "source": [
    "### 8.10 Paint Fill: Implement the \"paint fill\" function that one might see on many image editing programs. That is, given a screen (represented by a two-dimensional array of colors), a point, and a new color, nil in the surrounding area until the color changes from the original color."
   ]
  },
  {
   "cell_type": "markdown",
   "metadata": {
    "deletable": true,
    "editable": true
   },
   "source": [
    "recusive call to paint fill function for all neighbors"
   ]
  },
  {
   "cell_type": "markdown",
   "metadata": {
    "deletable": true,
    "editable": true
   },
   "source": [
    "### 8.11 Coins: Given an innnite number of quarters (25 cents), dimes (10 cents), nickels (5 cents), and pennies (1 cent), write code to calculate the number of ways of representing n cents."
   ]
  },
  {
   "cell_type": "code",
   "execution_count": 168,
   "metadata": {
    "collapsed": true,
    "deletable": true,
    "editable": true
   },
   "outputs": [],
   "source": [
    "def coins(ls, n):\n",
    "    def recur(ls, n, count):\n",
    "        if n < 0:\n",
    "            return count\n",
    "        \n",
    "        if not ls:\n",
    "            return count + 1 if n == 0 else count\n",
    "        \n",
    "        return recur(ls[1:], n, count) + recur(ls, n - ls[0], count)\n",
    "    \n",
    "    return recur(ls, n, 0)"
   ]
  },
  {
   "cell_type": "code",
   "execution_count": 192,
   "metadata": {
    "collapsed": true,
    "deletable": true,
    "editable": true
   },
   "outputs": [],
   "source": [
    "def coins_dp(ls, n):\n",
    "    dp = [[1 if column == 0 else 0 for column in range(n + 1)] for row in range(len(ls) + 1)]\n",
    "    \n",
    "    for index, coin in enumerate(ls):\n",
    "        for money in range(n + 1):\n",
    "            dp[index + 1][money] = dp[index][money]\n",
    "            \n",
    "            if money - coin >= 0:\n",
    "                dp[index + 1][money] += dp[index + 1][money - coin]\n",
    "    \n",
    "    return dp[len(ls)][n]"
   ]
  },
  {
   "cell_type": "code",
   "execution_count": 193,
   "metadata": {
    "collapsed": false,
    "deletable": true,
    "editable": true
   },
   "outputs": [
    {
     "name": "stdout",
     "output_type": "stream",
     "text": [
      "2\n",
      "2\n"
     ]
    }
   ],
   "source": [
    "print(coins([25, 10, 5, 1], 6))\n",
    "print(coins_dp([25, 10, 5, 1], 6))"
   ]
  },
  {
   "cell_type": "markdown",
   "metadata": {
    "deletable": true,
    "editable": true
   },
   "source": [
    "### 8.12 Eight Queens: Write an algorithm to print all ways of arranging eight queens on an 8x8 chess board so that none of them share the same row, column, or diagonal. In this case, \"diagonal\" means all diagonals, not just the two that bisect the board."
   ]
  },
  {
   "cell_type": "code",
   "execution_count": 7,
   "metadata": {
    "collapsed": true,
    "deletable": true,
    "editable": true
   },
   "outputs": [],
   "source": [
    "from collections import deque\n",
    "\n",
    "\n",
    "def is_safe(column, qs):\n",
    "    row = len(qs)\n",
    "    queens_with_rows = zip(range(row - 1, -1, -1), qs)\n",
    "    \n",
    "    return all([column != c and abs(column - c) != abs(row - r) for r, c in queens_with_rows])\n",
    "    \n",
    "def queens(n):\n",
    "    def place_queens(k):\n",
    "        if k == 0:\n",
    "            yield []\n",
    "        else:\n",
    "            for qs in place_queens(k - 1):\n",
    "                for column in range(n):\n",
    "                    if is_safe(column, qs):\n",
    "                        yield [column] + qs\n",
    "\n",
    "    return place_queens(n)"
   ]
  },
  {
   "cell_type": "code",
   "execution_count": 12,
   "metadata": {
    "collapsed": false,
    "deletable": true,
    "editable": true
   },
   "outputs": [
    {
     "name": "stdout",
     "output_type": "stream",
     "text": [
      "o o x o \n",
      "x o o o \n",
      "o o o x \n",
      "o x o o \n",
      "\n",
      "o x o o \n",
      "o o o x \n",
      "x o o o \n",
      "o o x o \n",
      "\n"
     ]
    }
   ],
   "source": [
    "for result in queens(4):\n",
    "    for j in result:\n",
    "        for k in range(4):\n",
    "            if k == j:\n",
    "                print('x', end=' ')\n",
    "            else:\n",
    "                print('o', end=' ')\n",
    "        print()\n",
    "    print()"
   ]
  },
  {
   "cell_type": "markdown",
   "metadata": {
    "deletable": true,
    "editable": true
   },
   "source": [
    "### 8.13 Stack of Boxes: You have a stack of n boxes, with widths Wi' heights hi' and depths di'.The boxes cannot be rotated and can only be stacked on top of one another if each box in the stack is strictly larger than the box above it in width, height, and depth. Implement a method to compute the height of the tallest possible stack.The height of a stack is the sum of the heights of each box."
   ]
  },
  {
   "cell_type": "markdown",
   "metadata": {
    "deletable": true,
    "editable": true
   },
   "source": [
    "Sort by height then using longest increasing sequences algorithm"
   ]
  },
  {
   "cell_type": "markdown",
   "metadata": {
    "deletable": true,
    "editable": true
   },
   "source": [
    "The Longest Increasing Subsequence (LIS) problem is to find the length of the longest subsequence of a given sequence such that all elements of the subsequence are sorted in increasing order. For example, the length of LIS for {10, 22, 9, 33, 21, 50, 41, 60, 80} is 6 and LIS is {10, 22, 33, 50, 60, 80}."
   ]
  },
  {
   "cell_type": "code",
   "execution_count": 21,
   "metadata": {
    "collapsed": false,
    "deletable": true,
    "editable": true
   },
   "outputs": [],
   "source": [
    "def longest_increasing_seqs(ls):\n",
    "    length = len(ls)\n",
    "    d = [0] * length\n",
    "    trace = list(range(len(ls)))\n",
    "    \n",
    "    for i in range(length - 1, -1, -1):\n",
    "        best_choice = i\n",
    "\n",
    "        for j in range(i + 1, length):\n",
    "            if d[best_choice] < d[j] and ls[i] <= ls[j]:\n",
    "                best_choice = j\n",
    "        \n",
    "        d[i] = d[best_choice] + 1\n",
    "        trace[i] = best_choice\n",
    "\n",
    "    pointer = d.index(max(d))\n",
    "    path = [ls[pointer]]\n",
    "    \n",
    "    while pointer != trace[pointer]:\n",
    "        pointer = trace[pointer]\n",
    "        path.append(ls[pointer])\n",
    "\n",
    "    return path"
   ]
  },
  {
   "cell_type": "code",
   "execution_count": 22,
   "metadata": {
    "collapsed": false,
    "deletable": true,
    "editable": true
   },
   "outputs": [
    {
     "data": {
      "text/plain": [
       "[9, 10, 22, 33, 50, 60, 80]"
      ]
     },
     "execution_count": 22,
     "metadata": {},
     "output_type": "execute_result"
    }
   ],
   "source": [
    "longest_increasing_seqs([12, 9, 10, 22, 9, 33, 21, 50, 41, 60, 80, 34])"
   ]
  },
  {
   "cell_type": "code",
   "execution_count": 23,
   "metadata": {
    "collapsed": false
   },
   "outputs": [
    {
     "data": {
      "text/plain": [
       "[1, 3, 3, 4, 8, 9]"
      ]
     },
     "execution_count": 23,
     "metadata": {},
     "output_type": "execute_result"
    }
   ],
   "source": [
    "longest_increasing_seqs([1, 3, 2, 3, 4, 8, 7, 9])"
   ]
  },
  {
   "cell_type": "markdown",
   "metadata": {
    "deletable": true,
    "editable": true
   },
   "source": [
    "### 8.14 Boolean Evaluation: Given a boolean expression consisting of the symbols 0 (false), 1 (true), & (AND), I (OR), and\" (XOR), and a desired boolean result value result, implement a function to count the number of ways of parenthesizing the expression such that it evaluates to result.\n",
    "\n",
    "EXAMPLE\n",
    "\n",
    "countEval(\"1^0|0|1\", false) -> 2\n",
    "\n",
    "countEval(\"0&0&0&1^1|0\", true) -> 10"
   ]
  },
  {
   "cell_type": "markdown",
   "metadata": {
    "collapsed": true,
    "deletable": true,
    "editable": true
   },
   "source": [
    "### Permutations of an Array of Arrays\n",
    "\n",
    "Given a list of array, return a list of arrays, each array is a combination of one element in each given array.\n",
    "Let me give you an example to help you understand the question Suppose the input is [[1, 2, 3], [4], [5, 6]], the output should be [[1, 4, 5], [1, 4, 6], [2, 4, 5], [2, 4, 6], [3, 4, 5], [3, 4, 6]]."
   ]
  },
  {
   "cell_type": "code",
   "execution_count": 8,
   "metadata": {
    "collapsed": true
   },
   "outputs": [],
   "source": [
    "def permutations_of_an_array_of_arrays(ls):\n",
    "    if not ls:\n",
    "        raise ValueError('Cannot process an empty array')\n",
    "\n",
    "    def recur(step, result):\n",
    "        if step == 0:\n",
    "            yield result\n",
    "        else:\n",
    "            for value in ls[step - 1]:\n",
    "                yield from recur(step - 1, [value] + result)\n",
    "    \n",
    "    return recur(len(ls), [])"
   ]
  },
  {
   "cell_type": "code",
   "execution_count": 14,
   "metadata": {
    "collapsed": false
   },
   "outputs": [
    {
     "data": {
      "text/plain": [
       "[[1, 4, 5], [2, 4, 5], [3, 4, 5], [1, 4, 6], [2, 4, 6], [3, 4, 6]]"
      ]
     },
     "execution_count": 14,
     "metadata": {},
     "output_type": "execute_result"
    }
   ],
   "source": [
    "list(permutations_of_an_array_of_arrays([[1, 2, 3], [4], [5, 6]]))"
   ]
  },
  {
   "cell_type": "code",
   "execution_count": 15,
   "metadata": {
    "collapsed": false
   },
   "outputs": [
    {
     "data": {
      "text/plain": [
       "[[1, 2, 3]]"
      ]
     },
     "execution_count": 15,
     "metadata": {},
     "output_type": "execute_result"
    }
   ],
   "source": [
    "list(permutations_of_an_array_of_arrays([[1], [2], [3]]))"
   ]
  }
 ],
 "metadata": {
  "kernelspec": {
   "display_name": "Python 3",
   "language": "python",
   "name": "python3"
  },
  "language_info": {
   "codemirror_mode": {
    "name": "ipython",
    "version": 3
   },
   "file_extension": ".py",
   "mimetype": "text/x-python",
   "name": "python",
   "nbconvert_exporter": "python",
   "pygments_lexer": "ipython3",
   "version": "3.6.0"
  }
 },
 "nbformat": 4,
 "nbformat_minor": 2
}
