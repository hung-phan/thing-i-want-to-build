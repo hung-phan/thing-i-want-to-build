{
 "cells": [
  {
   "cell_type": "code",
   "execution_count": 1,
   "metadata": {
    "collapsed": false,
    "deletable": true,
    "editable": true
   },
   "outputs": [
    {
     "data": {
      "text/plain": [
       "[Function: DoubleLinkedList]"
      ]
     },
     "execution_count": 1,
     "metadata": {},
     "output_type": "execute_result"
    }
   ],
   "source": [
    "class DoubleLinkedList {\n",
    "    constructor(key, value, prev, next) {\n",
    "        this.key = key;\n",
    "        this.value = value;\n",
    "        this.prev = prev;\n",
    "        this.next = next;\n",
    "    }\n",
    "}"
   ]
  },
  {
   "cell_type": "code",
   "execution_count": 2,
   "metadata": {
    "collapsed": false,
    "deletable": true,
    "editable": true
   },
   "outputs": [
    {
     "data": {
      "text/plain": [
       "[Function: LRUCache]"
      ]
     },
     "execution_count": 2,
     "metadata": {},
     "output_type": "execute_result"
    }
   ],
   "source": [
    "class LRUCache {\n",
    "    constructor(limit = 10) {\n",
    "        assert(limit > 0, \"Limit must be bigger than 0\");\n",
    "        // DoubleLinkedList value can contain both key and value\n",
    "        \n",
    "        this.limit = limit;\n",
    "        this.entries = new Map();\n",
    "        this.newestKey = undefined;\n",
    "        this.oldestKey = undefined;\n",
    "    }\n",
    "    \n",
    "    reorganizeMRUKey(key) {\n",
    "        if (key === this.newestKey) {\n",
    "            return;\n",
    "        }\n",
    "\n",
    "        const newestNode = this.entries.get(this.newestKey);\n",
    "        const node = this.entries.get(key);\n",
    "        const prevNode = node.prev;\n",
    "        const nextNode = node.next;\n",
    "        \n",
    "        if (prevNode) {\n",
    "            prevNode.next = nextNode;\n",
    "        }\n",
    "        \n",
    "        if (nextNode) {\n",
    "            nextNode.prev = prevNode;\n",
    "        }\n",
    "        \n",
    "        newestNode.next = node;\n",
    "        node.prev = newestNode;\n",
    "        \n",
    "        this.newestKey = node.key;\n",
    "    }\n",
    "    \n",
    "    removeLRUKey() {\n",
    "        const oldestNode = this.entries.get(this.oldestKey);\n",
    "        const nextNode = oldestNode.next;\n",
    "\n",
    "        oldestNode.next = nextNode.prev = undefined;\n",
    "\n",
    "        this.entries.delete(this.oldestKey);\n",
    "        this.oldestKey = nextNode.key;\n",
    "    }\n",
    "    \n",
    "    get(key) {\n",
    "        if (this.entries.has(key)) {\n",
    "            this.reorganizeMRUKey(key);\n",
    "            return this.entries.get(key).value;\n",
    "        } else{\n",
    "            return undefined;\n",
    "        }\n",
    "    }\n",
    "    \n",
    "    set(key, value) {\n",
    "        if (!this.entries.has(key) && this.limit < this.entries.size + 1) {\n",
    "            this.removeLRUKey();\n",
    "        }\n",
    "        \n",
    "        const prevNode = this.entries.get(this.newestKey);\n",
    "        const newNode = new DoubleLinkedList(key, value, prevNode);\n",
    "        \n",
    "        if (prevNode) {\n",
    "            prevNode.next = newNode;\n",
    "        }\n",
    "\n",
    "        if (this.entries.size == 0) {\n",
    "            this.oldestKey = key;\n",
    "        }\n",
    "        \n",
    "        this.newestKey = key;\n",
    "        this.entries.set(key, newNode);\n",
    "    }\n",
    "}"
   ]
  },
  {
   "cell_type": "code",
   "execution_count": 11,
   "metadata": {
    "collapsed": false,
    "deletable": true,
    "editable": true
   },
   "outputs": [
    {
     "name": "stdout",
     "output_type": "stream",
     "text": [
      "Map {\n",
      "  2 => DoubleLinkedList {\n",
      "  key: 2,\n",
      "  value: 2,\n",
      "  prev: undefined,\n",
      "  next: DoubleLinkedList { key: 3, value: 3, prev: [Circular], next: [Object] } },\n",
      "  3 => DoubleLinkedList {\n",
      "  key: 3,\n",
      "  value: 3,\n",
      "  prev: DoubleLinkedList { key: 2, value: 2, prev: undefined, next: [Circular] },\n",
      "  next: DoubleLinkedList { key: 4, value: 4, prev: [Circular], next: [Object] } },\n",
      "  4 => DoubleLinkedList {\n",
      "  key: 4,\n",
      "  value: 4,\n",
      "  prev: DoubleLinkedList { key: 3, value: 3, prev: [Object], next: [Circular] },\n",
      "  next: DoubleLinkedList { key: 5, value: 5, prev: [Circular], next: [Object] } },\n",
      "  5 => DoubleLinkedList {\n",
      "  key: 5,\n",
      "  value: 5,\n",
      "  prev: DoubleLinkedList { key: 4, value: 4, prev: [Object], next: [Circular] },\n",
      "  next: DoubleLinkedList { key: 6, value: 6, prev: [Circular], next: [Object] } },\n",
      "  6 => DoubleLinkedList {\n",
      "  key: 6,\n",
      "  value: 6,\n",
      "  prev: DoubleLinkedList { key: 5, value: 5, prev: [Object], next: [Circular] },\n",
      "  next: DoubleLinkedList { key: 7, value: 7, prev: [Circular], next: [Object] } },\n",
      "  7 => DoubleLinkedList {\n",
      "  key: 7,\n",
      "  value: 7,\n",
      "  prev: DoubleLinkedList { key: 6, value: 6, prev: [Object], next: [Circular] },\n",
      "  next: DoubleLinkedList { key: 8, value: 8, prev: [Circular], next: [Object] } },\n",
      "  8 => DoubleLinkedList {\n",
      "  key: 8,\n",
      "  value: 8,\n",
      "  prev: DoubleLinkedList { key: 7, value: 7, prev: [Object], next: [Circular] },\n",
      "  next: DoubleLinkedList { key: 9, value: 9, prev: [Circular], next: [Object] } },\n",
      "  9 => DoubleLinkedList {\n",
      "  key: 9,\n",
      "  value: 9,\n",
      "  prev: DoubleLinkedList { key: 8, value: 8, prev: [Object], next: [Circular] },\n",
      "  next: DoubleLinkedList { key: 10, value: 10, prev: [Circular], next: [Object] } },\n",
      "  10 => DoubleLinkedList {\n",
      "  key: 10,\n",
      "  value: 10,\n",
      "  prev: DoubleLinkedList { key: 9, value: 9, prev: [Object], next: [Circular] },\n",
      "  next: DoubleLinkedList { key: 11, value: 11, prev: [Circular], next: undefined } },\n",
      "  11 => DoubleLinkedList {\n",
      "  key: 11,\n",
      "  value: 11,\n",
      "  prev: DoubleLinkedList { key: 10, value: 10, prev: [Object], next: [Circular] },\n",
      "  next: undefined } }\n"
     ]
    },
    {
     "data": {
      "text/plain": [
       "undefined"
      ]
     },
     "execution_count": 11,
     "metadata": {},
     "output_type": "execute_result"
    }
   ],
   "source": [
    "var cache = new LRUCache();\n",
    "\n",
    "cache.set(1, 1);\n",
    "cache.set(2, 2);\n",
    "cache.set(3, 3);\n",
    "cache.set(4, 4);\n",
    "cache.set(5, 5);\n",
    "cache.set(6, 6);\n",
    "cache.set(7, 7);\n",
    "cache.set(8, 8);\n",
    "cache.set(9, 9);\n",
    "cache.set(10, 10);\n",
    "cache.set(11, 11);\n",
    "\n",
    "console.log(cache.entries);"
   ]
  }
 ],
 "metadata": {
  "kernelspec": {
   "display_name": "Javascript (Node.js)",
   "language": "javascript",
   "name": "javascript"
  },
  "language_info": {
   "file_extension": ".js",
   "mimetype": "application/javascript",
   "name": "javascript",
   "version": "6.10.0"
  }
 },
 "nbformat": 4,
 "nbformat_minor": 2
}
