{
  "cells": [
    {
      "cell_type": "code",
      "execution_count": 8,
      "metadata": {
        "pycharm": {
          "is_executing": false
        }
      },
      "outputs": [],
      "source": [
        "import heapq\n",
        "import functools\n",
        "import itertools\n",
        "\n",
        "from copy import copy\n",
        "from collections import deque, defaultdict\n",
        "from dataclasses import dataclass\n",
        "from typing import Set, Tuple, List, Dict, Any"
      ]
    },
    {
      "cell_type": "code",
      "execution_count": 9,
      "metadata": {
        "pycharm": {
          "is_executing": false
        }
      },
      "outputs": [],
      "source": [
        "@dataclass(frozen\u003dTrue)\n",
        "class DirectedEdge:\n",
        "    _from: int\n",
        "    _to: int\n",
        "    _weight: int"
      ]
    },
    {
      "cell_type": "code",
      "execution_count": 10,
      "metadata": {
        "pycharm": {
          "is_executing": false
        }
      },
      "outputs": [],
      "source": [
        "class EdgeWeightedDiagraph:\n",
        "    V: int\n",
        "    _adj: Tuple[Set[DirectedEdge]]\n",
        "\n",
        "    def __init__(self, V: int):\n",
        "        self.V \u003d V\n",
        "        self.adj \u003d tuple(set() for _ in range(V))\n",
        "        self.edges \u003d set()\n",
        "\n",
        "    def add_edge(self, e: DirectedEdge) -\u003e None:\n",
        "        self.adj[e._from].add(e)\n",
        "        self.edges.add(e)"
      ]
    },
    {
      "cell_type": "code",
      "execution_count": 11,
      "metadata": {
        "pycharm": {
          "is_executing": false
        }
      },
      "outputs": [],
      "source": [
        "class IndexPriorityQueue:\n",
        "    _data: List[Tuple[int, Any]]\n",
        "    _entry_finder: Dict[int, Any]\n",
        "\n",
        "    _TOMB_STONE \u003d float(\u0027inf\u0027)\n",
        "\n",
        "    def __init__(self):\n",
        "        self._data \u003d []\n",
        "        self._entry_finder \u003d {}\n",
        "\n",
        "    def is_empty(self) -\u003ebool:\n",
        "        return len(self._entry_finder) \u003d\u003d 0\n",
        "\n",
        "    def contains(self, key: Any) -\u003e bool:\n",
        "        return key in self._entry_finder\n",
        "\n",
        "    def insert(self, key: Any, val: Any, priority: int) -\u003e None:\n",
        "        if self.contains(key):\n",
        "            raise KeyError(\u0027key already exists in entry\u0027)\n",
        "\n",
        "        entry \u003d [priority, key, val]\n",
        "\n",
        "        self._entry_finder[key] \u003d entry\n",
        "        heapq.heappush(self._data, entry)\n",
        "\n",
        "    def remove(self, key: Any) -\u003e Any:\n",
        "        entry \u003d self._entry_finder.pop(key)\n",
        "        val, entry[-1] \u003d entry[-1], IndexPriorityQueue._TOMB_STONE\n",
        "        return val\n",
        "\n",
        "    def update(self, key: Any, priority: int) -\u003e None:\n",
        "        if not self.contains(key):\n",
        "            raise KeyError(\u0027key not found\u0027)\n",
        "\n",
        "        self.insert(key, self.remove(key), priority)\n",
        "\n",
        "    def pop(self) -\u003e Any:\n",
        "        while self._entry_finder:\n",
        "            priority, key, val \u003d heapq.heappop(self._data)\n",
        "\n",
        "            if val is not IndexPriorityQueue._TOMB_STONE:\n",
        "                del self._entry_finder[key]\n",
        "\n",
        "                return key, val\n",
        "\n",
        "        raise KeyError(\u0027pop from an empty priority queue\u0027)"
      ]
    },
    {
      "cell_type": "code",
      "execution_count": 12,
      "metadata": {
        "pycharm": {
          "is_executing": false
        }
      },
      "outputs": [
        {
          "name": "stdout",
          "text": [
            "[[2, 2, \u0027YOLO\u0027], [3, 3, \u0027YOLO AGAIN\u0027]]\n{2: [2, 2, \u0027YOLO\u0027], 3: [3, 3, \u0027YOLO AGAIN\u0027]}\n[[1, 3, \u0027YOLO AGAIN\u0027], [3, 3, inf], [2, 2, \u0027YOLO\u0027]]\n{2: [2, 2, \u0027YOLO\u0027], 3: [1, 3, \u0027YOLO AGAIN\u0027]}\n(3, \u0027YOLO AGAIN\u0027)\n(2, \u0027YOLO\u0027)\n[[3, 3, inf]]\n{}\n"
          ],
          "output_type": "stream"
        }
      ],
      "source": [
        "pq \u003d IndexPriorityQueue()\n",
        "\n",
        "pq.insert(2, \"YOLO\", 2)\n",
        "pq.insert(3, \"YOLO AGAIN\", 3)\n",
        "\n",
        "print(pq._data)\n",
        "print(pq._entry_finder)\n",
        "\n",
        "pq.update(3, 1)\n",
        "\n",
        "print(pq._data)\n",
        "print(pq._entry_finder)\n",
        "\n",
        "print(pq.pop())\n",
        "print(pq.pop())\n",
        "\n",
        "print(pq._data)\n",
        "print(pq._entry_finder)"
      ]
    },
    {
      "cell_type": "code",
      "execution_count": 13,
      "metadata": {
        "pycharm": {
          "is_executing": false
        }
      },
      "outputs": [],
      "source": [
        "class DijkstraSP:\n",
        "    def __init__(self, G: EdgeWeightedDiagraph, start: int, end: int):\n",
        "        self.G \u003d G\n",
        "        self.edge_to \u003d [-1] * self.G.V\n",
        "        self.dist_to \u003d [float(\u0027inf\u0027)] * self.G.V\n",
        "\n",
        "        self._start \u003d start\n",
        "        self._end \u003d end\n",
        "\n",
        "        self._pq \u003d IndexPriorityQueue()\n",
        "\n",
        "        self._execute()\n",
        "\n",
        "    def _relax(self, edge: DirectedEdge) -\u003e None:\n",
        "        v, w \u003d edge._from, edge._to\n",
        "        optimized_cost \u003d self.dist_to[v] + edge._weight\n",
        "\n",
        "        if optimized_cost \u003c self.dist_to[w]:\n",
        "            self.dist_to[w] \u003d optimized_cost\n",
        "            self.edge_to[w] \u003d edge\n",
        "\n",
        "        if self._pq.contains(w):\n",
        "            self._pq.update(key\u003dw, priority\u003doptimized_cost)\n",
        "        else:\n",
        "            self._pq.insert(key\u003dw, val\u003doptimized_cost, priority\u003doptimized_cost)\n",
        "\n",
        "    def _execute(self):\n",
        "        self.dist_to[self._start] \u003d 0\n",
        "        self._pq.insert(key\u003dself._start, val\u003d0, priority\u003d0)\n",
        "\n",
        "        while not self._pq.is_empty():\n",
        "            v, _ \u003d self._pq.pop()\n",
        "\n",
        "            if v \u003d\u003d self._end:\n",
        "                return\n",
        "\n",
        "            for edge in self.G.adj[v]:\n",
        "                self._relax(edge)\n",
        "\n",
        "    def cost(self) -\u003e float:\n",
        "        return self.dist_to[self._end]\n",
        "\n",
        "    def route(self) -\u003e Tuple[DirectedEdge]:\n",
        "        if self.cost() \u003d\u003d float(\u0027inf\u0027):\n",
        "            return tuple()\n",
        "\n",
        "        end \u003d self._end\n",
        "        result \u003d deque()\n",
        "\n",
        "        while end !\u003d self._start:\n",
        "            edge \u003d self.edge_to[end]\n",
        "\n",
        "            result.appendleft(edge)\n",
        "\n",
        "            end \u003d edge._from\n",
        "\n",
        "        return tuple(result)"
      ]
    },
    {
      "cell_type": "code",
      "execution_count": 14,
      "metadata": {
        "pycharm": {
          "is_executing": false
        }
      },
      "outputs": [],
      "source": [
        "G \u003d EdgeWeightedDiagraph(8)\n",
        "\n",
        "G.add_edge(DirectedEdge(0, 1, 5))\n",
        "G.add_edge(DirectedEdge(0, 4, 9))\n",
        "G.add_edge(DirectedEdge(0, 7, 8))\n",
        "G.add_edge(DirectedEdge(1, 2, 12))\n",
        "G.add_edge(DirectedEdge(1, 3, 15))\n",
        "G.add_edge(DirectedEdge(1, 7, 4))\n",
        "G.add_edge(DirectedEdge(2, 3, 3))\n",
        "G.add_edge(DirectedEdge(2, 6, 11))\n",
        "G.add_edge(DirectedEdge(3, 6, 9))\n",
        "G.add_edge(DirectedEdge(4, 5, 4))\n",
        "G.add_edge(DirectedEdge(4, 6, 20))\n",
        "G.add_edge(DirectedEdge(4, 7, 5))\n",
        "G.add_edge(DirectedEdge(5, 2, 1))\n",
        "G.add_edge(DirectedEdge(5, 6, 13))\n",
        "G.add_edge(DirectedEdge(7, 5, 6))\n",
        "G.add_edge(DirectedEdge(7, 2, 7))"
      ]
    },
    {
      "cell_type": "code",
      "execution_count": 15,
      "metadata": {
        "pycharm": {
          "is_executing": false
        }
      },
      "outputs": [
        {
          "name": "stdout",
          "text": [
            "25\n----------------\n(DirectedEdge(_from\u003d0, _to\u003d4, _weight\u003d9), DirectedEdge(_from\u003d4, _to\u003d5, _weight\u003d4), DirectedEdge(_from\u003d5, _to\u003d2, _weight\u003d1), DirectedEdge(_from\u003d2, _to\u003d6, _weight\u003d11))\n"
          ],
          "output_type": "stream"
        }
      ],
      "source": [
        "dsp \u003d DijkstraSP(G, 0, 6)\n",
        "\n",
        "print(dsp.cost())\n",
        "print(\u0027----------------\u0027)\n",
        "print(dsp.route())"
      ]
    },
    {
      "cell_type": "code",
      "execution_count": 16,
      "metadata": {
        "pycharm": {
          "is_executing": false
        }
      },
      "outputs": [],
      "source": [
        "class FordBellman:\n",
        "    def __init__(self, G: EdgeWeightedDiagraph, start: int):\n",
        "        self.G \u003d G\n",
        "        self.edge_to \u003d [-1] * self.G.V\n",
        "        self.dist_to \u003d [float(\u0027inf\u0027)] * self.G.V\n",
        "\n",
        "        self._start \u003d start\n",
        "\n",
        "        self._execute()\n",
        "\n",
        "    def _relax(self, edge: DirectedEdge) -\u003e bool:\n",
        "        v, w \u003d edge._from, edge._to\n",
        "        optimized_cost \u003d self.dist_to[v] + edge._weight\n",
        "\n",
        "        if optimized_cost \u003c self.dist_to[w]:\n",
        "            self.dist_to[w] \u003d optimized_cost\n",
        "            self.edge_to[w] \u003d edge\n",
        "\n",
        "            return True\n",
        "\n",
        "        return False\n",
        "\n",
        "    def _execute(self):\n",
        "        self.dist_to[self._start] \u003d 0\n",
        "\n",
        "        for _ in range(self.G.V):\n",
        "            has_any_optimization \u003d False\n",
        "\n",
        "            for v in range(self.G.V):\n",
        "                for edge in self.G.adj[v]:\n",
        "                    has_any_optimization |\u003d self._relax(edge)\n",
        "\n",
        "            if not has_any_optimization:\n",
        "                return\n",
        "\n",
        "    def has_negative_cycle(self) -\u003e bool:\n",
        "        for v in range(self.G.V):\n",
        "            for edge in self.G.adj[v]:\n",
        "                if self._relax(edge):\n",
        "                    return True\n",
        "\n",
        "        return False\n",
        "\n",
        "    def cost(self, end: int) -\u003e float:\n",
        "        return self.dist_to[end]\n",
        "\n",
        "    def route(self, end: int) -\u003e Tuple[DirectedEdge]:\n",
        "        if self.cost(end) \u003d\u003d float(\u0027inf\u0027):\n",
        "            return tuple()\n",
        "\n",
        "        result \u003d deque()\n",
        "\n",
        "        while end !\u003d self._start:\n",
        "            edge \u003d self.edge_to[end]\n",
        "\n",
        "            result.appendleft(edge)\n",
        "\n",
        "            end \u003d edge._from\n",
        "\n",
        "        return tuple(result)"
      ]
    },
    {
      "cell_type": "code",
      "execution_count": 17,
      "metadata": {
        "pycharm": {
          "is_executing": false
        }
      },
      "outputs": [
        {
          "name": "stdout",
          "text": [
            "25\n----------------\n(DirectedEdge(_from\u003d0, _to\u003d4, _weight\u003d9), DirectedEdge(_from\u003d4, _to\u003d5, _weight\u003d4), DirectedEdge(_from\u003d5, _to\u003d2, _weight\u003d1), DirectedEdge(_from\u003d2, _to\u003d6, _weight\u003d11))\n----------------\nFalse\n"
          ],
          "output_type": "stream"
        }
      ],
      "source": [
        "fb \u003d FordBellman(G, 0)\n",
        "\n",
        "print(fb.cost(6))\n",
        "print(\u0027----------------\u0027)\n",
        "print(fb.route(6))\n",
        "print(\u0027----------------\u0027)\n",
        "print(fb.has_negative_cycle())"
      ]
    },
    {
      "cell_type": "code",
      "execution_count": 18,
      "metadata": {
        "pycharm": {
          "is_executing": false
        }
      },
      "outputs": [],
      "source": "class FloydWarshall:\n    def __init__(self, G: EdgeWeightedDiagraph):\n        self.G \u003d G\n        self.trace \u003d defaultdict(lambda: -1)\n        self.dist_to \u003d defaultdict(lambda: float(\u0027inf\u0027))\n\n        self._execute()\n\n    def _execute(self):\n        for edge in self.G.edges:\n            self.dist_to[edge._from, edge._to] \u003d edge._weight\n            self.trace[edge._from, edge._to] \u003d edge._from\n\n        for k in range(self.G.V):\n            for v in range(self.G.V):\n                for w in range(self.G.V):\n                    optimized_cost \u003d self.dist_to[v, k] + self.dist_to[k, w]\n\n                    if optimized_cost \u003c self.dist_to[v, w]:\n                        self.dist_to[v, w] \u003d optimized_cost\n                        self.trace[v, w] \u003d self.trace[k, w]\n\n    def cost(self, start: str, end: str) -\u003e float:\n        return self.dist_to[start, end]\n\n    def route(self, start: str, end: str) -\u003e Tuple[str]:\n        if self.trace[start, end] \u003d\u003d -1:\n            return tuple()\n\n        path \u003d deque([end])\n\n        while start !\u003d end:\n            end \u003d self.trace[start, end]\n            path.appendleft(end)\n            \n        return tuple(path)"
    },
    {
      "cell_type": "code",
      "execution_count": 19,
      "metadata": {
        "pycharm": {
          "is_executing": false
        }
      },
      "outputs": [
        {
          "name": "stdout",
          "text": [
            "25\n----------------\n(0, 4, 5, 2, 6)\n"
          ],
          "output_type": "stream"
        }
      ],
      "source": [
        "fb \u003d FloydWarshall(G)\n",
        "\n",
        "print(fb.cost(0, 6))\n",
        "print(\u0027----------------\u0027)\n",
        "print(fb.route(0, 6))"
      ]
    },
    {
      "cell_type": "markdown",
      "metadata": {
        "pycharm": {}
      },
      "source": [
        "## Detect negative cycle for directed graph"
      ]
    },
    {
      "cell_type": "code",
      "execution_count": 11,
      "metadata": {
        "pycharm": {}
      },
      "outputs": [],
      "source": [
        "class DirectedGraph:\n",
        "    def __init__(self, V: int):\n",
        "        self.V \u003d V\n",
        "        self.graph \u003d defaultdict(set)\n",
        "\n",
        "    def add_edge(self, v: int, w: int) -\u003e None:\n",
        "        self.graph[v].add(w)\n",
        "        \n",
        "    def is_cyclic(self) -\u003e bool:\n",
        "        marker \u003d set() \n",
        "        recursion_stack \u003d set()\n",
        "\n",
        "        def is_cyclic_until(v):\n",
        "            marker.add(v)\n",
        "            recursion_stack.add(v)\n",
        "\n",
        "            for w in self.graph[v]:\n",
        "                if w not in marker:\n",
        "                    return is_cyclic_until(w)\n",
        "                elif w in recursion_stack:\n",
        "                    return True\n",
        "\n",
        "            recursion_stack.remove(v)\n",
        "\n",
        "            return False\n",
        "\n",
        "        for v in range(self.V):\n",
        "            if v not in marker and is_cyclic_until(v): \n",
        "                return True\n",
        "\n",
        "        return False"
      ]
    },
    {
      "cell_type": "code",
      "execution_count": 12,
      "metadata": {
        "pycharm": {}
      },
      "outputs": [
        {
          "name": "stdout",
          "output_type": "stream",
          "text": [
            "Graph has a cycle\n"
          ]
        }
      ],
      "source": [
        "g \u003d DirectedGraph(4)\n",
        "\n",
        "g.add_edge(0, 1)\n",
        "g.add_edge(0, 2)\n",
        "g.add_edge(1, 2)\n",
        "g.add_edge(2, 0)\n",
        "g.add_edge(2, 3)\n",
        "g.add_edge(3, 3)\n",
        "\n",
        "if g.is_cyclic(): \n",
        "    print(\"Graph has a cycle\")\n",
        "else: \n",
        "    print(\"Graph has no cycle\")"
      ]
    },
    {
      "cell_type": "code",
      "execution_count": 13,
      "metadata": {
        "pycharm": {}
      },
      "outputs": [],
      "source": [
        "class UnionFind:\n",
        "    def __init__(self, V: int):\n",
        "        self._data \u003d [i for i in range(V)]\n",
        "        self._size \u003d [1] * V\n",
        "\n",
        "    def get_root(self, v: int) -\u003e int:\n",
        "        while v !\u003d self._data[v]:\n",
        "            self._data[v] \u003d self._data[self._data[v]]\n",
        "            v \u003d self._data[v]\n",
        "\n",
        "        return v\n",
        "\n",
        "    def is_connected(self, v: int, w: int) -\u003e bool:\n",
        "        return self.get_root(v) \u003d\u003d self.get_root(w)\n",
        "\n",
        "    def union(self, v: int, w: int) -\u003e None:\n",
        "        v_root, w_root \u003d self.get_root(v), self.get_root(w)\n",
        "\n",
        "        if v_root \u003d\u003d w_root:\n",
        "            return\n",
        "\n",
        "        if self._size[v_root] \u003c self._size[w_root]:\n",
        "            smaller_root, larger_root \u003d v_root, w_root\n",
        "        else:\n",
        "            smaller_root, larger_root \u003d w_root, v_root\n",
        "\n",
        "        self._data[smaller_root] \u003d self._data[larger_root]\n",
        "        self._size[larger_root] +\u003d self._size[smaller_root]"
      ]
    },
    {
      "cell_type": "code",
      "execution_count": 14,
      "metadata": {
        "pycharm": {}
      },
      "outputs": [],
      "source": [
        "@functools.total_ordering\n",
        "@dataclass(frozen\u003dTrue)\n",
        "class Edge:\n",
        "    v: int\n",
        "    w: int\n",
        "    weight: int\n",
        "\n",
        "    @property\n",
        "    def either(self):\n",
        "        return self.v\n",
        "\n",
        "    def other(self, v: int) -\u003e int:\n",
        "        return self.w if v \u003d\u003d self.v else self.v\n",
        "\n",
        "    def __lt__(self, other: \u0027Edge\u0027) -\u003e bool:\n",
        "        if type(other) is not Edge:\n",
        "            raise TypeError()\n",
        "\n",
        "        return self.weight \u003c other.weight"
      ]
    },
    {
      "cell_type": "code",
      "execution_count": 15,
      "metadata": {
        "pycharm": {}
      },
      "outputs": [],
      "source": [
        "class EdgeWeightedGraph:\n",
        "    V: int\n",
        "    _adj: Tuple[Set[Edge]]\n",
        "\n",
        "    def __init__(self, V: int):\n",
        "        self.V \u003d V\n",
        "        self.adj \u003d tuple(set() for _ in range(V))\n",
        "\n",
        "    def add_edge(self, e: Edge) -\u003e None:\n",
        "        self.adj[e.v].add(e)\n",
        "        self.adj[e.w].add(e)\n",
        "\n",
        "    def all_edges(self) -\u003e Set[Edge]:\n",
        "        return set(itertools.chain.from_iterable(self.adj))"
      ]
    },
    {
      "cell_type": "code",
      "execution_count": 16,
      "metadata": {
        "pycharm": {}
      },
      "outputs": [],
      "source": [
        "class KrusalMST:\n",
        "    def __init__(self, G: EdgeWeightedGraph):\n",
        "        self.G \u003d G\n",
        "        self.mst \u003d []\n",
        "\n",
        "        self._execute()\n",
        "\n",
        "    def _execute(self):\n",
        "        pq \u003d [edge for edge in self.G.all_edges()]\n",
        "\n",
        "        heapq.heapify(pq)\n",
        "\n",
        "        uf \u003d UnionFind(self.G.V)\n",
        "\n",
        "        while pq and len(self.mst) \u003c self.G.V - 1:\n",
        "            edge \u003d heapq.heappop(pq)\n",
        "\n",
        "            if not uf.is_connected(edge.v, edge.w):\n",
        "                self.mst.append(edge)\n",
        "                uf.union(edge.v, edge.w)\n",
        "\n",
        "        if len(self.mst) !\u003d self.G.V - 1:\n",
        "            self.mst \u003d []"
      ]
    },
    {
      "cell_type": "code",
      "execution_count": 17,
      "metadata": {
        "pycharm": {}
      },
      "outputs": [
        {
          "data": {
            "text/plain": [
              "({Edge(v\u003d0, w\u003d7, weight\u003d0.16),\n",
              "  Edge(v\u003d0, w\u003d2, weight\u003d0.26),\n",
              "  Edge(v\u003d0, w\u003d4, weight\u003d0.38),\n",
              "  Edge(v\u003d6, w\u003d0, weight\u003d0.58)},\n",
              " {Edge(v\u003d1, w\u003d7, weight\u003d0.19),\n",
              "  Edge(v\u003d1, w\u003d3, weight\u003d0.29),\n",
              "  Edge(v\u003d1, w\u003d5, weight\u003d0.32),\n",
              "  Edge(v\u003d1, w\u003d2, weight\u003d0.36)},\n",
              " {Edge(v\u003d2, w\u003d3, weight\u003d0.17),\n",
              "  Edge(v\u003d0, w\u003d2, weight\u003d0.26),\n",
              "  Edge(v\u003d2, w\u003d7, weight\u003d0.34),\n",
              "  Edge(v\u003d1, w\u003d2, weight\u003d0.36),\n",
              "  Edge(v\u003d6, w\u003d2, weight\u003d0.4)},\n",
              " {Edge(v\u003d2, w\u003d3, weight\u003d0.17),\n",
              "  Edge(v\u003d1, w\u003d3, weight\u003d0.29),\n",
              "  Edge(v\u003d3, w\u003d6, weight\u003d0.52)},\n",
              " {Edge(v\u003d4, w\u003d5, weight\u003d0.35),\n",
              "  Edge(v\u003d4, w\u003d7, weight\u003d0.37),\n",
              "  Edge(v\u003d0, w\u003d4, weight\u003d0.38),\n",
              "  Edge(v\u003d6, w\u003d4, weight\u003d0.93)},\n",
              " {Edge(v\u003d5, w\u003d7, weight\u003d0.28),\n",
              "  Edge(v\u003d1, w\u003d5, weight\u003d0.32),\n",
              "  Edge(v\u003d4, w\u003d5, weight\u003d0.35)},\n",
              " {Edge(v\u003d6, w\u003d2, weight\u003d0.4),\n",
              "  Edge(v\u003d3, w\u003d6, weight\u003d0.52),\n",
              "  Edge(v\u003d6, w\u003d0, weight\u003d0.58),\n",
              "  Edge(v\u003d6, w\u003d4, weight\u003d0.93)},\n",
              " {Edge(v\u003d0, w\u003d7, weight\u003d0.16),\n",
              "  Edge(v\u003d1, w\u003d7, weight\u003d0.19),\n",
              "  Edge(v\u003d5, w\u003d7, weight\u003d0.28),\n",
              "  Edge(v\u003d2, w\u003d7, weight\u003d0.34),\n",
              "  Edge(v\u003d4, w\u003d7, weight\u003d0.37)})"
            ]
          },
          "execution_count": 17,
          "metadata": {},
          "output_type": "execute_result"
        }
      ],
      "source": [
        "G \u003d EdgeWeightedGraph(8)\n",
        "\n",
        "G.add_edge(Edge(0, 7, 0.16))\n",
        "G.add_edge(Edge(2, 3, 0.17))\n",
        "G.add_edge(Edge(1, 7, 0.19))\n",
        "G.add_edge(Edge(0, 2, 0.26))\n",
        "G.add_edge(Edge(5, 7, 0.28))\n",
        "G.add_edge(Edge(1, 3, 0.29))\n",
        "G.add_edge(Edge(1, 5, 0.32))\n",
        "G.add_edge(Edge(2, 7, 0.34))\n",
        "G.add_edge(Edge(4, 5, 0.35))\n",
        "G.add_edge(Edge(1, 2, 0.36))\n",
        "G.add_edge(Edge(4, 7, 0.37))\n",
        "G.add_edge(Edge(0, 4, 0.38))\n",
        "G.add_edge(Edge(6, 2, 0.40))\n",
        "G.add_edge(Edge(3, 6, 0.52))\n",
        "G.add_edge(Edge(6, 0, 0.58))\n",
        "G.add_edge(Edge(6, 4, 0.93))\n",
        "\n",
        "G.adj"
      ]
    },
    {
      "cell_type": "code",
      "execution_count": 18,
      "metadata": {
        "pycharm": {}
      },
      "outputs": [
        {
          "name": "stdout",
          "output_type": "stream",
          "text": [
            "64.4 µs ± 5.22 µs per loop (mean ± std. dev. of 7 runs, 10000 loops each)\n"
          ]
        }
      ],
      "source": [
        "%timeit k_mst \u003d KrusalMST(G); k_mst.mst"
      ]
    },
    {
      "cell_type": "code",
      "execution_count": 19,
      "metadata": {
        "pycharm": {}
      },
      "outputs": [],
      "source": [
        "class PrimMST:\n",
        "    def __init__(self, G: EdgeWeightedGraph):\n",
        "        self.G \u003d G\n",
        "        self.mst \u003d []\n",
        "\n",
        "        self._pq \u003d []\n",
        "        self._marker \u003d set()\n",
        "\n",
        "        self._execute()\n",
        "\n",
        "    def _dfs(self, v: int) -\u003e None:\n",
        "        self._marker.add(v)\n",
        "\n",
        "        for edge in self.G.adj[v]:\n",
        "            if edge.other(v) not in self._marker:\n",
        "                heapq.heappush(self._pq, edge)\n",
        "\n",
        "    def _execute(self):\n",
        "        self._dfs(0)\n",
        "\n",
        "        while pq and len(self.mst) \u003c self.G.V - 1:\n",
        "            edge \u003d heapq.heappop(self._pq)\n",
        "            v, w \u003d edge.v, edge.w\n",
        "\n",
        "            if v in self._marker and w in self._marker:\n",
        "                continue\n",
        "\n",
        "            if v not in self._marker:\n",
        "                self._dfs(v)\n",
        "\n",
        "            if w not in self._marker:\n",
        "                self._dfs(w)\n",
        "\n",
        "            self.mst.append(edge)\n",
        "\n",
        "        if len(self.mst) !\u003d self.G.V - 1:\n",
        "            self.mst \u003d []"
      ]
    },
    {
      "cell_type": "code",
      "execution_count": 20,
      "metadata": {
        "pycharm": {}
      },
      "outputs": [
        {
          "name": "stdout",
          "output_type": "stream",
          "text": [
            "47.3 µs ± 4.63 µs per loop (mean ± std. dev. of 7 runs, 10000 loops each)\n"
          ]
        }
      ],
      "source": [
        "%timeit p_mst \u003d PrimMST(G); p_mst.mst"
      ]
    },
    {
      "cell_type": "code",
      "execution_count": 21,
      "metadata": {
        "pycharm": {}
      },
      "outputs": [],
      "source": [
        "@dataclass\n",
        "class FlowEdge:\n",
        "    v: int\n",
        "    w: int\n",
        "    capacity: float\n",
        "    flow: float \u003d 0.0\n",
        "\n",
        "    def other(self, vertex: int) -\u003e int:\n",
        "        if vertex \u003d\u003d self.v:\n",
        "            return self.w\n",
        "        elif vertex \u003d\u003d self.w:\n",
        "            return self.v\n",
        "        else:\n",
        "            raise ValueError\n",
        "\n",
        "    def residual_capacity_to(self, vertex: int) -\u003e float:\n",
        "        if vertex \u003d\u003d self.v:\n",
        "            return self.flow\n",
        "        elif vertex \u003d\u003d self.w:\n",
        "            return self.capacity - self.flow\n",
        "        else:\n",
        "            raise ValueError\n",
        "\n",
        "    def add_residual_flow_to(self, vertex: int, delta: float) -\u003e None:\n",
        "        if vertex \u003d\u003d self.v:\n",
        "            self.flow -\u003d delta\n",
        "        elif vertex \u003d\u003d self.w:\n",
        "            self.flow +\u003d delta\n",
        "        else:\n",
        "            raise ValueError"
      ]
    },
    {
      "cell_type": "code",
      "execution_count": 22,
      "metadata": {
        "pycharm": {}
      },
      "outputs": [],
      "source": [
        "class FlowNetwork:\n",
        "    def __init__(self, V):\n",
        "        self.V \u003d V\n",
        "        self.adj \u003d tuple([] for _ in range(V))\n",
        "\n",
        "    def add_edge(self, edge: FlowEdge) -\u003e None:\n",
        "        self.adj[edge.v].append(edge)\n",
        "        self.adj[edge.w].append(edge)"
      ]
    },
    {
      "cell_type": "code",
      "execution_count": 51,
      "metadata": {
        "pycharm": {}
      },
      "outputs": [],
      "source": "class FordFulkerson:\n    def __init__(self, G: FlowNetwork, start: int, end: int):\n        self.G \u003d G\n        self.value \u003d 0.0\n\n        self._start \u003d start\n        self._end \u003d end\n\n        self._execute()\n\n    def in_cut(self, vertex: int) -\u003e bool:\n        return vertex in self.marker\n\n    def _has_augmenting_path(self) -\u003e bool:\n        self.edge_to \u003d [None] * G.V\n        self.marker \u003d {self._start}\n\n        queue \u003d deque([self._start])\n\n        while queue:\n            v \u003d queue.popleft()\n\n            for edge in self.G.adj[v]:\n                w \u003d edge.other(v)\n\n                if edge.residual_capacity_to(w) \u003e 0 and w not in self.marker:\n                    self.edge_to[w] \u003d edge\n                    self.marker.add(w)\n                    queue.append(w)\n\n        return self._end in self.marker\n\n    def _execute(self):\n        while self._has_augmenting_path():\n            bottle \u003d float(\u0027inf\u0027)\n\n            v \u003d self._end\n            while v !\u003d self._start:\n                bottle \u003d min(bottle, self.edge_to[v].residual_capacity_to(v))\n                v \u003d self.edge_to[v].other(v)\n\n            v \u003d self._end\n            while v !\u003d self._start:\n                self.edge_to[v].add_residual_flow_to(v, bottle)\n                v \u003d self.edge_to[v].other(v)\n\n            self.value +\u003d bottle"
    },
    {
      "cell_type": "code",
      "execution_count": 35,
      "metadata": {
        "pycharm": {}
      },
      "outputs": [
        {
          "data": {
            "text/plain": [
              "([FlowEdge(v\u003d0, w\u003d1, capacity\u003d2.0, flow\u003d0.0),\n",
              "  FlowEdge(v\u003d0, w\u003d2, capacity\u003d3.0, flow\u003d0.0)],\n",
              " [FlowEdge(v\u003d0, w\u003d1, capacity\u003d2.0, flow\u003d0.0),\n",
              "  FlowEdge(v\u003d1, w\u003d3, capacity\u003d3.0, flow\u003d0.0),\n",
              "  FlowEdge(v\u003d1, w\u003d4, capacity\u003d1.0, flow\u003d0.0)],\n",
              " [FlowEdge(v\u003d0, w\u003d2, capacity\u003d3.0, flow\u003d0.0),\n",
              "  FlowEdge(v\u003d2, w\u003d3, capacity\u003d1.0, flow\u003d0.0),\n",
              "  FlowEdge(v\u003d2, w\u003d4, capacity\u003d1.0, flow\u003d0.0)],\n",
              " [FlowEdge(v\u003d1, w\u003d3, capacity\u003d3.0, flow\u003d0.0),\n",
              "  FlowEdge(v\u003d2, w\u003d3, capacity\u003d1.0, flow\u003d0.0),\n",
              "  FlowEdge(v\u003d3, w\u003d5, capacity\u003d2.0, flow\u003d0.0)],\n",
              " [FlowEdge(v\u003d1, w\u003d4, capacity\u003d1.0, flow\u003d0.0),\n",
              "  FlowEdge(v\u003d2, w\u003d4, capacity\u003d1.0, flow\u003d0.0),\n",
              "  FlowEdge(v\u003d4, w\u003d5, capacity\u003d3.0, flow\u003d0.0)],\n",
              " [FlowEdge(v\u003d3, w\u003d5, capacity\u003d2.0, flow\u003d0.0),\n",
              "  FlowEdge(v\u003d4, w\u003d5, capacity\u003d3.0, flow\u003d0.0)])"
            ]
          },
          "execution_count": 35,
          "metadata": {},
          "output_type": "execute_result"
        }
      ],
      "source": [
        "G \u003d FlowNetwork(6)\n",
        "\n",
        "G.add_edge(FlowEdge(0, 1, 2.0))\n",
        "G.add_edge(FlowEdge(0, 2, 3.0))\n",
        "G.add_edge(FlowEdge(1, 3, 3.0))\n",
        "G.add_edge(FlowEdge(1, 4, 1.0))\n",
        "G.add_edge(FlowEdge(2, 3, 1.0))\n",
        "G.add_edge(FlowEdge(2, 4, 1.0))\n",
        "G.add_edge(FlowEdge(3, 5, 2.0))\n",
        "G.add_edge(FlowEdge(4, 5, 3.0))\n",
        "\n",
        "G.adj"
      ]
    },
    {
      "cell_type": "code",
      "execution_count": 36,
      "metadata": {
        "pycharm": {}
      },
      "outputs": [
        {
          "name": "stdout",
          "output_type": "stream",
          "text": [
            "4.0\n",
            "----------------\n",
            "[None, None, FlowEdge(v\u003d0, w\u003d2, capacity\u003d3.0, flow\u003d2.0), None, None, None]\n",
            "{0, 2}\n"
          ]
        }
      ],
      "source": [
        "ff \u003d FordFulkerson(G, 0, 5)\n",
        "\n",
        "print(ff.value)\n",
        "print(\u0027----------------\u0027)"
      ]
    },
    {
      "cell_type": "markdown",
      "metadata": {
        "pycharm": {}
      },
      "source": [
        "## Bipartite problem\n",
        "\n",
        "N students apply for N jobs\n",
        "\n",
        "Each get several offers\n",
        "\n",
        "Is there a way to match all student to jobs\n",
        "\n",
        "```\n",
        "1. Alice\n",
        "    Adobe\n",
        "    Amazon\n",
        "    Google\n",
        "\n",
        "2. Bob\n",
        "    Adobe\n",
        "    Amazon\n",
        "\n",
        "3. Carol\n",
        "    Adobe\n",
        "    Facebook\n",
        "    Google\n",
        "\n",
        "4. Dave\n",
        "    Amazon\n",
        "    Yahoo\n",
        "\n",
        "5. Eliza\n",
        "    Amazon\n",
        "    Yahoo\n",
        "\n",
        "6. Adobe\n",
        "    Alice\n",
        "    Bob\n",
        "    Carol\n",
        "\n",
        "7. Amazon\n",
        "    Alice\n",
        "    Bob\n",
        "    Dave\n",
        "    Eliza\n",
        "\n",
        "8. Facebook\n",
        "    Carol\n",
        "\n",
        "9. Google\n",
        "    Alice\n",
        "    Carol\n",
        "\n",
        "10. Yahoo\n",
        "    Dave\n",
        "    Eliza\n",
        "```\n",
        "\n",
        "Expect perfect match:\n",
        "\n",
        "```\n",
        "Alice —— Google\n",
        "Bob —— Adobe\n",
        "Carol —— Facebook\n",
        "Dave —— Yahoo\n",
        "Eliza —— Amazon\n",
        "```"
      ]
    },
    {
      "cell_type": "code",
      "execution_count": 68,
      "metadata": {
        "pycharm": {}
      },
      "outputs": [
        {
          "name": "stdout",
          "output_type": "stream",
          "text": [
            "5.0\n",
            "----------------\n",
            "[0]\n",
            "Alice --- Google\n",
            "Bob --- Adobe\n",
            "Carol --- Facebook\n",
            "Dave --- Yahoo\n",
            "Eliza --- Amazon\n"
          ]
        }
      ],
      "source": [
        "G \u003d FlowNetwork(12)\n",
        "\n",
        "for i in range(1, 6):\n",
        "    G.add_edge(FlowEdge(0, i, 1.0))\n",
        "\n",
        "\"\"\"\n",
        "1. Alice\n",
        "    Adobe\n",
        "    Amazon\n",
        "    Google\n",
        "\"\"\"\n",
        "G.add_edge(FlowEdge(1, 6, 1.0))\n",
        "G.add_edge(FlowEdge(1, 7, 1.0))\n",
        "G.add_edge(FlowEdge(1, 9, 1.0))\n",
        "\n",
        "\"\"\"\n",
        "2. Bob\n",
        "    Adobe\n",
        "    Amazon\n",
        "\"\"\"\n",
        "G.add_edge(FlowEdge(2, 6, 1.0))\n",
        "G.add_edge(FlowEdge(2, 7, 1.0))\n",
        "\n",
        "\"\"\"\n",
        "\n",
        "3. Carol\n",
        "    Adobe\n",
        "    Facebook\n",
        "    Google\n",
        "\"\"\"\n",
        "G.add_edge(FlowEdge(3, 6, 1.0))\n",
        "G.add_edge(FlowEdge(3, 8, 1.0))\n",
        "G.add_edge(FlowEdge(3, 9, 1.0))\n",
        "\n",
        "\"\"\"\n",
        "4. Dave\n",
        "    Amazon\n",
        "    Yahoo\n",
        "\"\"\"\n",
        "G.add_edge(FlowEdge(4, 7, 1.0))\n",
        "G.add_edge(FlowEdge(4, 10, 1.0))\n",
        "\n",
        "\"\"\"\n",
        "5. Eliza\n",
        "    Amazon\n",
        "    Yahoo\n",
        "\"\"\"\n",
        "G.add_edge(FlowEdge(5, 7, 1.0))\n",
        "G.add_edge(FlowEdge(5, 10, 1.0))\n",
        "\n",
        "\"\"\"\n",
        "6. Adobe\n",
        "    Alice\n",
        "    Bob\n",
        "    Carol\n",
        "\n",
        "7. Amazon\n",
        "    Alice\n",
        "    Bob\n",
        "    Dave\n",
        "    Eliza\n",
        "\n",
        "8. Facebook\n",
        "    Carol\n",
        "\n",
        "9. Google\n",
        "    Alice\n",
        "    Carol\n",
        "\n",
        "10. Yahoo\n",
        "    Dave\n",
        "    Eliza\n",
        "\"\"\"\n",
        "for i in range(6, 11):\n",
        "    G.add_edge(FlowEdge(i, 11, 1.0))\n",
        "\n",
        "G.adj\n",
        "\n",
        "ff \u003d FordFulkerson(G, 0, 11)\n",
        "\n",
        "print(ff.value)\n",
        "print(\u0027----------------\u0027)\n",
        "print([i for i in range(12) if ff.in_cut(i)])\n",
        "\n",
        "DATA_MAPPING \u003d {\n",
        "    1: \u0027Alice\u0027,\n",
        "    2: \u0027Bob\u0027,\n",
        "    3: \u0027Carol\u0027,\n",
        "    4: \u0027Dave\u0027,\n",
        "    5: \u0027Eliza\u0027,\n",
        "    6: \u0027Adobe\u0027,\n",
        "    7: \u0027Amazon\u0027,\n",
        "    8: \u0027Facebook\u0027,\n",
        "    9: \u0027Google\u0027,\n",
        "    10: \u0027Yahoo\u0027\n",
        "}\n",
        "\n",
        "for i in range(1, 6):\n",
        "    for edge in G.adj[i]:\n",
        "        if edge.flow \u003d\u003d 1.0 and edge.v !\u003d 0 and edge.w !\u003d 11:\n",
        "            print(f\u0027{DATA_MAPPING[edge.v]} --- {DATA_MAPPING[edge.w]}\u0027)"
      ]
    },
    {
      "cell_type": "code",
      "execution_count": null,
      "metadata": {
        "pycharm": {}
      },
      "outputs": [],
      "source": []
    }
  ],
  "metadata": {
    "kernelspec": {
      "display_name": "Python 3",
      "language": "python",
      "name": "python3"
    },
    "language_info": {
      "codemirror_mode": {
        "name": "ipython",
        "version": 3
      },
      "file_extension": ".py",
      "mimetype": "text/x-python",
      "name": "python",
      "nbconvert_exporter": "python",
      "pygments_lexer": "ipython3",
      "version": "3.7.2"
    }
  },
  "nbformat": 4,
  "nbformat_minor": 2
}