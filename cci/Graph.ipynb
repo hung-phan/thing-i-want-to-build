{
 "cells": [
  {
   "cell_type": "code",
   "execution_count": 1,
   "metadata": {},
   "outputs": [],
   "source": [
    "from typing import List, TypeVar, Generic\n",
    "\n",
    "T = TypeVar('T')\n",
    "\n",
    "class QuickUnion(Generic[T]):\n",
    "    def __init__(self, length):\n",
    "        self.collection = list(range(length))\n",
    "        self.size = [1] * length\n",
    "    \n",
    "    def get_root(self, index: int) -> int:\n",
    "        while index != self.collection[index]:\n",
    "            self.collection[index] = self.collection[self.collection[index]]\n",
    "            index = self.collection[index]\n",
    "        \n",
    "        return index\n",
    "    \n",
    "    def is_connected(self, a: int, b: int) -> bool:\n",
    "        return self.get_root(a) == self.get_root(b)\n",
    "    \n",
    "    def union(self, a: int, b: int):\n",
    "        a_root, b_root = self.get_root(a), self.get_root(b)\n",
    "        \n",
    "        if a_root != b_root:\n",
    "            if self.size[a_root] < self.size[b_root]:\n",
    "                self.size[b_root] += self.size[a_root]\n",
    "                self.collection[a_root] = b_root\n",
    "            else:\n",
    "                self.size[a_root] += self.size[b_root]\n",
    "                self.collection[b_root] = a_root\n",
    "\n",
    "    def __str__(self) -> str:\n",
    "        return f\"collection: {self.collection}\\nsize: {self.size}\""
   ]
  },
  {
   "cell_type": "code",
   "execution_count": 2,
   "metadata": {},
   "outputs": [],
   "source": [
    "DIRECTIONS = [[0, 1], [1, 0]]"
   ]
  },
  {
   "cell_type": "code",
   "execution_count": 3,
   "metadata": {},
   "outputs": [],
   "source": [
    "def translate_to_index(grid: List[List[int]], x: int, y: int) -> int:\n",
    "    num_of_cols = len(grid[0])\n",
    "    \n",
    "    return num_of_cols * x + y"
   ]
  },
  {
   "cell_type": "code",
   "execution_count": 4,
   "metadata": {},
   "outputs": [],
   "source": [
    "def is_in_grid(grid: List[List[int]], x: int, y: int) -> int:\n",
    "    return 0 <= x <= len(grid) - 1 and 0 <= y <= len(grid[0]) - 1"
   ]
  },
  {
   "cell_type": "code",
   "execution_count": 5,
   "metadata": {},
   "outputs": [],
   "source": [
    "def find_max_connected_cell_in_grid(grid):\n",
    "    quick_union: QuickUnion[int] = QuickUnion(len(grid) * len(grid[0]))\n",
    "    \n",
    "    for x in range(len(grid)):\n",
    "        for y in range(len(grid[0])):\n",
    "            for [dx, dy] in DIRECTIONS:\n",
    "                new_x, new_y = x + dx, y + dy\n",
    "\n",
    "                if is_in_grid(grid, new_x, new_y): \n",
    "                    if grid[x][y] == grid[new_x][new_y]:\n",
    "                        quick_union.union(\n",
    "                            translate_to_index(grid, x, y),\n",
    "                            translate_to_index(grid, new_x, new_y)\n",
    "                        )\n",
    "    \n",
    "    return quick_union"
   ]
  },
  {
   "cell_type": "code",
   "execution_count": 6,
   "metadata": {},
   "outputs": [],
   "source": [
    "quick_union = find_max_connected_cell_in_grid([\n",
    "    [0, 0, 2, 1, 1],\n",
    "    [0, 2, 0, 1, 0],\n",
    "    [0, 2, 0, 0, 0]\n",
    "])"
   ]
  },
  {
   "cell_type": "code",
   "execution_count": 7,
   "metadata": {},
   "outputs": [
    {
     "name": "stdout",
     "output_type": "stream",
     "text": [
      "collection: [0, 0, 2, 3, 3, 0, 6, 7, 3, 7, 0, 6, 7, 7, 9]\n",
      "size: [4, 1, 1, 3, 1, 1, 2, 5, 1, 2, 1, 1, 1, 1, 1]\n"
     ]
    }
   ],
   "source": [
    "print(quick_union)"
   ]
  },
  {
   "cell_type": "code",
   "execution_count": null,
   "metadata": {},
   "outputs": [],
   "source": []
  }
 ],
 "metadata": {
  "kernelspec": {
   "display_name": "Python 3",
   "language": "python",
   "name": "python3"
  },
  "language_info": {
   "codemirror_mode": {
    "name": "ipython",
    "version": 3
   },
   "file_extension": ".py",
   "mimetype": "text/x-python",
   "name": "python",
   "nbconvert_exporter": "python",
   "pygments_lexer": "ipython3",
   "version": "3.6.5"
  }
 },
 "nbformat": 4,
 "nbformat_minor": 2
}
