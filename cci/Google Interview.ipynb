{
  "cells": [
    {
      "cell_type": "markdown",
      "metadata": {
        "pycharm": {}
      },
      "source": [
        "Given a bag with capacity C as integer value, and an int list, find 2 numbers from the list such that we can fill this bag with min space left.\n",
        "For example, let the bag capacity C is 10 and\n",
        "The array list is [1, 2, 3, 4, 5]\n",
        "The answer is clearly [4, 5]\n",
        "It is similar to Knapsack problem without value attribution."
      ]
    },
    {
      "cell_type": "code",
      "execution_count": 1,
      "metadata": {
        "pycharm": {}
      },
      "outputs": [
        {
          "data": {
            "text/plain": [
              "(4, 5)"
            ]
          },
          "execution_count": 1,
          "metadata": {},
          "output_type": "execute_result"
        }
      ],
      "source": "def best_pair(ls, capacity):\n    ls.sort()\n\n    lo, hi \u003d 0, len(ls) - 1\n    pair \u003d (-1, -1)\n\n    while lo \u003c hi:\n        diff \u003d capacity - (ls[lo] + ls[hi])\n\n        if diff \u003d\u003d 0:\n            return ls[lo], ls[hi]\n        elif diff \u003e 0:\n            if diff \u003c capacity - sum(pair):\n                pair \u003d (ls[lo], ls[hi])\n            lo +\u003d 1\n        else:\n            hi -\u003d 1\n\n    return pair\n    \nbest_pair([1, 2, 3, 4, 5], 10)"
    },
    {
      "cell_type": "code",
      "execution_count": 2,
      "metadata": {
        "pycharm": {}
      },
      "outputs": [
        {
          "data": {
            "text/plain": [
              "(deque([1, 2, 3, 4, 5]), 15)"
            ]
          },
          "execution_count": 2,
          "metadata": {},
          "output_type": "execute_result"
        }
      ],
      "source": "from collections import deque\n\n\ndef knapsack(ls, capacity):\n    dp \u003d [[0 for i in range(capacity + 1)] for j in range(len(ls) + 1)]\n\n    for i in range(1, len(ls) + 1):\n        for j in range(capacity + 1):\n            dp[i][j] \u003d dp[i - 1][j]\n            item \u003d ls[i - 1]\n\n            if j \u003e\u003d item:\n                new_val \u003d dp[i - 1][j - item] + item\n\n                if dp[i][j] \u003c new_val:\n                    dp[i][j] \u003d new_val\n\n    i, j \u003d len(ls), capacity\n    ans \u003d deque()\n    \n    while i \u003e 0 and j \u003e 0:\n        if dp[i][j] !\u003d dp[i - 1][j]:\n            item \u003d ls[i - 1]\n\n            j -\u003d item\n            ans.appendleft(item)\n        \n\n        i -\u003d 1\n\n    return ans, dp[len(ls)][capacity]\n\n\nknapsack([1, 2, 3, 4, 5], 15)"
    },
    {
      "cell_type": "markdown",
      "metadata": {
        "pycharm": {}
      },
      "source": [
        "Return the longest movie title found by successively matching the last and first words in each title, joining to form new titles, given an array containing a list of movie titles.\n",
        "\n",
        "For example: \n",
        "Input: [\u0027OF MICE AND MEN\u0027, \u0027BLACK MASS\u0027, \u0027MEN IN BLACK\"]\n",
        "Output:  \u0027OF MICE AND MEN IN BLACK MASS\u0027\n",
        "\n",
        "Explanation:\n",
        "\u0027OF MICE AND MEN\u0027 and \u0027MEN IN BLACK\u0027 join to form \u0027OF MICE AND MEN IN BLACK\u0027. \n",
        "You could further join \u0027OF MICE AND MEN IN BLACK\u0027 wth \u0027BLACK MASS\u0027 to form \u0027OF MICE AND MEN IN BLACK MASS\u0027. "
      ]
    },
    {
      "cell_type": "code",
      "execution_count": 3,
      "metadata": {
        "pycharm": {}
      },
      "outputs": [
        {
          "name": "stdout",
          "output_type": "stream",
          "text": [
            "{0: [2], 2: [1]}\n"
          ]
        },
        {
          "data": {
            "text/plain": [
              "\u0027OF MICE AND MEN IN BLACK MASS\u0027"
            ]
          },
          "execution_count": 3,
          "metadata": {},
          "output_type": "execute_result"
        }
      ],
      "source": [
        "def solution(ls):\n",
        "    graph \u003d {}\n",
        "    mapper \u003d {}\n",
        "\n",
        "    for i, val in enumerate(ls):\n",
        "        head, *_, tail \u003d val.split(\u0027 \u0027)\n",
        "\n",
        "        mapper.setdefault(head, {}).setdefault(\u0027head\u0027, []).append(i)\n",
        "        mapper.setdefault(tail, {}).setdefault(\u0027tail\u0027, []).append(i)\n",
        "\n",
        "    for word, val in mapper.items():\n",
        "        for tail in val.get(\u0027tail\u0027, []):\n",
        "            for head in val.get(\u0027head\u0027, []):\n",
        "                graph.setdefault(tail, []).append(head)\n",
        "\n",
        "    ans \u003d []\n",
        "    marker \u003d set()\n",
        "\n",
        "    print(graph)\n",
        "\n",
        "    def dfs(pos, acc):\n",
        "        marker.add(pos)\n",
        "\n",
        "        nonlocal ans\n",
        "\n",
        "        if len(ans) \u003c len(acc):\n",
        "            ans \u003d acc\n",
        "\n",
        "        for val in graph.get(pos, []):\n",
        "            if val not in marker:\n",
        "                dfs(val, acc + [val])\n",
        "\n",
        "        marker.remove(pos)\n",
        "\n",
        "    for i in range(len(ls)):\n",
        "        dfs(i, [i])\n",
        "        marker.clear()\n",
        "\n",
        "    res \u003d \u0027\u0027\n",
        "\n",
        "    for idx, i in enumerate(ans):\n",
        "        item \u003d ls[i]\n",
        "\n",
        "        if idx !\u003d 0:\n",
        "            item \u003d item[item.index(\u0027 \u0027) + 1:]\n",
        "\n",
        "        res +\u003d item + (\u0027 \u0027 if idx !\u003d len(ans) - 1 else \u0027\u0027)\n",
        "\n",
        "    return res\n",
        "        \n",
        "solution([\u0027OF MICE AND MEN\u0027, \u0027BLACK MASS\u0027, \u0027MEN IN BLACK\u0027])"
      ]
    },
    {
      "cell_type": "markdown",
      "metadata": {
        "pycharm": {}
      },
      "source": [
        "Given an array {a0, a1, a2, ... an, b0, b1, b2 ... bn},\n",
        "Rearrange this array into {a0, b0, a1, b1, a2, b2, ... an, bn}\n",
        "\n",
        "Follow up: Can you do it in-place with no extra space?"
      ]
    },
    {
      "cell_type": "code",
      "execution_count": 4,
      "metadata": {
        "pycharm": {}
      },
      "outputs": [
        {
          "data": {
            "text/plain": [
              "[0, 1, 2, 3, 4, 5, 6, 7]"
            ]
          },
          "execution_count": 4,
          "metadata": {},
          "output_type": "execute_result"
        }
      ],
      "source": "def solution(ls):\n    \"\"\"\n    [0, 2, 4, 6, 8, 1, 3, 5, 7, 9] -\u003e [0, 1, 2, 3, 4, 5, 6, 7, 8, 9]\n    \"\"\"\n    half \u003d len(ls) // 2\n    ls[::2], ls[1::2] \u003d ls[:half], ls[half:]\n\n    return ls\n\nsolution([0, 2, 4, 6, 1, 3, 5, 7])"
    },
    {
      "cell_type": "code",
      "execution_count": 5,
      "metadata": {
        "pycharm": {}
      },
      "outputs": [
        {
          "name": "stdout",
          "output_type": "stream",
          "text": [
            "[0, 1, 2, 3, 4, 5, 6, 7]\n"
          ]
        }
      ],
      "source": [
        "def solution(ls):\n",
        "    length \u003d len(ls)\n",
        "    swaps \u003d length // 2 - 1\n",
        "\n",
        "    for j in range(length // 2, length):\n",
        "        i \u003d j\n",
        "\n",
        "        while swaps \u003e 0:\n",
        "            ls[i], ls[i - 1] \u003d ls[i - 1], ls[i]\n",
        "            i -\u003d 1\n",
        "            swaps -\u003d 1\n",
        "\n",
        "        swaps \u003d length - j - 2\n",
        "    \n",
        "    print(ls)\n",
        "\n",
        "solution([0, 2, 4, 6, 1, 3, 5, 7])    "
      ]
    },
    {
      "cell_type": "markdown",
      "metadata": {
        "pycharm": {}
      },
      "source": [
        "Q.1: Consider any integer ending in 0 to be “magic”.  Write a function which accepts an integer, sums the squares of the digits of the integer, \n",
        "and determines if the sum ends in zero. If it ends in zero print “Magic”. Otherwise, try again with the sum."
      ]
    },
    {
      "cell_type": "code",
      "execution_count": 6,
      "metadata": {
        "pycharm": {}
      },
      "outputs": [
        {
          "name": "stdout",
          "output_type": "stream",
          "text": [
            "25\n",
            "29\n",
            "85\n",
            "89\n",
            "145\n",
            "42\n",
            "Magic\n"
          ]
        }
      ],
      "source": [
        "def solution(val):\n",
        "    marker \u003d set()\n",
        "\n",
        "    def recur(val):\n",
        "        if val in marker:\n",
        "            return\n",
        "\n",
        "        marker.add(val)\n",
        "        cur_sum \u003d 0\n",
        "\n",
        "        print(val)\n",
        "\n",
        "        while val:\n",
        "            val, rem \u003d val // 10, val % 10\n",
        "            cur_sum +\u003d rem ** 2\n",
        "\n",
        "        if cur_sum % 10 \u003d\u003d 0:\n",
        "            print(\u0027Magic\u0027)\n",
        "        else:\n",
        "            recur(cur_sum)\n",
        "\n",
        "    recur(val)\n",
        "\n",
        "solution(25)"
      ]
    },
    {
      "cell_type": "markdown",
      "metadata": {
        "pycharm": {}
      },
      "source": [
        "Q.2: Write a function that accepts two integers and stores them as a range. \n",
        "Write another function that accepts one integer, and determines if the integer is contained within a stored range."
      ]
    },
    {
      "cell_type": "code",
      "execution_count": 7,
      "metadata": {
        "pycharm": {}
      },
      "outputs": [
        {
          "name": "stdout",
          "output_type": "stream",
          "text": [
            "BEF [] 0 0 [10, 20]\n",
            "AFT [10, 20]\n",
            "BEF [10, 20] 1 2 [26]\n",
            "AFT [10, 26]\n",
            "BEF [10, 26] 2 2 [30, 40]\n",
            "AFT [10, 26, 30, 40]\n",
            "True\n",
            "False\n",
            "False\n"
          ]
        }
      ],
      "source": "from bisect import bisect_left, bisect_right\n\n\nclass Range:\n    def __init__(self):\n        self.data \u003d []\n\n    def add_range(self, l, r):\n        i, j \u003d bisect_left(self.data, l), bisect_right(self.data, r)\n        self.data[i:j] \u003d [l] * (i % 2 \u003d\u003d 0) + [r] * (j % 2 \u003d\u003d 0)\n\n    def delete_range(self, l, r):\n        i, j \u003d bisect_left(self.data, l), bisect_right(self.data, r)\n        self.data[i:j] \u003d [l] * (i % 2 \u003d\u003d 1) + [r] * (j % 2 \u003d\u003d 1)\n\n    def query_range(self, v):\n        i, j \u003d bisect_right(self.data, v), bisect_left(self.data, v)\n        return i \u003d\u003d j and i % 2 \u003d\u003d 1\n\n\nmy_range \u003d Range()\n\nmy_range.add_range(10, 20)\nmy_range.add_range(14, 26)\nmy_range.add_range(30, 40)\n\nprint(my_range.query_range(14))\nprint(my_range.query_range(27))\nprint(my_range.query_range(26))"
    },
    {
      "cell_type": "code",
      "execution_count": 8,
      "metadata": {
        "pycharm": {}
      },
      "outputs": [
        {
          "name": "stdout",
          "output_type": "stream",
          "text": [
            "Node(l\u003d10,r\u003d20,left\u003dNone,right\u003dNode(l\u003d14,r\u003d26,left\u003dNone,right\u003dNode(l\u003d30,r\u003d40,left\u003dNone,right\u003dNone)))\n",
            "True\n",
            "False\n",
            "True\n"
          ]
        }
      ],
      "source": [
        "class Node:\n",
        "    def __init__(self, l, r, left\u003dNone, right\u003dNone):\n",
        "        self.l \u003d l\n",
        "        self.r \u003d r\n",
        "        self.left \u003d left\n",
        "        self.right \u003d right\n",
        "\n",
        "    def add_range(self, l, r) -\u003e None:\n",
        "        if r \u003c self.l:\n",
        "            if self.left:\n",
        "                self.left.add_range(l, r)\n",
        "            else:\n",
        "                self.left \u003d Node(l, r)\n",
        "        elif self.r \u003c l:\n",
        "            if self.right:\n",
        "                self.right.add_range(l, r)\n",
        "            else:\n",
        "                self.right \u003d Node(l, r)\n",
        "        elif l \u003c\u003d self.l \u003c r:\n",
        "            self.left \u003d Node(l, r)\n",
        "        else:\n",
        "            self.right \u003d Node(l, r)\n",
        "\n",
        "    def query(self, v):\n",
        "        if self.l \u003c\u003d v \u003c\u003d self.r:\n",
        "            return True\n",
        "\n",
        "        if v \u003c self.l:\n",
        "            return self.left.query(v) if self.left else False\n",
        "\n",
        "        if v \u003e self.r:\n",
        "            return self.right.query(v) if self.right else False\n",
        "\n",
        "    def __repr__(self):\n",
        "        return f\u0027Node(l\u003d{self.l},r\u003d{self.r},left\u003d{self.left},right\u003d{self.right})\u0027\n",
        "\n",
        "bst \u003d None\n",
        "\n",
        "def add_range(l, r):\n",
        "    global bst\n",
        "\n",
        "    if bst is None:\n",
        "        bst \u003d Node(l, r)\n",
        "\n",
        "        return\n",
        "\n",
        "    bst.add_range(l, r)\n",
        "\n",
        "add_range(10, 20)\n",
        "add_range(14, 26)\n",
        "add_range(30, 40)\n",
        "\n",
        "print(bst)\n",
        "\n",
        "print(bst.query(14))\n",
        "print(bst.query(27))\n",
        "print(bst.query(26))"
      ]
    },
    {
      "cell_type": "markdown",
      "metadata": {
        "pycharm": {}
      },
      "source": [
        "Given an array of Integers, find out how many combinations in the array, satisfy the equation x+y+z\u003dw, where x,y,z and w belong to the array and idx(x)\u003cidx(y)\u003cidx(z)\u003cidx(w). Elements are unique.\n",
        "\n",
        "example :\n",
        "input: [2,3,5,1,10] output: 1 {(2, 3, 5, 10)}\n",
        "input: [4,6, 9,3,13,18] output: 2{(4,6,3,13),(6,9,3,18)}"
      ]
    },
    {
      "cell_type": "code",
      "execution_count": 9,
      "metadata": {
        "pycharm": {}
      },
      "outputs": [
        {
          "name": "stdout",
          "output_type": "stream",
          "text": [
            "[[2, 3, 5, 10]]\n",
            "[[4, 6, 3, 13], [6, 9, 3, 18]]\n"
          ]
        }
      ],
      "source": [
        "def solution(ls):\n",
        "    length \u003d len(ls)\n",
        "    x_y_hash_table \u003d {}\n",
        "    z_w_hash_table \u003d {}\n",
        "\n",
        "    for i in range(length - 3):\n",
        "        for j in range(i + 1, length - 2):\n",
        "            x_y_hash_table.setdefault(ls[i] + ls[j], []).append([i, j])\n",
        "\n",
        "    for z in range(2, length - 1):\n",
        "        for w in range(z + 1, length):\n",
        "            z_w_hash_table.setdefault(-ls[z] + ls[w], []).append([z, w])\n",
        "\n",
        "    common_keys \u003d [key for key in x_y_hash_table.keys() if key in z_w_hash_table]\n",
        "\n",
        "    ans \u003d []\n",
        "\n",
        "    for key in common_keys:\n",
        "        for [x, y] in x_y_hash_table[key]:\n",
        "            for [z, w] in z_w_hash_table[key]:\n",
        "                if y \u003c z:\n",
        "                    ans.append([ls[x], ls[y], ls[z], ls[w]])\n",
        "\n",
        "    return ans\n",
        "\n",
        "# O(n ^ 2)\n",
        "print(solution([2,3,5,1,10]))\n",
        "print(solution([4,6,9,3,13,18]))"
      ]
    },
    {
      "cell_type": "markdown",
      "metadata": {
        "pycharm": {}
      },
      "source": [
        "Given a max heap as an array, return the top k elements. Do not modify heap or copy entire heap to a different data structure. Example:\n",
        "\n",
        "```\n",
        "15\n",
        "/ \\\n",
        "13 12\n",
        "/ \\ /\n",
        "10 8\t9\n",
        "```\n",
        "\n",
        "int[] arr \u003d {15,13,12,10,8,9};\n",
        "List\u003cInteger\u003e peekTopK(int[] arr, int k)\n",
        "Expected output for k \u003d 5 \u003d\u003d\u003e [15,13,12,10,9]"
      ]
    },
    {
      "cell_type": "code",
      "execution_count": 10,
      "metadata": {
        "pycharm": {}
      },
      "outputs": [
        {
          "name": "stdout",
          "output_type": "stream",
          "text": [
            "0 0\n",
            "1 1\n",
            "2 1\n",
            "3 2\n",
            "4 2\n",
            "5 2\n",
            "6 2\n",
            "7 3\n",
            "8 3\n",
            "9 3\n",
            "10 3\n",
            "11 3\n",
            "12 3\n"
          ]
        },
        {
          "data": {
            "text/plain": [
              "[15, 13, 12, 10, 9]"
            ]
          },
          "execution_count": 10,
          "metadata": {},
          "output_type": "execute_result"
        }
      ],
      "source": "from collections import deque\n\n\ndef reverse_insort(a, x, lo\u003d0, hi\u003dNone):\n    \"\"\"Insert item x in list a, and keep it reverse-sorted assuming a\n    is reverse-sorted.\n\n    If x is already in a, insert it to the right of the rightmost x.\n\n    Optional args lo (default 0) and hi (default len(a)) bound the\n    slice of a to be searched.\n    \"\"\"\n    if lo \u003c 0:\n        raise ValueError(\u0027lo must be non-negative\u0027)\n    if hi is None:\n        hi \u003d len(a)\n    while lo \u003c hi:\n        mid \u003d (lo+hi)//2\n        if x \u003e a[mid]: hi \u003d mid\n        else: lo \u003d mid+1\n    a.insert(lo, x)\n\n\ndef peek_top(ls, k):\n    length \u003d len(ls)\n    levels \u003d {}\n    max_level \u003d 0\n\n    # explain for (2 ** max_level - 1) // k \u003c 2\n    # for every node in priority queue, idx will have at most 2 children at 2 * idx + 1 and 2 * idx + 2\n    # max priority queue guarantees that ls[idx] \u003e ls[2 * idx + 1] and ls[idx] \u003e ls[2 * idx + 2]\n    # based on that the number of elements we will encounter have to follow the sequence 1 2 4 8 16 or 2^0 + 2^1 + 2^2 + 2^3 + 2^6\n    # the scan of those will be 1 3 7 15 31, which is the number of possible node\n    # we know we need 5 elements and we have to select the minimum number of nodes that it has to be bigger than 5 which is 7.\n    # we conclude the level to be 2 (start at 0)\n    while (2 ** max_level - 1) // k \u003c 2:\n        max_level +\u003d 1\n\n    queue \u003d deque()\n\n    queue.append((0, 0))\n\n    while queue:\n        idx, level \u003d queue.popleft()\n\n        print(idx, level)\n        if idx \u003e\u003d length or level \u003e max_level:\n            continue\n\n        # maintain sorted insertion\n        reverse_insort(levels.setdefault(level, []), ls[idx])\n\n        # priority queue will have characteristic of idx + 1 and idx + 2 to be the child of idx\n        queue.append((2 * idx + 1, level + 1))\n        queue.append((2 * idx + 2, level + 1))\n\n    ans \u003d []\n\n    # just pop the result out\n    for level in range(len(levels)):\n        for val in levels[level]:\n            if len(ans) \u003e\u003d k:\n                break\n\n            ans.append(val)\n\n    return ans\n\n\npeek_top([15,13,12,10,8,9], 5)"
    },
    {
      "cell_type": "markdown",
      "metadata": {
        "pycharm": {}
      },
      "source": [
        "Given a source and a target node for a n-ary tree find the distance between them.\n",
        "\n",
        "/*   consider the following n-ary tree -- You can use int or char for your tree (was easier to draw using characters)\n",
        "    *             A \n",
        "    *         /  /  \\  \\ \n",
        "    *       B   F   D   E \n",
        "    *      / \\      |   /|\\ \n",
        "    *     K  J      G  C H I \n",
        "    *    / \\                \\ \n",
        "    *   N   M                 L \n",
        "    */\n",
        "\n",
        "```\n",
        "int getDistance(TreeNode source, TreeNode target) where TreeNode can be defined as:\n",
        "```\n",
        "\n",
        "```\n",
        "class TreeNode {\n",
        "  int key;         // or char key;\n",
        "  TreeNode parent;\n",
        "}\n",
        "```\n",
        "\n",
        "Having a parent will allow you to get to a solution without traversing entire tree.\n",
        "Bonus: How would the solution be if the TreeNode was defined as below:\n",
        "\n",
        "```\n",
        "class TreeNode {\n",
        "  int key;            // or char key;\n",
        "  TreeNode[] children;\n",
        "}\n",
        "getDistance(A, G) \u003d\u003d\u003e 2\n",
        "getDistance(M, H) \u003d\u003d\u003e 5\n",
        "getDistance(C, L) \u003d\u003d\u003e 3\n",
        "getDistance(B, M) \u003d\u003d\u003e 2\n",
        "```"
      ]
    },
    {
      "cell_type": "code",
      "execution_count": 11,
      "metadata": {
        "pycharm": {}
      },
      "outputs": [
        {
          "name": "stdout",
          "output_type": "stream",
          "text": [
            "get_distance(A, G) \u003d\u003d\u003e 2\n",
            "get_distance(M, H) \u003d\u003d\u003e 5\n",
            "get_distance(C, L) \u003d\u003d\u003e 3\n",
            "get_distance(B, M) \u003d\u003d\u003e 2\n"
          ]
        }
      ],
      "source": "from collections import deque\nfrom typing import NamedTuple, Optional, List\n\n\nclass TreeNode(NamedTuple):\n    key: str\n    parent: Optional[\u0027TreeNode\u0027] \u003d None\n\n\ndef get_distance(source: TreeNode, target: TreeNode) -\u003e int:\n    if source is target:\n        return 0\n\n    source_stack, target_stack \u003d deque(), deque()\n    p1, p2 \u003d source, target\n\n    # it can be fast if we store key to set or sth so we can look them up later to stop\n    # current loop\n    while p1 or p2:\n        if p1:\n            source_stack.appendleft(p1)\n            p1 \u003d p1.parent\n\n        if p2:\n            target_stack.appendleft(p2)\n            p2 \u003d p2.parent\n\n    while source_stack and target_stack and source_stack[0] is target_stack[0]:\n        source_stack.popleft()\n        target_stack.popleft()\n\n    res \u003d len(source_stack) + len(target_stack)\n\n    print(f\u0027get_distance({source.key}, {target.key}) \u003d\u003d\u003e {res}\u0027)\n\nA \u003d TreeNode(\u0027A\u0027)\nB, F, D, E \u003d TreeNode(\u0027B\u0027, A), TreeNode(\u0027F\u0027, A), TreeNode(\u0027D\u0027, A), TreeNode(\u0027E\u0027, A)\nK, J \u003d TreeNode(\u0027K\u0027, B), TreeNode(\u0027J\u0027, B)\nG \u003d TreeNode(\u0027G\u0027, D)\nC, H, I \u003d TreeNode(\u0027C\u0027, E), TreeNode(\u0027H\u0027, E), TreeNode(\u0027I\u0027, E)\nN, M \u003d TreeNode(\u0027N\u0027, K), TreeNode(\u0027M\u0027, K)\nL \u003d TreeNode(\u0027L\u0027, I)\n\nget_distance(A, G)\nget_distance(M, H)\nget_distance(C, L)\nget_distance(B, M)"
    },
    {
      "cell_type": "raw",
      "metadata": {
        "pycharm": {}
      },
      "source": [
        "Given a char array remove all occurances of \u0027a\u0027.\n",
        "Example:\n",
        "Input: [\u0027a\u0027, \u0027b\u0027, \u0027c\u0027, \u0027\\0\u0027]\n",
        "Output: [\u0027b\u0027, \u0027c\u0027, \u0027\\0\u0027]\n",
        "\n",
        "Requirements: Linear time and Constant space complexity.\n",
        "\n",
        "Follow Up:\n",
        "Remove all occurances of \u0027a\u0027 and replace all occurances of \u0027b\u0027 with \u0027b\u0027,\u0027e\u0027,\u0027e\u0027.\n",
        "\n",
        "I asked if there would be enough space in the array to do this operation so he said yes.\n",
        "\n",
        "I couldn\u0027t solve the problem but suggested that whenever there I see a \u0027b\u0027 I would move all the characters 2 spaces forward and add \u0027e\u0027, \u0027e\u0027 after. However, I also suggested that this approach is not scalable and couldn\u0027t come up with an actual working algorithm.\n",
        "\n",
        "I think they were pretty simple problems but I messed up. Anyway, wishing you guys all the best."
      ]
    },
    {
      "cell_type": "code",
      "execution_count": 1,
      "metadata": {
        "pycharm": {
          "is_executing": false
        }
      },
      "outputs": [
        {
          "name": "stdout",
          "text": [
            "[\u0027b\u0027, \u0027e\u0027, \u0027e\u0027, \u0027_\u0027, \u0027b\u0027, \u0027e\u0027, \u0027e\u0027, \u0027_\u0027, \u0027b\u0027, \u0027e\u0027, \u0027e\u0027, \u0027_\u0027] deque([\u0027e\u0027, \u0027e\u0027, \u0027_\u0027])\n"
          ],
          "output_type": "stream"
        }
      ],
      "source": "from collections import deque\n\n\ndef solution(seq, length):\n    i \u003d j \u003d 0\n    queue \u003d deque()\n\n    while i \u003c length and j \u003c length:\n        char \u003d seq[j]\n        get_from_queue \u003d bool(queue)\n\n        if get_from_queue:\n            char \u003d queue.popleft()\n\n        if char is \u0027a\u0027:\n            length -\u003d 1\n        elif char is \u0027b\u0027:\n            queue.extend(seq[j + (0 if get_from_queue else 1):j+3])\n            seq[i:i+3] \u003d [\u0027b\u0027, \u0027e\u0027, \u0027e\u0027]\n            i, j, length \u003d i + 3, j + 2, length + 2\n        else:\n            seq[i] \u003d char\n            i +\u003d 1\n\n        if not get_from_queue:\n            j +\u003d 1\n\n    print(seq, queue)\n\nsolution([\u0027b\u0027, G\u0027_\u0027, \u0027b\u0027, \u0027_\u0027, \u0027b\u0027, \u0027_\u0027, None, None, None, None, None, None], 6)"
    },
    {
      "cell_type": "markdown",
      "metadata": {
        "pycharm": {}
      },
      "source": [
        "Build an interval tree"
      ]
    },
    {
      "cell_type": "code",
      "execution_count": 2,
      "metadata": {
        "pycharm": {
          "is_executing": false
        }
      },
      "outputs": [
        {
          "name": "stdout",
          "text": [
            "IntervalTree(interval\u003dInterval(low\u003d15, high\u003d20), max_high\u003d40, left\u003dIntervalTree(interval\u003dInterval(low\u003d10, high\u003d30), max_high\u003d30, left\u003dIntervalTree(interval\u003dInterval(low\u003d5, high\u003d20), max_high\u003d20, left\u003dNone, right\u003dNone), right\u003dIntervalTree(interval\u003dInterval(low\u003d12, high\u003d15), max_high\u003d15, left\u003dNone, right\u003dNone)), right\u003dIntervalTree(interval\u003dInterval(low\u003d17, high\u003d19), max_high\u003d40, left\u003dNone, right\u003dIntervalTree(interval\u003dInterval(low\u003d30, high\u003d40), max_high\u003d40, left\u003dNone, right\u003dNone)))\n"
          ],
          "output_type": "stream"
        },
        {
          "data": {
            "text/plain": "[Interval(low\u003d15, high\u003d20),\n Interval(low\u003d10, high\u003d30),\n Interval(low\u003d5, high\u003d20),\n Interval(low\u003d12, high\u003d15),\n Interval(low\u003d17, high\u003d19)]"
          },
          "metadata": {},
          "output_type": "execute_result",
          "execution_count": 2
        }
      ],
      "source": "from typing import Optional\nfrom dataclasses import dataclass\n\n\n@dataclass(init\u003dFalse, order\u003dTrue)\nclass Interval:\n    low: int\n    high: int\n\n    def __init__(self, low, high):\n        if low \u003e\u003d high:\n            raise AttributeError\n\n        self.low \u003d low\n        self.high \u003d high\n\n    def contains(self, other: \u0027Interval\u0027) -\u003e bool:\n        return self.low \u003c\u003d other.low \u003c other.high \u003c\u003d self.high\n\n    def intersect(self, other: \u0027Interval\u0027) -\u003e bool:\n        return self.low \u003c\u003d other.low \u003c\u003d self.high \u003c\u003d other.high or other.low \u003c\u003d self.low \u003c\u003d other.high \u003c\u003d self.high\n\n\n@dataclass\nclass IntervalTree:\n    interval: Interval\n    max_high: int\n    left: Optional[\u0027IntervalTree\u0027] \u003d None\n    right: Optional[\u0027IntervalTree\u0027] \u003d None\n\n\ndef insert(interval: Interval, node: Optional[IntervalTree]\u003dNone) -\u003e IntervalTree:\n    if not node:\n        return IntervalTree(interval, interval.high)\n\n    if interval \u003c node.interval:\n        node.left \u003d insert(interval, node.left)\n    else:\n        node.right \u003d insert(interval, node.right)\n\n    if node.max_high \u003c interval.high:\n        node.max_high \u003d interval.high\n\n    return node\n\n\nfrom typing import Generator\n\n\ndef search(interval: Interval, node: Optional[IntervalTree]\u003dNone) -\u003e Generator[Interval, None, None]:\n    if not node:\n        return\n\n    if node.interval.intersect(interval) or node.interval.contains(interval) or interval.contains(node.interval):\n        yield node.interval\n\n    if node.left and interval.low \u003c node.left.max_high:\n        yield from search(interval, node.left)\n\n    yield from search(interval, node.right)\n\n\nroot \u003d insert(Interval(15, 20))\n\ninsert(Interval(10, 30), root)\ninsert(Interval(5, 20), root)\ninsert(Interval(12, 15), root)\ninsert(Interval(17, 19), root)\ninsert(Interval(30, 40), root)\n\nprint(root)\nlist(search(Interval(14, 20), root))"
    },
    {
      "cell_type": "code",
      "execution_count": 4,
      "outputs": [
        {
          "name": "stdout",
          "text": [
            "30\n36\n51\n"
          ],
          "output_type": "stream"
        }
      ],
      "source": "from typing import List\n\n\nclass SegmentTree:\n    def __init__(self, ls: List[int]):\n        self.ls \u003d ls\n        self.data \u003d [None] * (4 * len(ls))\n\n        self._construct(0, len(self.ls) - 1, 0)\n\n    def _construct(self, start: int, end: int, index: int) -\u003e int:\n        if start \u003d\u003d end:\n            self.data[index] \u003d self.ls[start]\n        else:\n            mid \u003d (start + end) // 2\n        \n            self.data[index] \u003d (\n                    self._construct(start, mid, 2 * index + 1) +\n                    self._construct(mid + 1, end, 2 * index + 2)\n            )\n\n        return self.data[index]\n\n    def query(self, low: int, high: int) -\u003e int:\n        if low \u003c 0 or high \u003e len(self.ls) - 1:\n            raise ValueError\n\n        def query_until(start: int, end: int, index: int) -\u003e int:\n            # If segment of this node is a part of given range, then return \n            # the sum of the segment \n            if low \u003c\u003d start and end \u003c\u003d high:\n                return self.data[index]\n              \n            # If segment of this node is outside the given range \n            if end \u003c low or high \u003c start:\n                return 0\n\n            # If a part of this segment overlaps with the given range \n            mid \u003d (start + end) // 2\n\n            return query_until(start, mid, 2 * index + 1) + query_until(mid + 1, end, 2 * index + 2)\n\n        return query_until(0, len(self.ls) - 1, 0)\n    \n    def update(self, index: int, val: int) -\u003e None:\n        if index \u003c 0 or index \u003e len(self.ls) - 1:\n            raise ValueError\n\n        diff \u003d val - self.ls[index]\n\n        self.ls[index] \u003d val\n        \n        def update_until(start: int, end: int, segment_tree_index: int) -\u003e None:\n            # Base Case: If the input index lies outside the range of this segment \n            if index \u003c start or end \u003c index:\n                return\n      \n            # If the input index is in range of this node, then update the \n            # value of the node and its children \n            self.data[segment_tree_index] +\u003d diff\n\n            if start !\u003d end:\n                mid \u003d (start + end) // 2\n\n                update_until(start, mid, 2 * segment_tree_index + 1)\n                update_until(mid + 1, end, 2 * segment_tree_index + 2)\n            \n        update_until(0, len(self.ls) - 1, 0)\n\nst \u003d SegmentTree([0, 1, 2, 3, 4, 5, 6, 7, 8, 9])\n\nprint(st.query(4, 8))\nst.update(4, 10)\nprint(st.query(4, 8))\nprint(st.query(0, 9))",
      "metadata": {
        "pycharm": {
          "metadata": false,
          "name": "#%%\n",
          "is_executing": false
        }
      }
    },
    {
      "cell_type": "code",
      "execution_count": 4,
      "outputs": [
        {
          "name": "stdout",
          "text": [
            "30\n36\n51\n2d array\n30\n35\n"
          ],
          "output_type": "stream"
        }
      ],
      "source": "from dataclasses import dataclass\nfrom typing import List, Optional\n\n\n@dataclass(frozen\u003dTrue)\nclass Range:\n    start: int\n    end: int\n\n    @property\n    def mid(self):\n        return (self.start + self.end) // 2\n\n    def is_between(self, low: int, high: int) -\u003e bool:\n        return low \u003c\u003d self.start and self.end \u003c\u003d high\n\n    def is_overlapped(self, low: int, high: int) -\u003e bool:\n        return not (self.end \u003c low or high \u003c self.start)\n\n    def contains(self, index: int) -\u003e bool:\n        return self.start \u003c\u003d index \u003c\u003d self.end\n\n\n@dataclass\nclass Segment:\n    val: int\n    range: Range\n    left: \u0027Segment\u0027 \u003d None\n    right: \u0027Segment\u0027 \u003d None\n\n    def query(self, low: int, high: int) -\u003e int:\n        # If segment of this node is a part of given range, then return \n        # the sum of the segment \n        if self.range.is_between(low, high):\n            return self.val\n          \n        # If segment of this node is outside the given range \n        if self.range.is_overlapped(low, high):\n            return self.left.query(low, high) + self.right.query(low, high)\n\n        return 0\n    \n    def update(self, index: int, diff: int) -\u003e None:\n        # Base Case: If the input index lies outside the range of this segment \n        if not self.range.contains(index):\n            return\n  \n        # If the input index is in range of this node, then update the \n        # value of the node and its children \n        self.val +\u003d diff\n\n        if self.range.start !\u003d self.range.end:\n            self.left.update(index, diff)\n            self.right.update(index, diff)\n\n    def __add__(self, other: \u0027Segment\u0027) -\u003e Optional[\u0027Segment\u0027]:\n        if self.range !\u003d other.range:\n            raise ValueError\n\n        segment \u003d Segment(self.val + other.val, self.range)\n\n        if self.left:\n            segment.left \u003d self.left + other.left\n\n        if self.right:\n            segment.right \u003d self.right + other.right\n\n        return segment\n\n\ndef construct_segment_tree(ls: List[int]) -\u003e Segment:\n    def construct(start: int, end: int) -\u003e Segment:\n        cur_range \u003d Range(start, end)\n\n        if start \u003d\u003d end:\n            return Segment(ls[start], cur_range)\n        else:\n            mid \u003d cur_range.mid\n        \n            left, right \u003d construct(start, mid), construct(mid + 1, end)\n\n            return Segment(left.val + right.val, cur_range, left, right)\n\n    return construct(0, len(ls) - 1)\n\n\nst \u003d construct_segment_tree([0, 1, 2, 3, 4, 5, 6, 7, 8, 9])\n\nprint(st.query(4, 8))\nst.update(4, diff\u003d6)\nprint(st.query(4, 8))\nprint(st.query(0, 9))\n\n\n@dataclass\nclass Segment2D:\n    segment: Segment\n    row_range: Range\n    left: \u0027Segment2D\u0027 \u003d None\n    right: \u0027Segment2D\u0027 \u003d None\n\n    def query(self, row1: int, col1: int, row2: int, col2: int) -\u003e int:\n        # If segment of this node is a part of given range, then return \n        # the sum of the segment \n        if self.row_range.is_between(row1, row2):\n            return self.segment.query(col1, col2)\n          \n        # If segment of this node is outside the given range \n        if self.row_range.is_overlapped(row1, row2):\n            return self.left.query(row1, col1, row2, col2) + self.right.query(row1, col1, row2, col2)\n\n        return 0\n    \n    def update(self, row: int, col: int, diff: int) -\u003e None:\n        # Base Case: If the input index lies outside the range of this segment \n        if not self.row_range.contains(row):\n            return\n  \n        # If the input index is in range of this node, then update the \n        # value of the node and its children \n        self.segment.update(col, diff)\n\n        if self.row_range.start !\u003d self.row_range.end:\n            self.left.update(row, col, diff)\n            self.right.update(row, col, diff)\n\n\ndef construct_2d_segment_tree(matrix: List[List[int]]) -\u003e Segment2D:\n    def construct(start: int, end: int) -\u003e Segment2D:\n        row_range \u003d Range(start, end)\n\n        if start \u003d\u003d end:\n            return Segment2D(construct_segment_tree(matrix[start]), row_range)\n        else:\n            mid \u003d row_range.mid\n        \n            left, right \u003d construct(start, mid), construct(mid + 1, end)\n\n            return Segment2D(left.segment + right.segment, row_range, left, right)\n\n    return construct(0, len(matrix) - 1)\n\n\nst \u003d construct_2d_segment_tree([\n    [0,  1,  2,  3],\n    [4,  5,  6,  7],\n    [8,  9,  10, 11],\n    [12, 13, 14, 15]\n])\n\nprint(\u00272d array\u0027)\nprint(st.query(1, 1, 2, 2))\nst.update(1, 1, 5)\nprint(st.query(1, 1, 2, 2))",
      "metadata": {
        "pycharm": {
          "metadata": false,
          "name": "#%%\n",
          "is_executing": false
        }
      }
    },
    {
      "cell_type": "code",
      "execution_count": 7,
      "outputs": [
        {
          "name": "stdout",
          "text": [
            "30\n36\n51\n"
          ],
          "output_type": "stream"
        }
      ],
      "source": "from typing import List\n\n\nclass BinaryIndexTree:\n    data: List[int]\n\n    def __init__(self, ls: List[int]):\n        self.len \u003d len(ls)\n        self.data \u003d [0] * (self.len + 1)\n\n        for index in range(self.len):\n            self.update(index, ls[index])\n\n    def update(self, index: int, diff: int) -\u003e None:\n        # index in BITree[] is 1 more than the index in arr[] \n        index +\u003d 1\n\n        while index \u003c\u003d self.len:\n            self.data[index] +\u003d diff\n            index +\u003d index \u0026 (-index)\n\n    def get_sum(self, index: int) -\u003e int:\n        # index in BITree[] is 1 more than the index in arr[] \n        total \u003d 0\n        index +\u003d 1\n\n        while index \u003e 0:\n            total +\u003d self.data[index]\n            index -\u003d index \u0026 (-index)\n\n        return total\n\n    def query(self, left: int, right: int) -\u003e int:\n        return self.get_sum(right) - self.get_sum(left - 1)\n\nbit \u003d BinaryIndexTree([0, 1, 2, 3, 4, 5, 6, 7, 8, 9])\n\nprint(bit.query(4, 8))\nbit.update(4, diff\u003d6)\nprint(bit.query(4, 8))\nprint(bit.query(0, 9))",
      "metadata": {
        "pycharm": {
          "metadata": false,
          "name": "#%%\n",
          "is_executing": false
        }
      }
    },
    {
      "cell_type": "markdown",
      "metadata": {
        "pycharm": {
          "name": "#%% md\n"
        }
      },
      "source": "There is student attendance information that has 3 state.\n\nO: attendance\nL: late\nA: absent\n\nIf student is \"absent two days in total\" OR \"late three days in a row\", student get penalty.\n\nThere are 8 ways that student get penalty in 3 days.\n\nLLL   AAO   AOA   OAA   AAL\nALA   LAA   AAA\n\nThete are 38 ways that student get penalty in 4 days\n\nAAOO   AAOL   AALO   AALL   AOAO\nAOAL   ALAO   ALAL   AOOA   AOLA\nALOA   ALLA   OAAO   OAAL   LAAO\nLAAL   OAOA   OALA   LAOA   LALA\nOOAA   OLAA   LOAA   LLAA   AAAO\nAAAL   AAOA   AALA   AOAA   ALAA\nOAAA   LAAA   AAAA   LLLO LLLA\nOLLL   ALLL   LLLL\n\nQustion.\nOne semester is N days. Given an integer N, generate the number of ways that student get penalty.\n\nExample 1.\nInput : 3\nOutput : 8\n\nExample 2.\nInput : 4\nOutput : 38"
    },
    {
      "cell_type": "code",
      "execution_count": 35,
      "metadata": {
        "pycharm": {}
      },
      "outputs": [
        {
          "name": "stdout",
          "output_type": "stream",
          "text": [
            "8\n",
            "39\n"
          ]
        }
      ],
      "source": [
        "def solution(n):\n",
        "    num_of_combinations \u003d 3 ** n\n",
        "    no_absent \u003d 2 ** n\n",
        "    absent_1_day_in_total \u003d n * (2 ** (n - 1))\n",
        "    absent_2_or_more_days_in_total \u003d num_of_combinations - no_absent - absent_1_day_in_total\n",
        "    late_3_days_in_row \u003d (n - 2) * (3 ** (n - 3))\n",
        "\n",
        "    return late_3_days_in_row + absent_2_or_more_days_in_total\n",
        "\n",
        "\n",
        "print(solution(3))\n",
        "print(solution(4))"
      ]
    },
    {
      "cell_type": "markdown",
      "metadata": {
        "pycharm": {}
      },
      "source": [
        "Given [1, 2, 3, 4, 5, 6], and K \u003d 3. Find the maximum num in range of K"
      ]
    },
    {
      "cell_type": "code",
      "execution_count": 6,
      "metadata": {
        "pycharm": {
          "is_executing": false
        }
      },
      "outputs": [
        {
          "data": {
            "text/plain": "\u0027geeks\u0027"
          },
          "metadata": {},
          "output_type": "execute_result",
          "execution_count": 6
        }
      ],
      "source": "def longestRepeatedSubstring(str): \n  \n    n \u003d len(str) \n    LCSRe \u003d [[0 for _ in range(n + 1)]  \n                for _ in range(n + 1)] \n  \n    res \u003d \"\" # To store result \n    res_length \u003d 0 # To store length of result \n  \n    # building table in bottom-up manner \n    index \u003d 0\n    for i in range(1, n + 1): \n        for j in range(i + 1, n + 1): \n              \n            # (j-i) \u003e LCSRe[i-1][j-1] to remove \n            # overlapping \n            if str[i - 1] \u003d\u003d str[j - 1] and LCSRe[i - 1][j - 1] \u003c (j - i): \n                LCSRe[i][j] \u003d LCSRe[i - 1][j - 1] + 1\n  \n                # updating maximum length of the \n                # substring and updating the finishing \n                # index of the suffix \n                if LCSRe[i][j] \u003e res_length: \n                    res_length \u003d LCSRe[i][j] \n                    index \u003d max(i, index) \n                  \n            else: \n                LCSRe[i][j] \u003d 0\n  \n    # If we have non-empty result, then insert  \n    # all characters from first character to  \n    # last character of string \n    if res_length \u003e 0: \n        for i in range(index - res_length + 1, \n                                    index + 1): \n            res \u003d res + str[i - 1] \n  \n    return res \n\nlongestRepeatedSubstring(\u0027geeksforgeeks\u0027)\n"
    }
  ],
  "metadata": {
    "kernelspec": {
      "display_name": "Python 3",
      "language": "python",
      "name": "python3"
    },
    "language_info": {
      "codemirror_mode": {
        "name": "ipython",
        "version": 3
      },
      "file_extension": ".py",
      "mimetype": "text/x-python",
      "name": "python",
      "nbconvert_exporter": "python",
      "pygments_lexer": "ipython3",
      "version": "3.7.2"
    }
  },
  "nbformat": 4,
  "nbformat_minor": 2
}