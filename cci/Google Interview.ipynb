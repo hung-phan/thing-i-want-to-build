{
 "cells": [
  {
   "cell_type": "markdown",
   "metadata": {},
   "source": [
    "Given a bag with capacity C as integer value, and an int list, find 2 numbers from the list such that we can fill this bag with min space left.\n",
    "For example, let the bag capacity C is 10 and\n",
    "The array list is [1, 2, 3, 4, 5]\n",
    "The answer is clearly [4, 5]\n",
    "It is similar to Knapsack problem without value attribution."
   ]
  },
  {
   "cell_type": "code",
   "execution_count": 1,
   "metadata": {},
   "outputs": [
    {
     "data": {
      "text/plain": [
       "(4, 5)"
      ]
     },
     "execution_count": 1,
     "metadata": {},
     "output_type": "execute_result"
    }
   ],
   "source": [
    "def best_pair(ls, capacity):\n",
    "    ls.sort()\n",
    "\n",
    "    lo, hi = 0, len(ls) - 1\n",
    "    pair = (-1, -1)\n",
    "\n",
    "    while lo < hi:\n",
    "        diff = capacity - (ls[lo] + ls[hi])\n",
    "\n",
    "        if diff == 0:\n",
    "            return (ls[lo], ls[hi])\n",
    "        elif diff > 0:\n",
    "            if diff < capacity - sum(pair):\n",
    "                pair = (ls[lo], ls[hi])\n",
    "            lo += 1\n",
    "        else:\n",
    "            hi -= 1\n",
    "\n",
    "    return pair\n",
    "    \n",
    "best_pair([1, 2, 3, 4, 5], 10)"
   ]
  },
  {
   "cell_type": "code",
   "execution_count": 2,
   "metadata": {},
   "outputs": [
    {
     "data": {
      "text/plain": [
       "(deque([1, 2, 3, 4, 5]), 15)"
      ]
     },
     "execution_count": 2,
     "metadata": {},
     "output_type": "execute_result"
    }
   ],
   "source": [
    "from collections import deque\n",
    "\n",
    "\n",
    "def knapsack(ls, capacity):\n",
    "    dp = [[0 for i in range(capacity + 1)] for j in range(len(ls) + 1)]\n",
    "\n",
    "    for i in range(1, len(ls) + 1):\n",
    "        for j in range(capacity + 1):\n",
    "            dp[i][j] = dp[i - 1][j]\n",
    "            item = ls[i - 1]\n",
    "\n",
    "            if j >= item:\n",
    "                new_val = dp[i - 1][j - item] + item\n",
    "\n",
    "                if dp[i][j] < new_val:\n",
    "                    dp[i][j] = new_val\n",
    "\n",
    "    i, j = len(ls), capacity\n",
    "    ans = deque()\n",
    "    \n",
    "    while i > 0 and j > 0:\n",
    "        if dp[i][j] != dp[i - 1][j]:\n",
    "            item = ls[i - 1]\n",
    "\n",
    "            j -= item\n",
    "            ans.appendleft(item)\n",
    "        \n",
    "\n",
    "        i -= 1\n",
    "\n",
    "    return ans, dp[len(ls)][capacity]\n",
    "\n",
    "\n",
    "knapsack([1, 2, 3, 4, 5], 15)"
   ]
  },
  {
   "cell_type": "markdown",
   "metadata": {},
   "source": [
    "Return the longest movie title found by successively matching the last and first words in each title, joining to form new titles, given an array containing a list of movie titles.\n",
    "\n",
    "For example: \n",
    "Input: ['OF MICE AND MEN', 'BLACK MASS', 'MEN IN BLACK\"]\n",
    "Output:  'OF MICE AND MEN IN BLACK MASS'\n",
    "\n",
    "Explanation:\n",
    "'OF MICE AND MEN' and 'MEN IN BLACK' join to form 'OF MICE AND MEN IN BLACK'. \n",
    "You could further join 'OF MICE AND MEN IN BLACK' wth 'BLACK MASS' to form 'OF MICE AND MEN IN BLACK MASS'. "
   ]
  },
  {
   "cell_type": "code",
   "execution_count": 3,
   "metadata": {},
   "outputs": [
    {
     "name": "stdout",
     "output_type": "stream",
     "text": [
      "{0: [2], 2: [1]}\n"
     ]
    },
    {
     "data": {
      "text/plain": [
       "'OF MICE AND MEN IN BLACK MASS'"
      ]
     },
     "execution_count": 3,
     "metadata": {},
     "output_type": "execute_result"
    }
   ],
   "source": [
    "def solution(ls):\n",
    "    graph = {}\n",
    "    mapper = {}\n",
    "\n",
    "    for i, val in enumerate(ls):\n",
    "        head, *_, tail = val.split(' ')\n",
    "\n",
    "        mapper.setdefault(head, {}).setdefault('head', []).append(i)\n",
    "        mapper.setdefault(tail, {}).setdefault('tail', []).append(i)\n",
    "\n",
    "    for word, val in mapper.items():\n",
    "        for tail in val.get('tail', []):\n",
    "            for head in val.get('head', []):\n",
    "                graph.setdefault(tail, []).append(head)\n",
    "\n",
    "    ans = []\n",
    "    marker = set()\n",
    "\n",
    "    print(graph)\n",
    "\n",
    "    def dfs(pos, acc):\n",
    "        marker.add(pos)\n",
    "\n",
    "        nonlocal ans\n",
    "\n",
    "        if len(ans) < len(acc):\n",
    "            ans = acc\n",
    "\n",
    "        for val in graph.get(pos, []):\n",
    "            if val not in marker:\n",
    "                dfs(val, acc + [val])\n",
    "\n",
    "        marker.remove(pos)\n",
    "\n",
    "    for i in range(len(ls)):\n",
    "        dfs(i, [i])\n",
    "        marker.clear()\n",
    "\n",
    "    res = ''\n",
    "\n",
    "    for idx, i in enumerate(ans):\n",
    "        item = ls[i]\n",
    "\n",
    "        if idx != 0:\n",
    "            item = item[item.index(' ') + 1:]\n",
    "\n",
    "        res += item + (' ' if idx != len(ans) - 1 else '')\n",
    "\n",
    "    return res\n",
    "        \n",
    "solution(['OF MICE AND MEN', 'BLACK MASS', 'MEN IN BLACK'])"
   ]
  },
  {
   "cell_type": "markdown",
   "metadata": {},
   "source": [
    "Given an array {a0, a1, a2, ... an, b0, b1, b2 ... bn},\n",
    "Rearrange this array into {a0, b0, a1, b1, a2, b2, ... an, bn}\n",
    "\n",
    "Follow up: Can you do it in-place with no extra space?"
   ]
  },
  {
   "cell_type": "code",
   "execution_count": 4,
   "metadata": {},
   "outputs": [
    {
     "data": {
      "text/plain": [
       "[0, 1, 2, 3, 4, 5, 6, 7]"
      ]
     },
     "execution_count": 4,
     "metadata": {},
     "output_type": "execute_result"
    }
   ],
   "source": [
    "def solution(ls):\n",
    "    \"\"\"\n",
    "    [0, 1, 2, 3, 4, 5, 6, 7, 8, 9]\n",
    "    [0, 2, 4, 6, 8, 1, 3, 5, 7, 9]\n",
    "    \"\"\"\n",
    "    half = len(ls) // 2\n",
    "    ls[::2], ls[1::2] = ls[:half], ls[half:]\n",
    "\n",
    "    return ls\n",
    "\n",
    "solution([0, 2, 4, 6, 1, 3, 5, 7])"
   ]
  },
  {
   "cell_type": "code",
   "execution_count": 5,
   "metadata": {},
   "outputs": [
    {
     "name": "stdout",
     "output_type": "stream",
     "text": [
      "[0, 1, 2, 3, 4, 5, 6, 7]\n"
     ]
    }
   ],
   "source": [
    "def solution(ls):\n",
    "    length = len(ls)\n",
    "    swaps = length // 2 - 1\n",
    "\n",
    "    for j in range(length // 2, length):\n",
    "        i = j\n",
    "\n",
    "        while swaps > 0:\n",
    "            ls[i], ls[i - 1] = ls[i - 1], ls[i]\n",
    "            i -= 1\n",
    "            swaps -= 1\n",
    "\n",
    "        swaps = length - j - 2\n",
    "    \n",
    "    print(ls)\n",
    "\n",
    "solution([0, 2, 4, 6, 1, 3, 5, 7])    "
   ]
  },
  {
   "cell_type": "markdown",
   "metadata": {},
   "source": [
    "Q.1: Consider any integer ending in 0 to be “magic”.  Write a function which accepts an integer, sums the squares of the digits of the integer, \n",
    "and determines if the sum ends in zero. If it ends in zero print “Magic”. Otherwise, try again with the sum."
   ]
  },
  {
   "cell_type": "code",
   "execution_count": 6,
   "metadata": {},
   "outputs": [
    {
     "name": "stdout",
     "output_type": "stream",
     "text": [
      "25\n",
      "29\n",
      "85\n",
      "89\n",
      "145\n",
      "42\n",
      "Magic\n"
     ]
    }
   ],
   "source": [
    "def solution(val):\n",
    "    marker = set()\n",
    "\n",
    "    def recur(val):\n",
    "        if val in marker:\n",
    "            return\n",
    "\n",
    "        marker.add(val)\n",
    "        cur_sum = 0\n",
    "\n",
    "        print(val)\n",
    "\n",
    "        while val:\n",
    "            val, rem = val // 10, val % 10\n",
    "            cur_sum += rem ** 2\n",
    "\n",
    "        if cur_sum % 10 == 0:\n",
    "            print('Magic')\n",
    "        else:\n",
    "            recur(cur_sum)\n",
    "\n",
    "    recur(val)\n",
    "\n",
    "solution(25)"
   ]
  },
  {
   "cell_type": "markdown",
   "metadata": {},
   "source": [
    "Q.2: Write a function that accepts two integers and stores them as a range. \n",
    "Write another function that accepts one integer, and determines if the integer is contained within a stored range."
   ]
  },
  {
   "cell_type": "code",
   "execution_count": 7,
   "metadata": {},
   "outputs": [
    {
     "name": "stdout",
     "output_type": "stream",
     "text": [
      "BEF [] 0 0 [10, 20]\n",
      "AFT [10, 20]\n",
      "BEF [10, 20] 1 2 [26]\n",
      "AFT [10, 26]\n",
      "BEF [10, 26] 2 2 [30, 40]\n",
      "AFT [10, 26, 30, 40]\n",
      "True\n",
      "False\n",
      "False\n"
     ]
    }
   ],
   "source": [
    "from bisect import bisect_left, bisect_right\n",
    "\n",
    "\n",
    "class Range:\n",
    "    def __init__(self):\n",
    "        self.data = []\n",
    "\n",
    "    def add_range(self, l, r):\n",
    "        i, j = bisect_left(self.data, l), bisect_left(self.data, r)\n",
    "        print('BEF', self.data, i, j, [l] * (i % 2 == 0) + [r] * (j % 2 == 0))\n",
    "        self.data[i:j] = [l] * (i % 2 == 0) + [r] * (j % 2 == 0)\n",
    "        print('AFT', self.data)\n",
    "\n",
    "    def query_range(self, v):\n",
    "        i, j = bisect_right(self.data, v), bisect_left(self.data, v)\n",
    "        return i == j and i % 2 == 1\n",
    "\n",
    "\n",
    "my_range = Range()\n",
    "\n",
    "my_range.add_range(10, 20)\n",
    "my_range.add_range(14, 26)\n",
    "my_range.add_range(30, 40)\n",
    "\n",
    "print(my_range.query_range(14))\n",
    "print(my_range.query_range(27))\n",
    "print(my_range.query_range(26))"
   ]
  },
  {
   "cell_type": "code",
   "execution_count": 8,
   "metadata": {},
   "outputs": [
    {
     "name": "stdout",
     "output_type": "stream",
     "text": [
      "Node(l=10,r=20,left=None,right=Node(l=14,r=26,left=None,right=Node(l=30,r=40,left=None,right=None)))\n",
      "True\n",
      "False\n",
      "True\n"
     ]
    }
   ],
   "source": [
    "class Node:\n",
    "    def __init__(self, l, r, left=None, right=None):\n",
    "        self.l = l\n",
    "        self.r = r\n",
    "        self.left = left\n",
    "        self.right = right\n",
    "\n",
    "    def add_range(self, l, r) -> None:\n",
    "        if r < self.l:\n",
    "            if self.left:\n",
    "                self.left.add_range(l, r)\n",
    "            else:\n",
    "                self.left = Node(l, r)\n",
    "        elif self.r < l:\n",
    "            if self.right:\n",
    "                self.right.add_range(l, r)\n",
    "            else:\n",
    "                self.right = Node(l, r)\n",
    "        elif l <= self.l < r:\n",
    "            self.left = Node(l, r)\n",
    "        else:\n",
    "            self.right = Node(l, r)\n",
    "\n",
    "    def query(self, v):\n",
    "        if self.l <= v <= self.r:\n",
    "            return True\n",
    "\n",
    "        if v < self.l:\n",
    "            return self.left.query(v) if self.left else False\n",
    "\n",
    "        if v > self.r:\n",
    "            return self.right.query(v) if self.right else False\n",
    "\n",
    "    def __repr__(self):\n",
    "        return f'Node(l={self.l},r={self.r},left={self.left},right={self.right})'\n",
    "\n",
    "bst = None\n",
    "\n",
    "def add_range(l, r):\n",
    "    global bst\n",
    "\n",
    "    if bst is None:\n",
    "        bst = Node(l, r)\n",
    "\n",
    "        return\n",
    "\n",
    "    bst.add_range(l, r)\n",
    "\n",
    "add_range(10, 20)\n",
    "add_range(14, 26)\n",
    "add_range(30, 40)\n",
    "\n",
    "print(bst)\n",
    "\n",
    "print(bst.query(14))\n",
    "print(bst.query(27))\n",
    "print(bst.query(26))"
   ]
  },
  {
   "cell_type": "markdown",
   "metadata": {},
   "source": [
    "Given an array of Integers, find out how many combinations in the array, satisfy the equation x+y+z=w, where x,y,z and w belong to the array and idx(x)<idx(y)<idx(z)<idx(w). Elements are unique.\n",
    "\n",
    "example :\n",
    "input: [2,3,5,1,10] output: 1 {(2, 3, 5, 10)}\n",
    "input: [4,6, 9,3,13,18] output: 2{(4,6,3,13),(6,9,3,18)}"
   ]
  },
  {
   "cell_type": "code",
   "execution_count": 9,
   "metadata": {},
   "outputs": [
    {
     "name": "stdout",
     "output_type": "stream",
     "text": [
      "[[2, 3, 5, 10]]\n",
      "[[4, 6, 3, 13], [6, 9, 3, 18]]\n"
     ]
    }
   ],
   "source": [
    "def solution(ls):\n",
    "    length = len(ls)\n",
    "    x_y_hash_table = {}\n",
    "    z_w_hash_table = {}\n",
    "\n",
    "    for i in range(length - 3):\n",
    "        for j in range(i + 1, length - 2):\n",
    "            x_y_hash_table.setdefault(ls[i] + ls[j], []).append([i, j])\n",
    "\n",
    "    for z in range(2, length - 1):\n",
    "        for w in range(z + 1, length):\n",
    "            z_w_hash_table.setdefault(-ls[z] + ls[w], []).append([z, w])\n",
    "\n",
    "    common_keys = [key for key in x_y_hash_table.keys() if key in z_w_hash_table]\n",
    "\n",
    "    ans = []\n",
    "\n",
    "    for key in common_keys:\n",
    "        for [x, y] in x_y_hash_table[key]:\n",
    "            for [z, w] in z_w_hash_table[key]:\n",
    "                if y < z:\n",
    "                    ans.append([ls[x], ls[y], ls[z], ls[w]])\n",
    "\n",
    "    return ans\n",
    "\n",
    "# O(n ^ 2)\n",
    "print(solution([2,3,5,1,10]))\n",
    "print(solution([4,6,9,3,13,18]))"
   ]
  },
  {
   "cell_type": "markdown",
   "metadata": {},
   "source": [
    "Given a max heap as an array, return the top k elements. Do not modify heap or copy entire heap to a different data structure. Example:\n",
    "\n",
    "```\n",
    "15\n",
    "/ \\\n",
    "13 12\n",
    "/ \\ /\n",
    "10 8\t9\n",
    "```\n",
    "\n",
    "int[] arr = {15,13,12,10,8,9};\n",
    "List<Integer> peekTopK(int[] arr, int k)\n",
    "Expected output for k = 5 ==> [15,13,12,10,9]"
   ]
  },
  {
   "cell_type": "code",
   "execution_count": 10,
   "metadata": {},
   "outputs": [
    {
     "name": "stdout",
     "output_type": "stream",
     "text": [
      "0 0\n",
      "1 1\n",
      "2 1\n",
      "3 2\n",
      "4 2\n",
      "5 2\n",
      "6 2\n",
      "7 3\n",
      "8 3\n",
      "9 3\n",
      "10 3\n",
      "11 3\n",
      "12 3\n"
     ]
    },
    {
     "data": {
      "text/plain": [
       "[15, 13, 12, 10, 9]"
      ]
     },
     "execution_count": 10,
     "metadata": {},
     "output_type": "execute_result"
    }
   ],
   "source": [
    "from collections import deque\n",
    "\n",
    "\n",
    "def reverse_insort(a, x, lo=0, hi=None):\n",
    "    \"\"\"Insert item x in list a, and keep it reverse-sorted assuming a\n",
    "    is reverse-sorted.\n",
    "\n",
    "    If x is already in a, insert it to the right of the rightmost x.\n",
    "\n",
    "    Optional args lo (default 0) and hi (default len(a)) bound the\n",
    "    slice of a to be searched.\n",
    "    \"\"\"\n",
    "    if lo < 0:\n",
    "        raise ValueError('lo must be non-negative')\n",
    "    if hi is None:\n",
    "        hi = len(a)\n",
    "    while lo < hi:\n",
    "        mid = (lo+hi)//2\n",
    "        if x > a[mid]: hi = mid\n",
    "        else: lo = mid+1\n",
    "    a.insert(lo, x)\n",
    "\n",
    "\n",
    "def peek_top(ls, k):\n",
    "    length = len(ls)\n",
    "    levels = {}\n",
    "    max_level = 0\n",
    "\n",
    "    # explain for (2 ** max_level - 1) // k < 2\n",
    "    # for every node in priority queue, idx will have at most 2 children at 2 * idx + 1 and 2 * idx + 2\n",
    "    # max priority queue guarantees that ls[idx] > ls[2 * idx + 1] and ls[idx] > ls[2 * idx + 2]\n",
    "    # based on that the number of elements we will encounter have to follow the sequence 1 2 4 8 16 or 2^0 + 2^1 + 2^2 + 2^3 + 2^6\n",
    "    # the scan of those will be 1 3 7 15 31, which is the number of possible node\n",
    "    # we know we need 5 elements and we have to select the minimum number of nodes that it has to be bigger than 5 which is 7.\n",
    "    # we conclude the level to be 2 (start at 0)\n",
    "    while (2 ** max_level - 1) // k < 2:\n",
    "        max_level += 1\n",
    "\n",
    "    queue = deque()\n",
    "\n",
    "    queue.append((0, 0))\n",
    "\n",
    "    while queue:\n",
    "        idx, level = queue.popleft()\n",
    "\n",
    "        print(idx, level)\n",
    "        if idx >= length or level > max_level:\n",
    "            continue\n",
    "\n",
    "        # maintain sorted insertion\n",
    "        reverse_insort(levels.setdefault(level, []), ls[idx])\n",
    "\n",
    "        # priority queue will have characteristic of idx + 1 and idx + 2 to be the child of idx\n",
    "        queue.append((2 * idx + 1, level + 1))\n",
    "        queue.append((2 * idx + 2, level + 1))\n",
    "\n",
    "    ans = []\n",
    "\n",
    "    # just pop the result out\n",
    "    for level in range(len(levels)):\n",
    "        for val in levels[level]:\n",
    "            if len(ans) >= k:\n",
    "                break\n",
    "\n",
    "            ans.append(val)\n",
    "\n",
    "    return ans\n",
    "\n",
    "\n",
    "peek_top([15,13,12,10,8,9], 5)"
   ]
  },
  {
   "cell_type": "markdown",
   "metadata": {},
   "source": [
    "Given a source and a target node for a n-ary tree find the distance between them.\n",
    "\n",
    "/*   consider the following n-ary tree -- You can use int or char for your tree (was easier to draw using characters)\n",
    "    *             A \n",
    "    *         /  /  \\  \\ \n",
    "    *       B   F   D   E \n",
    "    *      / \\      |   /|\\ \n",
    "    *     K  J      G  C H I \n",
    "    *    / \\                \\ \n",
    "    *   N   M                 L \n",
    "    */\n",
    "\n",
    "```\n",
    "int getDistance(TreeNode source, TreeNode target) where TreeNode can be defined as:\n",
    "```\n",
    "\n",
    "```\n",
    "class TreeNode {\n",
    "  int key;         // or char key;\n",
    "  TreeNode parent;\n",
    "}\n",
    "```\n",
    "\n",
    "Having a parent will allow you to get to a solution without traversing entire tree.\n",
    "Bonus: How would the solution be if the TreeNode was defined as below:\n",
    "\n",
    "```\n",
    "class TreeNode {\n",
    "  int key;            // or char key;\n",
    "  TreeNode[] children;\n",
    "}\n",
    "getDistance(A, G) ==> 2\n",
    "getDistance(M, H) ==> 5\n",
    "getDistance(C, L) ==> 3\n",
    "getDistance(B, M) ==> 2\n",
    "```"
   ]
  },
  {
   "cell_type": "code",
   "execution_count": 11,
   "metadata": {},
   "outputs": [
    {
     "name": "stdout",
     "output_type": "stream",
     "text": [
      "get_distance(A, G) ==> 2\n",
      "get_distance(M, H) ==> 5\n",
      "get_distance(C, L) ==> 3\n",
      "get_distance(B, M) ==> 2\n"
     ]
    }
   ],
   "source": [
    "from collections import deque\n",
    "from typing import NamedTuple, Optional\n",
    "\n",
    "\n",
    "class TreeNode(NamedTuple):\n",
    "    key: str\n",
    "    parent: Optional['TreeNode'] = None\n",
    "\n",
    "\n",
    "def get_distance(source: TreeNode, target: TreeNode) -> int:\n",
    "    if source is target:\n",
    "        return 0\n",
    "\n",
    "    source_stack, target_stack = deque(), deque()\n",
    "    p1, p2 = source, target\n",
    "\n",
    "    # it can be fast if we store key to set or sth so we can look them up later to stop\n",
    "    # current loop\n",
    "    while p1 or p2:\n",
    "        if p1:\n",
    "            source_stack.appendleft(p1)\n",
    "            p1 = p1.parent\n",
    "\n",
    "        if p2:\n",
    "            target_stack.appendleft(p2)\n",
    "            p2 = p2.parent\n",
    "\n",
    "    while source_stack and target_stack and source_stack[0] is target_stack[0]:\n",
    "        source_stack.popleft()\n",
    "        target_stack.popleft()\n",
    "\n",
    "    res = len(source_stack) + len(target_stack)\n",
    "\n",
    "    print(f'get_distance({source.key}, {target.key}) ==> {res}')\n",
    "\n",
    "A = TreeNode('A')\n",
    "B, F, D, E = TreeNode('B', A), TreeNode('F', A), TreeNode('D', A), TreeNode('E', A)\n",
    "K, J = TreeNode('K', B), TreeNode('J', B)\n",
    "G = TreeNode('G', D)\n",
    "C, H, I = TreeNode('C', E), TreeNode('H', E), TreeNode('I', E)\n",
    "N, M = TreeNode('N', K), TreeNode('M', K)\n",
    "L = TreeNode('L', I)\n",
    "\n",
    "get_distance(A, G)\n",
    "get_distance(M, H)\n",
    "get_distance(C, L)\n",
    "get_distance(B, M)"
   ]
  },
  {
   "cell_type": "raw",
   "metadata": {},
   "source": [
    "Given a char array remove all occurances of 'a'.\n",
    "Example:\n",
    "Input: ['a', 'b', 'c', '\\0']\n",
    "Output: ['b', 'c', '\\0']\n",
    "\n",
    "Requirements: Linear time and Constant space complexity.\n",
    "\n",
    "Follow Up:\n",
    "Remove all occurances of 'a' and replace all occurances of 'b' with 'b','e','e'.\n",
    "\n",
    "I asked if there would be enough space in the array to do this operation so he said yes.\n",
    "\n",
    "I couldn't solve the problem but suggested that whenever there I see a 'b' I would move all the characters 2 spaces forward and add 'e', 'e' after. However, I also suggested that this approach is not scalable and couldn't come up with an actual working algorithm.\n",
    "\n",
    "I think they were pretty simple problems but I messed up. Anyway, wishing you guys all the best."
   ]
  },
  {
   "cell_type": "code",
   "execution_count": 12,
   "metadata": {},
   "outputs": [
    {
     "name": "stdout",
     "output_type": "stream",
     "text": [
      "['b', 'e', 'e', '_', 'b', 'e', 'e', '_', 'b', 'e', 'e', '_'] deque(['e', 'e', '_'])\n"
     ]
    }
   ],
   "source": [
    "from collections import deque\n",
    "\n",
    "\n",
    "def solution(seq, length):\n",
    "    i = j = 0\n",
    "    queue = deque()\n",
    "\n",
    "    while i < length and j < length:\n",
    "        char = seq[j]\n",
    "        get_from_queue = bool(queue)\n",
    "\n",
    "        if get_from_queue:\n",
    "            char = queue.popleft()\n",
    "\n",
    "        if char is 'a':\n",
    "            length -= 1\n",
    "        elif char is 'b':\n",
    "            queue.extend(seq[j + 0 if get_from_queue else 1:j+3])\n",
    "            seq[i:i+3] = ['b', 'e', 'e']\n",
    "            i, j, length = i + 3, j + 2, length + 2\n",
    "        else:\n",
    "            seq[i] = char\n",
    "            i += 1\n",
    "\n",
    "        if not get_from_queue:\n",
    "            j += 1\n",
    "\n",
    "    print(seq, queue)\n",
    "\n",
    "solution(['b', '_', 'b', '_', 'b', '_', None, None, None, None, None, None], 6)"
   ]
  },
  {
   "cell_type": "markdown",
   "metadata": {},
   "source": [
    "Build an interval tree"
   ]
  },
  {
   "cell_type": "code",
   "execution_count": 13,
   "metadata": {},
   "outputs": [],
   "source": [
    "from typing import Optional\n",
    "from dataclasses import dataclass, field\n",
    "\n",
    "\n",
    "@dataclass(init=False, order=True)\n",
    "class Interval:\n",
    "    low: int\n",
    "    high: int\n",
    "\n",
    "    def __init__(self, low, high):\n",
    "        if low >= high:\n",
    "            raise AttributeError\n",
    "\n",
    "        self.low = low\n",
    "        self.high = high\n",
    "\n",
    "    def contains(self, other: 'Interval') -> bool:\n",
    "        return self.low <= other.low < other.high <= self.high\n",
    "\n",
    "\n",
    "@dataclass\n",
    "class IntervalTree:\n",
    "    interval: Interval\n",
    "    max_high: int\n",
    "    left: Optional['IntervalTree'] = None\n",
    "    right: Optional['IntervalTree'] = None\n",
    "\n",
    "\n",
    "def insert(interval: Interval, node: Optional[IntervalTree]=None):\n",
    "    if not node:\n",
    "        return IntervalTree(interval, interval.high)\n",
    "\n",
    "    if node.interval == interval or node.interval.contains(interval):\n",
    "        return node\n",
    "\n",
    "    if node.interval > interval:\n",
    "        node.left = insert(interval, node.left)\n",
    "    else:\n",
    "        node.right = insert(interval, node.right)\n",
    "\n",
    "    if node.max_high < interval.high:\n",
    "        node.max_high = interval.high\n",
    "\n",
    "    return node"
   ]
  },
  {
   "cell_type": "code",
   "execution_count": 14,
   "metadata": {},
   "outputs": [
    {
     "data": {
      "text/plain": [
       "IntervalTree(interval=Interval(low=15, high=20), max_high=40, left=IntervalTree(interval=Interval(low=10, high=30), max_high=30, left=IntervalTree(interval=Interval(low=5, high=20), max_high=20, left=None, right=None), right=None), right=IntervalTree(interval=Interval(low=30, high=40), max_high=40, left=None, right=None))"
      ]
     },
     "execution_count": 14,
     "metadata": {},
     "output_type": "execute_result"
    }
   ],
   "source": [
    "root = insert(Interval(15, 20))\n",
    "\n",
    "insert(Interval(10, 30), root)\n",
    "insert(Interval(5, 20), root)\n",
    "insert(Interval(12, 15), root)\n",
    "insert(Interval(17, 19), root)\n",
    "insert(Interval(30, 40), root)\n",
    "\n",
    "root"
   ]
  },
  {
   "cell_type": "raw",
   "metadata": {},
   "source": [
    "There is student attendance information that has 3 state.\n",
    "\n",
    "O: attendance\n",
    "L: late\n",
    "A: absent\n",
    "\n",
    "If student is \"absent two days in total\" OR \"late three days in a row\", student get penalty.\n",
    "\n",
    "There are 8 ways that student get penalty in 3 days.\n",
    "\n",
    "LLL   AAO   AOA   OAA   AAL\n",
    "ALA   LAA   AAA\n",
    "\n",
    "Thete are 38 ways that student get penalty in 4 days\n",
    "\n",
    "AAOO   AAOL   AALO   AALL   AOAO\n",
    "AOAL   ALAO   ALAL   AOOA   AOLA\n",
    "ALOA   ALLA   OAAO   OAAL   LAAO\n",
    "LAAL   OAOA   OALA   LAOA   LALA\n",
    "OOAA   OLAA   LOAA   LLAA   AAAO\n",
    "AAAL   AAOA   AALA   AOAA   ALAA\n",
    "OAAA   LAAA   AAAA   LLLO LLLA\n",
    "OLLL   ALLL   LLLL\n",
    "\n",
    "Qustion.\n",
    "One semester is N days. Given an integer N, generate the number of ways that student get penalty.\n",
    "\n",
    "Example 1.\n",
    "Input : 3\n",
    "Output : 8\n",
    "\n",
    "Example 2.\n",
    "Input : 4\n",
    "Output : 38"
   ]
  },
  {
   "cell_type": "code",
   "execution_count": 35,
   "metadata": {},
   "outputs": [
    {
     "name": "stdout",
     "output_type": "stream",
     "text": [
      "8\n",
      "39\n"
     ]
    }
   ],
   "source": [
    "def solution(n):\n",
    "    num_of_combinations = 3 ** n\n",
    "    no_absent = 2 ** n\n",
    "    absent_1_day_in_total = n * (2 ** (n - 1))\n",
    "    absent_2_or_more_days_in_total = num_of_combinations - no_absent - absent_1_day_in_total\n",
    "    late_3_days_in_row = (n - 2) * (3 ** (n - 3))\n",
    "\n",
    "    return late_3_days_in_row + absent_2_or_more_days_in_total\n",
    "\n",
    "\n",
    "print(solution(3))\n",
    "print(solution(4))"
   ]
  },
  {
   "cell_type": "markdown",
   "metadata": {},
   "source": [
    "Given [1, 2, 3, 4, 5, 6], and K = 3. Find the maximum num in range of K"
   ]
  },
  {
   "cell_type": "code",
   "execution_count": null,
   "metadata": {},
   "outputs": [],
   "source": []
  }
 ],
 "metadata": {
  "kernelspec": {
   "display_name": "Python 3",
   "language": "python",
   "name": "python3"
  },
  "language_info": {
   "codemirror_mode": {
    "name": "ipython",
    "version": 3
   },
   "file_extension": ".py",
   "mimetype": "text/x-python",
   "name": "python",
   "nbconvert_exporter": "python",
   "pygments_lexer": "ipython3",
   "version": "3.7.2"
  }
 },
 "nbformat": 4,
 "nbformat_minor": 2
}
