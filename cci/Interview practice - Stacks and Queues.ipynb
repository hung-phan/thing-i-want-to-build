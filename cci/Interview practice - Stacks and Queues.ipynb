{
  "cells": [
    {
      "cell_type": "markdown",
      "metadata": {
        "deletable": true,
        "editable": true,
        "pycharm": {}
      },
      "source": [
        "### 3.1 Three in One: Describe how you could use a single array to implement three stacks.\n",
        "\n",
        "Approach: We can divide the array by range, for example, given an array of 300 elements, we can specify 3 stacks at each range:\n",
        "\n",
        "stack 1: 0 -\u003e 99\n",
        "\n",
        "stack 2: 100 -\u003e 199\n",
        "\n",
        "stack 3: 200 -\u003e 299"
      ]
    },
    {
      "cell_type": "markdown",
      "metadata": {
        "deletable": true,
        "editable": true,
        "pycharm": {}
      },
      "source": [
        "### 3.2 Stack Min: How would you design a stack which, in addition to push and pop, has a function min which returns the minimum element? Push, pop and min should all operate in 0(1) time."
      ]
    },
    {
      "cell_type": "code",
      "execution_count": null,
      "metadata": {
        "collapsed": true,
        "deletable": true,
        "editable": true,
        "pycharm": {}
      },
      "outputs": [],
      "source": [
        "from typing import Optional\n",
        "\n",
        "class Stack:\n",
        "    def __init__(self):\n",
        "        self._data \u003d []\n",
        "        self._min_state \u003d []\n",
        "    \n",
        "    def push(self, new_value: int):\n",
        "        self._data.append(new_value)\n",
        "        \n",
        "        self._min_state.append(\n",
        "            new_value if not self._min_state or new_value \u003c self._min_state[-1] else self._min_state[-1]\n",
        "        )\n",
        "    \n",
        "    def pop(self) -\u003e Optional[int]:\n",
        "        if self._data:\n",
        "            self._data.pop()\n",
        "            self._min_state.pop()\n",
        "        else:\n",
        "            return None\n",
        "\n",
        "    def min(self) -\u003e Optional[int]:\n",
        "        if self._min_state:\n",
        "            return self._min_state[-1]\n",
        "        else:\n",
        "            return None\n",
        "    \n",
        "    def __str__(self) -\u003e str:\n",
        "        return \"\"\"\n",
        "        Stack:\n",
        "            data: {}\n",
        "            min_state: {}\n",
        "        \"\"\".format(self._data, self._min_state)"
      ]
    },
    {
      "cell_type": "code",
      "execution_count": null,
      "metadata": {
        "collapsed": false,
        "deletable": true,
        "editable": true,
        "pycharm": {}
      },
      "outputs": [],
      "source": [
        "stack \u003d Stack()\n",
        "\n",
        "for i in [5, 4, 3, 2, 1]:\n",
        "    stack.push(i)\n",
        "\n",
        "print(stack)\n",
        "\n",
        "new_stack \u003d Stack()\n",
        "\n",
        "for i in [1, 2, 3, 4, 5]:\n",
        "    new_stack.push(i)\n",
        "\n",
        "print(new_stack)"
      ]
    },
    {
      "cell_type": "markdown",
      "metadata": {
        "deletable": true,
        "editable": true,
        "pycharm": {}
      },
      "source": [
        "### 3.3 Stack of Plates: Imagine a (literal) stack of plates. If the stack gets too high, it might topple. Therefore, in real life, we would likely start a new stack when the previous stack exceeds some threshold. Implement a data structure SetOfStacks that mimics this. SetOfStacks should be composed of several stacks and should create a new stack once the previous one exceeds capacity. SetOfStacks. push () and SetOfStacks. pop () should behave identically to a single stack (that is, pop ( ) should return the same values as it would if there were just a single stack).\n",
        "\n",
        "FOLLOW UP\n",
        "Implement a function popAt(int index) which performs a pop operationon a specific sub-stack."
      ]
    },
    {
      "cell_type": "code",
      "execution_count": null,
      "metadata": {
        "collapsed": true,
        "deletable": true,
        "editable": true,
        "pycharm": {}
      },
      "outputs": [],
      "source": [
        "from typing import List, TypeVar, Generic, Optional\n",
        "\n",
        "T \u003d TypeVar(\u0027T\u0027)\n",
        "\n",
        "class Stack(Generic[T]):\n",
        "    _data: List[T]\n",
        "    _threshold: int\n",
        "    \n",
        "    def __init__(self, threshold: int \u003d 100):\n",
        "        self._data \u003d []\n",
        "        self._threshold \u003d threshold\n",
        "    \n",
        "    def push(self, new_value: T) -\u003e bool:\n",
        "        if self.count() \u003c self._threshold:\n",
        "            self._data.append(new_value)\n",
        "            return True\n",
        "        else:\n",
        "            return False\n",
        "    \n",
        "    def pop(self) -\u003e T:\n",
        "        return self._data.pop()\n",
        "    \n",
        "    def count(self) -\u003e int:\n",
        "        return len(self._data)\n",
        "    \n",
        "    def __str__(self) -\u003e str:\n",
        "        return str(self._data)\n",
        "    \n",
        "class SetOfStacks(Generic[T]):\n",
        "    _sets_of_stack: List[Stack]\n",
        "    _current_stack_index: Optional[int]\n",
        "\n",
        "    def __init__(self, threshold: int \u003d 100):\n",
        "        assert threshold \u003e 1\n",
        "\n",
        "        self._sets_of_stack \u003d [Stack(threshold)]\n",
        "        self._current_stack_index \u003d 0\n",
        "        self._threshold \u003d threshold\n",
        "    \n",
        "    def push(self, new_value: T):\n",
        "        stack \u003d self._sets_of_stack[self._current_stack_index]\n",
        "        \n",
        "        if not stack.push(new_value):\n",
        "            stack \u003d Stack(self._threshold)\n",
        "            \n",
        "            self._sets_of_stack.append(stack)\n",
        "            self._current_stack_index +\u003d 1\n",
        "            \n",
        "            stack.push(new_value)\n",
        "    \n",
        "    def pop(self) -\u003e T:\n",
        "        stack \u003d self._sets_of_stack[self._current_stack_index]\n",
        "        \n",
        "        returned_value \u003d stack.pop()\n",
        "        \n",
        "        if stack.count() \u003d\u003d 0:\n",
        "            self._sets_of_stack.pop()\n",
        "            self._current_stack_index -\u003d 1\n",
        "        \n",
        "        return returned_value\n",
        "    \n",
        "    def pop_at(self, substack_index: int) -\u003e T:\n",
        "        stack \u003d self._sets_of_stack[substack_index]\n",
        "        \n",
        "        returned_value \u003d stack.pop()\n",
        "        \n",
        "        if stack.count() \u003d\u003d 0:\n",
        "            self._sets_of_stack \u003d self._sets_of_stack[:substack_index] + self._sets_of_stack[substack_index + 1:]\n",
        "            self._current_stack_index -\u003d 1\n",
        "        \n",
        "        return returned_value\n",
        "    \n",
        "    def __str__(self) -\u003e str:\n",
        "        return \u0027\\n\u0027.join([str(stack) for stack in self._sets_of_stack])"
      ]
    },
    {
      "cell_type": "code",
      "execution_count": null,
      "metadata": {
        "collapsed": false,
        "deletable": true,
        "editable": true,
        "pycharm": {}
      },
      "outputs": [],
      "source": [
        "set_of_stacks: SetOfStacks[int] \u003d SetOfStacks(2)\n",
        "\n",
        "set_of_stacks.push(1)\n",
        "set_of_stacks.push(2)\n",
        "set_of_stacks.push(3)\n",
        "set_of_stacks.push(4)\n",
        "set_of_stacks.push(5)\n",
        "\n",
        "print(set_of_stacks)\n",
        "\n",
        "print(\u0027--------------\u0027)\n",
        "set_of_stacks.pop()\n",
        "\n",
        "print(set_of_stacks)\n",
        "\n",
        "print(\u0027--------------\u0027)\n",
        "set_of_stacks.pop()\n",
        "\n",
        "print(set_of_stacks)"
      ]
    },
    {
      "cell_type": "markdown",
      "metadata": {
        "deletable": true,
        "editable": true,
        "pycharm": {}
      },
      "source": [
        "### 3.4 Queue via Stacks: Implement a MyQueue class which implements a queue using two stacks."
      ]
    },
    {
      "cell_type": "code",
      "execution_count": null,
      "metadata": {
        "collapsed": true,
        "deletable": true,
        "editable": true,
        "pycharm": {}
      },
      "outputs": [],
      "source": [
        "from typing import List, TypeVar, Generic\n",
        "\n",
        "T \u003d TypeVar(\u0027T\u0027)\n",
        "\n",
        "class Stack(Generic[T]):\n",
        "    _data: List[T]\n",
        "    \n",
        "    def __init__(self):\n",
        "        self._data \u003d []\n",
        "    \n",
        "    def push(self, new_value: T):\n",
        "        return self._data.append(new_value)\n",
        "    \n",
        "    def pop(self) -\u003e T:\n",
        "        return self._data.pop()\n",
        "    \n",
        "    def peek(self) -\u003e int:\n",
        "        return self._data[-1]\n",
        "    \n",
        "    def is_empty(self):\n",
        "        return len(self._data) \u003d\u003d 0\n",
        "    \n",
        "    def __str__(self) -\u003e str:\n",
        "        return str(self._data)"
      ]
    },
    {
      "cell_type": "code",
      "execution_count": 6,
      "metadata": {
        "collapsed": true,
        "deletable": true,
        "editable": true,
        "pycharm": {}
      },
      "outputs": [],
      "source": [
        "class Queue(Generic[T]):\n",
        "    def __init__(self):\n",
        "        self.inbox \u003d Stack()\n",
        "        self.outbox \u003d Stack()\n",
        "\n",
        "    def queue(self, new_value: T):\n",
        "        self.inbox.push(new_value)\n",
        "\n",
        "    def dequeue(self):\n",
        "        if self.outbox.is_empty():\n",
        "            while not self.inbox.is_empty():\n",
        "                self.outbox.push(self.inbox.pop())\n",
        "\n",
        "        return self.outbox.pop()"
      ]
    },
    {
      "cell_type": "code",
      "execution_count": 7,
      "metadata": {
        "collapsed": false,
        "deletable": true,
        "editable": true,
        "pycharm": {}
      },
      "outputs": [
        {
          "name": "stdout",
          "output_type": "stream",
          "text": [
            "1\n",
            "2\n",
            "3\n",
            "4\n"
          ]
        }
      ],
      "source": [
        "from typing import get_type_hints\n",
        "\n",
        "queue: Queue[int] \u003d Queue()\n",
        "\n",
        "queue.queue(1)\n",
        "queue.queue(2)\n",
        "queue.queue(3)\n",
        "queue.queue(4)\n",
        "\n",
        "print(queue.dequeue())\n",
        "print(queue.dequeue())\n",
        "print(queue.dequeue())\n",
        "print(queue.dequeue())"
      ]
    },
    {
      "cell_type": "markdown",
      "metadata": {
        "deletable": true,
        "editable": true,
        "pycharm": {}
      },
      "source": [
        "### 3.5 Sort Stack: Write a program to sort a stack such that the smallest items are on the top. You can use an additional temporary stack, but you may not copy the elements into any other data structure (such as an array). The stack supports the following operations: push, pop, peek, and isEmpty."
      ]
    },
    {
      "cell_type": "code",
      "execution_count": 8,
      "metadata": {
        "collapsed": true,
        "deletable": true,
        "editable": true,
        "pycharm": {}
      },
      "outputs": [],
      "source": [
        "def sort_stack(stack: Stack[int]) -\u003e Stack[int]:\n",
        "    result_stack: Stack[int] \u003d Stack()\n",
        "    \n",
        "    while not stack.is_empty():\n",
        "        value: int \u003d stack.pop()\n",
        "\n",
        "        if result_stack.is_empty():\n",
        "            result_stack.push(value)\n",
        "        elif value \u003c\u003d result_stack.peek():\n",
        "            result_stack.push(value)\n",
        "        else:\n",
        "            counter: int \u003d 0\n",
        "\n",
        "            while not result_stack.is_empty():\n",
        "                stack.push(result_stack.pop())\n",
        "                counter +\u003d 1\n",
        "\n",
        "            is_added: bool \u003d False\n",
        "\n",
        "            while counter \u003e 0:\n",
        "                tmp_value: int \u003d stack.pop()\n",
        "\n",
        "                if not is_added and tmp_value \u003c value:\n",
        "                    result_stack.push(value)\n",
        "                    is_added \u003d True\n",
        "\n",
        "                result_stack.push(tmp_value)\n",
        "                counter -\u003d 1\n",
        "\n",
        "    return result_stack"
      ]
    },
    {
      "cell_type": "code",
      "execution_count": 9,
      "metadata": {
        "collapsed": false,
        "deletable": true,
        "editable": true,
        "pycharm": {}
      },
      "outputs": [
        {
          "name": "stdout",
          "output_type": "stream",
          "text": [
            "[5, 7, 3, 0, 1, 2, 4, 9]\n",
            "[9, 7, 5, 4, 3, 2, 1, 0]\n"
          ]
        }
      ],
      "source": [
        "stack \u003d Stack()\n",
        "\n",
        "stack.push(5)\n",
        "stack.push(7)\n",
        "stack.push(3)\n",
        "stack.push(0)\n",
        "stack.push(1)\n",
        "stack.push(2)\n",
        "stack.push(4)\n",
        "stack.push(9)\n",
        "\n",
        "print(stack)\n",
        "\n",
        "print(sort_stack(stack))"
      ]
    },
    {
      "cell_type": "markdown",
      "metadata": {
        "deletable": true,
        "editable": true,
        "pycharm": {}
      },
      "source": [
        "### 3.6 Animal Shelter: An animal shelter, which holds only dogs and cats, operates on a strictly\"first in, first out\" basis. People must adopt either the \"oldest\" (based on arrival time) of all animals at the shelter, or they can select whether they would prefer a dog or a cat (and will receive the oldest animal of that type). They cannot select which specific animal they would like. Create the data structures to maintain this system and implement operations such as enqueue, dequeueAny, dequeueDog, and dequeueCat. You may use the built-in Linked L is t data structure."
      ]
    },
    {
      "cell_type": "code",
      "execution_count": 10,
      "metadata": {
        "collapsed": false,
        "deletable": true,
        "editable": true,
        "pycharm": {}
      },
      "outputs": [],
      "source": [
        "from typing import TypeVar, Generic, Optional, Tuple\n",
        "\n",
        "T \u003d TypeVar(\u0027T\u0027)\n",
        "\n",
        "class LinkedList(Generic[T]):\n",
        "    pass\n",
        "\n",
        "class LinkedList(Generic[T]):\n",
        "    def __init__(self,\n",
        "                 data: T,\n",
        "                 next_node: Optional[LinkedList[T]] \u003d None) -\u003e None:\n",
        "        self.data: T \u003d data\n",
        "        self.next_node: Optional[LinkedList[T]] \u003d next_node\n",
        "\n",
        "    def __add__(self, node) -\u003e LinkedList[T]:\n",
        "        current_node \u003d self\n",
        "\n",
        "        while current_node.next_node:\n",
        "            current_node \u003d current_node.next_node\n",
        "        \n",
        "        current_node.next_node \u003d node\n",
        "\n",
        "        return self\n",
        "\n",
        "    def pop_and_remove(self) -\u003e Tuple[T, Optional[LinkedList[T]]]:\n",
        "        data \u003d self.data\n",
        "        next_node \u003d self.next_node\n",
        "        \n",
        "        self.next_node \u003d None\n",
        "        \n",
        "        return data, next_node\n",
        "    \n",
        "    def __str__(self) -\u003e str:\n",
        "        if self.next_node:\n",
        "            return f\"{self.data} -\u003e {self.next_node}\"\n",
        "        else:\n",
        "            return f\"{self.data}\""
      ]
    },
    {
      "cell_type": "code",
      "execution_count": 11,
      "metadata": {
        "collapsed": false,
        "deletable": true,
        "editable": true,
        "pycharm": {}
      },
      "outputs": [],
      "source": [
        "from typing import Optional\n",
        "from enum import Enum\n",
        "\n",
        "\n",
        "class AnimalType(Enum):\n",
        "    DOG \u003d 1\n",
        "    CAT \u003d 2\n",
        "\n",
        "\n",
        "class Animal:\n",
        "    subtype: AnimalType\n",
        "    name: str\n",
        "\n",
        "    def __init__(self, subtype: AnimalType, name: str):\n",
        "        self.subtype \u003d subtype\n",
        "        self.name \u003d name\n",
        "    \n",
        "    def __str__(self) -\u003e str:\n",
        "        return f\"{self.subtype}: {self.name}\"\n",
        "\n",
        "\n",
        "class AnimalShelter:\n",
        "    _queue: Optional[LinkedList[Animal]]\n",
        "\n",
        "    def __init__(self):\n",
        "        self._queue \u003d None\n",
        "\n",
        "    def enqueue(self, value: Animal):\n",
        "        self._queue \u003d self._queue + LinkedList(value) if self._queue else LinkedList(value)\n",
        "\n",
        "    def dequeue_any(self) -\u003e Optional[Animal]:\n",
        "        if not self._queue:\n",
        "            return None\n",
        "\n",
        "        pet, self._queue \u003d self._queue.pop_and_remove()\n",
        "        return pet\n",
        "    \n",
        "    def dequeue_by_subtype(self, subtype: AnimalType) -\u003e Optional[Animal]:\n",
        "        runner: Optional[LinkedList[Animal]] \u003d self._queue\n",
        "\n",
        "        while runner:\n",
        "            pet: Animal \u003d runner.data\n",
        "\n",
        "            if pet.subtype \u003d\u003d subtype:\n",
        "                next_node \u003d runner.next_node\n",
        "                \n",
        "                if next_node:\n",
        "                    runner.data \u003d next_node.data\n",
        "                    runner.next_node \u003d next_node.next_node\n",
        "                \n",
        "                return pet\n",
        "            \n",
        "            runner \u003d runner.next_node\n",
        "\n",
        "        return None\n",
        "\n",
        "    def dequeue_dog(self) -\u003e Optional[Animal]:\n",
        "        return self.dequeue_by_subtype(AnimalType.DOG)\n",
        "\n",
        "    def dequeue_cat(self) -\u003e Optional[Animal]:\n",
        "        return self.dequeue_by_subtype(AnimalType.CAT)\n",
        "\n",
        "    def __str__(self) -\u003e str:\n",
        "        return str(self._queue)"
      ]
    },
    {
      "cell_type": "code",
      "execution_count": 12,
      "metadata": {
        "collapsed": false,
        "deletable": true,
        "editable": true,
        "pycharm": {}
      },
      "outputs": [
        {
          "name": "stdout",
          "output_type": "stream",
          "text": [
            "AnimalType.DOG: Bailey -\u003e AnimalType.CAT: Tiger -\u003e AnimalType.CAT: Pussy -\u003e AnimalType.DOG: Bella\n",
            "-------------------\n",
            "AnimalType.DOG: Bailey\n",
            "AnimalType.CAT: Tiger\n",
            "-------------------\n",
            "AnimalType.CAT: Pussy -\u003e AnimalType.DOG: Bella\n"
          ]
        }
      ],
      "source": [
        "shelter \u003d AnimalShelter()\n",
        "\n",
        "shelter.enqueue(Animal(AnimalType.DOG, \u0027Bailey\u0027))\n",
        "shelter.enqueue(Animal(AnimalType.CAT, \u0027Tiger\u0027))\n",
        "shelter.enqueue(Animal(AnimalType.CAT, \u0027Pussy\u0027))\n",
        "shelter.enqueue(Animal(AnimalType.DOG, \u0027Bella\u0027))\n",
        "\n",
        "print(shelter)\n",
        "print(\u0027-------------------\u0027)\n",
        "print(shelter.dequeue_any())\n",
        "print(shelter.dequeue_any())\n",
        "print(\u0027-------------------\u0027)\n",
        "print(shelter)"
      ]
    },
    {
      "cell_type": "code",
      "execution_count": 13,
      "metadata": {
        "pycharm": {}
      },
      "outputs": [],
      "source": [
        "def balanced_smileys(string):\n",
        "    min_open, max_open \u003d 0, 0\n",
        "    \n",
        "    for index, c in enumerate(string):\n",
        "        if c \u003d\u003d \u0027(\u0027:\n",
        "            max_open +\u003d 1\n",
        "            \n",
        "            if index \u003d\u003d 0 or string[index - 1] !\u003d \u0027:\u0027:\n",
        "                min_open +\u003d 1\n",
        "        elif c \u003d\u003d \u0027)\u0027:\n",
        "            min_open \u003d max(0, min_open - 1)\n",
        "            \n",
        "            if index \u003d\u003d 0 or string[index - 1] !\u003d \u0027:\u0027:\n",
        "                max_open -\u003d 1\n",
        "                \n",
        "                if max_open \u003c 0:\n",
        "                    break\n",
        "    \n",
        "    return max_open \u003e\u003d 0 and min_open \u003d\u003d 0"
      ]
    },
    {
      "cell_type": "code",
      "execution_count": 14,
      "metadata": {
        "pycharm": {}
      },
      "outputs": [
        {
          "data": {
            "text/plain": [
              "True"
            ]
          },
          "execution_count": 14,
          "metadata": {},
          "output_type": "execute_result"
        }
      ],
      "source": "balanced_smileys(\u0027(((:)))\u0027)"
    },
    {
      "cell_type": "code",
      "execution_count": 4,
      "outputs": [
        {
          "name": "stdout",
          "text": [
            "{\u0027()\u0027, \u0027)\u0027, \u0027:()\u0027}\n{\u0027()\u0027}\n{\u0027\u0027, \u0027:\u0027}\n{\u0027:\u0027, \u0027::\u0027}\n{\u0027:)\u0027, \u0027\u0027, \u0027)\u0027}\n{\u0027(:)\u0027, \u0027(\u0027, \u0027()\u0027, \u0027)\u0027}\n{\u0027(:))\u0027, \u0027())\u0027, \u0027))\u0027, \u0027()\u0027}\n{\u0027()\u0027, \u0027():(\u0027, \u0027((\u0027, \u0027()(\u0027}\n{\u0027()()()()()):\u0027, \u0027()()()()())\u0027, \u0027()()()()()\u0027}\n{\u0027((\u0027, \u0027(\u0027, \u0027:((\u0027}\n{\u0027())\u0027}\n{\u0027:()(\u0027, \u0027)(\u0027, \u0027()(\u0027}\n{\u0027:)(\u0027, \u0027(\u0027, \u0027)(\u0027}\n"
          ],
          "output_type": "stream"
        },
        {
          "data": {
            "text/plain": "True"
          },
          "metadata": {},
          "output_type": "execute_result",
          "execution_count": 4
        }
      ],
      "source": "def is_valid_parenthesis(string):\n    parenthesis_count \u003d 0\n\n    for char in string:\n        if char is \u0027(\u0027:\n            parenthesis_count +\u003d 1\n        elif char is \u0027)\u0027:\n            parenthesis_count -\u003d 1\n\n            if parenthesis_count \u003c 0:\n                return False\n\n    return parenthesis_count \u003d\u003d 0\n    \n\n# brute force\ndef balanced_smileys(string):\n    length \u003d len(string)\n    possible_ans \u003d {string}\n\n    for idx in range(length):\n        if string[idx] \u003d\u003d \u0027:\u0027:\n            possible_ans.add(string[:idx] + string[idx + 1:])\n\n            if 0 \u003c\u003d idx - 1 and string[idx - 1] in \u0027()\u0027:\n                possible_ans.add(string[:idx - 1] + string[idx + 1:])\n\n            if idx + 1 \u003c\u003d length - 1 and string[idx + 1] in \u0027()\u0027:\n                possible_ans.add(string[:idx] + string[idx + 2:])\n                \n    return any(is_valid_parenthesis(ans) for ans in possible_ans)\n\n\nVALID_CASES \u003d [\":()\", \"()\", \":\", \"::\", \":)\", \"(:)\", \"(:))\", \"():(\", \"()()()()()):\"]\n\nINVALID_CASES \u003d [\":((\", \"())\", \":()(\", \":)(\"]\n\ndef test_is_valid():\n    return (\n        all(balanced_smileys(expression) for expression in VALID_CASES) and\n        not any(balanced_smileys(expression) for expression in INVALID_CASES)\n    )\n\ntest_is_valid()",
      "metadata": {
        "pycharm": {
          "metadata": false,
          "name": "#%%\n",
          "is_executing": false
        }
      }
    },
    {
      "cell_type": "code",
      "execution_count": null,
      "outputs": [],
      "source": "",
      "metadata": {
        "pycharm": {
          "metadata": false,
          "name": "#%%"
        }
      }
    }
  ],
  "metadata": {
    "kernelspec": {
      "display_name": "Python 3",
      "language": "python",
      "name": "python3"
    },
    "language_info": {
      "codemirror_mode": {
        "name": "ipython",
        "version": 3
      },
      "file_extension": ".py",
      "mimetype": "text/x-python",
      "name": "python",
      "nbconvert_exporter": "python",
      "pygments_lexer": "ipython3",
      "version": "3.7.2"
    }
  },
  "nbformat": 4,
  "nbformat_minor": 2
}